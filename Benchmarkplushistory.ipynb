{
 "cells": [
  {
   "cell_type": "code",
   "execution_count": 2,
   "metadata": {},
   "outputs": [
    {
     "data": {
      "application/javascript": [
       "\n",
       "            setTimeout(function() {\n",
       "                var nbb_cell_id = 2;\n",
       "                var nbb_unformatted_code = \"%load_ext nb_black\";\n",
       "                var nbb_formatted_code = \"%load_ext nb_black\";\n",
       "                var nbb_cells = Jupyter.notebook.get_cells();\n",
       "                for (var i = 0; i < nbb_cells.length; ++i) {\n",
       "                    if (nbb_cells[i].input_prompt_number == nbb_cell_id) {\n",
       "                        if (nbb_cells[i].get_text() == nbb_unformatted_code) {\n",
       "                             nbb_cells[i].set_text(nbb_formatted_code);\n",
       "                        }\n",
       "                        break;\n",
       "                    }\n",
       "                }\n",
       "            }, 500);\n",
       "            "
      ],
      "text/plain": [
       "<IPython.core.display.Javascript object>"
      ]
     },
     "metadata": {},
     "output_type": "display_data"
    }
   ],
   "source": [
    "%load_ext nb_black"
   ]
  },
  {
   "cell_type": "code",
   "execution_count": 3,
   "metadata": {},
   "outputs": [
    {
     "data": {
      "application/javascript": [
       "\n",
       "            setTimeout(function() {\n",
       "                var nbb_cell_id = 3;\n",
       "                var nbb_unformatted_code = \"from pathlib import Path\\n\\nimport matplotlib.pyplot as plt\\nimport numpy as np\\nimport pandas as pd\\nimport seaborn as sns\\n\\npd.set_option(\\\"max_colwidth\\\", 80)\";\n",
       "                var nbb_formatted_code = \"from pathlib import Path\\n\\nimport matplotlib.pyplot as plt\\nimport numpy as np\\nimport pandas as pd\\nimport seaborn as sns\\n\\npd.set_option(\\\"max_colwidth\\\", 80)\";\n",
       "                var nbb_cells = Jupyter.notebook.get_cells();\n",
       "                for (var i = 0; i < nbb_cells.length; ++i) {\n",
       "                    if (nbb_cells[i].input_prompt_number == nbb_cell_id) {\n",
       "                        if (nbb_cells[i].get_text() == nbb_unformatted_code) {\n",
       "                             nbb_cells[i].set_text(nbb_formatted_code);\n",
       "                        }\n",
       "                        break;\n",
       "                    }\n",
       "                }\n",
       "            }, 500);\n",
       "            "
      ],
      "text/plain": [
       "<IPython.core.display.Javascript object>"
      ]
     },
     "metadata": {},
     "output_type": "display_data"
    }
   ],
   "source": [
    "from pathlib import Path\n",
    "\n",
    "import matplotlib.pyplot as plt\n",
    "import numpy as np\n",
    "import pandas as pd\n",
    "import seaborn as sns\n",
    "\n",
    "pd.set_option(\"max_colwidth\", 80)"
   ]
  },
  {
   "cell_type": "code",
   "execution_count": 4,
   "metadata": {},
   "outputs": [
    {
     "data": {
      "application/javascript": [
       "\n",
       "            setTimeout(function() {\n",
       "                var nbb_cell_id = 4;\n",
       "                var nbb_unformatted_code = \"# This is where our downloaded images and metadata live locally\\nDATA_PATH = Path.cwd().parent / \\\"data\\\" / \\\"final\\\" / \\\"public\\\"\";\n",
       "                var nbb_formatted_code = \"# This is where our downloaded images and metadata live locally\\nDATA_PATH = Path.cwd().parent / \\\"data\\\" / \\\"final\\\" / \\\"public\\\"\";\n",
       "                var nbb_cells = Jupyter.notebook.get_cells();\n",
       "                for (var i = 0; i < nbb_cells.length; ++i) {\n",
       "                    if (nbb_cells[i].input_prompt_number == nbb_cell_id) {\n",
       "                        if (nbb_cells[i].get_text() == nbb_unformatted_code) {\n",
       "                             nbb_cells[i].set_text(nbb_formatted_code);\n",
       "                        }\n",
       "                        break;\n",
       "                    }\n",
       "                }\n",
       "            }, 500);\n",
       "            "
      ],
      "text/plain": [
       "<IPython.core.display.Javascript object>"
      ]
     },
     "metadata": {},
     "output_type": "display_data"
    }
   ],
   "source": [
    "# This is where our downloaded images and metadata live locally\n",
    "DATA_PATH = Path.cwd().parent / \"data\" / \"final\" / \"public\""
   ]
  },
  {
   "cell_type": "code",
   "execution_count": 5,
   "metadata": {},
   "outputs": [
    {
     "data": {
      "application/javascript": [
       "\n",
       "            setTimeout(function() {\n",
       "                var nbb_cell_id = 5;\n",
       "                var nbb_unformatted_code = \"\\ntrain_metadata = pd.read_csv(DATA_PATH / \\\"training_set_features.csv\\\")\\ntrain_labels = pd.read_csv(DATA_PATH / \\\"training_set_labels.csv\\\")\";\n",
       "                var nbb_formatted_code = \"train_metadata = pd.read_csv(DATA_PATH / \\\"training_set_features.csv\\\")\\ntrain_labels = pd.read_csv(DATA_PATH / \\\"training_set_labels.csv\\\")\";\n",
       "                var nbb_cells = Jupyter.notebook.get_cells();\n",
       "                for (var i = 0; i < nbb_cells.length; ++i) {\n",
       "                    if (nbb_cells[i].input_prompt_number == nbb_cell_id) {\n",
       "                        if (nbb_cells[i].get_text() == nbb_unformatted_code) {\n",
       "                             nbb_cells[i].set_text(nbb_formatted_code);\n",
       "                        }\n",
       "                        break;\n",
       "                    }\n",
       "                }\n",
       "            }, 500);\n",
       "            "
      ],
      "text/plain": [
       "<IPython.core.display.Javascript object>"
      ]
     },
     "metadata": {},
     "output_type": "display_data"
    }
   ],
   "source": [
    "\n",
    "train_metadata = pd.read_csv(DATA_PATH / \"training_set_features.csv\")\n",
    "train_labels = pd.read_csv(DATA_PATH / \"training_set_labels.csv\")"
   ]
  },
  {
   "cell_type": "code",
   "execution_count": 6,
   "metadata": {},
   "outputs": [
    {
     "data": {
      "text/html": [
       "<div>\n",
       "<style scoped>\n",
       "    .dataframe tbody tr th:only-of-type {\n",
       "        vertical-align: middle;\n",
       "    }\n",
       "\n",
       "    .dataframe tbody tr th {\n",
       "        vertical-align: top;\n",
       "    }\n",
       "\n",
       "    .dataframe thead th {\n",
       "        text-align: right;\n",
       "    }\n",
       "</style>\n",
       "<table border=\"1\" class=\"dataframe\">\n",
       "  <thead>\n",
       "    <tr style=\"text-align: right;\">\n",
       "      <th></th>\n",
       "      <th>image_id</th>\n",
       "      <th>storm_id</th>\n",
       "      <th>relative_time</th>\n",
       "      <th>ocean</th>\n",
       "    </tr>\n",
       "  </thead>\n",
       "  <tbody>\n",
       "    <tr>\n",
       "      <th>0</th>\n",
       "      <td>abs_000</td>\n",
       "      <td>abs</td>\n",
       "      <td>0</td>\n",
       "      <td>2</td>\n",
       "    </tr>\n",
       "    <tr>\n",
       "      <th>1</th>\n",
       "      <td>abs_001</td>\n",
       "      <td>abs</td>\n",
       "      <td>1800</td>\n",
       "      <td>2</td>\n",
       "    </tr>\n",
       "    <tr>\n",
       "      <th>2</th>\n",
       "      <td>abs_002</td>\n",
       "      <td>abs</td>\n",
       "      <td>5400</td>\n",
       "      <td>2</td>\n",
       "    </tr>\n",
       "    <tr>\n",
       "      <th>3</th>\n",
       "      <td>abs_003</td>\n",
       "      <td>abs</td>\n",
       "      <td>17999</td>\n",
       "      <td>2</td>\n",
       "    </tr>\n",
       "    <tr>\n",
       "      <th>4</th>\n",
       "      <td>abs_004</td>\n",
       "      <td>abs</td>\n",
       "      <td>19799</td>\n",
       "      <td>2</td>\n",
       "    </tr>\n",
       "  </tbody>\n",
       "</table>\n",
       "</div>"
      ],
      "text/plain": [
       "  image_id storm_id  relative_time  ocean\n",
       "0  abs_000      abs              0      2\n",
       "1  abs_001      abs           1800      2\n",
       "2  abs_002      abs           5400      2\n",
       "3  abs_003      abs          17999      2\n",
       "4  abs_004      abs          19799      2"
      ]
     },
     "execution_count": 6,
     "metadata": {},
     "output_type": "execute_result"
    },
    {
     "data": {
      "application/javascript": [
       "\n",
       "            setTimeout(function() {\n",
       "                var nbb_cell_id = 6;\n",
       "                var nbb_unformatted_code = \"train_metadata.head()\";\n",
       "                var nbb_formatted_code = \"train_metadata.head()\";\n",
       "                var nbb_cells = Jupyter.notebook.get_cells();\n",
       "                for (var i = 0; i < nbb_cells.length; ++i) {\n",
       "                    if (nbb_cells[i].input_prompt_number == nbb_cell_id) {\n",
       "                        if (nbb_cells[i].get_text() == nbb_unformatted_code) {\n",
       "                             nbb_cells[i].set_text(nbb_formatted_code);\n",
       "                        }\n",
       "                        break;\n",
       "                    }\n",
       "                }\n",
       "            }, 500);\n",
       "            "
      ],
      "text/plain": [
       "<IPython.core.display.Javascript object>"
      ]
     },
     "metadata": {},
     "output_type": "display_data"
    }
   ],
   "source": [
    "train_metadata.head()"
   ]
  },
  {
   "cell_type": "code",
   "execution_count": 7,
   "metadata": {},
   "outputs": [
    {
     "data": {
      "text/plain": [
       "(70257, 4)"
      ]
     },
     "execution_count": 7,
     "metadata": {},
     "output_type": "execute_result"
    },
    {
     "data": {
      "application/javascript": [
       "\n",
       "            setTimeout(function() {\n",
       "                var nbb_cell_id = 7;\n",
       "                var nbb_unformatted_code = \"train_metadata.shape\";\n",
       "                var nbb_formatted_code = \"train_metadata.shape\";\n",
       "                var nbb_cells = Jupyter.notebook.get_cells();\n",
       "                for (var i = 0; i < nbb_cells.length; ++i) {\n",
       "                    if (nbb_cells[i].input_prompt_number == nbb_cell_id) {\n",
       "                        if (nbb_cells[i].get_text() == nbb_unformatted_code) {\n",
       "                             nbb_cells[i].set_text(nbb_formatted_code);\n",
       "                        }\n",
       "                        break;\n",
       "                    }\n",
       "                }\n",
       "            }, 500);\n",
       "            "
      ],
      "text/plain": [
       "<IPython.core.display.Javascript object>"
      ]
     },
     "metadata": {},
     "output_type": "display_data"
    }
   ],
   "source": [
    "train_metadata.shape"
   ]
  },
  {
   "cell_type": "code",
   "execution_count": 8,
   "metadata": {},
   "outputs": [
    {
     "data": {
      "text/plain": [
       "494"
      ]
     },
     "execution_count": 8,
     "metadata": {},
     "output_type": "execute_result"
    },
    {
     "data": {
      "application/javascript": [
       "\n",
       "            setTimeout(function() {\n",
       "                var nbb_cell_id = 8;\n",
       "                var nbb_unformatted_code = \"train_metadata.storm_id.nunique()\";\n",
       "                var nbb_formatted_code = \"train_metadata.storm_id.nunique()\";\n",
       "                var nbb_cells = Jupyter.notebook.get_cells();\n",
       "                for (var i = 0; i < nbb_cells.length; ++i) {\n",
       "                    if (nbb_cells[i].input_prompt_number == nbb_cell_id) {\n",
       "                        if (nbb_cells[i].get_text() == nbb_unformatted_code) {\n",
       "                             nbb_cells[i].set_text(nbb_formatted_code);\n",
       "                        }\n",
       "                        break;\n",
       "                    }\n",
       "                }\n",
       "            }, 500);\n",
       "            "
      ],
      "text/plain": [
       "<IPython.core.display.Javascript object>"
      ]
     },
     "metadata": {},
     "output_type": "display_data"
    }
   ],
   "source": [
    "train_metadata.storm_id.nunique()"
   ]
  },
  {
   "cell_type": "code",
   "execution_count": 9,
   "metadata": {},
   "outputs": [
    {
     "data": {
      "text/plain": [
       "count    494.000000\n",
       "mean     142.220648\n",
       "std      123.151772\n",
       "min        4.000000\n",
       "25%       46.250000\n",
       "50%      101.500000\n",
       "75%      209.000000\n",
       "max      648.000000\n",
       "dtype: float64"
      ]
     },
     "execution_count": 9,
     "metadata": {},
     "output_type": "execute_result"
    },
    {
     "data": {
      "application/javascript": [
       "\n",
       "            setTimeout(function() {\n",
       "                var nbb_cell_id = 9;\n",
       "                var nbb_unformatted_code = \"storm_counts = train_metadata.groupby(\\\"storm_id\\\").size()\\nstorm_counts.describe()\";\n",
       "                var nbb_formatted_code = \"storm_counts = train_metadata.groupby(\\\"storm_id\\\").size()\\nstorm_counts.describe()\";\n",
       "                var nbb_cells = Jupyter.notebook.get_cells();\n",
       "                for (var i = 0; i < nbb_cells.length; ++i) {\n",
       "                    if (nbb_cells[i].input_prompt_number == nbb_cell_id) {\n",
       "                        if (nbb_cells[i].get_text() == nbb_unformatted_code) {\n",
       "                             nbb_cells[i].set_text(nbb_formatted_code);\n",
       "                        }\n",
       "                        break;\n",
       "                    }\n",
       "                }\n",
       "            }, 500);\n",
       "            "
      ],
      "text/plain": [
       "<IPython.core.display.Javascript object>"
      ]
     },
     "metadata": {},
     "output_type": "display_data"
    }
   ],
   "source": [
    "storm_counts = train_metadata.groupby(\"storm_id\").size()\n",
    "storm_counts.describe()"
   ]
  },
  {
   "cell_type": "code",
   "execution_count": 10,
   "metadata": {},
   "outputs": [
    {
     "data": {
      "text/plain": [
       "Text(0.5, 1.0, 'Number of Images per Storm')"
      ]
     },
     "execution_count": 10,
     "metadata": {},
     "output_type": "execute_result"
    },
    {
     "data": {
      "image/png": "[encoded data removed]",
      "text/plain": [
       "<Figure size 864x288 with 1 Axes>"
      ]
     },
     "metadata": {
      "needs_background": "light"
     },
     "output_type": "display_data"
    },
    {
     "data": {
      "application/javascript": [
       "\n",
       "            setTimeout(function() {\n",
       "                var nbb_cell_id = 10;\n",
       "                var nbb_unformatted_code = \"\\nplt.figure(figsize=(12, 4))\\nplt.hist(storm_counts, bins=50, color=\\\"lightgray\\\")\\nplt.xlabel(\\\"Number of Images\\\")\\nplt.ylabel(\\\"Number of Storms\\\")\\nplt.title(\\\"Number of Images per Storm\\\")\";\n",
       "                var nbb_formatted_code = \"plt.figure(figsize=(12, 4))\\nplt.hist(storm_counts, bins=50, color=\\\"lightgray\\\")\\nplt.xlabel(\\\"Number of Images\\\")\\nplt.ylabel(\\\"Number of Storms\\\")\\nplt.title(\\\"Number of Images per Storm\\\")\";\n",
       "                var nbb_cells = Jupyter.notebook.get_cells();\n",
       "                for (var i = 0; i < nbb_cells.length; ++i) {\n",
       "                    if (nbb_cells[i].input_prompt_number == nbb_cell_id) {\n",
       "                        if (nbb_cells[i].get_text() == nbb_unformatted_code) {\n",
       "                             nbb_cells[i].set_text(nbb_formatted_code);\n",
       "                        }\n",
       "                        break;\n",
       "                    }\n",
       "                }\n",
       "            }, 500);\n",
       "            "
      ],
      "text/plain": [
       "<IPython.core.display.Javascript object>"
      ]
     },
     "metadata": {},
     "output_type": "display_data"
    }
   ],
   "source": [
    "\n",
    "plt.figure(figsize=(12, 4))\n",
    "plt.hist(storm_counts, bins=50, color=\"lightgray\")\n",
    "plt.xlabel(\"Number of Images\")\n",
    "plt.ylabel(\"Number of Storms\")\n",
    "plt.title(\"Number of Images per Storm\")"
   ]
  },
  {
   "cell_type": "code",
   "execution_count": 11,
   "metadata": {},
   "outputs": [
    {
     "data": {
      "text/plain": [
       "ocean\n",
       "1    264\n",
       "2    230\n",
       "Name: storm_id, dtype: int64"
      ]
     },
     "execution_count": 11,
     "metadata": {},
     "output_type": "execute_result"
    },
    {
     "data": {
      "application/javascript": [
       "\n",
       "            setTimeout(function() {\n",
       "                var nbb_cell_id = 11;\n",
       "                var nbb_unformatted_code = \"train_metadata.groupby(\\\"ocean\\\")[\\\"storm_id\\\"].nunique()\";\n",
       "                var nbb_formatted_code = \"train_metadata.groupby(\\\"ocean\\\")[\\\"storm_id\\\"].nunique()\";\n",
       "                var nbb_cells = Jupyter.notebook.get_cells();\n",
       "                for (var i = 0; i < nbb_cells.length; ++i) {\n",
       "                    if (nbb_cells[i].input_prompt_number == nbb_cell_id) {\n",
       "                        if (nbb_cells[i].get_text() == nbb_unformatted_code) {\n",
       "                             nbb_cells[i].set_text(nbb_formatted_code);\n",
       "                        }\n",
       "                        break;\n",
       "                    }\n",
       "                }\n",
       "            }, 500);\n",
       "            "
      ],
      "text/plain": [
       "<IPython.core.display.Javascript object>"
      ]
     },
     "metadata": {},
     "output_type": "display_data"
    }
   ],
   "source": [
    "train_metadata.groupby(\"ocean\")[\"storm_id\"].nunique()"
   ]
  },
  {
   "cell_type": "code",
   "execution_count": 12,
   "metadata": {},
   "outputs": [
    {
     "data": {
      "text/html": [
       "<div>\n",
       "<style scoped>\n",
       "    .dataframe tbody tr th:only-of-type {\n",
       "        vertical-align: middle;\n",
       "    }\n",
       "\n",
       "    .dataframe tbody tr th {\n",
       "        vertical-align: top;\n",
       "    }\n",
       "\n",
       "    .dataframe thead th {\n",
       "        text-align: right;\n",
       "    }\n",
       "</style>\n",
       "<table border=\"1\" class=\"dataframe\">\n",
       "  <thead>\n",
       "    <tr style=\"text-align: right;\">\n",
       "      <th></th>\n",
       "      <th>image_id</th>\n",
       "      <th>wind_speed</th>\n",
       "    </tr>\n",
       "  </thead>\n",
       "  <tbody>\n",
       "    <tr>\n",
       "      <th>0</th>\n",
       "      <td>abs_000</td>\n",
       "      <td>43</td>\n",
       "    </tr>\n",
       "    <tr>\n",
       "      <th>1</th>\n",
       "      <td>abs_001</td>\n",
       "      <td>44</td>\n",
       "    </tr>\n",
       "    <tr>\n",
       "      <th>2</th>\n",
       "      <td>abs_002</td>\n",
       "      <td>45</td>\n",
       "    </tr>\n",
       "    <tr>\n",
       "      <th>3</th>\n",
       "      <td>abs_003</td>\n",
       "      <td>52</td>\n",
       "    </tr>\n",
       "    <tr>\n",
       "      <th>4</th>\n",
       "      <td>abs_004</td>\n",
       "      <td>53</td>\n",
       "    </tr>\n",
       "  </tbody>\n",
       "</table>\n",
       "</div>"
      ],
      "text/plain": [
       "  image_id  wind_speed\n",
       "0  abs_000          43\n",
       "1  abs_001          44\n",
       "2  abs_002          45\n",
       "3  abs_003          52\n",
       "4  abs_004          53"
      ]
     },
     "execution_count": 12,
     "metadata": {},
     "output_type": "execute_result"
    },
    {
     "data": {
      "application/javascript": [
       "\n",
       "            setTimeout(function() {\n",
       "                var nbb_cell_id = 12;\n",
       "                var nbb_unformatted_code = \"train_labels.head()\";\n",
       "                var nbb_formatted_code = \"train_labels.head()\";\n",
       "                var nbb_cells = Jupyter.notebook.get_cells();\n",
       "                for (var i = 0; i < nbb_cells.length; ++i) {\n",
       "                    if (nbb_cells[i].input_prompt_number == nbb_cell_id) {\n",
       "                        if (nbb_cells[i].get_text() == nbb_unformatted_code) {\n",
       "                             nbb_cells[i].set_text(nbb_formatted_code);\n",
       "                        }\n",
       "                        break;\n",
       "                    }\n",
       "                }\n",
       "            }, 500);\n",
       "            "
      ],
      "text/plain": [
       "<IPython.core.display.Javascript object>"
      ]
     },
     "metadata": {},
     "output_type": "display_data"
    }
   ],
   "source": [
    "train_labels.head()"
   ]
  },
  {
   "cell_type": "code",
   "execution_count": 13,
   "metadata": {},
   "outputs": [
    {
     "data": {
      "text/html": [
       "<div>\n",
       "<style scoped>\n",
       "    .dataframe tbody tr th:only-of-type {\n",
       "        vertical-align: middle;\n",
       "    }\n",
       "\n",
       "    .dataframe tbody tr th {\n",
       "        vertical-align: top;\n",
       "    }\n",
       "\n",
       "    .dataframe thead th {\n",
       "        text-align: right;\n",
       "    }\n",
       "</style>\n",
       "<table border=\"1\" class=\"dataframe\">\n",
       "  <thead>\n",
       "    <tr style=\"text-align: right;\">\n",
       "      <th></th>\n",
       "      <th>wind_speed</th>\n",
       "    </tr>\n",
       "  </thead>\n",
       "  <tbody>\n",
       "    <tr>\n",
       "      <th>count</th>\n",
       "      <td>70257.000000</td>\n",
       "    </tr>\n",
       "    <tr>\n",
       "      <th>mean</th>\n",
       "      <td>50.344008</td>\n",
       "    </tr>\n",
       "    <tr>\n",
       "      <th>std</th>\n",
       "      <td>26.795277</td>\n",
       "    </tr>\n",
       "    <tr>\n",
       "      <th>min</th>\n",
       "      <td>15.000000</td>\n",
       "    </tr>\n",
       "    <tr>\n",
       "      <th>25%</th>\n",
       "      <td>30.000000</td>\n",
       "    </tr>\n",
       "    <tr>\n",
       "      <th>50%</th>\n",
       "      <td>43.000000</td>\n",
       "    </tr>\n",
       "    <tr>\n",
       "      <th>75%</th>\n",
       "      <td>62.000000</td>\n",
       "    </tr>\n",
       "    <tr>\n",
       "      <th>max</th>\n",
       "      <td>185.000000</td>\n",
       "    </tr>\n",
       "  </tbody>\n",
       "</table>\n",
       "</div>"
      ],
      "text/plain": [
       "         wind_speed\n",
       "count  70257.000000\n",
       "mean      50.344008\n",
       "std       26.795277\n",
       "min       15.000000\n",
       "25%       30.000000\n",
       "50%       43.000000\n",
       "75%       62.000000\n",
       "max      185.000000"
      ]
     },
     "execution_count": 13,
     "metadata": {},
     "output_type": "execute_result"
    },
    {
     "data": {
      "application/javascript": [
       "\n",
       "            setTimeout(function() {\n",
       "                var nbb_cell_id = 13;\n",
       "                var nbb_unformatted_code = \"\\ntrain_labels.describe()\";\n",
       "                var nbb_formatted_code = \"train_labels.describe()\";\n",
       "                var nbb_cells = Jupyter.notebook.get_cells();\n",
       "                for (var i = 0; i < nbb_cells.length; ++i) {\n",
       "                    if (nbb_cells[i].input_prompt_number == nbb_cell_id) {\n",
       "                        if (nbb_cells[i].get_text() == nbb_unformatted_code) {\n",
       "                             nbb_cells[i].set_text(nbb_formatted_code);\n",
       "                        }\n",
       "                        break;\n",
       "                    }\n",
       "                }\n",
       "            }, 500);\n",
       "            "
      ],
      "text/plain": [
       "<IPython.core.display.Javascript object>"
      ]
     },
     "metadata": {},
     "output_type": "display_data"
    }
   ],
   "source": [
    "\n",
    "train_labels.describe()"
   ]
  },
  {
   "cell_type": "code",
   "execution_count": 14,
   "metadata": {},
   "outputs": [
    {
     "data": {
      "text/plain": [
       "Text(0.5, 1.0, 'Distribution of Wind Speeds')"
      ]
     },
     "execution_count": 14,
     "metadata": {},
     "output_type": "execute_result"
    },
    {
     "data": {
      "image/png": "[encoded data removed]",
      "text/plain": [
       "<Figure size 864x288 with 1 Axes>"
      ]
     },
     "metadata": {
      "needs_background": "light"
     },
     "output_type": "display_data"
    },
    {
     "data": {
      "application/javascript": [
       "\n",
       "            setTimeout(function() {\n",
       "                var nbb_cell_id = 14;\n",
       "                var nbb_unformatted_code = \"plt.figure(figsize=(12, 4))\\nsns.boxplot(x=train_labels.wind_speed, color=\\\"lightgray\\\")\\nplt.xlabel(\\\"Wind Speed\\\")\\nplt.title(\\\"Distribution of Wind Speeds\\\")\";\n",
       "                var nbb_formatted_code = \"plt.figure(figsize=(12, 4))\\nsns.boxplot(x=train_labels.wind_speed, color=\\\"lightgray\\\")\\nplt.xlabel(\\\"Wind Speed\\\")\\nplt.title(\\\"Distribution of Wind Speeds\\\")\";\n",
       "                var nbb_cells = Jupyter.notebook.get_cells();\n",
       "                for (var i = 0; i < nbb_cells.length; ++i) {\n",
       "                    if (nbb_cells[i].input_prompt_number == nbb_cell_id) {\n",
       "                        if (nbb_cells[i].get_text() == nbb_unformatted_code) {\n",
       "                             nbb_cells[i].set_text(nbb_formatted_code);\n",
       "                        }\n",
       "                        break;\n",
       "                    }\n",
       "                }\n",
       "            }, 500);\n",
       "            "
      ],
      "text/plain": [
       "<IPython.core.display.Javascript object>"
      ]
     },
     "metadata": {},
     "output_type": "display_data"
    }
   ],
   "source": [
    "plt.figure(figsize=(12, 4))\n",
    "sns.boxplot(x=train_labels.wind_speed, color=\"lightgray\")\n",
    "plt.xlabel(\"Wind Speed\")\n",
    "plt.title(\"Distribution of Wind Speeds\")"
   ]
  },
  {
   "cell_type": "code",
   "execution_count": 15,
   "metadata": {},
   "outputs": [
    {
     "data": {
      "application/javascript": [
       "\n",
       "            setTimeout(function() {\n",
       "                var nbb_cell_id = 15;\n",
       "                var nbb_unformatted_code = \"# Merge train_metadata with train_labels on the image_id field\\nfull_metadata = train_metadata.merge(train_labels, on=\\\"image_id\\\")\";\n",
       "                var nbb_formatted_code = \"# Merge train_metadata with train_labels on the image_id field\\nfull_metadata = train_metadata.merge(train_labels, on=\\\"image_id\\\")\";\n",
       "                var nbb_cells = Jupyter.notebook.get_cells();\n",
       "                for (var i = 0; i < nbb_cells.length; ++i) {\n",
       "                    if (nbb_cells[i].input_prompt_number == nbb_cell_id) {\n",
       "                        if (nbb_cells[i].get_text() == nbb_unformatted_code) {\n",
       "                             nbb_cells[i].set_text(nbb_formatted_code);\n",
       "                        }\n",
       "                        break;\n",
       "                    }\n",
       "                }\n",
       "            }, 500);\n",
       "            "
      ],
      "text/plain": [
       "<IPython.core.display.Javascript object>"
      ]
     },
     "metadata": {},
     "output_type": "display_data"
    }
   ],
   "source": [
    "# Merge train_metadata with train_labels on the image_id field\n",
    "full_metadata = train_metadata.merge(train_labels, on=\"image_id\")"
   ]
  },
  {
   "cell_type": "code",
   "execution_count": 16,
   "metadata": {},
   "outputs": [
    {
     "data": {
      "application/javascript": [
       "\n",
       "            setTimeout(function() {\n",
       "                var nbb_cell_id = 16;\n",
       "                var nbb_unformatted_code = \"def plot_wind_speeds(storm_id):\\n    storm = full_metadata[full_metadata.storm_id == storm_id]\\n    plt.figure(figsize=(12, 4))\\n    plt.scatter(\\\"relative_time\\\", \\\"wind_speed\\\", data=storm, color=\\\"lightgray\\\")\\n    plt.ticklabel_format(useOffset=False)\\n    plt.ylabel(\\\"Wind Speed\\\")\\n    plt.title(f\\\"Wind Speed over Relative Time: Storm {storm_id}\\\")\";\n",
       "                var nbb_formatted_code = \"def plot_wind_speeds(storm_id):\\n    storm = full_metadata[full_metadata.storm_id == storm_id]\\n    plt.figure(figsize=(12, 4))\\n    plt.scatter(\\\"relative_time\\\", \\\"wind_speed\\\", data=storm, color=\\\"lightgray\\\")\\n    plt.ticklabel_format(useOffset=False)\\n    plt.ylabel(\\\"Wind Speed\\\")\\n    plt.title(f\\\"Wind Speed over Relative Time: Storm {storm_id}\\\")\";\n",
       "                var nbb_cells = Jupyter.notebook.get_cells();\n",
       "                for (var i = 0; i < nbb_cells.length; ++i) {\n",
       "                    if (nbb_cells[i].input_prompt_number == nbb_cell_id) {\n",
       "                        if (nbb_cells[i].get_text() == nbb_unformatted_code) {\n",
       "                             nbb_cells[i].set_text(nbb_formatted_code);\n",
       "                        }\n",
       "                        break;\n",
       "                    }\n",
       "                }\n",
       "            }, 500);\n",
       "            "
      ],
      "text/plain": [
       "<IPython.core.display.Javascript object>"
      ]
     },
     "metadata": {},
     "output_type": "display_data"
    }
   ],
   "source": [
    "def plot_wind_speeds(storm_id):\n",
    "    storm = full_metadata[full_metadata.storm_id == storm_id]\n",
    "    plt.figure(figsize=(12, 4))\n",
    "    plt.scatter(\"relative_time\", \"wind_speed\", data=storm, color=\"lightgray\")\n",
    "    plt.ticklabel_format(useOffset=False)\n",
    "    plt.ylabel(\"Wind Speed\")\n",
    "    plt.title(f\"Wind Speed over Relative Time: Storm {storm_id}\")"
   ]
  },
  {
   "cell_type": "code",
   "execution_count": 17,
   "metadata": {},
   "outputs": [
    {
     "data": {
      "image/png": "[encoded data removed]",
      "text/plain": [
       "<Figure size 864x288 with 1 Axes>"
      ]
     },
     "metadata": {
      "needs_background": "light"
     },
     "output_type": "display_data"
    },
    {
     "data": {
      "image/png": "[encoded data removed]",
      "text/plain": [
       "<Figure size 864x288 with 1 Axes>"
      ]
     },
     "metadata": {
      "needs_background": "light"
     },
     "output_type": "display_data"
    },
    {
     "data": {
      "application/javascript": [
       "\n",
       "            setTimeout(function() {\n",
       "                var nbb_cell_id = 17;\n",
       "                var nbb_unformatted_code = \"# Sample two random storms from full_metadata\\nfor storm in full_metadata.storm_id.sample(2, random_state=40):\\n    plot_wind_speeds(storm)\";\n",
       "                var nbb_formatted_code = \"# Sample two random storms from full_metadata\\nfor storm in full_metadata.storm_id.sample(2, random_state=40):\\n    plot_wind_speeds(storm)\";\n",
       "                var nbb_cells = Jupyter.notebook.get_cells();\n",
       "                for (var i = 0; i < nbb_cells.length; ++i) {\n",
       "                    if (nbb_cells[i].input_prompt_number == nbb_cell_id) {\n",
       "                        if (nbb_cells[i].get_text() == nbb_unformatted_code) {\n",
       "                             nbb_cells[i].set_text(nbb_formatted_code);\n",
       "                        }\n",
       "                        break;\n",
       "                    }\n",
       "                }\n",
       "            }, 500);\n",
       "            "
      ],
      "text/plain": [
       "<IPython.core.display.Javascript object>"
      ]
     },
     "metadata": {},
     "output_type": "display_data"
    }
   ],
   "source": [
    "# Sample two random storms from full_metadata\n",
    "for storm in full_metadata.storm_id.sample(2, random_state=40):\n",
    "    plot_wind_speeds(storm)"
   ]
  },
  {
   "cell_type": "code",
   "execution_count": 18,
   "metadata": {},
   "outputs": [
    {
     "data": {
      "application/javascript": [
       "\n",
       "            setTimeout(function() {\n",
       "                var nbb_cell_id = 18;\n",
       "                var nbb_unformatted_code = \"# Path style access for pandas\\nimport pandas_path\";\n",
       "                var nbb_formatted_code = \"# Path style access for pandas\\nimport pandas_path\";\n",
       "                var nbb_cells = Jupyter.notebook.get_cells();\n",
       "                for (var i = 0; i < nbb_cells.length; ++i) {\n",
       "                    if (nbb_cells[i].input_prompt_number == nbb_cell_id) {\n",
       "                        if (nbb_cells[i].get_text() == nbb_unformatted_code) {\n",
       "                             nbb_cells[i].set_text(nbb_formatted_code);\n",
       "                        }\n",
       "                        break;\n",
       "                    }\n",
       "                }\n",
       "            }, 500);\n",
       "            "
      ],
      "text/plain": [
       "<IPython.core.display.Javascript object>"
      ]
     },
     "metadata": {},
     "output_type": "display_data"
    }
   ],
   "source": [
    "# Path style access for pandas\n",
    "import pandas_path"
   ]
  },
  {
   "cell_type": "code",
   "execution_count": 19,
   "metadata": {},
   "outputs": [
    {
     "data": {
      "application/javascript": [
       "\n",
       "            setTimeout(function() {\n",
       "                var nbb_cell_id = 19;\n",
       "                var nbb_unformatted_code = \"full_metadata[\\\"file_name\\\"] = (\\n    DATA_PATH / \\\"train\\\" / full_metadata.image_id.path.with_suffix(\\\".jpg\\\")\\n)\";\n",
       "                var nbb_formatted_code = \"full_metadata[\\\"file_name\\\"] = (\\n    DATA_PATH / \\\"train\\\" / full_metadata.image_id.path.with_suffix(\\\".jpg\\\")\\n)\";\n",
       "                var nbb_cells = Jupyter.notebook.get_cells();\n",
       "                for (var i = 0; i < nbb_cells.length; ++i) {\n",
       "                    if (nbb_cells[i].input_prompt_number == nbb_cell_id) {\n",
       "                        if (nbb_cells[i].get_text() == nbb_unformatted_code) {\n",
       "                             nbb_cells[i].set_text(nbb_formatted_code);\n",
       "                        }\n",
       "                        break;\n",
       "                    }\n",
       "                }\n",
       "            }, 500);\n",
       "            "
      ],
      "text/plain": [
       "<IPython.core.display.Javascript object>"
      ]
     },
     "metadata": {},
     "output_type": "display_data"
    }
   ],
   "source": [
    "full_metadata[\"file_name\"] = (\n",
    "    DATA_PATH / \"train\" / full_metadata.image_id.path.with_suffix(\".jpg\")\n",
    ")"
   ]
  },
  {
   "cell_type": "code",
   "execution_count": 20,
   "metadata": {},
   "outputs": [
    {
     "data": {
      "application/javascript": [
       "\n",
       "            setTimeout(function() {\n",
       "                var nbb_cell_id = 20;\n",
       "                var nbb_unformatted_code = \"from IPython.display import Image\";\n",
       "                var nbb_formatted_code = \"from IPython.display import Image\";\n",
       "                var nbb_cells = Jupyter.notebook.get_cells();\n",
       "                for (var i = 0; i < nbb_cells.length; ++i) {\n",
       "                    if (nbb_cells[i].input_prompt_number == nbb_cell_id) {\n",
       "                        if (nbb_cells[i].get_text() == nbb_unformatted_code) {\n",
       "                             nbb_cells[i].set_text(nbb_formatted_code);\n",
       "                        }\n",
       "                        break;\n",
       "                    }\n",
       "                }\n",
       "            }, 500);\n",
       "            "
      ],
      "text/plain": [
       "<IPython.core.display.Javascript object>"
      ]
     },
     "metadata": {},
     "output_type": "display_data"
    }
   ],
   "source": [
    "from IPython.display import Image"
   ]
  },
  {
   "cell_type": "code",
   "execution_count": 21,
   "metadata": {},
   "outputs": [
    {
     "data": {
      "application/javascript": [
       "\n",
       "            setTimeout(function() {\n",
       "                var nbb_cell_id = 21;\n",
       "                var nbb_unformatted_code = \"\\ndef look_at_wind_speed(wind_speed):\\n    sample_img = full_metadata[full_metadata.wind_speed == wind_speed].file_name.iloc[0]\\n    return Image(str(sample_img))\";\n",
       "                var nbb_formatted_code = \"def look_at_wind_speed(wind_speed):\\n    sample_img = full_metadata[full_metadata.wind_speed == wind_speed].file_name.iloc[0]\\n    return Image(str(sample_img))\";\n",
       "                var nbb_cells = Jupyter.notebook.get_cells();\n",
       "                for (var i = 0; i < nbb_cells.length; ++i) {\n",
       "                    if (nbb_cells[i].input_prompt_number == nbb_cell_id) {\n",
       "                        if (nbb_cells[i].get_text() == nbb_unformatted_code) {\n",
       "                             nbb_cells[i].set_text(nbb_formatted_code);\n",
       "                        }\n",
       "                        break;\n",
       "                    }\n",
       "                }\n",
       "            }, 500);\n",
       "            "
      ],
      "text/plain": [
       "<IPython.core.display.Javascript object>"
      ]
     },
     "metadata": {},
     "output_type": "display_data"
    }
   ],
   "source": [
    "\n",
    "def look_at_wind_speed(wind_speed):\n",
    "    sample_img = full_metadata[full_metadata.wind_speed == wind_speed].file_name.iloc[0]\n",
    "    return Image(str(sample_img))"
   ]
  },
  {
   "cell_type": "code",
   "execution_count": 22,
   "metadata": {},
   "outputs": [
    {
     "data": {
      "image/jpeg": "[encoded data removed]",
      "text/plain": [
       "<IPython.core.display.Image object>"
      ]
     },
     "execution_count": 22,
     "metadata": {},
     "output_type": "execute_result"
    },
    {
     "data": {
      "application/javascript": [
       "\n",
       "            setTimeout(function() {\n",
       "                var nbb_cell_id = 22;\n",
       "                var nbb_unformatted_code = \"\\nlook_at_wind_speed(wind_speed=30)\";\n",
       "                var nbb_formatted_code = \"look_at_wind_speed(wind_speed=30)\";\n",
       "                var nbb_cells = Jupyter.notebook.get_cells();\n",
       "                for (var i = 0; i < nbb_cells.length; ++i) {\n",
       "                    if (nbb_cells[i].input_prompt_number == nbb_cell_id) {\n",
       "                        if (nbb_cells[i].get_text() == nbb_unformatted_code) {\n",
       "                             nbb_cells[i].set_text(nbb_formatted_code);\n",
       "                        }\n",
       "                        break;\n",
       "                    }\n",
       "                }\n",
       "            }, 500);\n",
       "            "
      ],
      "text/plain": [
       "<IPython.core.display.Javascript object>"
      ]
     },
     "metadata": {},
     "output_type": "display_data"
    }
   ],
   "source": [
    "\n",
    "look_at_wind_speed(wind_speed=30)"
   ]
  },
  {
   "cell_type": "code",
   "execution_count": 23,
   "metadata": {},
   "outputs": [
    {
     "data": {
      "image/jpeg": "[encoded data removed]",
      "text/plain": [
       "<IPython.core.display.Image object>"
      ]
     },
     "execution_count": 23,
     "metadata": {},
     "output_type": "execute_result"
    },
    {
     "data": {
      "application/javascript": [
       "\n",
       "            setTimeout(function() {\n",
       "                var nbb_cell_id = 23;\n",
       "                var nbb_unformatted_code = \"look_at_wind_speed(wind_speed=150)\";\n",
       "                var nbb_formatted_code = \"look_at_wind_speed(wind_speed=150)\";\n",
       "                var nbb_cells = Jupyter.notebook.get_cells();\n",
       "                for (var i = 0; i < nbb_cells.length; ++i) {\n",
       "                    if (nbb_cells[i].input_prompt_number == nbb_cell_id) {\n",
       "                        if (nbb_cells[i].get_text() == nbb_unformatted_code) {\n",
       "                             nbb_cells[i].set_text(nbb_formatted_code);\n",
       "                        }\n",
       "                        break;\n",
       "                    }\n",
       "                }\n",
       "            }, 500);\n",
       "            "
      ],
      "text/plain": [
       "<IPython.core.display.Javascript object>"
      ]
     },
     "metadata": {},
     "output_type": "display_data"
    }
   ],
   "source": [
    "look_at_wind_speed(wind_speed=150)"
   ]
  },
  {
   "cell_type": "code",
   "execution_count": 24,
   "metadata": {},
   "outputs": [
    {
     "data": {
      "image/jpeg": "[encoded data removed]",
      "text/plain": [
       "<IPython.core.display.Image object>"
      ]
     },
     "execution_count": 24,
     "metadata": {},
     "output_type": "execute_result"
    },
    {
     "data": {
      "application/javascript": [
       "\n",
       "            setTimeout(function() {\n",
       "                var nbb_cell_id = 24;\n",
       "                var nbb_unformatted_code = \"look_at_wind_speed(wind_speed=185)\";\n",
       "                var nbb_formatted_code = \"look_at_wind_speed(wind_speed=185)\";\n",
       "                var nbb_cells = Jupyter.notebook.get_cells();\n",
       "                for (var i = 0; i < nbb_cells.length; ++i) {\n",
       "                    if (nbb_cells[i].input_prompt_number == nbb_cell_id) {\n",
       "                        if (nbb_cells[i].get_text() == nbb_unformatted_code) {\n",
       "                             nbb_cells[i].set_text(nbb_formatted_code);\n",
       "                        }\n",
       "                        break;\n",
       "                    }\n",
       "                }\n",
       "            }, 500);\n",
       "            "
      ],
      "text/plain": [
       "<IPython.core.display.Javascript object>"
      ]
     },
     "metadata": {},
     "output_type": "display_data"
    }
   ],
   "source": [
    "look_at_wind_speed(wind_speed=185)"
   ]
  },
  {
   "cell_type": "code",
   "execution_count": 25,
   "metadata": {},
   "outputs": [
    {
     "data": {
      "application/javascript": [
       "\n",
       "            setTimeout(function() {\n",
       "                var nbb_cell_id = 25;\n",
       "                var nbb_unformatted_code = \"\\nfrom PIL import Image as pil_image\";\n",
       "                var nbb_formatted_code = \"from PIL import Image as pil_image\";\n",
       "                var nbb_cells = Jupyter.notebook.get_cells();\n",
       "                for (var i = 0; i < nbb_cells.length; ++i) {\n",
       "                    if (nbb_cells[i].input_prompt_number == nbb_cell_id) {\n",
       "                        if (nbb_cells[i].get_text() == nbb_unformatted_code) {\n",
       "                             nbb_cells[i].set_text(nbb_formatted_code);\n",
       "                        }\n",
       "                        break;\n",
       "                    }\n",
       "                }\n",
       "            }, 500);\n",
       "            "
      ],
      "text/plain": [
       "<IPython.core.display.Javascript object>"
      ]
     },
     "metadata": {},
     "output_type": "display_data"
    }
   ],
   "source": [
    "\n",
    "from PIL import Image as pil_image"
   ]
  },
  {
   "cell_type": "code",
   "execution_count": 26,
   "metadata": {},
   "outputs": [
    {
     "name": "stdout",
     "output_type": "stream",
     "text": [
      "(366, 366)\n",
      "(366, 366)\n",
      "(366, 366)\n",
      "(366, 366)\n",
      "(366, 366)\n"
     ]
    },
    {
     "data": {
      "application/javascript": [
       "\n",
       "            setTimeout(function() {\n",
       "                var nbb_cell_id = 26;\n",
       "                var nbb_unformatted_code = \"examples = [\\n    pil_image.open(full_metadata.iloc[i][\\\"file_name\\\"]).convert(\\\"RGB\\\") for i in range(5)\\n]\\nfor image in examples:\\n    print(image.size)\";\n",
       "                var nbb_formatted_code = \"examples = [\\n    pil_image.open(full_metadata.iloc[i][\\\"file_name\\\"]).convert(\\\"RGB\\\") for i in range(5)\\n]\\nfor image in examples:\\n    print(image.size)\";\n",
       "                var nbb_cells = Jupyter.notebook.get_cells();\n",
       "                for (var i = 0; i < nbb_cells.length; ++i) {\n",
       "                    if (nbb_cells[i].input_prompt_number == nbb_cell_id) {\n",
       "                        if (nbb_cells[i].get_text() == nbb_unformatted_code) {\n",
       "                             nbb_cells[i].set_text(nbb_formatted_code);\n",
       "                        }\n",
       "                        break;\n",
       "                    }\n",
       "                }\n",
       "            }, 500);\n",
       "            "
      ],
      "text/plain": [
       "<IPython.core.display.Javascript object>"
      ]
     },
     "metadata": {},
     "output_type": "display_data"
    }
   ],
   "source": [
    "examples = [\n",
    "    pil_image.open(full_metadata.iloc[i][\"file_name\"]).convert(\"RGB\") for i in range(5)\n",
    "]\n",
    "for image in examples:\n",
    "    print(image.size)"
   ]
  },
  {
   "cell_type": "code",
   "execution_count": 27,
   "metadata": {},
   "outputs": [
    {
     "data": {
      "application/javascript": [
       "\n",
       "            setTimeout(function() {\n",
       "                var nbb_cell_id = 27;\n",
       "                var nbb_unformatted_code = \"# Add a temporary column for number of images per storm\\nimages_per_storm = full_metadata.groupby(\\\"storm_id\\\").size().to_frame(\\\"images_per_storm\\\")\\nfull_metadata = full_metadata.merge(images_per_storm, how=\\\"left\\\", on=\\\"storm_id\\\")\";\n",
       "                var nbb_formatted_code = \"# Add a temporary column for number of images per storm\\nimages_per_storm = full_metadata.groupby(\\\"storm_id\\\").size().to_frame(\\\"images_per_storm\\\")\\nfull_metadata = full_metadata.merge(images_per_storm, how=\\\"left\\\", on=\\\"storm_id\\\")\";\n",
       "                var nbb_cells = Jupyter.notebook.get_cells();\n",
       "                for (var i = 0; i < nbb_cells.length; ++i) {\n",
       "                    if (nbb_cells[i].input_prompt_number == nbb_cell_id) {\n",
       "                        if (nbb_cells[i].get_text() == nbb_unformatted_code) {\n",
       "                             nbb_cells[i].set_text(nbb_formatted_code);\n",
       "                        }\n",
       "                        break;\n",
       "                    }\n",
       "                }\n",
       "            }, 500);\n",
       "            "
      ],
      "text/plain": [
       "<IPython.core.display.Javascript object>"
      ]
     },
     "metadata": {},
     "output_type": "display_data"
    }
   ],
   "source": [
    "# Add a temporary column for number of images per storm\n",
    "images_per_storm = full_metadata.groupby(\"storm_id\").size().to_frame(\"images_per_storm\")\n",
    "full_metadata = full_metadata.merge(images_per_storm, how=\"left\", on=\"storm_id\")"
   ]
  },
  {
   "cell_type": "code",
   "execution_count": 28,
   "metadata": {},
   "outputs": [
    {
     "data": {
      "application/javascript": [
       "\n",
       "            setTimeout(function() {\n",
       "                var nbb_cell_id = 28;\n",
       "                var nbb_unformatted_code = \"# Each storm is sorted by relative time\\n# Identify the final 20% of images per storm\\nfull_metadata[\\\"pct_of_storm\\\"] = (\\n    full_metadata.groupby(\\\"storm_id\\\").cumcount() / full_metadata.images_per_storm\\n)\\ntrain = full_metadata[full_metadata.pct_of_storm < 0.8].drop(\\n    [\\\"images_per_storm\\\", \\\"pct_of_storm\\\"], axis=1\\n)\\nval = full_metadata[full_metadata.pct_of_storm >= 0.8].drop(\\n    [\\\"images_per_storm\\\", \\\"pct_of_storm\\\"], axis=1\\n)\";\n",
       "                var nbb_formatted_code = \"# Each storm is sorted by relative time\\n# Identify the final 20% of images per storm\\nfull_metadata[\\\"pct_of_storm\\\"] = (\\n    full_metadata.groupby(\\\"storm_id\\\").cumcount() / full_metadata.images_per_storm\\n)\\ntrain = full_metadata[full_metadata.pct_of_storm < 0.8].drop(\\n    [\\\"images_per_storm\\\", \\\"pct_of_storm\\\"], axis=1\\n)\\nval = full_metadata[full_metadata.pct_of_storm >= 0.8].drop(\\n    [\\\"images_per_storm\\\", \\\"pct_of_storm\\\"], axis=1\\n)\";\n",
       "                var nbb_cells = Jupyter.notebook.get_cells();\n",
       "                for (var i = 0; i < nbb_cells.length; ++i) {\n",
       "                    if (nbb_cells[i].input_prompt_number == nbb_cell_id) {\n",
       "                        if (nbb_cells[i].get_text() == nbb_unformatted_code) {\n",
       "                             nbb_cells[i].set_text(nbb_formatted_code);\n",
       "                        }\n",
       "                        break;\n",
       "                    }\n",
       "                }\n",
       "            }, 500);\n",
       "            "
      ],
      "text/plain": [
       "<IPython.core.display.Javascript object>"
      ]
     },
     "metadata": {},
     "output_type": "display_data"
    }
   ],
   "source": [
    "# Each storm is sorted by relative time\n",
    "# Identify the final 20% of images per storm\n",
    "full_metadata[\"pct_of_storm\"] = (\n",
    "    full_metadata.groupby(\"storm_id\").cumcount() / full_metadata.images_per_storm\n",
    ")\n",
    "train = full_metadata[full_metadata.pct_of_storm < 0.8].drop(\n",
    "    [\"images_per_storm\", \"pct_of_storm\"], axis=1\n",
    ")\n",
    "val = full_metadata[full_metadata.pct_of_storm >= 0.8].drop(\n",
    "    [\"images_per_storm\", \"pct_of_storm\"], axis=1\n",
    ")"
   ]
  },
  {
   "cell_type": "code",
   "execution_count": 29,
   "metadata": {},
   "outputs": [
    {
     "data": {
      "text/plain": [
       "19.734688358455386"
      ]
     },
     "execution_count": 29,
     "metadata": {},
     "output_type": "execute_result"
    },
    {
     "data": {
      "application/javascript": [
       "\n",
       "            setTimeout(function() {\n",
       "                var nbb_cell_id = 29;\n",
       "                var nbb_unformatted_code = \"# Confirm pct of images in the validation set is approximately 20%\\nlen(val) / len(full_metadata) * 100\";\n",
       "                var nbb_formatted_code = \"# Confirm pct of images in the validation set is approximately 20%\\nlen(val) / len(full_metadata) * 100\";\n",
       "                var nbb_cells = Jupyter.notebook.get_cells();\n",
       "                for (var i = 0; i < nbb_cells.length; ++i) {\n",
       "                    if (nbb_cells[i].input_prompt_number == nbb_cell_id) {\n",
       "                        if (nbb_cells[i].get_text() == nbb_unformatted_code) {\n",
       "                             nbb_cells[i].set_text(nbb_formatted_code);\n",
       "                        }\n",
       "                        break;\n",
       "                    }\n",
       "                }\n",
       "            }, 500);\n",
       "            "
      ],
      "text/plain": [
       "<IPython.core.display.Javascript object>"
      ]
     },
     "metadata": {},
     "output_type": "display_data"
    }
   ],
   "source": [
    "# Confirm pct of images in the validation set is approximately 20%\n",
    "len(val) / len(full_metadata) * 100"
   ]
  },
  {
   "cell_type": "code",
   "execution_count": 30,
   "metadata": {},
   "outputs": [
    {
     "data": {
      "application/javascript": [
       "\n",
       "            setTimeout(function() {\n",
       "                var nbb_cell_id = 30;\n",
       "                var nbb_unformatted_code = \"# Sample 10% to increase performance\\ntrain = train.sample(frac=0.1, replace=False, random_state=1)\\nval = val.sample(frac=0.1, replace=False, random_state=1)\";\n",
       "                var nbb_formatted_code = \"# Sample 10% to increase performance\\ntrain = train.sample(frac=0.1, replace=False, random_state=1)\\nval = val.sample(frac=0.1, replace=False, random_state=1)\";\n",
       "                var nbb_cells = Jupyter.notebook.get_cells();\n",
       "                for (var i = 0; i < nbb_cells.length; ++i) {\n",
       "                    if (nbb_cells[i].input_prompt_number == nbb_cell_id) {\n",
       "                        if (nbb_cells[i].get_text() == nbb_unformatted_code) {\n",
       "                             nbb_cells[i].set_text(nbb_formatted_code);\n",
       "                        }\n",
       "                        break;\n",
       "                    }\n",
       "                }\n",
       "            }, 500);\n",
       "            "
      ],
      "text/plain": [
       "<IPython.core.display.Javascript object>"
      ]
     },
     "metadata": {},
     "output_type": "display_data"
    }
   ],
   "source": [
    "# Sample 10% to increase performance\n",
    "train = train.sample(frac=0.1, replace=False, random_state=1)\n",
    "val = val.sample(frac=0.1, replace=False, random_state=1)"
   ]
  },
  {
   "cell_type": "code",
   "execution_count": 31,
   "metadata": {},
   "outputs": [
    {
     "data": {
      "text/plain": [
       "(5639, 6)"
      ]
     },
     "execution_count": 31,
     "metadata": {},
     "output_type": "execute_result"
    },
    {
     "data": {
      "application/javascript": [
       "\n",
       "            setTimeout(function() {\n",
       "                var nbb_cell_id = 31;\n",
       "                var nbb_unformatted_code = \"train.shape\";\n",
       "                var nbb_formatted_code = \"train.shape\";\n",
       "                var nbb_cells = Jupyter.notebook.get_cells();\n",
       "                for (var i = 0; i < nbb_cells.length; ++i) {\n",
       "                    if (nbb_cells[i].input_prompt_number == nbb_cell_id) {\n",
       "                        if (nbb_cells[i].get_text() == nbb_unformatted_code) {\n",
       "                             nbb_cells[i].set_text(nbb_formatted_code);\n",
       "                        }\n",
       "                        break;\n",
       "                    }\n",
       "                }\n",
       "            }, 500);\n",
       "            "
      ],
      "text/plain": [
       "<IPython.core.display.Javascript object>"
      ]
     },
     "metadata": {},
     "output_type": "display_data"
    }
   ],
   "source": [
    "train.shape"
   ]
  },
  {
   "cell_type": "code",
   "execution_count": 32,
   "metadata": {},
   "outputs": [
    {
     "data": {
      "text/plain": [
       "(1386, 6)"
      ]
     },
     "execution_count": 32,
     "metadata": {},
     "output_type": "execute_result"
    },
    {
     "data": {
      "application/javascript": [
       "\n",
       "            setTimeout(function() {\n",
       "                var nbb_cell_id = 32;\n",
       "                var nbb_unformatted_code = \"val.shape\";\n",
       "                var nbb_formatted_code = \"val.shape\";\n",
       "                var nbb_cells = Jupyter.notebook.get_cells();\n",
       "                for (var i = 0; i < nbb_cells.length; ++i) {\n",
       "                    if (nbb_cells[i].input_prompt_number == nbb_cell_id) {\n",
       "                        if (nbb_cells[i].get_text() == nbb_unformatted_code) {\n",
       "                             nbb_cells[i].set_text(nbb_formatted_code);\n",
       "                        }\n",
       "                        break;\n",
       "                    }\n",
       "                }\n",
       "            }, 500);\n",
       "            "
      ],
      "text/plain": [
       "<IPython.core.display.Javascript object>"
      ]
     },
     "metadata": {},
     "output_type": "display_data"
    }
   ],
   "source": [
    "val.shape"
   ]
  },
  {
   "cell_type": "code",
   "execution_count": 33,
   "metadata": {},
   "outputs": [
    {
     "data": {
      "application/javascript": [
       "\n",
       "            setTimeout(function() {\n",
       "                var nbb_cell_id = 33;\n",
       "                var nbb_unformatted_code = \"# Separate features from labels\\nx_train = train.drop(\\\"wind_speed\\\", axis=1)\\ny_train = train.wind_speed\\n\\nx_val = val.drop(\\\"wind_speed\\\", axis=1)\\ny_val = val.wind_speed\";\n",
       "                var nbb_formatted_code = \"# Separate features from labels\\nx_train = train.drop(\\\"wind_speed\\\", axis=1)\\ny_train = train.wind_speed\\n\\nx_val = val.drop(\\\"wind_speed\\\", axis=1)\\ny_val = val.wind_speed\";\n",
       "                var nbb_cells = Jupyter.notebook.get_cells();\n",
       "                for (var i = 0; i < nbb_cells.length; ++i) {\n",
       "                    if (nbb_cells[i].input_prompt_number == nbb_cell_id) {\n",
       "                        if (nbb_cells[i].get_text() == nbb_unformatted_code) {\n",
       "                             nbb_cells[i].set_text(nbb_formatted_code);\n",
       "                        }\n",
       "                        break;\n",
       "                    }\n",
       "                }\n",
       "            }, 500);\n",
       "            "
      ],
      "text/plain": [
       "<IPython.core.display.Javascript object>"
      ]
     },
     "metadata": {},
     "output_type": "display_data"
    }
   ],
   "source": [
    "# Separate features from labels\n",
    "x_train = train.drop(\"wind_speed\", axis=1)\n",
    "y_train = train.wind_speed\n",
    "\n",
    "x_val = val.drop(\"wind_speed\", axis=1)\n",
    "y_val = val.wind_speed"
   ]
  },
  {
   "cell_type": "code",
   "execution_count": 34,
   "metadata": {},
   "outputs": [
    {
     "data": {
      "application/javascript": [
       "\n",
       "            setTimeout(function() {\n",
       "                var nbb_cell_id = 34;\n",
       "                var nbb_unformatted_code = \"import torch\\nfrom torch.utils.data import Dataset\\nfrom torchvision import transforms\";\n",
       "                var nbb_formatted_code = \"import torch\\nfrom torch.utils.data import Dataset\\nfrom torchvision import transforms\";\n",
       "                var nbb_cells = Jupyter.notebook.get_cells();\n",
       "                for (var i = 0; i < nbb_cells.length; ++i) {\n",
       "                    if (nbb_cells[i].input_prompt_number == nbb_cell_id) {\n",
       "                        if (nbb_cells[i].get_text() == nbb_unformatted_code) {\n",
       "                             nbb_cells[i].set_text(nbb_formatted_code);\n",
       "                        }\n",
       "                        break;\n",
       "                    }\n",
       "                }\n",
       "            }, 500);\n",
       "            "
      ],
      "text/plain": [
       "<IPython.core.display.Javascript object>"
      ]
     },
     "metadata": {},
     "output_type": "display_data"
    }
   ],
   "source": [
    "import torch\n",
    "from torch.utils.data import Dataset\n",
    "from torchvision import transforms"
   ]
  },
  {
   "cell_type": "code",
   "execution_count": 35,
   "metadata": {},
   "outputs": [
    {
     "data": {
      "application/javascript": [
       "\n",
       "            setTimeout(function() {\n",
       "                var nbb_cell_id = 35;\n",
       "                var nbb_unformatted_code = \"class DatasetWIND(Dataset):\\n    \\\"\\\"\\\"Reads in an image, transforms pixel values, and serves\\n    a dictionary containing the image id, image tensors, and label.\\n    \\\"\\\"\\\"\\n\\n    def __init__(self, x_train, y_train=None):\\n        self.data = x_train \\n        self.label = y_train\\n        self.transform = transforms.Compose(\\n            [\\n                transforms.CenterCrop(128),\\n                transforms.ToTensor(),\\n                # All models expect the same normalization mean & std\\n                # https://pytorch.org/docs/stable/torchvision/models.html\\n                transforms.Normalize(\\n                    mean=(0.485, 0.456, 0.406), std=(0.229, 0.224, 0.225)\\n                ),\\n            ]\\n        )\\n\\n    def __len__(self):\\n        return len(self.data)\\n\\n    def __getitem__(self, index):\\n        image = pil_image.open(self.data.iloc[index][\\\"file_name\\\"]).convert(\\\"RGB\\\")\\n        image = self.transform(image)\\n        image_id = self.data.iloc[index][\\\"image_id\\\"]\\n        if self.label is not None:\\n            label = self.label.iloc[index]\\n            sample = {\\\"image_id\\\": image_id, \\\"image\\\": image, \\\"label\\\": label}\\n        else:\\n            sample = {\\n                \\\"image_id\\\": image_id,\\n                \\\"image\\\": image,\\n            }\\n        return sample\";\n",
       "                var nbb_formatted_code = \"class DatasetWIND(Dataset):\\n    \\\"\\\"\\\"Reads in an image, transforms pixel values, and serves\\n    a dictionary containing the image id, image tensors, and label.\\n    \\\"\\\"\\\"\\n\\n    def __init__(self, x_train, y_train=None):\\n        self.data = x_train\\n        self.label = y_train\\n        self.transform = transforms.Compose(\\n            [\\n                transforms.CenterCrop(128),\\n                transforms.ToTensor(),\\n                # All models expect the same normalization mean & std\\n                # https://pytorch.org/docs/stable/torchvision/models.html\\n                transforms.Normalize(\\n                    mean=(0.485, 0.456, 0.406), std=(0.229, 0.224, 0.225)\\n                ),\\n            ]\\n        )\\n\\n    def __len__(self):\\n        return len(self.data)\\n\\n    def __getitem__(self, index):\\n        image = pil_image.open(self.data.iloc[index][\\\"file_name\\\"]).convert(\\\"RGB\\\")\\n        image = self.transform(image)\\n        image_id = self.data.iloc[index][\\\"image_id\\\"]\\n        if self.label is not None:\\n            label = self.label.iloc[index]\\n            sample = {\\\"image_id\\\": image_id, \\\"image\\\": image, \\\"label\\\": label}\\n        else:\\n            sample = {\\n                \\\"image_id\\\": image_id,\\n                \\\"image\\\": image,\\n            }\\n        return sample\";\n",
       "                var nbb_cells = Jupyter.notebook.get_cells();\n",
       "                for (var i = 0; i < nbb_cells.length; ++i) {\n",
       "                    if (nbb_cells[i].input_prompt_number == nbb_cell_id) {\n",
       "                        if (nbb_cells[i].get_text() == nbb_unformatted_code) {\n",
       "                             nbb_cells[i].set_text(nbb_formatted_code);\n",
       "                        }\n",
       "                        break;\n",
       "                    }\n",
       "                }\n",
       "            }, 500);\n",
       "            "
      ],
      "text/plain": [
       "<IPython.core.display.Javascript object>"
      ]
     },
     "metadata": {},
     "output_type": "display_data"
    }
   ],
   "source": [
    "class DatasetWIND(Dataset):\n",
    "    \"\"\"Reads in an image, transforms pixel values, and serves\n",
    "    a dictionary containing the image id, image tensors, and label.\n",
    "    \"\"\"\n",
    "\n",
    "    def __init__(self, x_train, y_train=None):\n",
    "        self.data = x_train \n",
    "        self.label = y_train\n",
    "        self.transform = transforms.Compose(\n",
    "            [\n",
    "                transforms.CenterCrop(128),\n",
    "                transforms.ToTensor(),\n",
    "                # All models expect the same normalization mean & std\n",
    "                # https://pytorch.org/docs/stable/torchvision/models.html\n",
    "                transforms.Normalize(\n",
    "                    mean=(0.485, 0.456, 0.406), std=(0.229, 0.224, 0.225)\n",
    "                ),\n",
    "            ]\n",
    "        )\n",
    "\n",
    "    def __len__(self):\n",
    "        return len(self.data)\n",
    "\n",
    "    def __getitem__(self, index):\n",
    "        image = pil_image.open(self.data.iloc[index][\"file_name\"]).convert(\"RGB\")\n",
    "        image = self.transform(image)\n",
    "        image_id = self.data.iloc[index][\"image_id\"]\n",
    "        if self.label is not None:\n",
    "            label = self.label.iloc[index]\n",
    "            sample = {\"image_id\": image_id, \"image\": image, \"label\": label}\n",
    "        else:\n",
    "            sample = {\n",
    "                \"image_id\": image_id,\n",
    "                \"image\": image,\n",
    "            }\n",
    "        return sample"
   ]
  },
  {
   "cell_type": "code",
   "execution_count": 36,
   "metadata": {},
   "outputs": [
    {
     "data": {
      "application/javascript": [
       "\n",
       "            setTimeout(function() {\n",
       "                var nbb_cell_id = 36;\n",
       "                var nbb_unformatted_code = \"from torch import nn\";\n",
       "                var nbb_formatted_code = \"from torch import nn\";\n",
       "                var nbb_cells = Jupyter.notebook.get_cells();\n",
       "                for (var i = 0; i < nbb_cells.length; ++i) {\n",
       "                    if (nbb_cells[i].input_prompt_number == nbb_cell_id) {\n",
       "                        if (nbb_cells[i].get_text() == nbb_unformatted_code) {\n",
       "                             nbb_cells[i].set_text(nbb_formatted_code);\n",
       "                        }\n",
       "                        break;\n",
       "                    }\n",
       "                }\n",
       "            }, 500);\n",
       "            "
      ],
      "text/plain": [
       "<IPython.core.display.Javascript object>"
      ]
     },
     "metadata": {},
     "output_type": "display_data"
    }
   ],
   "source": [
    "from torch import nn"
   ]
  },
  {
   "cell_type": "code",
   "execution_count": 37,
   "metadata": {},
   "outputs": [
    {
     "data": {
      "application/javascript": [
       "\n",
       "            setTimeout(function() {\n",
       "                var nbb_cell_id = 37;\n",
       "                var nbb_unformatted_code = \"class RMSELoss(nn.Module):\\n    \\\"\\\"\\\"Measures root mean square error.\\\"\\\"\\\"\\n\\n    def __init__(self):\\n        super(RMSELoss, self).__init__()\\n        self.mse = nn.MSELoss()\\n\\n    def forward(self, pred, true):\\n        return torch.sqrt(self.mse(pred, true))\";\n",
       "                var nbb_formatted_code = \"class RMSELoss(nn.Module):\\n    \\\"\\\"\\\"Measures root mean square error.\\\"\\\"\\\"\\n\\n    def __init__(self):\\n        super(RMSELoss, self).__init__()\\n        self.mse = nn.MSELoss()\\n\\n    def forward(self, pred, true):\\n        return torch.sqrt(self.mse(pred, true))\";\n",
       "                var nbb_cells = Jupyter.notebook.get_cells();\n",
       "                for (var i = 0; i < nbb_cells.length; ++i) {\n",
       "                    if (nbb_cells[i].input_prompt_number == nbb_cell_id) {\n",
       "                        if (nbb_cells[i].get_text() == nbb_unformatted_code) {\n",
       "                             nbb_cells[i].set_text(nbb_formatted_code);\n",
       "                        }\n",
       "                        break;\n",
       "                    }\n",
       "                }\n",
       "            }, 500);\n",
       "            "
      ],
      "text/plain": [
       "<IPython.core.display.Javascript object>"
      ]
     },
     "metadata": {},
     "output_type": "display_data"
    }
   ],
   "source": [
    "class RMSELoss(nn.Module):\n",
    "    \"\"\"Measures root mean square error.\"\"\"\n",
    "\n",
    "    def __init__(self):\n",
    "        super(RMSELoss, self).__init__()\n",
    "        self.mse = nn.MSELoss()\n",
    "\n",
    "    def forward(self, pred, true):\n",
    "        return torch.sqrt(self.mse(pred, true))"
   ]
  },
  {
   "cell_type": "code",
   "execution_count": 38,
   "metadata": {},
   "outputs": [
    {
     "data": {
      "application/javascript": [
       "\n",
       "            setTimeout(function() {\n",
       "                var nbb_cell_id = 38;\n",
       "                var nbb_unformatted_code = \"import warnings\\n\\nimport pytorch_lightning as pl\\nfrom torch.utils.data import DataLoader\\nimport torchvision.models as models\\nfrom tqdm import tqdm\\n\\nwarnings.filterwarnings(\\\"ignore\\\")\";\n",
       "                var nbb_formatted_code = \"import warnings\\n\\nimport pytorch_lightning as pl\\nfrom torch.utils.data import DataLoader\\nimport torchvision.models as models\\nfrom tqdm import tqdm\\n\\nwarnings.filterwarnings(\\\"ignore\\\")\";\n",
       "                var nbb_cells = Jupyter.notebook.get_cells();\n",
       "                for (var i = 0; i < nbb_cells.length; ++i) {\n",
       "                    if (nbb_cells[i].input_prompt_number == nbb_cell_id) {\n",
       "                        if (nbb_cells[i].get_text() == nbb_unformatted_code) {\n",
       "                             nbb_cells[i].set_text(nbb_formatted_code);\n",
       "                        }\n",
       "                        break;\n",
       "                    }\n",
       "                }\n",
       "            }, 500);\n",
       "            "
      ],
      "text/plain": [
       "<IPython.core.display.Javascript object>"
      ]
     },
     "metadata": {},
     "output_type": "display_data"
    }
   ],
   "source": [
    "import warnings\n",
    "\n",
    "import pytorch_lightning as pl\n",
    "from torch.utils.data import DataLoader\n",
    "import torchvision.models as models\n",
    "from tqdm import tqdm\n",
    "\n",
    "warnings.filterwarnings(\"ignore\")"
   ]
  },
  {
   "cell_type": "code",
   "execution_count": 109,
   "metadata": {},
   "outputs": [
    {
     "data": {
      "application/javascript": [
       "\n",
       "            setTimeout(function() {\n",
       "                var nbb_cell_id = 109;\n",
       "                var nbb_unformatted_code = \"class PretrainedWindModel(pl.LightningModule):\\n    def __init__(self, hparams):\\n        super(PretrainedWindModel, self).__init__()\\n        self.hparams = hparams\\n        self.learning_rate = self.hparams.get(\\\"lr\\\", 2e-4)\\n        self.hidden_size = self.hparams.get(\\\"embedding_dim\\\", 50)\\n        self.dropout = self.hparams.get(\\\"dropout\\\", 0.1)\\n        self.max_epochs = self.hparams.get(\\\"max_epochs\\\", 1)\\n        self.num_workers = self.hparams.get(\\\"num_workers\\\", 0)\\n        self.batch_size = self.hparams.get(\\\"batch_size\\\", 10)\\n        self.x_train = self.hparams.get(\\\"x_train\\\")\\n        self.y_train = self.hparams.get(\\\"y_train\\\")\\n        self.x_val = self.hparams.get(\\\"x_val\\\")\\n        self.y_val = self.hparams.get(\\\"y_val\\\")\\n        self.num_outputs = 1  # One prediction for regression\\n\\n        # Where final model will be saved\\n        self.output_path = Path.cwd() / self.hparams.get(\\\"output_path\\\", \\\"model-outputs\\\")\\n        self.output_path.mkdir(exist_ok=True)\\n\\n        # Where TensorBoard logs will be saved\\n        self.log_path = Path.cwd() / self.hparams.get(\\\"log_path\\\", \\\"logs\\\")\\n        self.log_path.mkdir(exist_ok=True)\\n        self.logger = pl.loggers.TensorBoardLogger(\\n            self.log_path, name=\\\"benchmark_model\\\"\\n        )\\n\\n        # Instantiate training and validation datasets\\n        self.train_dataset = DatasetWIND(self.x_train, self.y_train)\\n        self.val_dataset = DatasetWIND(self.x_val, self.y_val)\\n        self.model = self.prepare_model()\\n\\n    def prepare_model(self):\\n        res_model = models.resnet152(pretrained=True)\\n        # Input size of 2048 for resnet152\\n        # https://pytorch.org/hub/pytorch_vision_resnet/\\n        res_model.fc = nn.Sequential(\\n            nn.Linear(2048, self.hidden_size),\\n            nn.ReLU(inplace=True),\\n            nn.Dropout(self.dropout),\\n            nn.Linear(self.hidden_size, self.num_outputs),\\n        )\\n        \\n        return res_model\\n\\n    def forward(self, image):\\n        return self.model(image)\\n\\n    def training_step(self, batch, batch_idx):\\n        x = batch[\\\"image\\\"]\\n        y = batch[\\\"label\\\"]\\n        criterion = RMSELoss()\\n        # Switch to training mode\\n        loss = criterion(\\n            self.model.train().forward(x).squeeze(), y.type(torch.FloatTensor).cuda()\\n        )\\n        tensorboard_logs = {\\\"train_loss\\\": loss}\\n        return {\\\"loss\\\": loss, \\\"log\\\": tensorboard_logs}\\n\\n    def validation_step(self, batch, batch_idx):\\n        x = batch[\\\"image\\\"]\\n        y = batch[\\\"label\\\"]\\n        criterion = RMSELoss()\\n        # Switch to evaluation mode\\n        loss = criterion(\\n            self.model.eval().forward(x).squeeze(), y.type(torch.FloatTensor).cuda()\\n        )\\n        tensorboard_logs = {\\\"val_loss\\\": loss}\\n        return {\\\"batch_val_loss\\\": loss, \\\"log\\\": tensorboard_logs}\\n\\n    def train_dataloader(self):\\n        return DataLoader(\\n            self.train_dataset, num_workers=self.num_workers, batch_size=self.batch_size\\n        )\\n\\n    def val_dataloader(self):\\n        return DataLoader(\\n            self.val_dataset, num_workers=self.num_workers, batch_size=self.batch_size\\n        )\\n\\n    def configure_optimizers(self):\\n        return torch.optim.AdamW(self.model.parameters(), lr=self.learning_rate)\\n\\n    def training_epoch_end(self, outputs):\\n        avg_train_loss = torch.stack(tuple(output[\\\"loss\\\"] for output in outputs)).mean()\\n        return {\\n            \\\"avg_epoch_train_loss\\\": avg_train_loss,\\n            \\\"progress_bar\\\": {\\\"avg_epoch_train_loss\\\": avg_train_loss},\\n            \\\"log\\\": {\\\"avg_epoch_train_loss\\\": avg_train_loss},\\n        }\\n\\n    def validation_epoch_end(self, outputs):\\n        avg_val_loss = torch.stack(\\n            tuple(output[\\\"batch_val_loss\\\"] for output in outputs)\\n        ).mean()\\n        return {\\n            \\\"avg_epoch_val_loss\\\": avg_val_loss,\\n            \\\"progress_bar\\\": {\\\"avg_epoch_val_loss\\\": avg_val_loss},\\n            \\\"log\\\": {\\\"avg_epoch_val_loss\\\": avg_val_loss},\\n        }\\n\\n    ## Convenience Methods ##\\n\\n    def fit(self):\\n        self.trainer = pl.Trainer(\\n            max_epochs=self.max_epochs,\\n            default_root_dir=self.output_path,\\n            logger=self.logger,\\n            checkpoint_callback=pl.callbacks.ModelCheckpoint(\\n                filepath=self.output_path,\\n                monitor=\\\"avg_epoch_val_loss\\\",\\n                mode=\\\"min\\\",\\n                verbose=True,\\n                \\n            ),\\n            gradient_clip_val=self.hparams.get(\\\"gradient_clip_val\\\", 1),\\n            num_sanity_val_steps=self.hparams.get(\\\"val_sanity_checks\\\", 0),\\n            gpus=1,\\n        )\\n        self.trainer.fit(self)\\n\\n    @torch.no_grad()\\n    def make_submission_frame(self, x_test):\\n        test_dataset = DatasetWIND(x_test)\\n        test_dataloader = DataLoader(\\n            test_dataset, num_workers=self.num_workers, batch_size=self.batch_size\\n        )\\n        submission_frame = pd.DataFrame(index=x_test.image_id, columns=[\\\"wind_speed\\\"])\\n        for batch in tqdm(test_dataloader, total=len(test_dataloader)):\\n            x = batch[\\\"image\\\"]\\n            preds = self.eval().forward(x)\\n            submission_frame.loc[batch[\\\"image_id\\\"], \\\"wind_speed\\\"] = (\\n                preds.detach().numpy().squeeze()\\n            )\\n        submission_frame.wind_speed = submission_frame.wind_speed.astype(float)\\n        return submission_frame\\n    \\n    def make_temporal_frame(self, x):\\n        test_dataset = DatasetWIND(x)\\n        test_dataloader = DataLoader(\\n            test_dataset, num_workers=self.num_workers, batch_size=self.batch_size\\n        )\\n        temporal_frame = pd.DataFrame(index=x.image_id, columns=[\\\"wind_speed\\\"])\\n        for batch in tqdm(test_dataloader, total=len(test_dataloader)):\\n            i = batch[\\\"image\\\"]\\n            preds = self.eval().forward(i)\\n            \\n            temporal_frame.loc[batch[\\\"image_id\\\"], \\\"wind_speed\\\"] = (\\n                preds.detach().numpy().squeeze()\\n            )\\n            \\n            \\n        temporal_frame.wind_speed = temporal_frame.wind_speed.astype(float)\\n        return temporal_frame\";\n",
       "                var nbb_formatted_code = \"class PretrainedWindModel(pl.LightningModule):\\n    def __init__(self, hparams):\\n        super(PretrainedWindModel, self).__init__()\\n        self.hparams = hparams\\n        self.learning_rate = self.hparams.get(\\\"lr\\\", 2e-4)\\n        self.hidden_size = self.hparams.get(\\\"embedding_dim\\\", 50)\\n        self.dropout = self.hparams.get(\\\"dropout\\\", 0.1)\\n        self.max_epochs = self.hparams.get(\\\"max_epochs\\\", 1)\\n        self.num_workers = self.hparams.get(\\\"num_workers\\\", 0)\\n        self.batch_size = self.hparams.get(\\\"batch_size\\\", 10)\\n        self.x_train = self.hparams.get(\\\"x_train\\\")\\n        self.y_train = self.hparams.get(\\\"y_train\\\")\\n        self.x_val = self.hparams.get(\\\"x_val\\\")\\n        self.y_val = self.hparams.get(\\\"y_val\\\")\\n        self.num_outputs = 1  # One prediction for regression\\n\\n        # Where final model will be saved\\n        self.output_path = Path.cwd() / self.hparams.get(\\\"output_path\\\", \\\"model-outputs\\\")\\n        self.output_path.mkdir(exist_ok=True)\\n\\n        # Where TensorBoard logs will be saved\\n        self.log_path = Path.cwd() / self.hparams.get(\\\"log_path\\\", \\\"logs\\\")\\n        self.log_path.mkdir(exist_ok=True)\\n        self.logger = pl.loggers.TensorBoardLogger(\\n            self.log_path, name=\\\"benchmark_model\\\"\\n        )\\n\\n        # Instantiate training and validation datasets\\n        self.train_dataset = DatasetWIND(self.x_train, self.y_train)\\n        self.val_dataset = DatasetWIND(self.x_val, self.y_val)\\n        self.model = self.prepare_model()\\n\\n    def prepare_model(self):\\n        res_model = models.resnet152(pretrained=True)\\n        # Input size of 2048 for resnet152\\n        # https://pytorch.org/hub/pytorch_vision_resnet/\\n        res_model.fc = nn.Sequential(\\n            nn.Linear(2048, self.hidden_size),\\n            nn.ReLU(inplace=True),\\n            nn.Dropout(self.dropout),\\n            nn.Linear(self.hidden_size, self.num_outputs),\\n        )\\n\\n        return res_model\\n\\n    def forward(self, image):\\n        return self.model(image)\\n\\n    def training_step(self, batch, batch_idx):\\n        x = batch[\\\"image\\\"]\\n        y = batch[\\\"label\\\"]\\n        criterion = RMSELoss()\\n        # Switch to training mode\\n        loss = criterion(\\n            self.model.train().forward(x).squeeze(), y.type(torch.FloatTensor).cuda()\\n        )\\n        tensorboard_logs = {\\\"train_loss\\\": loss}\\n        return {\\\"loss\\\": loss, \\\"log\\\": tensorboard_logs}\\n\\n    def validation_step(self, batch, batch_idx):\\n        x = batch[\\\"image\\\"]\\n        y = batch[\\\"label\\\"]\\n        criterion = RMSELoss()\\n        # Switch to evaluation mode\\n        loss = criterion(\\n            self.model.eval().forward(x).squeeze(), y.type(torch.FloatTensor).cuda()\\n        )\\n        tensorboard_logs = {\\\"val_loss\\\": loss}\\n        return {\\\"batch_val_loss\\\": loss, \\\"log\\\": tensorboard_logs}\\n\\n    def train_dataloader(self):\\n        return DataLoader(\\n            self.train_dataset, num_workers=self.num_workers, batch_size=self.batch_size\\n        )\\n\\n    def val_dataloader(self):\\n        return DataLoader(\\n            self.val_dataset, num_workers=self.num_workers, batch_size=self.batch_size\\n        )\\n\\n    def configure_optimizers(self):\\n        return torch.optim.AdamW(self.model.parameters(), lr=self.learning_rate)\\n\\n    def training_epoch_end(self, outputs):\\n        avg_train_loss = torch.stack(tuple(output[\\\"loss\\\"] for output in outputs)).mean()\\n        return {\\n            \\\"avg_epoch_train_loss\\\": avg_train_loss,\\n            \\\"progress_bar\\\": {\\\"avg_epoch_train_loss\\\": avg_train_loss},\\n            \\\"log\\\": {\\\"avg_epoch_train_loss\\\": avg_train_loss},\\n        }\\n\\n    def validation_epoch_end(self, outputs):\\n        avg_val_loss = torch.stack(\\n            tuple(output[\\\"batch_val_loss\\\"] for output in outputs)\\n        ).mean()\\n        return {\\n            \\\"avg_epoch_val_loss\\\": avg_val_loss,\\n            \\\"progress_bar\\\": {\\\"avg_epoch_val_loss\\\": avg_val_loss},\\n            \\\"log\\\": {\\\"avg_epoch_val_loss\\\": avg_val_loss},\\n        }\\n\\n    ## Convenience Methods ##\\n\\n    def fit(self):\\n        self.trainer = pl.Trainer(\\n            max_epochs=self.max_epochs,\\n            default_root_dir=self.output_path,\\n            logger=self.logger,\\n            checkpoint_callback=pl.callbacks.ModelCheckpoint(\\n                filepath=self.output_path,\\n                monitor=\\\"avg_epoch_val_loss\\\",\\n                mode=\\\"min\\\",\\n                verbose=True,\\n            ),\\n            gradient_clip_val=self.hparams.get(\\\"gradient_clip_val\\\", 1),\\n            num_sanity_val_steps=self.hparams.get(\\\"val_sanity_checks\\\", 0),\\n            gpus=1,\\n        )\\n        self.trainer.fit(self)\\n\\n    @torch.no_grad()\\n    def make_submission_frame(self, x_test):\\n        test_dataset = DatasetWIND(x_test)\\n        test_dataloader = DataLoader(\\n            test_dataset, num_workers=self.num_workers, batch_size=self.batch_size\\n        )\\n        submission_frame = pd.DataFrame(index=x_test.image_id, columns=[\\\"wind_speed\\\"])\\n        for batch in tqdm(test_dataloader, total=len(test_dataloader)):\\n            x = batch[\\\"image\\\"]\\n            preds = self.eval().forward(x)\\n            submission_frame.loc[batch[\\\"image_id\\\"], \\\"wind_speed\\\"] = (\\n                preds.detach().numpy().squeeze()\\n            )\\n        submission_frame.wind_speed = submission_frame.wind_speed.astype(float)\\n        return submission_frame\\n\\n    def make_temporal_frame(self, x):\\n        test_dataset = DatasetWIND(x)\\n        test_dataloader = DataLoader(\\n            test_dataset, num_workers=self.num_workers, batch_size=self.batch_size\\n        )\\n        temporal_frame = pd.DataFrame(index=x.image_id, columns=[\\\"wind_speed\\\"])\\n        for batch in tqdm(test_dataloader, total=len(test_dataloader)):\\n            i = batch[\\\"image\\\"]\\n            preds = self.eval().forward(i)\\n\\n            temporal_frame.loc[batch[\\\"image_id\\\"], \\\"wind_speed\\\"] = (\\n                preds.detach().numpy().squeeze()\\n            )\\n\\n        temporal_frame.wind_speed = temporal_frame.wind_speed.astype(float)\\n        return temporal_frame\";\n",
       "                var nbb_cells = Jupyter.notebook.get_cells();\n",
       "                for (var i = 0; i < nbb_cells.length; ++i) {\n",
       "                    if (nbb_cells[i].input_prompt_number == nbb_cell_id) {\n",
       "                        if (nbb_cells[i].get_text() == nbb_unformatted_code) {\n",
       "                             nbb_cells[i].set_text(nbb_formatted_code);\n",
       "                        }\n",
       "                        break;\n",
       "                    }\n",
       "                }\n",
       "            }, 500);\n",
       "            "
      ],
      "text/plain": [
       "<IPython.core.display.Javascript object>"
      ]
     },
     "metadata": {},
     "output_type": "display_data"
    }
   ],
   "source": [
    "class PretrainedWindModel(pl.LightningModule):\n",
    "    def __init__(self, hparams):\n",
    "        super(PretrainedWindModel, self).__init__()\n",
    "        self.hparams = hparams\n",
    "        self.learning_rate = self.hparams.get(\"lr\", 2e-4)\n",
    "        self.hidden_size = self.hparams.get(\"embedding_dim\", 50)\n",
    "        self.dropout = self.hparams.get(\"dropout\", 0.1)\n",
    "        self.max_epochs = self.hparams.get(\"max_epochs\", 1)\n",
    "        self.num_workers = self.hparams.get(\"num_workers\", 0)\n",
    "        self.batch_size = self.hparams.get(\"batch_size\", 10)\n",
    "        self.x_train = self.hparams.get(\"x_train\")\n",
    "        self.y_train = self.hparams.get(\"y_train\")\n",
    "        self.x_val = self.hparams.get(\"x_val\")\n",
    "        self.y_val = self.hparams.get(\"y_val\")\n",
    "        self.num_outputs = 1  # One prediction for regression\n",
    "\n",
    "        # Where final model will be saved\n",
    "        self.output_path = Path.cwd() / self.hparams.get(\"output_path\", \"model-outputs\")\n",
    "        self.output_path.mkdir(exist_ok=True)\n",
    "\n",
    "        # Where TensorBoard logs will be saved\n",
    "        self.log_path = Path.cwd() / self.hparams.get(\"log_path\", \"logs\")\n",
    "        self.log_path.mkdir(exist_ok=True)\n",
    "        self.logger = pl.loggers.TensorBoardLogger(\n",
    "            self.log_path, name=\"benchmark_model\"\n",
    "        )\n",
    "\n",
    "        # Instantiate training and validation datasets\n",
    "        self.train_dataset = DatasetWIND(self.x_train, self.y_train)\n",
    "        self.val_dataset = DatasetWIND(self.x_val, self.y_val)\n",
    "        self.model = self.prepare_model()\n",
    "\n",
    "    def prepare_model(self):\n",
    "        res_model = models.resnet152(pretrained=True)\n",
    "        # Input size of 2048 for resnet152\n",
    "        # https://pytorch.org/hub/pytorch_vision_resnet/\n",
    "        res_model.fc = nn.Sequential(\n",
    "            nn.Linear(2048, self.hidden_size),\n",
    "            nn.ReLU(inplace=True),\n",
    "            nn.Dropout(self.dropout),\n",
    "            nn.Linear(self.hidden_size, self.num_outputs),\n",
    "        )\n",
    "        \n",
    "        return res_model\n",
    "\n",
    "    def forward(self, image):\n",
    "        return self.model(image)\n",
    "\n",
    "    def training_step(self, batch, batch_idx):\n",
    "        x = batch[\"image\"]\n",
    "        y = batch[\"label\"]\n",
    "        criterion = RMSELoss()\n",
    "        # Switch to training mode\n",
    "        loss = criterion(\n",
    "            self.model.train().forward(x).squeeze(), y.type(torch.FloatTensor).cuda()\n",
    "        )\n",
    "        tensorboard_logs = {\"train_loss\": loss}\n",
    "        return {\"loss\": loss, \"log\": tensorboard_logs}\n",
    "\n",
    "    def validation_step(self, batch, batch_idx):\n",
    "        x = batch[\"image\"]\n",
    "        y = batch[\"label\"]\n",
    "        criterion = RMSELoss()\n",
    "        # Switch to evaluation mode\n",
    "        loss = criterion(\n",
    "            self.model.eval().forward(x).squeeze(), y.type(torch.FloatTensor).cuda()\n",
    "        )\n",
    "        tensorboard_logs = {\"val_loss\": loss}\n",
    "        return {\"batch_val_loss\": loss, \"log\": tensorboard_logs}\n",
    "\n",
    "    def train_dataloader(self):\n",
    "        return DataLoader(\n",
    "            self.train_dataset, num_workers=self.num_workers, batch_size=self.batch_size\n",
    "        )\n",
    "\n",
    "    def val_dataloader(self):\n",
    "        return DataLoader(\n",
    "            self.val_dataset, num_workers=self.num_workers, batch_size=self.batch_size\n",
    "        )\n",
    "\n",
    "    def configure_optimizers(self):\n",
    "        return torch.optim.AdamW(self.model.parameters(), lr=self.learning_rate)\n",
    "\n",
    "    def training_epoch_end(self, outputs):\n",
    "        avg_train_loss = torch.stack(tuple(output[\"loss\"] for output in outputs)).mean()\n",
    "        return {\n",
    "            \"avg_epoch_train_loss\": avg_train_loss,\n",
    "            \"progress_bar\": {\"avg_epoch_train_loss\": avg_train_loss},\n",
    "            \"log\": {\"avg_epoch_train_loss\": avg_train_loss},\n",
    "        }\n",
    "\n",
    "    def validation_epoch_end(self, outputs):\n",
    "        avg_val_loss = torch.stack(\n",
    "            tuple(output[\"batch_val_loss\"] for output in outputs)\n",
    "        ).mean()\n",
    "        return {\n",
    "            \"avg_epoch_val_loss\": avg_val_loss,\n",
    "            \"progress_bar\": {\"avg_epoch_val_loss\": avg_val_loss},\n",
    "            \"log\": {\"avg_epoch_val_loss\": avg_val_loss},\n",
    "        }\n",
    "\n",
    "    ## Convenience Methods ##\n",
    "\n",
    "    def fit(self):\n",
    "        self.trainer = pl.Trainer(\n",
    "            max_epochs=self.max_epochs,\n",
    "            default_root_dir=self.output_path,\n",
    "            logger=self.logger,\n",
    "            checkpoint_callback=pl.callbacks.ModelCheckpoint(\n",
    "                filepath=self.output_path,\n",
    "                monitor=\"avg_epoch_val_loss\",\n",
    "                mode=\"min\",\n",
    "                verbose=True,\n",
    "                \n",
    "            ),\n",
    "            gradient_clip_val=self.hparams.get(\"gradient_clip_val\", 1),\n",
    "            num_sanity_val_steps=self.hparams.get(\"val_sanity_checks\", 0),\n",
    "            gpus=1,\n",
    "        )\n",
    "        self.trainer.fit(self)\n",
    "\n",
    "    @torch.no_grad()\n",
    "    def make_submission_frame(self, x_test):\n",
    "        test_dataset = DatasetWIND(x_test)\n",
    "        test_dataloader = DataLoader(\n",
    "            test_dataset, num_workers=self.num_workers, batch_size=self.batch_size\n",
    "        )\n",
    "        submission_frame = pd.DataFrame(index=x_test.image_id, columns=[\"wind_speed\"])\n",
    "        for batch in tqdm(test_dataloader, total=len(test_dataloader)):\n",
    "            x = batch[\"image\"]\n",
    "            preds = self.eval().forward(x)\n",
    "            submission_frame.loc[batch[\"image_id\"], \"wind_speed\"] = (\n",
    "                preds.detach().numpy().squeeze()\n",
    "            )\n",
    "        submission_frame.wind_speed = submission_frame.wind_speed.astype(float)\n",
    "        return submission_frame\n",
    "    \n",
    "    def make_temporal_frame(self, x):\n",
    "        test_dataset = DatasetWIND(x)\n",
    "        test_dataloader = DataLoader(\n",
    "            test_dataset, num_workers=self.num_workers, batch_size=self.batch_size\n",
    "        )\n",
    "        temporal_frame = pd.DataFrame(index=x.image_id, columns=[\"wind_speed\"])\n",
    "        for batch in tqdm(test_dataloader, total=len(test_dataloader)):\n",
    "            i = batch[\"image\"]\n",
    "            preds = self.eval().forward(i)\n",
    "            \n",
    "            temporal_frame.loc[batch[\"image_id\"], \"wind_speed\"] = (\n",
    "                preds.detach().numpy().squeeze()\n",
    "            )\n",
    "            \n",
    "            \n",
    "        temporal_frame.wind_speed = temporal_frame.wind_speed.astype(float)\n",
    "        return temporal_frame"
   ]
  },
  {
   "cell_type": "code",
   "execution_count": 40,
   "metadata": {},
   "outputs": [
    {
     "data": {
      "application/javascript": [
       "\n",
       "            setTimeout(function() {\n",
       "                var nbb_cell_id = 40;\n",
       "                var nbb_unformatted_code = \"hparams = {\\n    # Required hparams\\n    \\\"x_train\\\": x_train,\\n    \\\"y_train\\\": y_train,\\n    \\\"x_val\\\": x_val,\\n    \\\"y_val\\\": y_val,\\n    # Optional hparams\\n    \\\"lr\\\": 2e-4,\\n    \\\"embedding_dim\\\": 100,\\n    \\\"dropout\\\": 0.1,\\n    \\\"max_epochs\\\": 4,\\n    \\\"batch_size\\\": 10,\\n    \\\"num_workers\\\": 0,\\n    \\\"gradient_clip_val\\\": 1,\\n    \\\"val_sanity_checks\\\": 0,\\n    \\\"output_path\\\": \\\"model-outputs\\\",\\n    \\\"log_path\\\": \\\"logs\\\",\\n}\";\n",
       "                var nbb_formatted_code = \"hparams = {\\n    # Required hparams\\n    \\\"x_train\\\": x_train,\\n    \\\"y_train\\\": y_train,\\n    \\\"x_val\\\": x_val,\\n    \\\"y_val\\\": y_val,\\n    # Optional hparams\\n    \\\"lr\\\": 2e-4,\\n    \\\"embedding_dim\\\": 100,\\n    \\\"dropout\\\": 0.1,\\n    \\\"max_epochs\\\": 4,\\n    \\\"batch_size\\\": 10,\\n    \\\"num_workers\\\": 0,\\n    \\\"gradient_clip_val\\\": 1,\\n    \\\"val_sanity_checks\\\": 0,\\n    \\\"output_path\\\": \\\"model-outputs\\\",\\n    \\\"log_path\\\": \\\"logs\\\",\\n}\";\n",
       "                var nbb_cells = Jupyter.notebook.get_cells();\n",
       "                for (var i = 0; i < nbb_cells.length; ++i) {\n",
       "                    if (nbb_cells[i].input_prompt_number == nbb_cell_id) {\n",
       "                        if (nbb_cells[i].get_text() == nbb_unformatted_code) {\n",
       "                             nbb_cells[i].set_text(nbb_formatted_code);\n",
       "                        }\n",
       "                        break;\n",
       "                    }\n",
       "                }\n",
       "            }, 500);\n",
       "            "
      ],
      "text/plain": [
       "<IPython.core.display.Javascript object>"
      ]
     },
     "metadata": {},
     "output_type": "display_data"
    }
   ],
   "source": [
    "hparams = {\n",
    "    # Required hparams\n",
    "    \"x_train\": x_train,\n",
    "    \"y_train\": y_train,\n",
    "    \"x_val\": x_val,\n",
    "    \"y_val\": y_val,\n",
    "    # Optional hparams\n",
    "    \"lr\": 2e-4,\n",
    "    \"embedding_dim\": 100,\n",
    "    \"dropout\": 0.1,\n",
    "    \"max_epochs\": 4,\n",
    "    \"batch_size\": 10,\n",
    "    \"num_workers\": 0,\n",
    "    \"gradient_clip_val\": 1,\n",
    "    \"val_sanity_checks\": 0,\n",
    "    \"output_path\": \"model-outputs\",\n",
    "    \"log_path\": \"logs\",\n",
    "}"
   ]
  },
  {
   "cell_type": "code",
   "execution_count": 240,
   "metadata": {},
   "outputs": [
    {
     "name": "stderr",
     "output_type": "stream",
     "text": [
      "GPU available: True, used: True\n",
      "TPU available: None, using: 0 TPU cores\n",
      "LOCAL_RANK: 0 - CUDA_VISIBLE_DEVICES: [0]\n",
      "\n",
      "  | Name  | Type   | Params\n",
      "---------------------------------\n",
      "0 | model | ResNet | 58.3 M\n",
      "---------------------------------\n",
      "58.3 M    Trainable params\n",
      "0         Non-trainable params\n",
      "58.3 M    Total params\n"
     ]
    },
    {
     "data": {
      "application/vnd.jupyter.widget-view+json": {
       "model_id": "3f3473d242bd4823aaebc303ead491b8",
       "version_major": 2,
       "version_minor": 0
      },
      "text/plain": [
       "HBox(children=(HTML(value='Training'), FloatProgress(value=1.0, bar_style='info', layout=Layout(flex='2'), max…"
      ]
     },
     "metadata": {},
     "output_type": "display_data"
    },
    {
     "data": {
      "application/vnd.jupyter.widget-view+json": {
       "model_id": "d0605376ba7d4733afc23cf7f95e3ae2",
       "version_major": 2,
       "version_minor": 0
      },
      "text/plain": [
       "HBox(children=(HTML(value='Validating'), FloatProgress(value=1.0, bar_style='info', layout=Layout(flex='2'), m…"
      ]
     },
     "metadata": {},
     "output_type": "display_data"
    },
    {
     "name": "stderr",
     "output_type": "stream",
     "text": [
      "Epoch 0, global step 563: avg_epoch_val_loss reached 10.78231 (best 10.78231), saving model to \"C:\\Users\\micha\\data\\model-outputs\\epoch=0-step=563.ckpt\" as top 1\n"
     ]
    },
    {
     "data": {
      "application/vnd.jupyter.widget-view+json": {
       "model_id": "492fd29c80c447129e3dca296fa75a91",
       "version_major": 2,
       "version_minor": 0
      },
      "text/plain": [
       "HBox(children=(HTML(value='Validating'), FloatProgress(value=1.0, bar_style='info', layout=Layout(flex='2'), m…"
      ]
     },
     "metadata": {},
     "output_type": "display_data"
    },
    {
     "name": "stderr",
     "output_type": "stream",
     "text": [
      "Epoch 1, step 1127: avg_epoch_val_loss was not in top 1\n"
     ]
    },
    {
     "data": {
      "application/vnd.jupyter.widget-view+json": {
       "model_id": "67723a2bed254605b3d1a5c4b1e40d8f",
       "version_major": 2,
       "version_minor": 0
      },
      "text/plain": [
       "HBox(children=(HTML(value='Validating'), FloatProgress(value=1.0, bar_style='info', layout=Layout(flex='2'), m…"
      ]
     },
     "metadata": {},
     "output_type": "display_data"
    },
    {
     "name": "stderr",
     "output_type": "stream",
     "text": [
      "Epoch 2, global step 1691: avg_epoch_val_loss reached 10.71586 (best 10.71586), saving model to \"C:\\Users\\micha\\data\\model-outputs\\epoch=2-step=1691.ckpt\" as top 1\n"
     ]
    },
    {
     "data": {
      "application/vnd.jupyter.widget-view+json": {
       "model_id": "d7ed4fac31a743028d5605ef9d262027",
       "version_major": 2,
       "version_minor": 0
      },
      "text/plain": [
       "HBox(children=(HTML(value='Validating'), FloatProgress(value=1.0, bar_style='info', layout=Layout(flex='2'), m…"
      ]
     },
     "metadata": {},
     "output_type": "display_data"
    },
    {
     "name": "stderr",
     "output_type": "stream",
     "text": [
      "Epoch 3, step 2255: avg_epoch_val_loss was not in top 1\n"
     ]
    },
    {
     "name": "stdout",
     "output_type": "stream",
     "text": [
      "\n"
     ]
    },
    {
     "data": {
      "application/javascript": [
       "\n",
       "            setTimeout(function() {\n",
       "                var nbb_cell_id = 240;\n",
       "                var nbb_unformatted_code = \"storm_model = PretrainedWindModel(hparams=hparams)\\nstorm_model.fit()\";\n",
       "                var nbb_formatted_code = \"storm_model = PretrainedWindModel(hparams=hparams)\\nstorm_model.fit()\";\n",
       "                var nbb_cells = Jupyter.notebook.get_cells();\n",
       "                for (var i = 0; i < nbb_cells.length; ++i) {\n",
       "                    if (nbb_cells[i].input_prompt_number == nbb_cell_id) {\n",
       "                        if (nbb_cells[i].get_text() == nbb_unformatted_code) {\n",
       "                             nbb_cells[i].set_text(nbb_formatted_code);\n",
       "                        }\n",
       "                        break;\n",
       "                    }\n",
       "                }\n",
       "            }, 500);\n",
       "            "
      ],
      "text/plain": [
       "<IPython.core.display.Javascript object>"
      ]
     },
     "metadata": {},
     "output_type": "display_data"
    }
   ],
   "source": [
    "storm_model = PretrainedWindModel(hparams=hparams)\n",
    "storm_model.fit()"
   ]
  },
  {
   "cell_type": "code",
   "execution_count": 241,
   "metadata": {},
   "outputs": [
    {
     "data": {
      "text/html": [
       "<div>\n",
       "<style scoped>\n",
       "    .dataframe tbody tr th:only-of-type {\n",
       "        vertical-align: middle;\n",
       "    }\n",
       "\n",
       "    .dataframe tbody tr th {\n",
       "        vertical-align: top;\n",
       "    }\n",
       "\n",
       "    .dataframe thead th {\n",
       "        text-align: right;\n",
       "    }\n",
       "</style>\n",
       "<table border=\"1\" class=\"dataframe\">\n",
       "  <thead>\n",
       "    <tr style=\"text-align: right;\">\n",
       "      <th></th>\n",
       "      <th>wind_speed</th>\n",
       "    </tr>\n",
       "    <tr>\n",
       "      <th>image_id</th>\n",
       "      <th></th>\n",
       "    </tr>\n",
       "  </thead>\n",
       "  <tbody>\n",
       "    <tr>\n",
       "      <th>acd_123</th>\n",
       "      <td>0</td>\n",
       "    </tr>\n",
       "    <tr>\n",
       "      <th>acd_124</th>\n",
       "      <td>0</td>\n",
       "    </tr>\n",
       "    <tr>\n",
       "      <th>acd_125</th>\n",
       "      <td>0</td>\n",
       "    </tr>\n",
       "    <tr>\n",
       "      <th>acd_126</th>\n",
       "      <td>0</td>\n",
       "    </tr>\n",
       "    <tr>\n",
       "      <th>acd_127</th>\n",
       "      <td>0</td>\n",
       "    </tr>\n",
       "  </tbody>\n",
       "</table>\n",
       "</div>"
      ],
      "text/plain": [
       "          wind_speed\n",
       "image_id            \n",
       "acd_123            0\n",
       "acd_124            0\n",
       "acd_125            0\n",
       "acd_126            0\n",
       "acd_127            0"
      ]
     },
     "execution_count": 241,
     "metadata": {},
     "output_type": "execute_result"
    },
    {
     "data": {
      "application/javascript": [
       "\n",
       "            setTimeout(function() {\n",
       "                var nbb_cell_id = 241;\n",
       "                var nbb_unformatted_code = \"\\nsubmission_format = pd.read_csv(\\n    DATA_PATH / \\\"submission_format.csv\\\", index_col=\\\"image_id\\\"\\n)\\nsubmission_format.head()\";\n",
       "                var nbb_formatted_code = \"submission_format = pd.read_csv(\\n    DATA_PATH / \\\"submission_format.csv\\\", index_col=\\\"image_id\\\"\\n)\\nsubmission_format.head()\";\n",
       "                var nbb_cells = Jupyter.notebook.get_cells();\n",
       "                for (var i = 0; i < nbb_cells.length; ++i) {\n",
       "                    if (nbb_cells[i].input_prompt_number == nbb_cell_id) {\n",
       "                        if (nbb_cells[i].get_text() == nbb_unformatted_code) {\n",
       "                             nbb_cells[i].set_text(nbb_formatted_code);\n",
       "                        }\n",
       "                        break;\n",
       "                    }\n",
       "                }\n",
       "            }, 500);\n",
       "            "
      ],
      "text/plain": [
       "<IPython.core.display.Javascript object>"
      ]
     },
     "metadata": {},
     "output_type": "display_data"
    }
   ],
   "source": [
    "\n",
    "submission_format = pd.read_csv(\n",
    "    DATA_PATH / \"submission_format.csv\", index_col=\"image_id\"\n",
    ")\n",
    "submission_format.head()"
   ]
  },
  {
   "cell_type": "code",
   "execution_count": 80,
   "metadata": {},
   "outputs": [
    {
     "data": {
      "application/javascript": [
       "\n",
       "            setTimeout(function() {\n",
       "                var nbb_cell_id = 80;\n",
       "                var nbb_unformatted_code = \"# Best checkpoint based on logs\\nbest_checkpoint = str(Path(\\\"model-outputs\\\") / \\\"epoch=3-step=2255.ckpt\\\")\\nexample_model = PretrainedWindModel.load_from_checkpoint(best_checkpoint)\";\n",
       "                var nbb_formatted_code = \"# Best checkpoint based on logs\\nbest_checkpoint = str(Path(\\\"model-outputs\\\") / \\\"epoch=3-step=2255.ckpt\\\")\\nexample_model = PretrainedWindModel.load_from_checkpoint(best_checkpoint)\";\n",
       "                var nbb_cells = Jupyter.notebook.get_cells();\n",
       "                for (var i = 0; i < nbb_cells.length; ++i) {\n",
       "                    if (nbb_cells[i].input_prompt_number == nbb_cell_id) {\n",
       "                        if (nbb_cells[i].get_text() == nbb_unformatted_code) {\n",
       "                             nbb_cells[i].set_text(nbb_formatted_code);\n",
       "                        }\n",
       "                        break;\n",
       "                    }\n",
       "                }\n",
       "            }, 500);\n",
       "            "
      ],
      "text/plain": [
       "<IPython.core.display.Javascript object>"
      ]
     },
     "metadata": {},
     "output_type": "display_data"
    }
   ],
   "source": [
    "# Best checkpoint based on logs\n",
    "best_checkpoint = str(Path(\"model-outputs\") / \"epoch=3-step=2255.ckpt\")\n",
    "example_model = PretrainedWindModel.load_from_checkpoint(best_checkpoint)"
   ]
  },
  {
   "cell_type": "code",
   "execution_count": 81,
   "metadata": {},
   "outputs": [
    {
     "data": {
      "application/javascript": [
       "\n",
       "            setTimeout(function() {\n",
       "                var nbb_cell_id = 81;\n",
       "                var nbb_unformatted_code = \"\\ntest_metadata = pd.read_csv(DATA_PATH / \\\"test_set_features.csv\\\")\\ntest_metadata[\\\"file_name\\\"] = (\\n    DATA_PATH / \\\"test\\\" / test_metadata.image_id.path.with_suffix(\\\".jpg\\\")\\n)\";\n",
       "                var nbb_formatted_code = \"test_metadata = pd.read_csv(DATA_PATH / \\\"test_set_features.csv\\\")\\ntest_metadata[\\\"file_name\\\"] = (\\n    DATA_PATH / \\\"test\\\" / test_metadata.image_id.path.with_suffix(\\\".jpg\\\")\\n)\";\n",
       "                var nbb_cells = Jupyter.notebook.get_cells();\n",
       "                for (var i = 0; i < nbb_cells.length; ++i) {\n",
       "                    if (nbb_cells[i].input_prompt_number == nbb_cell_id) {\n",
       "                        if (nbb_cells[i].get_text() == nbb_unformatted_code) {\n",
       "                             nbb_cells[i].set_text(nbb_formatted_code);\n",
       "                        }\n",
       "                        break;\n",
       "                    }\n",
       "                }\n",
       "            }, 500);\n",
       "            "
      ],
      "text/plain": [
       "<IPython.core.display.Javascript object>"
      ]
     },
     "metadata": {},
     "output_type": "display_data"
    }
   ],
   "source": [
    "\n",
    "test_metadata = pd.read_csv(DATA_PATH / \"test_set_features.csv\")\n",
    "test_metadata[\"file_name\"] = (\n",
    "    DATA_PATH / \"test\" / test_metadata.image_id.path.with_suffix(\".jpg\")\n",
    ")"
   ]
  },
  {
   "cell_type": "code",
   "execution_count": 246,
   "metadata": {},
   "outputs": [
    {
     "name": "stderr",
     "output_type": "stream",
     "text": [
      "100%|████████████████████████████████████████████████████████████████████████████| 4438/4438 [1:10:01<00:00,  1.06it/s]\n"
     ]
    },
    {
     "data": {
      "application/javascript": [
       "\n",
       "            setTimeout(function() {\n",
       "                var nbb_cell_id = 246;\n",
       "                var nbb_unformatted_code = \"submission = example_model.make_submission_frame(test_metadata)\";\n",
       "                var nbb_formatted_code = \"submission = example_model.make_submission_frame(test_metadata)\";\n",
       "                var nbb_cells = Jupyter.notebook.get_cells();\n",
       "                for (var i = 0; i < nbb_cells.length; ++i) {\n",
       "                    if (nbb_cells[i].input_prompt_number == nbb_cell_id) {\n",
       "                        if (nbb_cells[i].get_text() == nbb_unformatted_code) {\n",
       "                             nbb_cells[i].set_text(nbb_formatted_code);\n",
       "                        }\n",
       "                        break;\n",
       "                    }\n",
       "                }\n",
       "            }, 500);\n",
       "            "
      ],
      "text/plain": [
       "<IPython.core.display.Javascript object>"
      ]
     },
     "metadata": {},
     "output_type": "display_data"
    }
   ],
   "source": [
    "submission = example_model.make_submission_frame(test_metadata)"
   ]
  },
  {
   "cell_type": "code",
   "execution_count": 247,
   "metadata": {},
   "outputs": [
    {
     "data": {
      "application/javascript": [
       "\n",
       "            setTimeout(function() {\n",
       "                var nbb_cell_id = 247;\n",
       "                var nbb_unformatted_code = \"# Ensure submission indices match submission format\\nassert submission_format.index.equals(submission.index)\";\n",
       "                var nbb_formatted_code = \"# Ensure submission indices match submission format\\nassert submission_format.index.equals(submission.index)\";\n",
       "                var nbb_cells = Jupyter.notebook.get_cells();\n",
       "                for (var i = 0; i < nbb_cells.length; ++i) {\n",
       "                    if (nbb_cells[i].input_prompt_number == nbb_cell_id) {\n",
       "                        if (nbb_cells[i].get_text() == nbb_unformatted_code) {\n",
       "                             nbb_cells[i].set_text(nbb_formatted_code);\n",
       "                        }\n",
       "                        break;\n",
       "                    }\n",
       "                }\n",
       "            }, 500);\n",
       "            "
      ],
      "text/plain": [
       "<IPython.core.display.Javascript object>"
      ]
     },
     "metadata": {},
     "output_type": "display_data"
    }
   ],
   "source": [
    "# Ensure submission indices match submission format\n",
    "assert submission_format.index.equals(submission.index)"
   ]
  },
  {
   "cell_type": "code",
   "execution_count": 248,
   "metadata": {},
   "outputs": [
    {
     "data": {
      "text/html": [
       "<div>\n",
       "<style scoped>\n",
       "    .dataframe tbody tr th:only-of-type {\n",
       "        vertical-align: middle;\n",
       "    }\n",
       "\n",
       "    .dataframe tbody tr th {\n",
       "        vertical-align: top;\n",
       "    }\n",
       "\n",
       "    .dataframe thead th {\n",
       "        text-align: right;\n",
       "    }\n",
       "</style>\n",
       "<table border=\"1\" class=\"dataframe\">\n",
       "  <thead>\n",
       "    <tr style=\"text-align: right;\">\n",
       "      <th></th>\n",
       "      <th>wind_speed</th>\n",
       "    </tr>\n",
       "    <tr>\n",
       "      <th>image_id</th>\n",
       "      <th></th>\n",
       "    </tr>\n",
       "  </thead>\n",
       "  <tbody>\n",
       "    <tr>\n",
       "      <th>acd_123</th>\n",
       "      <td>24.006521</td>\n",
       "    </tr>\n",
       "    <tr>\n",
       "      <th>acd_124</th>\n",
       "      <td>23.980791</td>\n",
       "    </tr>\n",
       "    <tr>\n",
       "      <th>acd_125</th>\n",
       "      <td>23.636789</td>\n",
       "    </tr>\n",
       "    <tr>\n",
       "      <th>acd_126</th>\n",
       "      <td>24.723600</td>\n",
       "    </tr>\n",
       "    <tr>\n",
       "      <th>acd_127</th>\n",
       "      <td>24.144751</td>\n",
       "    </tr>\n",
       "  </tbody>\n",
       "</table>\n",
       "</div>"
      ],
      "text/plain": [
       "          wind_speed\n",
       "image_id            \n",
       "acd_123    24.006521\n",
       "acd_124    23.980791\n",
       "acd_125    23.636789\n",
       "acd_126    24.723600\n",
       "acd_127    24.144751"
      ]
     },
     "execution_count": 248,
     "metadata": {},
     "output_type": "execute_result"
    },
    {
     "data": {
      "application/javascript": [
       "\n",
       "            setTimeout(function() {\n",
       "                var nbb_cell_id = 248;\n",
       "                var nbb_unformatted_code = \"\\nsubmission.head()\";\n",
       "                var nbb_formatted_code = \"submission.head()\";\n",
       "                var nbb_cells = Jupyter.notebook.get_cells();\n",
       "                for (var i = 0; i < nbb_cells.length; ++i) {\n",
       "                    if (nbb_cells[i].input_prompt_number == nbb_cell_id) {\n",
       "                        if (nbb_cells[i].get_text() == nbb_unformatted_code) {\n",
       "                             nbb_cells[i].set_text(nbb_formatted_code);\n",
       "                        }\n",
       "                        break;\n",
       "                    }\n",
       "                }\n",
       "            }, 500);\n",
       "            "
      ],
      "text/plain": [
       "<IPython.core.display.Javascript object>"
      ]
     },
     "metadata": {},
     "output_type": "display_data"
    }
   ],
   "source": [
    "\n",
    "submission.head()"
   ]
  },
  {
   "cell_type": "code",
   "execution_count": 249,
   "metadata": {},
   "outputs": [
    {
     "data": {
      "text/html": [
       "<div>\n",
       "<style scoped>\n",
       "    .dataframe tbody tr th:only-of-type {\n",
       "        vertical-align: middle;\n",
       "    }\n",
       "\n",
       "    .dataframe tbody tr th {\n",
       "        vertical-align: top;\n",
       "    }\n",
       "\n",
       "    .dataframe thead th {\n",
       "        text-align: right;\n",
       "    }\n",
       "</style>\n",
       "<table border=\"1\" class=\"dataframe\">\n",
       "  <thead>\n",
       "    <tr style=\"text-align: right;\">\n",
       "      <th></th>\n",
       "      <th>wind_speed</th>\n",
       "    </tr>\n",
       "    <tr>\n",
       "      <th>image_id</th>\n",
       "      <th></th>\n",
       "    </tr>\n",
       "  </thead>\n",
       "  <tbody>\n",
       "    <tr>\n",
       "      <th>acd_123</th>\n",
       "      <td>24</td>\n",
       "    </tr>\n",
       "    <tr>\n",
       "      <th>acd_124</th>\n",
       "      <td>24</td>\n",
       "    </tr>\n",
       "    <tr>\n",
       "      <th>acd_125</th>\n",
       "      <td>24</td>\n",
       "    </tr>\n",
       "    <tr>\n",
       "      <th>acd_126</th>\n",
       "      <td>25</td>\n",
       "    </tr>\n",
       "    <tr>\n",
       "      <th>acd_127</th>\n",
       "      <td>24</td>\n",
       "    </tr>\n",
       "  </tbody>\n",
       "</table>\n",
       "</div>"
      ],
      "text/plain": [
       "          wind_speed\n",
       "image_id            \n",
       "acd_123           24\n",
       "acd_124           24\n",
       "acd_125           24\n",
       "acd_126           25\n",
       "acd_127           24"
      ]
     },
     "execution_count": 249,
     "metadata": {},
     "output_type": "execute_result"
    },
    {
     "data": {
      "application/javascript": [
       "\n",
       "            setTimeout(function() {\n",
       "                var nbb_cell_id = 249;\n",
       "                var nbb_unformatted_code = \"submission = submission.round().astype(int)\\nsubmission.head()\";\n",
       "                var nbb_formatted_code = \"submission = submission.round().astype(int)\\nsubmission.head()\";\n",
       "                var nbb_cells = Jupyter.notebook.get_cells();\n",
       "                for (var i = 0; i < nbb_cells.length; ++i) {\n",
       "                    if (nbb_cells[i].input_prompt_number == nbb_cell_id) {\n",
       "                        if (nbb_cells[i].get_text() == nbb_unformatted_code) {\n",
       "                             nbb_cells[i].set_text(nbb_formatted_code);\n",
       "                        }\n",
       "                        break;\n",
       "                    }\n",
       "                }\n",
       "            }, 500);\n",
       "            "
      ],
      "text/plain": [
       "<IPython.core.display.Javascript object>"
      ]
     },
     "metadata": {},
     "output_type": "display_data"
    }
   ],
   "source": [
    "submission = submission.round().astype(int)\n",
    "submission.head()"
   ]
  },
  {
   "cell_type": "code",
   "execution_count": 250,
   "metadata": {},
   "outputs": [
    {
     "data": {
      "text/plain": [
       "count    44377.000000\n",
       "mean        45.638101\n",
       "std         20.524731\n",
       "min         17.000000\n",
       "25%         30.000000\n",
       "50%         39.000000\n",
       "75%         55.000000\n",
       "max        140.000000\n",
       "Name: wind_speed, dtype: float64"
      ]
     },
     "execution_count": 250,
     "metadata": {},
     "output_type": "execute_result"
    },
    {
     "data": {
      "application/javascript": [
       "\n",
       "            setTimeout(function() {\n",
       "                var nbb_cell_id = 250;\n",
       "                var nbb_unformatted_code = \"\\nsubmission.wind_speed.describe()\";\n",
       "                var nbb_formatted_code = \"submission.wind_speed.describe()\";\n",
       "                var nbb_cells = Jupyter.notebook.get_cells();\n",
       "                for (var i = 0; i < nbb_cells.length; ++i) {\n",
       "                    if (nbb_cells[i].input_prompt_number == nbb_cell_id) {\n",
       "                        if (nbb_cells[i].get_text() == nbb_unformatted_code) {\n",
       "                             nbb_cells[i].set_text(nbb_formatted_code);\n",
       "                        }\n",
       "                        break;\n",
       "                    }\n",
       "                }\n",
       "            }, 500);\n",
       "            "
      ],
      "text/plain": [
       "<IPython.core.display.Javascript object>"
      ]
     },
     "metadata": {},
     "output_type": "display_data"
    }
   ],
   "source": [
    "\n",
    "submission.wind_speed.describe()"
   ]
  },
  {
   "cell_type": "code",
   "execution_count": 251,
   "metadata": {},
   "outputs": [
    {
     "data": {
      "application/javascript": [
       "\n",
       "            setTimeout(function() {\n",
       "                var nbb_cell_id = 251;\n",
       "                var nbb_unformatted_code = \"submission.to_csv((DATA_PATH / \\\"submission.csv\\\"), index=True) \";\n",
       "                var nbb_formatted_code = \"submission.to_csv((DATA_PATH / \\\"submission.csv\\\"), index=True)\";\n",
       "                var nbb_cells = Jupyter.notebook.get_cells();\n",
       "                for (var i = 0; i < nbb_cells.length; ++i) {\n",
       "                    if (nbb_cells[i].input_prompt_number == nbb_cell_id) {\n",
       "                        if (nbb_cells[i].get_text() == nbb_unformatted_code) {\n",
       "                             nbb_cells[i].set_text(nbb_formatted_code);\n",
       "                        }\n",
       "                        break;\n",
       "                    }\n",
       "                }\n",
       "            }, 500);\n",
       "            "
      ],
      "text/plain": [
       "<IPython.core.display.Javascript object>"
      ]
     },
     "metadata": {},
     "output_type": "display_data"
    }
   ],
   "source": [
    "submission.to_csv((DATA_PATH / \"submission.csv\"), index=True) "
   ]
  },
  {
   "cell_type": "code",
   "execution_count": 121,
   "metadata": {},
   "outputs": [
    {
     "data": {
      "text/html": [
       "<div>\n",
       "<style scoped>\n",
       "    .dataframe tbody tr th:only-of-type {\n",
       "        vertical-align: middle;\n",
       "    }\n",
       "\n",
       "    .dataframe tbody tr th {\n",
       "        vertical-align: top;\n",
       "    }\n",
       "\n",
       "    .dataframe thead th {\n",
       "        text-align: right;\n",
       "    }\n",
       "</style>\n",
       "<table border=\"1\" class=\"dataframe\">\n",
       "  <thead>\n",
       "    <tr style=\"text-align: right;\">\n",
       "      <th></th>\n",
       "      <th>image_id</th>\n",
       "      <th>storm_id</th>\n",
       "      <th>relative_time</th>\n",
       "      <th>ocean</th>\n",
       "      <th>file_name</th>\n",
       "    </tr>\n",
       "  </thead>\n",
       "  <tbody>\n",
       "    <tr>\n",
       "      <th>0</th>\n",
       "      <td>aek_056</td>\n",
       "      <td>aek</td>\n",
       "      <td>201600</td>\n",
       "      <td>1</td>\n",
       "      <td>C:\\Users\\micha\\data\\final\\public\\mini\\aek_056.jpg</td>\n",
       "    </tr>\n",
       "    <tr>\n",
       "      <th>1</th>\n",
       "      <td>aek_057</td>\n",
       "      <td>aek</td>\n",
       "      <td>205200</td>\n",
       "      <td>1</td>\n",
       "      <td>C:\\Users\\micha\\data\\final\\public\\mini\\aek_057.jpg</td>\n",
       "    </tr>\n",
       "    <tr>\n",
       "      <th>2</th>\n",
       "      <td>aek_058</td>\n",
       "      <td>aek</td>\n",
       "      <td>208800</td>\n",
       "      <td>1</td>\n",
       "      <td>C:\\Users\\micha\\data\\final\\public\\mini\\aek_058.jpg</td>\n",
       "    </tr>\n",
       "    <tr>\n",
       "      <th>3</th>\n",
       "      <td>aek_059</td>\n",
       "      <td>aek</td>\n",
       "      <td>212400</td>\n",
       "      <td>1</td>\n",
       "      <td>C:\\Users\\micha\\data\\final\\public\\mini\\aek_059.jpg</td>\n",
       "    </tr>\n",
       "    <tr>\n",
       "      <th>4</th>\n",
       "      <td>aek_060</td>\n",
       "      <td>aek</td>\n",
       "      <td>216000</td>\n",
       "      <td>1</td>\n",
       "      <td>C:\\Users\\micha\\data\\final\\public\\mini\\aek_060.jpg</td>\n",
       "    </tr>\n",
       "  </tbody>\n",
       "</table>\n",
       "</div>"
      ],
      "text/plain": [
       "  image_id storm_id  relative_time  ocean  \\\n",
       "0  aek_056      aek         201600      1   \n",
       "1  aek_057      aek         205200      1   \n",
       "2  aek_058      aek         208800      1   \n",
       "3  aek_059      aek         212400      1   \n",
       "4  aek_060      aek         216000      1   \n",
       "\n",
       "                                           file_name  \n",
       "0  C:\\Users\\micha\\data\\final\\public\\mini\\aek_056.jpg  \n",
       "1  C:\\Users\\micha\\data\\final\\public\\mini\\aek_057.jpg  \n",
       "2  C:\\Users\\micha\\data\\final\\public\\mini\\aek_058.jpg  \n",
       "3  C:\\Users\\micha\\data\\final\\public\\mini\\aek_059.jpg  \n",
       "4  C:\\Users\\micha\\data\\final\\public\\mini\\aek_060.jpg  "
      ]
     },
     "execution_count": 121,
     "metadata": {},
     "output_type": "execute_result"
    },
    {
     "data": {
      "application/javascript": [
       "\n",
       "            setTimeout(function() {\n",
       "                var nbb_cell_id = 121;\n",
       "                var nbb_unformatted_code = \"mini_metadata = pd.read_csv(DATA_PATH / \\\"mini_set_features.csv\\\")\\nmini_metadata[\\\"file_name\\\"] = (\\n    DATA_PATH / \\\"mini\\\" / mini_metadata.image_id.path.with_suffix(\\\".jpg\\\")\\n)\\nmini_metadata.head()\";\n",
       "                var nbb_formatted_code = \"mini_metadata = pd.read_csv(DATA_PATH / \\\"mini_set_features.csv\\\")\\nmini_metadata[\\\"file_name\\\"] = (\\n    DATA_PATH / \\\"mini\\\" / mini_metadata.image_id.path.with_suffix(\\\".jpg\\\")\\n)\\nmini_metadata.head()\";\n",
       "                var nbb_cells = Jupyter.notebook.get_cells();\n",
       "                for (var i = 0; i < nbb_cells.length; ++i) {\n",
       "                    if (nbb_cells[i].input_prompt_number == nbb_cell_id) {\n",
       "                        if (nbb_cells[i].get_text() == nbb_unformatted_code) {\n",
       "                             nbb_cells[i].set_text(nbb_formatted_code);\n",
       "                        }\n",
       "                        break;\n",
       "                    }\n",
       "                }\n",
       "            }, 500);\n",
       "            "
      ],
      "text/plain": [
       "<IPython.core.display.Javascript object>"
      ]
     },
     "metadata": {},
     "output_type": "display_data"
    }
   ],
   "source": [
    "mini_metadata = pd.read_csv(DATA_PATH / \"mini_set_features.csv\")\n",
    "mini_metadata[\"file_name\"] = (\n",
    "    DATA_PATH / \"mini\" / mini_metadata.image_id.path.with_suffix(\".jpg\")\n",
    ")\n",
    "mini_metadata.head()"
   ]
  },
  {
   "cell_type": "code",
   "execution_count": 122,
   "metadata": {},
   "outputs": [
    {
     "data": {
      "application/javascript": [
       "\n",
       "            setTimeout(function() {\n",
       "                var nbb_cell_id = 122;\n",
       "                var nbb_unformatted_code = \"best_checkpoint = str(Path(\\\"model-outputs\\\") / \\\"epoch=7-step=2255.ckpt\\\")\\nexample_model = PretrainedWindModel.load_from_checkpoint(best_checkpoint)\";\n",
       "                var nbb_formatted_code = \"best_checkpoint = str(Path(\\\"model-outputs\\\") / \\\"epoch=7-step=2255.ckpt\\\")\\nexample_model = PretrainedWindModel.load_from_checkpoint(best_checkpoint)\";\n",
       "                var nbb_cells = Jupyter.notebook.get_cells();\n",
       "                for (var i = 0; i < nbb_cells.length; ++i) {\n",
       "                    if (nbb_cells[i].input_prompt_number == nbb_cell_id) {\n",
       "                        if (nbb_cells[i].get_text() == nbb_unformatted_code) {\n",
       "                             nbb_cells[i].set_text(nbb_formatted_code);\n",
       "                        }\n",
       "                        break;\n",
       "                    }\n",
       "                }\n",
       "            }, 500);\n",
       "            "
      ],
      "text/plain": [
       "<IPython.core.display.Javascript object>"
      ]
     },
     "metadata": {},
     "output_type": "display_data"
    }
   ],
   "source": [
    "best_checkpoint = str(Path(\"model-outputs\") / \"epoch=7-step=2255.ckpt\")\n",
    "example_model = PretrainedWindModel.load_from_checkpoint(best_checkpoint)"
   ]
  },
  {
   "cell_type": "code",
   "execution_count": 236,
   "metadata": {},
   "outputs": [
    {
     "name": "stderr",
     "output_type": "stream",
     "text": [
      "100%|████████████████████████████████████████████████████████████████████████████████████| 4/4 [00:05<00:00,  1.46s/it]\n"
     ]
    },
    {
     "data": {
      "text/html": [
       "<div>\n",
       "<style scoped>\n",
       "    .dataframe tbody tr th:only-of-type {\n",
       "        vertical-align: middle;\n",
       "    }\n",
       "\n",
       "    .dataframe tbody tr th {\n",
       "        vertical-align: top;\n",
       "    }\n",
       "\n",
       "    .dataframe thead th {\n",
       "        text-align: right;\n",
       "    }\n",
       "</style>\n",
       "<table border=\"1\" class=\"dataframe\">\n",
       "  <thead>\n",
       "    <tr style=\"text-align: right;\">\n",
       "      <th></th>\n",
       "      <th>wind_speed</th>\n",
       "      <th>image_id</th>\n",
       "      <th>storm_id</th>\n",
       "      <th>relative_time</th>\n",
       "    </tr>\n",
       "  </thead>\n",
       "  <tbody>\n",
       "    <tr>\n",
       "      <th>0</th>\n",
       "      <td>36.971607</td>\n",
       "      <td>aek_056</td>\n",
       "      <td>aek</td>\n",
       "      <td>201600</td>\n",
       "    </tr>\n",
       "    <tr>\n",
       "      <th>1</th>\n",
       "      <td>33.198254</td>\n",
       "      <td>aek_057</td>\n",
       "      <td>aek</td>\n",
       "      <td>205200</td>\n",
       "    </tr>\n",
       "    <tr>\n",
       "      <th>2</th>\n",
       "      <td>31.887489</td>\n",
       "      <td>aek_058</td>\n",
       "      <td>aek</td>\n",
       "      <td>208800</td>\n",
       "    </tr>\n",
       "    <tr>\n",
       "      <th>3</th>\n",
       "      <td>35.926136</td>\n",
       "      <td>aek_059</td>\n",
       "      <td>aek</td>\n",
       "      <td>212400</td>\n",
       "    </tr>\n",
       "    <tr>\n",
       "      <th>4</th>\n",
       "      <td>40.490917</td>\n",
       "      <td>aek_060</td>\n",
       "      <td>aek</td>\n",
       "      <td>216000</td>\n",
       "    </tr>\n",
       "  </tbody>\n",
       "</table>\n",
       "</div>"
      ],
      "text/plain": [
       "   wind_speed image_id storm_id  relative_time\n",
       "0   36.971607  aek_056      aek         201600\n",
       "1   33.198254  aek_057      aek         205200\n",
       "2   31.887489  aek_058      aek         208800\n",
       "3   35.926136  aek_059      aek         212400\n",
       "4   40.490917  aek_060      aek         216000"
      ]
     },
     "execution_count": 236,
     "metadata": {},
     "output_type": "execute_result"
    },
    {
     "data": {
      "application/javascript": [
       "\n",
       "            setTimeout(function() {\n",
       "                var nbb_cell_id = 236;\n",
       "                var nbb_unformatted_code = \"temporal = example_model.make_temporal_frame(mini_metadata)\\ntemporal = temporal.merge( mini_metadata, 'left', left_index=True, right_on=\\\"image_id\\\")\\ntemporal = temporal.drop(columns=['ocean', 'file_name'])\\ntemporal.head()\";\n",
       "                var nbb_formatted_code = \"temporal = example_model.make_temporal_frame(mini_metadata)\\ntemporal = temporal.merge(mini_metadata, \\\"left\\\", left_index=True, right_on=\\\"image_id\\\")\\ntemporal = temporal.drop(columns=[\\\"ocean\\\", \\\"file_name\\\"])\\ntemporal.head()\";\n",
       "                var nbb_cells = Jupyter.notebook.get_cells();\n",
       "                for (var i = 0; i < nbb_cells.length; ++i) {\n",
       "                    if (nbb_cells[i].input_prompt_number == nbb_cell_id) {\n",
       "                        if (nbb_cells[i].get_text() == nbb_unformatted_code) {\n",
       "                             nbb_cells[i].set_text(nbb_formatted_code);\n",
       "                        }\n",
       "                        break;\n",
       "                    }\n",
       "                }\n",
       "            }, 500);\n",
       "            "
      ],
      "text/plain": [
       "<IPython.core.display.Javascript object>"
      ]
     },
     "metadata": {},
     "output_type": "display_data"
    }
   ],
   "source": [
    "temporal = example_model.make_temporal_frame(mini_metadata)\n",
    "temporal = temporal.merge( mini_metadata, 'left', left_index=True, right_on=\"image_id\")\n",
    "temporal = temporal.drop(columns=['ocean', 'file_name'])\n",
    "temporal.head()"
   ]
  },
  {
   "cell_type": "code",
   "execution_count": 229,
   "metadata": {},
   "outputs": [
    {
     "data": {
      "text/html": [
       "<div>\n",
       "<style scoped>\n",
       "    .dataframe tbody tr th:only-of-type {\n",
       "        vertical-align: middle;\n",
       "    }\n",
       "\n",
       "    .dataframe tbody tr th {\n",
       "        vertical-align: top;\n",
       "    }\n",
       "\n",
       "    .dataframe thead th {\n",
       "        text-align: right;\n",
       "    }\n",
       "</style>\n",
       "<table border=\"1\" class=\"dataframe\">\n",
       "  <thead>\n",
       "    <tr style=\"text-align: right;\">\n",
       "      <th></th>\n",
       "      <th>wind_speed</th>\n",
       "      <th>storm_id</th>\n",
       "      <th>relative_time</th>\n",
       "    </tr>\n",
       "  </thead>\n",
       "  <tbody>\n",
       "    <tr>\n",
       "      <th>0</th>\n",
       "      <td>NaN</td>\n",
       "      <td>NaN</td>\n",
       "      <td>NaN</td>\n",
       "    </tr>\n",
       "    <tr>\n",
       "      <th>1</th>\n",
       "      <td>36.971607</td>\n",
       "      <td>aek</td>\n",
       "      <td>201600.0</td>\n",
       "    </tr>\n",
       "    <tr>\n",
       "      <th>2</th>\n",
       "      <td>33.198254</td>\n",
       "      <td>aek</td>\n",
       "      <td>205200.0</td>\n",
       "    </tr>\n",
       "    <tr>\n",
       "      <th>3</th>\n",
       "      <td>31.887489</td>\n",
       "      <td>aek</td>\n",
       "      <td>208800.0</td>\n",
       "    </tr>\n",
       "    <tr>\n",
       "      <th>4</th>\n",
       "      <td>35.926136</td>\n",
       "      <td>aek</td>\n",
       "      <td>212400.0</td>\n",
       "    </tr>\n",
       "    <tr>\n",
       "      <th>...</th>\n",
       "      <td>...</td>\n",
       "      <td>...</td>\n",
       "      <td>...</td>\n",
       "    </tr>\n",
       "    <tr>\n",
       "      <th>64</th>\n",
       "      <td>39.835506</td>\n",
       "      <td>agb</td>\n",
       "      <td>23400.0</td>\n",
       "    </tr>\n",
       "    <tr>\n",
       "      <th>65</th>\n",
       "      <td>45.273098</td>\n",
       "      <td>agb</td>\n",
       "      <td>25200.0</td>\n",
       "    </tr>\n",
       "    <tr>\n",
       "      <th>66</th>\n",
       "      <td>45.069939</td>\n",
       "      <td>agb</td>\n",
       "      <td>27000.0</td>\n",
       "    </tr>\n",
       "    <tr>\n",
       "      <th>67</th>\n",
       "      <td>46.025196</td>\n",
       "      <td>agb</td>\n",
       "      <td>28799.0</td>\n",
       "    </tr>\n",
       "    <tr>\n",
       "      <th>68</th>\n",
       "      <td>48.247746</td>\n",
       "      <td>agb</td>\n",
       "      <td>32400.0</td>\n",
       "    </tr>\n",
       "  </tbody>\n",
       "</table>\n",
       "<p>69 rows × 3 columns</p>\n",
       "</div>"
      ],
      "text/plain": [
       "    wind_speed storm_id  relative_time\n",
       "0          NaN      NaN            NaN\n",
       "1    36.971607      aek       201600.0\n",
       "2    33.198254      aek       205200.0\n",
       "3    31.887489      aek       208800.0\n",
       "4    35.926136      aek       212400.0\n",
       "..         ...      ...            ...\n",
       "64   39.835506      agb        23400.0\n",
       "65   45.273098      agb        25200.0\n",
       "66   45.069939      agb        27000.0\n",
       "67   46.025196      agb        28799.0\n",
       "68   48.247746      agb        32400.0\n",
       "\n",
       "[69 rows x 3 columns]"
      ]
     },
     "execution_count": 229,
     "metadata": {},
     "output_type": "execute_result"
    },
    {
     "data": {
      "application/javascript": [
       "\n",
       "            setTimeout(function() {\n",
       "                var nbb_cell_id = 229;\n",
       "                var nbb_unformatted_code = \"temporal_shift= temporal.shift(1)\\ntemporal_shift.drop(columns=['image_id'])\";\n",
       "                var nbb_formatted_code = \"temporal_shift = temporal.shift(1)\\ntemporal_shift.drop(columns=[\\\"image_id\\\"])\";\n",
       "                var nbb_cells = Jupyter.notebook.get_cells();\n",
       "                for (var i = 0; i < nbb_cells.length; ++i) {\n",
       "                    if (nbb_cells[i].input_prompt_number == nbb_cell_id) {\n",
       "                        if (nbb_cells[i].get_text() == nbb_unformatted_code) {\n",
       "                             nbb_cells[i].set_text(nbb_formatted_code);\n",
       "                        }\n",
       "                        break;\n",
       "                    }\n",
       "                }\n",
       "            }, 500);\n",
       "            "
      ],
      "text/plain": [
       "<IPython.core.display.Javascript object>"
      ]
     },
     "metadata": {},
     "output_type": "display_data"
    }
   ],
   "source": [
    "temporal_shift= temporal.shift(1)\n",
    "temporal_shift.drop(columns=['image_id'])"
   ]
  },
  {
   "cell_type": "code",
   "execution_count": 230,
   "metadata": {},
   "outputs": [
    {
     "data": {
      "text/html": [
       "<div>\n",
       "<style scoped>\n",
       "    .dataframe tbody tr th:only-of-type {\n",
       "        vertical-align: middle;\n",
       "    }\n",
       "\n",
       "    .dataframe tbody tr th {\n",
       "        vertical-align: top;\n",
       "    }\n",
       "\n",
       "    .dataframe thead th {\n",
       "        text-align: right;\n",
       "    }\n",
       "</style>\n",
       "<table border=\"1\" class=\"dataframe\">\n",
       "  <thead>\n",
       "    <tr style=\"text-align: right;\">\n",
       "      <th></th>\n",
       "      <th>wind_speed</th>\n",
       "      <th>image_id</th>\n",
       "      <th>storm_id</th>\n",
       "      <th>relative_time</th>\n",
       "      <th>wind_speed2</th>\n",
       "      <th>relative_time2</th>\n",
       "    </tr>\n",
       "  </thead>\n",
       "  <tbody>\n",
       "    <tr>\n",
       "      <th>0</th>\n",
       "      <td>36.971607</td>\n",
       "      <td>aek_056</td>\n",
       "      <td>aek</td>\n",
       "      <td>201600</td>\n",
       "      <td>0.000000</td>\n",
       "      <td>0.0</td>\n",
       "    </tr>\n",
       "    <tr>\n",
       "      <th>1</th>\n",
       "      <td>33.198254</td>\n",
       "      <td>aek_057</td>\n",
       "      <td>aek</td>\n",
       "      <td>205200</td>\n",
       "      <td>36.971607</td>\n",
       "      <td>201600.0</td>\n",
       "    </tr>\n",
       "    <tr>\n",
       "      <th>2</th>\n",
       "      <td>31.887489</td>\n",
       "      <td>aek_058</td>\n",
       "      <td>aek</td>\n",
       "      <td>208800</td>\n",
       "      <td>33.198254</td>\n",
       "      <td>205200.0</td>\n",
       "    </tr>\n",
       "    <tr>\n",
       "      <th>3</th>\n",
       "      <td>35.926136</td>\n",
       "      <td>aek_059</td>\n",
       "      <td>aek</td>\n",
       "      <td>212400</td>\n",
       "      <td>31.887489</td>\n",
       "      <td>208800.0</td>\n",
       "    </tr>\n",
       "    <tr>\n",
       "      <th>4</th>\n",
       "      <td>40.490917</td>\n",
       "      <td>aek_060</td>\n",
       "      <td>aek</td>\n",
       "      <td>216000</td>\n",
       "      <td>35.926136</td>\n",
       "      <td>212400.0</td>\n",
       "    </tr>\n",
       "  </tbody>\n",
       "</table>\n",
       "</div>"
      ],
      "text/plain": [
       "   wind_speed image_id storm_id  relative_time  wind_speed2  relative_time2\n",
       "0   36.971607  aek_056      aek         201600     0.000000             0.0\n",
       "1   33.198254  aek_057      aek         205200    36.971607        201600.0\n",
       "2   31.887489  aek_058      aek         208800    33.198254        205200.0\n",
       "3   35.926136  aek_059      aek         212400    31.887489        208800.0\n",
       "4   40.490917  aek_060      aek         216000    35.926136        212400.0"
      ]
     },
     "execution_count": 230,
     "metadata": {},
     "output_type": "execute_result"
    },
    {
     "data": {
      "application/javascript": [
       "\n",
       "            setTimeout(function() {\n",
       "                var nbb_cell_id = 230;\n",
       "                var nbb_unformatted_code = \"temporal = temporal.merge(temporal_shift, 'inner', suffixes = [\\\"\\\",\\\"2\\\"], right_index = True, left_index = True)\\ntemporal['wind_speed2']= temporal['wind_speed2'].mask( temporal['storm_id'] != temporal['storm_id2'], 0)\\ntemporal['relative_time2']= temporal['relative_time2'].mask( temporal['storm_id'] != temporal['storm_id2'], 0)\\ntemporal = temporal.drop(columns=['image_id2', 'storm_id2'])\\ntemporal.head()\";\n",
       "                var nbb_formatted_code = \"temporal = temporal.merge(\\n    temporal_shift, \\\"inner\\\", suffixes=[\\\"\\\", \\\"2\\\"], right_index=True, left_index=True\\n)\\ntemporal[\\\"wind_speed2\\\"] = temporal[\\\"wind_speed2\\\"].mask(\\n    temporal[\\\"storm_id\\\"] != temporal[\\\"storm_id2\\\"], 0\\n)\\ntemporal[\\\"relative_time2\\\"] = temporal[\\\"relative_time2\\\"].mask(\\n    temporal[\\\"storm_id\\\"] != temporal[\\\"storm_id2\\\"], 0\\n)\\ntemporal = temporal.drop(columns=[\\\"image_id2\\\", \\\"storm_id2\\\"])\\ntemporal.head()\";\n",
       "                var nbb_cells = Jupyter.notebook.get_cells();\n",
       "                for (var i = 0; i < nbb_cells.length; ++i) {\n",
       "                    if (nbb_cells[i].input_prompt_number == nbb_cell_id) {\n",
       "                        if (nbb_cells[i].get_text() == nbb_unformatted_code) {\n",
       "                             nbb_cells[i].set_text(nbb_formatted_code);\n",
       "                        }\n",
       "                        break;\n",
       "                    }\n",
       "                }\n",
       "            }, 500);\n",
       "            "
      ],
      "text/plain": [
       "<IPython.core.display.Javascript object>"
      ]
     },
     "metadata": {},
     "output_type": "display_data"
    }
   ],
   "source": [
    "temporal = temporal.merge(temporal_shift, 'inner', suffixes = [\"\",\"2\"], right_index = True, left_index = True)\n",
    "temporal['wind_speed2']= temporal['wind_speed2'].mask( temporal['storm_id'] != temporal['storm_id2'], -1)\n",
    "temporal['relative_time2']= temporal['relative_time2'].mask( temporal['storm_id'] != temporal['storm_id2'], -1)\n",
    "temporal = temporal.drop(columns=['image_id2', 'storm_id2'])\n",
    "temporal.head()"
   ]
  },
  {
   "cell_type": "code",
   "execution_count": 231,
   "metadata": {},
   "outputs": [
    {
     "data": {
      "application/javascript": [
       "\n",
       "            setTimeout(function() {\n",
       "                var nbb_cell_id = 231;\n",
       "                var nbb_unformatted_code = \"temporal_shift= temporal_shift.shift(1)\\ntemporal = temporal.merge(temporal_shift, 'inner', suffixes = [\\\"\\\",\\\"3\\\"], right_index = True, left_index = True)\\ntemporal['wind_speed3']= temporal['wind_speed3'].mask( temporal['storm_id'] != temporal['storm_id3'], 0)\\ntemporal['relative_time3']= temporal['relative_time3'].mask( temporal['storm_id'] != temporal['storm_id3'], 0)\\ntemporal = temporal.drop(columns=['image_id3', 'storm_id3'])\";\n",
       "                var nbb_formatted_code = \"temporal_shift = temporal_shift.shift(1)\\ntemporal = temporal.merge(\\n    temporal_shift, \\\"inner\\\", suffixes=[\\\"\\\", \\\"3\\\"], right_index=True, left_index=True\\n)\\ntemporal[\\\"wind_speed3\\\"] = temporal[\\\"wind_speed3\\\"].mask(\\n    temporal[\\\"storm_id\\\"] != temporal[\\\"storm_id3\\\"], 0\\n)\\ntemporal[\\\"relative_time3\\\"] = temporal[\\\"relative_time3\\\"].mask(\\n    temporal[\\\"storm_id\\\"] != temporal[\\\"storm_id3\\\"], 0\\n)\\ntemporal = temporal.drop(columns=[\\\"image_id3\\\", \\\"storm_id3\\\"])\";\n",
       "                var nbb_cells = Jupyter.notebook.get_cells();\n",
       "                for (var i = 0; i < nbb_cells.length; ++i) {\n",
       "                    if (nbb_cells[i].input_prompt_number == nbb_cell_id) {\n",
       "                        if (nbb_cells[i].get_text() == nbb_unformatted_code) {\n",
       "                             nbb_cells[i].set_text(nbb_formatted_code);\n",
       "                        }\n",
       "                        break;\n",
       "                    }\n",
       "                }\n",
       "            }, 500);\n",
       "            "
      ],
      "text/plain": [
       "<IPython.core.display.Javascript object>"
      ]
     },
     "metadata": {},
     "output_type": "display_data"
    }
   ],
   "source": [
    "temporal_shift= temporal_shift.shift(1)\n",
    "temporal = temporal.merge(temporal_shift, 'inner', suffixes = [\"\",\"3\"], right_index = True, left_index = True)\n",
    "temporal['wind_speed3']= temporal['wind_speed3'].mask( temporal['storm_id'] != temporal['storm_id3'], -1)\n",
    "temporal['relative_time3']= temporal['relative_time3'].mask( temporal['storm_id'] != temporal['storm_id3'], -1)\n",
    "temporal = temporal.drop(columns=['image_id3', 'storm_id3'])"
   ]
  },
  {
   "cell_type": "code",
   "execution_count": 232,
   "metadata": {},
   "outputs": [
    {
     "data": {
      "application/javascript": [
       "\n",
       "            setTimeout(function() {\n",
       "                var nbb_cell_id = 232;\n",
       "                var nbb_unformatted_code = \"temporal_shift= temporal_shift.shift(1)\\ntemporal = temporal.merge(temporal_shift, 'inner', suffixes = [\\\"\\\",\\\"4\\\"], right_index = True, left_index = True).loc[temporal['storm_id'] == \\\"agb\\\"]\\ntemporal['wind_speed4']= temporal['wind_speed4'].mask( temporal['storm_id'] != temporal['storm_id4'], 0)\\ntemporal['relative_time4']= temporal['relative_time4'].mask( temporal['storm_id'] != temporal['storm_id4'], 0)\\ntemporal = temporal.drop(columns=['image_id4', 'storm_id4'])\";\n",
       "                var nbb_formatted_code = \"temporal_shift = temporal_shift.shift(1)\\ntemporal = temporal.merge(\\n    temporal_shift, \\\"inner\\\", suffixes=[\\\"\\\", \\\"4\\\"], right_index=True, left_index=True\\n).loc[temporal[\\\"storm_id\\\"] == \\\"agb\\\"]\\ntemporal[\\\"wind_speed4\\\"] = temporal[\\\"wind_speed4\\\"].mask(\\n    temporal[\\\"storm_id\\\"] != temporal[\\\"storm_id4\\\"], 0\\n)\\ntemporal[\\\"relative_time4\\\"] = temporal[\\\"relative_time4\\\"].mask(\\n    temporal[\\\"storm_id\\\"] != temporal[\\\"storm_id4\\\"], 0\\n)\\ntemporal = temporal.drop(columns=[\\\"image_id4\\\", \\\"storm_id4\\\"])\";\n",
       "                var nbb_cells = Jupyter.notebook.get_cells();\n",
       "                for (var i = 0; i < nbb_cells.length; ++i) {\n",
       "                    if (nbb_cells[i].input_prompt_number == nbb_cell_id) {\n",
       "                        if (nbb_cells[i].get_text() == nbb_unformatted_code) {\n",
       "                             nbb_cells[i].set_text(nbb_formatted_code);\n",
       "                        }\n",
       "                        break;\n",
       "                    }\n",
       "                }\n",
       "            }, 500);\n",
       "            "
      ],
      "text/plain": [
       "<IPython.core.display.Javascript object>"
      ]
     },
     "metadata": {},
     "output_type": "display_data"
    }
   ],
   "source": [
    "temporal_shift= temporal_shift.shift(1)\n",
    "temporal = temporal.merge(temporal_shift, 'inner', suffixes = [\"\",\"4\"], right_index = True, left_index = True)\n",
    "temporal['wind_speed4']= temporal['wind_speed4'].mask( temporal['storm_id'] != temporal['storm_id4'], -1)\n",
    "temporal['relative_time4']= temporal['relative_time4'].mask( temporal['storm_id'] != temporal['storm_id4'], -1)\n",
    "temporal = temporal.drop(columns=['image_id4', 'storm_id4'])"
   ]
  },
  {
   "cell_type": "code",
   "execution_count": 233,
   "metadata": {},
   "outputs": [
    {
     "data": {
      "application/javascript": [
       "\n",
       "            setTimeout(function() {\n",
       "                var nbb_cell_id = 233;\n",
       "                var nbb_unformatted_code = \"temporal_shift= temporal_shift.shift(1)\\ntemporal = temporal.merge(temporal_shift, 'inner', suffixes = [\\\"\\\",\\\"5\\\"], right_index = True, left_index = True)\\ntemporal['wind_speed5']= temporal['wind_speed5'].mask( temporal['storm_id'] != temporal['storm_id5'], 0)\\ntemporal['relative_time5']= temporal['relative_time5'].mask( temporal['storm_id'] != temporal['storm_id5'], 0)\\ntemporal = temporal.drop(columns=['image_id5', 'storm_id5'])\";\n",
       "                var nbb_formatted_code = \"temporal_shift = temporal_shift.shift(1)\\ntemporal = temporal.merge(\\n    temporal_shift, \\\"inner\\\", suffixes=[\\\"\\\", \\\"5\\\"], right_index=True, left_index=True\\n)\\ntemporal[\\\"wind_speed5\\\"] = temporal[\\\"wind_speed5\\\"].mask(\\n    temporal[\\\"storm_id\\\"] != temporal[\\\"storm_id5\\\"], 0\\n)\\ntemporal[\\\"relative_time5\\\"] = temporal[\\\"relative_time5\\\"].mask(\\n    temporal[\\\"storm_id\\\"] != temporal[\\\"storm_id5\\\"], 0\\n)\\ntemporal = temporal.drop(columns=[\\\"image_id5\\\", \\\"storm_id5\\\"])\";\n",
       "                var nbb_cells = Jupyter.notebook.get_cells();\n",
       "                for (var i = 0; i < nbb_cells.length; ++i) {\n",
       "                    if (nbb_cells[i].input_prompt_number == nbb_cell_id) {\n",
       "                        if (nbb_cells[i].get_text() == nbb_unformatted_code) {\n",
       "                             nbb_cells[i].set_text(nbb_formatted_code);\n",
       "                        }\n",
       "                        break;\n",
       "                    }\n",
       "                }\n",
       "            }, 500);\n",
       "            "
      ],
      "text/plain": [
       "<IPython.core.display.Javascript object>"
      ]
     },
     "metadata": {},
     "output_type": "display_data"
    }
   ],
   "source": [
    "temporal_shift= temporal_shift.shift(1)\n",
    "temporal = temporal.merge(temporal_shift, 'inner', suffixes = [\"\",\"5\"], right_index = True, left_index = True)\n",
    "temporal['wind_speed5']= temporal['wind_speed5'].mask( temporal['storm_id'] != temporal['storm_id5'], -1)\n",
    "temporal['relative_time5']= temporal['relative_time5'].mask( temporal['storm_id'] != temporal['storm_id5'], -1)\n",
    "temporal = temporal.drop(columns=['image_id5', 'storm_id5'])"
   ]
  },
  {
   "cell_type": "code",
   "execution_count": 235,
   "metadata": {},
   "outputs": [
    {
     "data": {
      "text/html": [
       "<div>\n",
       "<style scoped>\n",
       "    .dataframe tbody tr th:only-of-type {\n",
       "        vertical-align: middle;\n",
       "    }\n",
       "\n",
       "    .dataframe tbody tr th {\n",
       "        vertical-align: top;\n",
       "    }\n",
       "\n",
       "    .dataframe thead th {\n",
       "        text-align: right;\n",
       "    }\n",
       "</style>\n",
       "<table border=\"1\" class=\"dataframe\">\n",
       "  <thead>\n",
       "    <tr style=\"text-align: right;\">\n",
       "      <th></th>\n",
       "      <th>wind_speed</th>\n",
       "      <th>relative_time</th>\n",
       "      <th>wind_speed2</th>\n",
       "      <th>relative_time2</th>\n",
       "      <th>wind_speed3</th>\n",
       "      <th>relative_time3</th>\n",
       "      <th>wind_speed4</th>\n",
       "      <th>relative_time4</th>\n",
       "      <th>wind_speed5</th>\n",
       "      <th>relative_time5</th>\n",
       "    </tr>\n",
       "  </thead>\n",
       "  <tbody>\n",
       "    <tr>\n",
       "      <th>52</th>\n",
       "      <td>32.637287</td>\n",
       "      <td>0</td>\n",
       "      <td>0.000000</td>\n",
       "      <td>0.0</td>\n",
       "      <td>0.000000</td>\n",
       "      <td>0.0</td>\n",
       "      <td>0.000000</td>\n",
       "      <td>0.0</td>\n",
       "      <td>0.000000</td>\n",
       "      <td>0.0</td>\n",
       "    </tr>\n",
       "    <tr>\n",
       "      <th>53</th>\n",
       "      <td>33.969925</td>\n",
       "      <td>1800</td>\n",
       "      <td>32.637287</td>\n",
       "      <td>0.0</td>\n",
       "      <td>0.000000</td>\n",
       "      <td>0.0</td>\n",
       "      <td>0.000000</td>\n",
       "      <td>0.0</td>\n",
       "      <td>0.000000</td>\n",
       "      <td>0.0</td>\n",
       "    </tr>\n",
       "    <tr>\n",
       "      <th>54</th>\n",
       "      <td>32.726208</td>\n",
       "      <td>3600</td>\n",
       "      <td>33.969925</td>\n",
       "      <td>1800.0</td>\n",
       "      <td>32.637287</td>\n",
       "      <td>0.0</td>\n",
       "      <td>0.000000</td>\n",
       "      <td>0.0</td>\n",
       "      <td>0.000000</td>\n",
       "      <td>0.0</td>\n",
       "    </tr>\n",
       "    <tr>\n",
       "      <th>55</th>\n",
       "      <td>36.133011</td>\n",
       "      <td>5400</td>\n",
       "      <td>32.726208</td>\n",
       "      <td>3600.0</td>\n",
       "      <td>33.969925</td>\n",
       "      <td>1800.0</td>\n",
       "      <td>32.637287</td>\n",
       "      <td>0.0</td>\n",
       "      <td>0.000000</td>\n",
       "      <td>0.0</td>\n",
       "    </tr>\n",
       "    <tr>\n",
       "      <th>56</th>\n",
       "      <td>35.966282</td>\n",
       "      <td>7200</td>\n",
       "      <td>36.133011</td>\n",
       "      <td>5400.0</td>\n",
       "      <td>32.726208</td>\n",
       "      <td>3600.0</td>\n",
       "      <td>33.969925</td>\n",
       "      <td>1800.0</td>\n",
       "      <td>32.637287</td>\n",
       "      <td>0.0</td>\n",
       "    </tr>\n",
       "    <tr>\n",
       "      <th>57</th>\n",
       "      <td>42.489666</td>\n",
       "      <td>10800</td>\n",
       "      <td>35.966282</td>\n",
       "      <td>7200.0</td>\n",
       "      <td>36.133011</td>\n",
       "      <td>5400.0</td>\n",
       "      <td>32.726208</td>\n",
       "      <td>3600.0</td>\n",
       "      <td>33.969925</td>\n",
       "      <td>1800.0</td>\n",
       "    </tr>\n",
       "    <tr>\n",
       "      <th>58</th>\n",
       "      <td>42.118149</td>\n",
       "      <td>12600</td>\n",
       "      <td>42.489666</td>\n",
       "      <td>10800.0</td>\n",
       "      <td>35.966282</td>\n",
       "      <td>7200.0</td>\n",
       "      <td>36.133011</td>\n",
       "      <td>5400.0</td>\n",
       "      <td>32.726208</td>\n",
       "      <td>3600.0</td>\n",
       "    </tr>\n",
       "    <tr>\n",
       "      <th>59</th>\n",
       "      <td>39.239021</td>\n",
       "      <td>14400</td>\n",
       "      <td>42.118149</td>\n",
       "      <td>12600.0</td>\n",
       "      <td>42.489666</td>\n",
       "      <td>10800.0</td>\n",
       "      <td>35.966282</td>\n",
       "      <td>7200.0</td>\n",
       "      <td>36.133011</td>\n",
       "      <td>5400.0</td>\n",
       "    </tr>\n",
       "    <tr>\n",
       "      <th>60</th>\n",
       "      <td>51.569832</td>\n",
       "      <td>16200</td>\n",
       "      <td>39.239021</td>\n",
       "      <td>14400.0</td>\n",
       "      <td>42.118149</td>\n",
       "      <td>12600.0</td>\n",
       "      <td>42.489666</td>\n",
       "      <td>10800.0</td>\n",
       "      <td>35.966282</td>\n",
       "      <td>7200.0</td>\n",
       "    </tr>\n",
       "    <tr>\n",
       "      <th>61</th>\n",
       "      <td>46.054985</td>\n",
       "      <td>18000</td>\n",
       "      <td>51.569832</td>\n",
       "      <td>16200.0</td>\n",
       "      <td>39.239021</td>\n",
       "      <td>14400.0</td>\n",
       "      <td>42.118149</td>\n",
       "      <td>12600.0</td>\n",
       "      <td>42.489666</td>\n",
       "      <td>10800.0</td>\n",
       "    </tr>\n",
       "    <tr>\n",
       "      <th>62</th>\n",
       "      <td>35.894283</td>\n",
       "      <td>21600</td>\n",
       "      <td>46.054985</td>\n",
       "      <td>18000.0</td>\n",
       "      <td>51.569832</td>\n",
       "      <td>16200.0</td>\n",
       "      <td>39.239021</td>\n",
       "      <td>14400.0</td>\n",
       "      <td>42.118149</td>\n",
       "      <td>12600.0</td>\n",
       "    </tr>\n",
       "    <tr>\n",
       "      <th>63</th>\n",
       "      <td>39.835506</td>\n",
       "      <td>23400</td>\n",
       "      <td>35.894283</td>\n",
       "      <td>21600.0</td>\n",
       "      <td>46.054985</td>\n",
       "      <td>18000.0</td>\n",
       "      <td>51.569832</td>\n",
       "      <td>16200.0</td>\n",
       "      <td>39.239021</td>\n",
       "      <td>14400.0</td>\n",
       "    </tr>\n",
       "    <tr>\n",
       "      <th>64</th>\n",
       "      <td>45.273098</td>\n",
       "      <td>25200</td>\n",
       "      <td>39.835506</td>\n",
       "      <td>23400.0</td>\n",
       "      <td>35.894283</td>\n",
       "      <td>21600.0</td>\n",
       "      <td>46.054985</td>\n",
       "      <td>18000.0</td>\n",
       "      <td>51.569832</td>\n",
       "      <td>16200.0</td>\n",
       "    </tr>\n",
       "    <tr>\n",
       "      <th>65</th>\n",
       "      <td>45.069939</td>\n",
       "      <td>27000</td>\n",
       "      <td>45.273098</td>\n",
       "      <td>25200.0</td>\n",
       "      <td>39.835506</td>\n",
       "      <td>23400.0</td>\n",
       "      <td>35.894283</td>\n",
       "      <td>21600.0</td>\n",
       "      <td>46.054985</td>\n",
       "      <td>18000.0</td>\n",
       "    </tr>\n",
       "    <tr>\n",
       "      <th>66</th>\n",
       "      <td>46.025196</td>\n",
       "      <td>28799</td>\n",
       "      <td>45.069939</td>\n",
       "      <td>27000.0</td>\n",
       "      <td>45.273098</td>\n",
       "      <td>25200.0</td>\n",
       "      <td>39.835506</td>\n",
       "      <td>23400.0</td>\n",
       "      <td>35.894283</td>\n",
       "      <td>21600.0</td>\n",
       "    </tr>\n",
       "    <tr>\n",
       "      <th>67</th>\n",
       "      <td>48.247746</td>\n",
       "      <td>32400</td>\n",
       "      <td>46.025196</td>\n",
       "      <td>28799.0</td>\n",
       "      <td>45.069939</td>\n",
       "      <td>27000.0</td>\n",
       "      <td>45.273098</td>\n",
       "      <td>25200.0</td>\n",
       "      <td>39.835506</td>\n",
       "      <td>23400.0</td>\n",
       "    </tr>\n",
       "    <tr>\n",
       "      <th>68</th>\n",
       "      <td>46.907566</td>\n",
       "      <td>34200</td>\n",
       "      <td>48.247746</td>\n",
       "      <td>32400.0</td>\n",
       "      <td>46.025196</td>\n",
       "      <td>28799.0</td>\n",
       "      <td>45.069939</td>\n",
       "      <td>27000.0</td>\n",
       "      <td>45.273098</td>\n",
       "      <td>25200.0</td>\n",
       "    </tr>\n",
       "  </tbody>\n",
       "</table>\n",
       "</div>"
      ],
      "text/plain": [
       "    wind_speed  relative_time  wind_speed2  relative_time2  wind_speed3  \\\n",
       "52   32.637287              0     0.000000             0.0     0.000000   \n",
       "53   33.969925           1800    32.637287             0.0     0.000000   \n",
       "54   32.726208           3600    33.969925          1800.0    32.637287   \n",
       "55   36.133011           5400    32.726208          3600.0    33.969925   \n",
       "56   35.966282           7200    36.133011          5400.0    32.726208   \n",
       "57   42.489666          10800    35.966282          7200.0    36.133011   \n",
       "58   42.118149          12600    42.489666         10800.0    35.966282   \n",
       "59   39.239021          14400    42.118149         12600.0    42.489666   \n",
       "60   51.569832          16200    39.239021         14400.0    42.118149   \n",
       "61   46.054985          18000    51.569832         16200.0    39.239021   \n",
       "62   35.894283          21600    46.054985         18000.0    51.569832   \n",
       "63   39.835506          23400    35.894283         21600.0    46.054985   \n",
       "64   45.273098          25200    39.835506         23400.0    35.894283   \n",
       "65   45.069939          27000    45.273098         25200.0    39.835506   \n",
       "66   46.025196          28799    45.069939         27000.0    45.273098   \n",
       "67   48.247746          32400    46.025196         28799.0    45.069939   \n",
       "68   46.907566          34200    48.247746         32400.0    46.025196   \n",
       "\n",
       "    relative_time3  wind_speed4  relative_time4  wind_speed5  relative_time5  \n",
       "52             0.0     0.000000             0.0     0.000000             0.0  \n",
       "53             0.0     0.000000             0.0     0.000000             0.0  \n",
       "54             0.0     0.000000             0.0     0.000000             0.0  \n",
       "55          1800.0    32.637287             0.0     0.000000             0.0  \n",
       "56          3600.0    33.969925          1800.0    32.637287             0.0  \n",
       "57          5400.0    32.726208          3600.0    33.969925          1800.0  \n",
       "58          7200.0    36.133011          5400.0    32.726208          3600.0  \n",
       "59         10800.0    35.966282          7200.0    36.133011          5400.0  \n",
       "60         12600.0    42.489666         10800.0    35.966282          7200.0  \n",
       "61         14400.0    42.118149         12600.0    42.489666         10800.0  \n",
       "62         16200.0    39.239021         14400.0    42.118149         12600.0  \n",
       "63         18000.0    51.569832         16200.0    39.239021         14400.0  \n",
       "64         21600.0    46.054985         18000.0    51.569832         16200.0  \n",
       "65         23400.0    35.894283         21600.0    46.054985         18000.0  \n",
       "66         25200.0    39.835506         23400.0    35.894283         21600.0  \n",
       "67         27000.0    45.273098         25200.0    39.835506         23400.0  \n",
       "68         28799.0    45.069939         27000.0    45.273098         25200.0  "
      ]
     },
     "execution_count": 235,
     "metadata": {},
     "output_type": "execute_result"
    },
    {
     "data": {
      "application/javascript": [
       "\n",
       "            setTimeout(function() {\n",
       "                var nbb_cell_id = 235;\n",
       "                var nbb_unformatted_code = \"temporal.drop(columns = ['image_id', 'storm_id'])\";\n",
       "                var nbb_formatted_code = \"temporal.drop(columns=[\\\"image_id\\\", \\\"storm_id\\\"])\";\n",
       "                var nbb_cells = Jupyter.notebook.get_cells();\n",
       "                for (var i = 0; i < nbb_cells.length; ++i) {\n",
       "                    if (nbb_cells[i].input_prompt_number == nbb_cell_id) {\n",
       "                        if (nbb_cells[i].get_text() == nbb_unformatted_code) {\n",
       "                             nbb_cells[i].set_text(nbb_formatted_code);\n",
       "                        }\n",
       "                        break;\n",
       "                    }\n",
       "                }\n",
       "            }, 500);\n",
       "            "
      ],
      "text/plain": [
       "<IPython.core.display.Javascript object>"
      ]
     },
     "metadata": {},
     "output_type": "display_data"
    }
   ],
   "source": [
    "temporal = temporal.drop(columns = ['storm_id'])\n",
    "temporal.head()"
   ]
  },
  {
   "cell_type": "code",
   "execution_count": 257,
   "metadata": {},
   "outputs": [
    {
     "data": {
      "application/javascript": [
       "\n",
       "            setTimeout(function() {\n",
       "                var nbb_cell_id = 257;\n",
       "                var nbb_unformatted_code = \"class TemporalWindModel(pl.LightningModule):\\n    \\n    def __init__(self):\\n        super().__init__()\\n        self.fc1 = nn.Linear(1,256)\\n        self.fc2 = nn.Linear(256,128)\\n        self.fc3 = nn.Linear(128,10)\\n        self.out = nn.Linear(10,1)\\n        self.lr = 0.01\\n        self.loss = RMSELoss()\\n    \\n    def forward(self,x):\\n        batch_size, _, _, _ = x.size()\\n        x = x.view(batch_size,-1)\\n        x = F.relu(self.fc1(x))\\n        x = F.relu(self.fc2(x))\\n        return self.out(x)\\n\\n    def configure_optimizers(self):\\n        return torch.optim.SGD(self.parameters(),lr = self.lr)\\n    \\n    def training_step(self, train_batch, batch_idx):\\n        x, y = train_batch\\n        logits = self.forward(x)\\n        loss = self.loss(logits,y)\\n        return loss\\n\\n    def validation_step(self, valid_batch, batch_idx): \\n        x, y = valid_batch \\n        logits = self.forward(x) \\n        loss = self.loss(logits, y) \\n        \";\n",
       "                var nbb_formatted_code = \"class TemporalWindModel(pl.LightningModule):\\n    def __init__(self):\\n        super().__init__()\\n        self.fc1 = nn.Linear(1, 256)\\n        self.fc2 = nn.Linear(256, 128)\\n        self.fc3 = nn.Linear(128, 10)\\n        self.out = nn.Linear(10, 1)\\n        self.lr = 0.01\\n        self.loss = RMSELoss()\\n\\n    def forward(self, x):\\n        batch_size, _, _, _ = x.size()\\n        x = x.view(batch_size, -1)\\n        x = F.relu(self.fc1(x))\\n        x = F.relu(self.fc2(x))\\n        return self.out(x)\\n\\n    def configure_optimizers(self):\\n        return torch.optim.SGD(self.parameters(), lr=self.lr)\\n\\n    def training_step(self, train_batch, batch_idx):\\n        x, y = train_batch\\n        logits = self.forward(x)\\n        loss = self.loss(logits, y)\\n        return loss\\n\\n    def validation_step(self, valid_batch, batch_idx):\\n        x, y = valid_batch\\n        logits = self.forward(x)\\n        loss = self.loss(logits, y)\";\n",
       "                var nbb_cells = Jupyter.notebook.get_cells();\n",
       "                for (var i = 0; i < nbb_cells.length; ++i) {\n",
       "                    if (nbb_cells[i].input_prompt_number == nbb_cell_id) {\n",
       "                        if (nbb_cells[i].get_text() == nbb_unformatted_code) {\n",
       "                             nbb_cells[i].set_text(nbb_formatted_code);\n",
       "                        }\n",
       "                        break;\n",
       "                    }\n",
       "                }\n",
       "            }, 500);\n",
       "            "
      ],
      "text/plain": [
       "<IPython.core.display.Javascript object>"
      ]
     },
     "metadata": {},
     "output_type": "display_data"
    }
   ],
   "source": [
    "class TemporalWindModel(pl.LightningModule):\n",
    "    \n",
    "    def __init__(self):\n",
    "        super().__init__()\n",
    "        self.fc1 = nn.Linear(1,256)\n",
    "        self.fc2 = nn.Linear(256,128)\n",
    "        self.fc3 = nn.Linear(128,10)\n",
    "        self.out = nn.Linear(10,1)\n",
    "        self.lr = 0.01\n",
    "        self.loss = RMSELoss()\n",
    "    \n",
    "    def forward(self,x):\n",
    "        batch_size, _, _, _ = x.size()\n",
    "        x = x.view(batch_size,-1)\n",
    "        x = F.relu(self.fc1(x))\n",
    "        x = F.relu(self.fc2(x))\n",
    "        return self.out(x)\n",
    "\n",
    "    def configure_optimizers(self):\n",
    "        return torch.optim.SGD(self.parameters(),lr = self.lr)\n",
    "    \n",
    "    def training_step(self, train_batch, batch_idx):\n",
    "        x, y = train_batch\n",
    "        logits = self.forward(x)\n",
    "        loss = self.loss(logits,y)\n",
    "        return loss\n",
    "\n",
    "    def validation_step(self, valid_batch, batch_idx): \n",
    "        x, y = valid_batch \n",
    "        logits = self.forward(x) \n",
    "        loss = self.loss(logits, y) \n",
    "        \n"
   ]
  },
  {
   "cell_type": "code",
   "execution_count": 258,
   "metadata": {},
   "outputs": [
    {
     "name": "stderr",
     "output_type": "stream",
     "text": [
      "GPU available: True, used: True\n",
      "INFO:lightning:GPU available: True, used: True\n",
      "TPU available: None, using: 0 TPU cores\n",
      "INFO:lightning:TPU available: None, using: 0 TPU cores\n",
      "LOCAL_RANK: 0 - CUDA_VISIBLE_DEVICES: [0]\n",
      "INFO:lightning:LOCAL_RANK: 0 - CUDA_VISIBLE_DEVICES: [0]\n",
      "\n",
      "  | Name | Type     | Params\n",
      "----------------------------------\n",
      "0 | fc1  | Linear   | 512   \n",
      "1 | fc2  | Linear   | 32.9 K\n",
      "2 | fc3  | Linear   | 1.3 K \n",
      "3 | out  | Linear   | 11    \n",
      "4 | loss | RMSELoss | 0     \n",
      "----------------------------------\n",
      "34.7 K    Trainable params\n",
      "0         Non-trainable params\n",
      "34.7 K    Total params\n",
      "INFO:lightning:\n",
      "  | Name | Type     | Params\n",
      "----------------------------------\n",
      "0 | fc1  | Linear   | 512   \n",
      "1 | fc2  | Linear   | 32.9 K\n",
      "2 | fc3  | Linear   | 1.3 K \n",
      "3 | out  | Linear   | 11    \n",
      "4 | loss | RMSELoss | 0     \n",
      "----------------------------------\n",
      "34.7 K    Trainable params\n",
      "0         Non-trainable params\n",
      "34.7 K    Total params\n"
     ]
    },
    {
     "data": {
      "application/vnd.jupyter.widget-view+json": {
       "model_id": "0a8e1bf75c044310a17c5b0cf8ed911f",
       "version_major": 2,
       "version_minor": 0
      },
      "text/plain": [
       "HBox(children=(HTML(value='Validation sanity check'), FloatProgress(value=1.0, bar_style='info', layout=Layout…"
      ]
     },
     "metadata": {},
     "output_type": "display_data"
    },
    {
     "data": {
      "application/vnd.jupyter.widget-view+json": {
       "model_id": "9d954cac2717457787761abbe26b0ceb",
       "version_major": 2,
       "version_minor": 0
      },
      "text/plain": [
       "HBox(children=(HTML(value='Training'), FloatProgress(value=1.0, bar_style='info', layout=Layout(flex='2'), max…"
      ]
     },
     "metadata": {},
     "output_type": "display_data"
    },
    {
     "name": "stdout",
     "output_type": "stream",
     "text": [
      "\n"
     ]
    },
    {
     "ename": "ValueError",
     "evalue": "too many values to unpack (expected 2)",
     "output_type": "error",
     "traceback": [
      "\u001b[1;31m---------------------------------------------------------------------------\u001b[0m",
      "\u001b[1;31mValueError\u001b[0m                                Traceback (most recent call last)",
      "\u001b[1;32m<ipython-input-258-ff61995e1466>\u001b[0m in \u001b[0;36m<module>\u001b[1;34m\u001b[0m\n\u001b[0;32m      2\u001b[0m \u001b[0mmodel\u001b[0m \u001b[1;33m=\u001b[0m \u001b[0mTemporalWindModel\u001b[0m\u001b[1;33m(\u001b[0m\u001b[1;33m)\u001b[0m\u001b[1;33m\u001b[0m\u001b[1;33m\u001b[0m\u001b[0m\n\u001b[0;32m      3\u001b[0m \u001b[0mtrainer\u001b[0m \u001b[1;33m=\u001b[0m \u001b[0mTrainer\u001b[0m\u001b[1;33m(\u001b[0m\u001b[0mgpus\u001b[0m\u001b[1;33m=\u001b[0m\u001b[1;36m1\u001b[0m\u001b[1;33m)\u001b[0m\u001b[1;33m\u001b[0m\u001b[1;33m\u001b[0m\u001b[0m\n\u001b[1;32m----> 4\u001b[1;33m \u001b[0mtrainer\u001b[0m\u001b[1;33m.\u001b[0m\u001b[0mfit\u001b[0m\u001b[1;33m(\u001b[0m\u001b[0mmodel\u001b[0m\u001b[1;33m,\u001b[0m \u001b[0mtemporal\u001b[0m\u001b[1;33m)\u001b[0m\u001b[1;33m\u001b[0m\u001b[1;33m\u001b[0m\u001b[0m\n\u001b[0m",
      "\u001b[1;32m~\\anaconda3\\lib\\site-packages\\pytorch_lightning\\trainer\\trainer.py\u001b[0m in \u001b[0;36mfit\u001b[1;34m(self, model, train_dataloader, val_dataloaders, datamodule)\u001b[0m\n\u001b[0;32m    468\u001b[0m         \u001b[0mself\u001b[0m\u001b[1;33m.\u001b[0m\u001b[0mcall_hook\u001b[0m\u001b[1;33m(\u001b[0m\u001b[1;34m'on_fit_start'\u001b[0m\u001b[1;33m)\u001b[0m\u001b[1;33m\u001b[0m\u001b[1;33m\u001b[0m\u001b[0m\n\u001b[0;32m    469\u001b[0m \u001b[1;33m\u001b[0m\u001b[0m\n\u001b[1;32m--> 470\u001b[1;33m         \u001b[0mresults\u001b[0m \u001b[1;33m=\u001b[0m \u001b[0mself\u001b[0m\u001b[1;33m.\u001b[0m\u001b[0maccelerator_backend\u001b[0m\u001b[1;33m.\u001b[0m\u001b[0mtrain\u001b[0m\u001b[1;33m(\u001b[0m\u001b[1;33m)\u001b[0m\u001b[1;33m\u001b[0m\u001b[1;33m\u001b[0m\u001b[0m\n\u001b[0m\u001b[0;32m    471\u001b[0m         \u001b[0mself\u001b[0m\u001b[1;33m.\u001b[0m\u001b[0maccelerator_backend\u001b[0m\u001b[1;33m.\u001b[0m\u001b[0mteardown\u001b[0m\u001b[1;33m(\u001b[0m\u001b[1;33m)\u001b[0m\u001b[1;33m\u001b[0m\u001b[1;33m\u001b[0m\u001b[0m\n\u001b[0;32m    472\u001b[0m \u001b[1;33m\u001b[0m\u001b[0m\n",
      "\u001b[1;32m~\\anaconda3\\lib\\site-packages\\pytorch_lightning\\accelerators\\gpu_accelerator.py\u001b[0m in \u001b[0;36mtrain\u001b[1;34m(self)\u001b[0m\n\u001b[0;32m     64\u001b[0m \u001b[1;33m\u001b[0m\u001b[0m\n\u001b[0;32m     65\u001b[0m         \u001b[1;31m# train or test\u001b[0m\u001b[1;33m\u001b[0m\u001b[1;33m\u001b[0m\u001b[1;33m\u001b[0m\u001b[0m\n\u001b[1;32m---> 66\u001b[1;33m         \u001b[0mresults\u001b[0m \u001b[1;33m=\u001b[0m \u001b[0mself\u001b[0m\u001b[1;33m.\u001b[0m\u001b[0mtrain_or_test\u001b[0m\u001b[1;33m(\u001b[0m\u001b[1;33m)\u001b[0m\u001b[1;33m\u001b[0m\u001b[1;33m\u001b[0m\u001b[0m\n\u001b[0m\u001b[0;32m     67\u001b[0m         \u001b[1;32mreturn\u001b[0m \u001b[0mresults\u001b[0m\u001b[1;33m\u001b[0m\u001b[1;33m\u001b[0m\u001b[0m\n\u001b[0;32m     68\u001b[0m \u001b[1;33m\u001b[0m\u001b[0m\n",
      "\u001b[1;32m~\\anaconda3\\lib\\site-packages\\pytorch_lightning\\accelerators\\accelerator.py\u001b[0m in \u001b[0;36mtrain_or_test\u001b[1;34m(self)\u001b[0m\n\u001b[0;32m     63\u001b[0m             \u001b[0mresults\u001b[0m \u001b[1;33m=\u001b[0m \u001b[0mself\u001b[0m\u001b[1;33m.\u001b[0m\u001b[0mtrainer\u001b[0m\u001b[1;33m.\u001b[0m\u001b[0mrun_test\u001b[0m\u001b[1;33m(\u001b[0m\u001b[1;33m)\u001b[0m\u001b[1;33m\u001b[0m\u001b[1;33m\u001b[0m\u001b[0m\n\u001b[0;32m     64\u001b[0m         \u001b[1;32melse\u001b[0m\u001b[1;33m:\u001b[0m\u001b[1;33m\u001b[0m\u001b[1;33m\u001b[0m\u001b[0m\n\u001b[1;32m---> 65\u001b[1;33m             \u001b[0mresults\u001b[0m \u001b[1;33m=\u001b[0m \u001b[0mself\u001b[0m\u001b[1;33m.\u001b[0m\u001b[0mtrainer\u001b[0m\u001b[1;33m.\u001b[0m\u001b[0mtrain\u001b[0m\u001b[1;33m(\u001b[0m\u001b[1;33m)\u001b[0m\u001b[1;33m\u001b[0m\u001b[1;33m\u001b[0m\u001b[0m\n\u001b[0m\u001b[0;32m     66\u001b[0m         \u001b[1;32mreturn\u001b[0m \u001b[0mresults\u001b[0m\u001b[1;33m\u001b[0m\u001b[1;33m\u001b[0m\u001b[0m\n\u001b[0;32m     67\u001b[0m \u001b[1;33m\u001b[0m\u001b[0m\n",
      "\u001b[1;32m~\\anaconda3\\lib\\site-packages\\pytorch_lightning\\trainer\\trainer.py\u001b[0m in \u001b[0;36mtrain\u001b[1;34m(self)\u001b[0m\n\u001b[0;32m    519\u001b[0m                 \u001b[1;32mwith\u001b[0m \u001b[0mself\u001b[0m\u001b[1;33m.\u001b[0m\u001b[0mprofiler\u001b[0m\u001b[1;33m.\u001b[0m\u001b[0mprofile\u001b[0m\u001b[1;33m(\u001b[0m\u001b[1;34m\"run_training_epoch\"\u001b[0m\u001b[1;33m)\u001b[0m\u001b[1;33m:\u001b[0m\u001b[1;33m\u001b[0m\u001b[1;33m\u001b[0m\u001b[0m\n\u001b[0;32m    520\u001b[0m                     \u001b[1;31m# run train epoch\u001b[0m\u001b[1;33m\u001b[0m\u001b[1;33m\u001b[0m\u001b[1;33m\u001b[0m\u001b[0m\n\u001b[1;32m--> 521\u001b[1;33m                     \u001b[0mself\u001b[0m\u001b[1;33m.\u001b[0m\u001b[0mtrain_loop\u001b[0m\u001b[1;33m.\u001b[0m\u001b[0mrun_training_epoch\u001b[0m\u001b[1;33m(\u001b[0m\u001b[1;33m)\u001b[0m\u001b[1;33m\u001b[0m\u001b[1;33m\u001b[0m\u001b[0m\n\u001b[0m\u001b[0;32m    522\u001b[0m \u001b[1;33m\u001b[0m\u001b[0m\n\u001b[0;32m    523\u001b[0m                 \u001b[1;32mif\u001b[0m \u001b[0mself\u001b[0m\u001b[1;33m.\u001b[0m\u001b[0mmax_steps\u001b[0m \u001b[1;32mand\u001b[0m \u001b[0mself\u001b[0m\u001b[1;33m.\u001b[0m\u001b[0mmax_steps\u001b[0m \u001b[1;33m<=\u001b[0m \u001b[0mself\u001b[0m\u001b[1;33m.\u001b[0m\u001b[0mglobal_step\u001b[0m\u001b[1;33m:\u001b[0m\u001b[1;33m\u001b[0m\u001b[1;33m\u001b[0m\u001b[0m\n",
      "\u001b[1;32m~\\anaconda3\\lib\\site-packages\\pytorch_lightning\\trainer\\training_loop.py\u001b[0m in \u001b[0;36mrun_training_epoch\u001b[1;34m(self)\u001b[0m\n\u001b[0;32m    560\u001b[0m             \u001b[1;31m# ------------------------------------\u001b[0m\u001b[1;33m\u001b[0m\u001b[1;33m\u001b[0m\u001b[1;33m\u001b[0m\u001b[0m\n\u001b[0;32m    561\u001b[0m             \u001b[1;32mwith\u001b[0m \u001b[0mself\u001b[0m\u001b[1;33m.\u001b[0m\u001b[0mtrainer\u001b[0m\u001b[1;33m.\u001b[0m\u001b[0mprofiler\u001b[0m\u001b[1;33m.\u001b[0m\u001b[0mprofile\u001b[0m\u001b[1;33m(\u001b[0m\u001b[1;34m\"run_training_batch\"\u001b[0m\u001b[1;33m)\u001b[0m\u001b[1;33m:\u001b[0m\u001b[1;33m\u001b[0m\u001b[1;33m\u001b[0m\u001b[0m\n\u001b[1;32m--> 562\u001b[1;33m                 \u001b[0mbatch_output\u001b[0m \u001b[1;33m=\u001b[0m \u001b[0mself\u001b[0m\u001b[1;33m.\u001b[0m\u001b[0mrun_training_batch\u001b[0m\u001b[1;33m(\u001b[0m\u001b[0mbatch\u001b[0m\u001b[1;33m,\u001b[0m \u001b[0mbatch_idx\u001b[0m\u001b[1;33m,\u001b[0m \u001b[0mdataloader_idx\u001b[0m\u001b[1;33m)\u001b[0m\u001b[1;33m\u001b[0m\u001b[1;33m\u001b[0m\u001b[0m\n\u001b[0m\u001b[0;32m    563\u001b[0m \u001b[1;33m\u001b[0m\u001b[0m\n\u001b[0;32m    564\u001b[0m             \u001b[1;31m# when returning -1 from train_step, we end epoch early\u001b[0m\u001b[1;33m\u001b[0m\u001b[1;33m\u001b[0m\u001b[1;33m\u001b[0m\u001b[0m\n",
      "\u001b[1;32m~\\anaconda3\\lib\\site-packages\\pytorch_lightning\\trainer\\training_loop.py\u001b[0m in \u001b[0;36mrun_training_batch\u001b[1;34m(self, batch, batch_idx, dataloader_idx)\u001b[0m\n\u001b[0;32m    718\u001b[0m \u001b[1;33m\u001b[0m\u001b[0m\n\u001b[0;32m    719\u001b[0m                         \u001b[1;31m# optimizer step\u001b[0m\u001b[1;33m\u001b[0m\u001b[1;33m\u001b[0m\u001b[1;33m\u001b[0m\u001b[0m\n\u001b[1;32m--> 720\u001b[1;33m                         \u001b[0mself\u001b[0m\u001b[1;33m.\u001b[0m\u001b[0moptimizer_step\u001b[0m\u001b[1;33m(\u001b[0m\u001b[0moptimizer\u001b[0m\u001b[1;33m,\u001b[0m \u001b[0mopt_idx\u001b[0m\u001b[1;33m,\u001b[0m \u001b[0mbatch_idx\u001b[0m\u001b[1;33m,\u001b[0m \u001b[0mtrain_step_and_backward_closure\u001b[0m\u001b[1;33m)\u001b[0m\u001b[1;33m\u001b[0m\u001b[1;33m\u001b[0m\u001b[0m\n\u001b[0m\u001b[0;32m    721\u001b[0m \u001b[1;33m\u001b[0m\u001b[0m\n\u001b[0;32m    722\u001b[0m                     \u001b[1;32melse\u001b[0m\u001b[1;33m:\u001b[0m\u001b[1;33m\u001b[0m\u001b[1;33m\u001b[0m\u001b[0m\n",
      "\u001b[1;32m~\\anaconda3\\lib\\site-packages\\pytorch_lightning\\trainer\\training_loop.py\u001b[0m in \u001b[0;36moptimizer_step\u001b[1;34m(self, optimizer, opt_idx, batch_idx, train_step_and_backward_closure, *args, **kwargs)\u001b[0m\n\u001b[0;32m    491\u001b[0m \u001b[1;33m\u001b[0m\u001b[0m\n\u001b[0;32m    492\u001b[0m         \u001b[1;31m# model hook\u001b[0m\u001b[1;33m\u001b[0m\u001b[1;33m\u001b[0m\u001b[1;33m\u001b[0m\u001b[0m\n\u001b[1;32m--> 493\u001b[1;33m         model_ref.optimizer_step(\n\u001b[0m\u001b[0;32m    494\u001b[0m             \u001b[0mepoch\u001b[0m\u001b[1;33m=\u001b[0m\u001b[0mself\u001b[0m\u001b[1;33m.\u001b[0m\u001b[0mtrainer\u001b[0m\u001b[1;33m.\u001b[0m\u001b[0mcurrent_epoch\u001b[0m\u001b[1;33m,\u001b[0m\u001b[1;33m\u001b[0m\u001b[1;33m\u001b[0m\u001b[0m\n\u001b[0;32m    495\u001b[0m             \u001b[0mbatch_idx\u001b[0m\u001b[1;33m=\u001b[0m\u001b[0mbatch_idx\u001b[0m\u001b[1;33m,\u001b[0m\u001b[1;33m\u001b[0m\u001b[1;33m\u001b[0m\u001b[0m\n",
      "\u001b[1;32m~\\anaconda3\\lib\\site-packages\\pytorch_lightning\\core\\lightning.py\u001b[0m in \u001b[0;36moptimizer_step\u001b[1;34m(self, epoch, batch_idx, optimizer, optimizer_idx, optimizer_closure, on_tpu, using_native_amp, using_lbfgs, *args, **kwargs)\u001b[0m\n\u001b[0;32m   1255\u001b[0m             \u001b[1;31m# wraps into LightingOptimizer only for running step\u001b[0m\u001b[1;33m\u001b[0m\u001b[1;33m\u001b[0m\u001b[1;33m\u001b[0m\u001b[0m\n\u001b[0;32m   1256\u001b[0m             \u001b[0moptimizer\u001b[0m \u001b[1;33m=\u001b[0m \u001b[0mLightningOptimizer\u001b[0m\u001b[1;33m.\u001b[0m\u001b[0mto_lightning_optimizer\u001b[0m\u001b[1;33m(\u001b[0m\u001b[0moptimizer\u001b[0m\u001b[1;33m,\u001b[0m \u001b[0mself\u001b[0m\u001b[1;33m.\u001b[0m\u001b[0mtrainer\u001b[0m\u001b[1;33m)\u001b[0m\u001b[1;33m\u001b[0m\u001b[1;33m\u001b[0m\u001b[0m\n\u001b[1;32m-> 1257\u001b[1;33m         \u001b[0moptimizer\u001b[0m\u001b[1;33m.\u001b[0m\u001b[0mstep\u001b[0m\u001b[1;33m(\u001b[0m\u001b[0mclosure\u001b[0m\u001b[1;33m=\u001b[0m\u001b[0moptimizer_closure\u001b[0m\u001b[1;33m,\u001b[0m \u001b[1;33m*\u001b[0m\u001b[0margs\u001b[0m\u001b[1;33m,\u001b[0m \u001b[1;33m**\u001b[0m\u001b[0mkwargs\u001b[0m\u001b[1;33m)\u001b[0m\u001b[1;33m\u001b[0m\u001b[1;33m\u001b[0m\u001b[0m\n\u001b[0m\u001b[0;32m   1258\u001b[0m \u001b[1;33m\u001b[0m\u001b[0m\n\u001b[0;32m   1259\u001b[0m     def optimizer_zero_grad(\n",
      "\u001b[1;32m~\\anaconda3\\lib\\site-packages\\pytorch_lightning\\core\\optimizer.py\u001b[0m in \u001b[0;36mstep\u001b[1;34m(self, closure, make_optimizer_step, *args, **kwargs)\u001b[0m\n\u001b[0;32m    254\u001b[0m \u001b[1;33m\u001b[0m\u001b[0m\n\u001b[0;32m    255\u001b[0m         \u001b[1;32mif\u001b[0m \u001b[0mmake_optimizer_step\u001b[0m\u001b[1;33m:\u001b[0m\u001b[1;33m\u001b[0m\u001b[1;33m\u001b[0m\u001b[0m\n\u001b[1;32m--> 256\u001b[1;33m             \u001b[0mself\u001b[0m\u001b[1;33m.\u001b[0m\u001b[0m__optimizer_step\u001b[0m\u001b[1;33m(\u001b[0m\u001b[1;33m*\u001b[0m\u001b[0margs\u001b[0m\u001b[1;33m,\u001b[0m \u001b[0mclosure\u001b[0m\u001b[1;33m=\u001b[0m\u001b[0mclosure\u001b[0m\u001b[1;33m,\u001b[0m \u001b[0mprofiler_name\u001b[0m\u001b[1;33m=\u001b[0m\u001b[0mprofiler_name\u001b[0m\u001b[1;33m,\u001b[0m \u001b[1;33m**\u001b[0m\u001b[0mkwargs\u001b[0m\u001b[1;33m)\u001b[0m\u001b[1;33m\u001b[0m\u001b[1;33m\u001b[0m\u001b[0m\n\u001b[0m\u001b[0;32m    257\u001b[0m         \u001b[1;32melse\u001b[0m\u001b[1;33m:\u001b[0m\u001b[1;33m\u001b[0m\u001b[1;33m\u001b[0m\u001b[0m\n\u001b[0;32m    258\u001b[0m             \u001b[1;31m# make sure to call optimizer_closure when accumulating\u001b[0m\u001b[1;33m\u001b[0m\u001b[1;33m\u001b[0m\u001b[1;33m\u001b[0m\u001b[0m\n",
      "\u001b[1;32m~\\anaconda3\\lib\\site-packages\\pytorch_lightning\\core\\optimizer.py\u001b[0m in \u001b[0;36m__optimizer_step\u001b[1;34m(self, closure, profiler_name, *args, **kwargs)\u001b[0m\n\u001b[0;32m    112\u001b[0m         \u001b[1;32melse\u001b[0m\u001b[1;33m:\u001b[0m\u001b[1;33m\u001b[0m\u001b[1;33m\u001b[0m\u001b[0m\n\u001b[0;32m    113\u001b[0m             \u001b[1;32mwith\u001b[0m \u001b[0mtrainer\u001b[0m\u001b[1;33m.\u001b[0m\u001b[0mprofiler\u001b[0m\u001b[1;33m.\u001b[0m\u001b[0mprofile\u001b[0m\u001b[1;33m(\u001b[0m\u001b[0mprofiler_name\u001b[0m\u001b[1;33m)\u001b[0m\u001b[1;33m:\u001b[0m\u001b[1;33m\u001b[0m\u001b[1;33m\u001b[0m\u001b[0m\n\u001b[1;32m--> 114\u001b[1;33m                 \u001b[0moptimizer\u001b[0m\u001b[1;33m.\u001b[0m\u001b[0mstep\u001b[0m\u001b[1;33m(\u001b[0m\u001b[0mclosure\u001b[0m\u001b[1;33m=\u001b[0m\u001b[0mclosure\u001b[0m\u001b[1;33m,\u001b[0m \u001b[1;33m*\u001b[0m\u001b[0margs\u001b[0m\u001b[1;33m,\u001b[0m \u001b[1;33m**\u001b[0m\u001b[0mkwargs\u001b[0m\u001b[1;33m)\u001b[0m\u001b[1;33m\u001b[0m\u001b[1;33m\u001b[0m\u001b[0m\n\u001b[0m\u001b[0;32m    115\u001b[0m \u001b[1;33m\u001b[0m\u001b[0m\n\u001b[0;32m    116\u001b[0m         \u001b[0maccelerator_backend\u001b[0m \u001b[1;33m=\u001b[0m \u001b[0mtrainer\u001b[0m\u001b[1;33m.\u001b[0m\u001b[0maccelerator_backend\u001b[0m\u001b[1;33m\u001b[0m\u001b[1;33m\u001b[0m\u001b[0m\n",
      "\u001b[1;32m~\\anaconda3\\lib\\site-packages\\torch\\autograd\\grad_mode.py\u001b[0m in \u001b[0;36mdecorate_context\u001b[1;34m(*args, **kwargs)\u001b[0m\n\u001b[0;32m     24\u001b[0m         \u001b[1;32mdef\u001b[0m \u001b[0mdecorate_context\u001b[0m\u001b[1;33m(\u001b[0m\u001b[1;33m*\u001b[0m\u001b[0margs\u001b[0m\u001b[1;33m,\u001b[0m \u001b[1;33m**\u001b[0m\u001b[0mkwargs\u001b[0m\u001b[1;33m)\u001b[0m\u001b[1;33m:\u001b[0m\u001b[1;33m\u001b[0m\u001b[1;33m\u001b[0m\u001b[0m\n\u001b[0;32m     25\u001b[0m             \u001b[1;32mwith\u001b[0m \u001b[0mself\u001b[0m\u001b[1;33m.\u001b[0m\u001b[0m__class__\u001b[0m\u001b[1;33m(\u001b[0m\u001b[1;33m)\u001b[0m\u001b[1;33m:\u001b[0m\u001b[1;33m\u001b[0m\u001b[1;33m\u001b[0m\u001b[0m\n\u001b[1;32m---> 26\u001b[1;33m                 \u001b[1;32mreturn\u001b[0m \u001b[0mfunc\u001b[0m\u001b[1;33m(\u001b[0m\u001b[1;33m*\u001b[0m\u001b[0margs\u001b[0m\u001b[1;33m,\u001b[0m \u001b[1;33m**\u001b[0m\u001b[0mkwargs\u001b[0m\u001b[1;33m)\u001b[0m\u001b[1;33m\u001b[0m\u001b[1;33m\u001b[0m\u001b[0m\n\u001b[0m\u001b[0;32m     27\u001b[0m         \u001b[1;32mreturn\u001b[0m \u001b[0mcast\u001b[0m\u001b[1;33m(\u001b[0m\u001b[0mF\u001b[0m\u001b[1;33m,\u001b[0m \u001b[0mdecorate_context\u001b[0m\u001b[1;33m)\u001b[0m\u001b[1;33m\u001b[0m\u001b[1;33m\u001b[0m\u001b[0m\n\u001b[0;32m     28\u001b[0m \u001b[1;33m\u001b[0m\u001b[0m\n",
      "\u001b[1;32m~\\anaconda3\\lib\\site-packages\\torch\\optim\\sgd.py\u001b[0m in \u001b[0;36mstep\u001b[1;34m(self, closure)\u001b[0m\n\u001b[0;32m     84\u001b[0m         \u001b[1;32mif\u001b[0m \u001b[0mclosure\u001b[0m \u001b[1;32mis\u001b[0m \u001b[1;32mnot\u001b[0m \u001b[1;32mNone\u001b[0m\u001b[1;33m:\u001b[0m\u001b[1;33m\u001b[0m\u001b[1;33m\u001b[0m\u001b[0m\n\u001b[0;32m     85\u001b[0m             \u001b[1;32mwith\u001b[0m \u001b[0mtorch\u001b[0m\u001b[1;33m.\u001b[0m\u001b[0menable_grad\u001b[0m\u001b[1;33m(\u001b[0m\u001b[1;33m)\u001b[0m\u001b[1;33m:\u001b[0m\u001b[1;33m\u001b[0m\u001b[1;33m\u001b[0m\u001b[0m\n\u001b[1;32m---> 86\u001b[1;33m                 \u001b[0mloss\u001b[0m \u001b[1;33m=\u001b[0m \u001b[0mclosure\u001b[0m\u001b[1;33m(\u001b[0m\u001b[1;33m)\u001b[0m\u001b[1;33m\u001b[0m\u001b[1;33m\u001b[0m\u001b[0m\n\u001b[0m\u001b[0;32m     87\u001b[0m \u001b[1;33m\u001b[0m\u001b[0m\n\u001b[0;32m     88\u001b[0m         \u001b[1;32mfor\u001b[0m \u001b[0mgroup\u001b[0m \u001b[1;32min\u001b[0m \u001b[0mself\u001b[0m\u001b[1;33m.\u001b[0m\u001b[0mparam_groups\u001b[0m\u001b[1;33m:\u001b[0m\u001b[1;33m\u001b[0m\u001b[1;33m\u001b[0m\u001b[0m\n",
      "\u001b[1;32m~\\anaconda3\\lib\\site-packages\\pytorch_lightning\\trainer\\training_loop.py\u001b[0m in \u001b[0;36mtrain_step_and_backward_closure\u001b[1;34m()\u001b[0m\n\u001b[0;32m    708\u001b[0m \u001b[1;33m\u001b[0m\u001b[0m\n\u001b[0;32m    709\u001b[0m                         \u001b[1;32mdef\u001b[0m \u001b[0mtrain_step_and_backward_closure\u001b[0m\u001b[1;33m(\u001b[0m\u001b[1;33m)\u001b[0m\u001b[1;33m:\u001b[0m\u001b[1;33m\u001b[0m\u001b[1;33m\u001b[0m\u001b[0m\n\u001b[1;32m--> 710\u001b[1;33m                             result = self.training_step_and_backward(\n\u001b[0m\u001b[0;32m    711\u001b[0m                                 \u001b[0msplit_batch\u001b[0m\u001b[1;33m,\u001b[0m\u001b[1;33m\u001b[0m\u001b[1;33m\u001b[0m\u001b[0m\n\u001b[0;32m    712\u001b[0m                                 \u001b[0mbatch_idx\u001b[0m\u001b[1;33m,\u001b[0m\u001b[1;33m\u001b[0m\u001b[1;33m\u001b[0m\u001b[0m\n",
      "\u001b[1;32m~\\anaconda3\\lib\\site-packages\\pytorch_lightning\\trainer\\training_loop.py\u001b[0m in \u001b[0;36mtraining_step_and_backward\u001b[1;34m(self, split_batch, batch_idx, opt_idx, optimizer, hiddens)\u001b[0m\n\u001b[0;32m    806\u001b[0m         \u001b[1;32mwith\u001b[0m \u001b[0mself\u001b[0m\u001b[1;33m.\u001b[0m\u001b[0mtrainer\u001b[0m\u001b[1;33m.\u001b[0m\u001b[0mprofiler\u001b[0m\u001b[1;33m.\u001b[0m\u001b[0mprofile\u001b[0m\u001b[1;33m(\u001b[0m\u001b[1;34m\"training_step_and_backward\"\u001b[0m\u001b[1;33m)\u001b[0m\u001b[1;33m:\u001b[0m\u001b[1;33m\u001b[0m\u001b[1;33m\u001b[0m\u001b[0m\n\u001b[0;32m    807\u001b[0m             \u001b[1;31m# lightning module hook\u001b[0m\u001b[1;33m\u001b[0m\u001b[1;33m\u001b[0m\u001b[1;33m\u001b[0m\u001b[0m\n\u001b[1;32m--> 808\u001b[1;33m             \u001b[0mresult\u001b[0m \u001b[1;33m=\u001b[0m \u001b[0mself\u001b[0m\u001b[1;33m.\u001b[0m\u001b[0mtraining_step\u001b[0m\u001b[1;33m(\u001b[0m\u001b[0msplit_batch\u001b[0m\u001b[1;33m,\u001b[0m \u001b[0mbatch_idx\u001b[0m\u001b[1;33m,\u001b[0m \u001b[0mopt_idx\u001b[0m\u001b[1;33m,\u001b[0m \u001b[0mhiddens\u001b[0m\u001b[1;33m)\u001b[0m\u001b[1;33m\u001b[0m\u001b[1;33m\u001b[0m\u001b[0m\n\u001b[0m\u001b[0;32m    809\u001b[0m             \u001b[0mself\u001b[0m\u001b[1;33m.\u001b[0m\u001b[0m_curr_step_result\u001b[0m \u001b[1;33m=\u001b[0m \u001b[0mresult\u001b[0m\u001b[1;33m\u001b[0m\u001b[1;33m\u001b[0m\u001b[0m\n\u001b[0;32m    810\u001b[0m \u001b[1;33m\u001b[0m\u001b[0m\n",
      "\u001b[1;32m~\\anaconda3\\lib\\site-packages\\pytorch_lightning\\trainer\\training_loop.py\u001b[0m in \u001b[0;36mtraining_step\u001b[1;34m(self, split_batch, batch_idx, opt_idx, hiddens)\u001b[0m\n\u001b[0;32m    328\u001b[0m             \u001b[0mmodel_ref\u001b[0m\u001b[1;33m.\u001b[0m\u001b[0m_current_fx_name\u001b[0m \u001b[1;33m=\u001b[0m \u001b[1;34m'training_step'\u001b[0m\u001b[1;33m\u001b[0m\u001b[1;33m\u001b[0m\u001b[0m\n\u001b[0;32m    329\u001b[0m             \u001b[0mmodel_ref\u001b[0m\u001b[1;33m.\u001b[0m\u001b[0m_results\u001b[0m \u001b[1;33m=\u001b[0m \u001b[0mResult\u001b[0m\u001b[1;33m(\u001b[0m\u001b[1;33m)\u001b[0m\u001b[1;33m\u001b[0m\u001b[1;33m\u001b[0m\u001b[0m\n\u001b[1;32m--> 330\u001b[1;33m             \u001b[0mtraining_step_output\u001b[0m \u001b[1;33m=\u001b[0m \u001b[0mself\u001b[0m\u001b[1;33m.\u001b[0m\u001b[0mtrainer\u001b[0m\u001b[1;33m.\u001b[0m\u001b[0maccelerator_backend\u001b[0m\u001b[1;33m.\u001b[0m\u001b[0mtraining_step\u001b[0m\u001b[1;33m(\u001b[0m\u001b[0margs\u001b[0m\u001b[1;33m)\u001b[0m\u001b[1;33m\u001b[0m\u001b[1;33m\u001b[0m\u001b[0m\n\u001b[0m\u001b[0;32m    331\u001b[0m             \u001b[0mself\u001b[0m\u001b[1;33m.\u001b[0m\u001b[0mtrainer\u001b[0m\u001b[1;33m.\u001b[0m\u001b[0mlogger_connector\u001b[0m\u001b[1;33m.\u001b[0m\u001b[0mcache_logged_metrics\u001b[0m\u001b[1;33m(\u001b[0m\u001b[1;33m)\u001b[0m\u001b[1;33m\u001b[0m\u001b[1;33m\u001b[0m\u001b[0m\n\u001b[0;32m    332\u001b[0m \u001b[1;33m\u001b[0m\u001b[0m\n",
      "\u001b[1;32m~\\anaconda3\\lib\\site-packages\\pytorch_lightning\\accelerators\\gpu_accelerator.py\u001b[0m in \u001b[0;36mtraining_step\u001b[1;34m(self, args)\u001b[0m\n\u001b[0;32m     79\u001b[0m \u001b[1;33m\u001b[0m\u001b[0m\n\u001b[0;32m     80\u001b[0m     \u001b[1;32mdef\u001b[0m \u001b[0mtraining_step\u001b[0m\u001b[1;33m(\u001b[0m\u001b[0mself\u001b[0m\u001b[1;33m,\u001b[0m \u001b[0margs\u001b[0m\u001b[1;33m)\u001b[0m\u001b[1;33m:\u001b[0m\u001b[1;33m\u001b[0m\u001b[1;33m\u001b[0m\u001b[0m\n\u001b[1;32m---> 81\u001b[1;33m         \u001b[1;32mreturn\u001b[0m \u001b[0mself\u001b[0m\u001b[1;33m.\u001b[0m\u001b[0m_step\u001b[0m\u001b[1;33m(\u001b[0m\u001b[0mself\u001b[0m\u001b[1;33m.\u001b[0m\u001b[0mtrainer\u001b[0m\u001b[1;33m.\u001b[0m\u001b[0mmodel\u001b[0m\u001b[1;33m.\u001b[0m\u001b[0mtraining_step\u001b[0m\u001b[1;33m,\u001b[0m \u001b[0margs\u001b[0m\u001b[1;33m)\u001b[0m\u001b[1;33m\u001b[0m\u001b[1;33m\u001b[0m\u001b[0m\n\u001b[0m\u001b[0;32m     82\u001b[0m \u001b[1;33m\u001b[0m\u001b[0m\n\u001b[0;32m     83\u001b[0m     \u001b[1;32mdef\u001b[0m \u001b[0mvalidation_step\u001b[0m\u001b[1;33m(\u001b[0m\u001b[0mself\u001b[0m\u001b[1;33m,\u001b[0m \u001b[0margs\u001b[0m\u001b[1;33m)\u001b[0m\u001b[1;33m:\u001b[0m\u001b[1;33m\u001b[0m\u001b[1;33m\u001b[0m\u001b[0m\n",
      "\u001b[1;32m~\\anaconda3\\lib\\site-packages\\pytorch_lightning\\accelerators\\gpu_accelerator.py\u001b[0m in \u001b[0;36m_step\u001b[1;34m(self, model_step, args)\u001b[0m\n\u001b[0;32m     74\u001b[0m                 \u001b[0moutput\u001b[0m \u001b[1;33m=\u001b[0m \u001b[0mmodel_step\u001b[0m\u001b[1;33m(\u001b[0m\u001b[1;33m*\u001b[0m\u001b[0margs\u001b[0m\u001b[1;33m)\u001b[0m\u001b[1;33m\u001b[0m\u001b[1;33m\u001b[0m\u001b[0m\n\u001b[0;32m     75\u001b[0m         \u001b[1;32melse\u001b[0m\u001b[1;33m:\u001b[0m\u001b[1;33m\u001b[0m\u001b[1;33m\u001b[0m\u001b[0m\n\u001b[1;32m---> 76\u001b[1;33m             \u001b[0moutput\u001b[0m \u001b[1;33m=\u001b[0m \u001b[0mmodel_step\u001b[0m\u001b[1;33m(\u001b[0m\u001b[1;33m*\u001b[0m\u001b[0margs\u001b[0m\u001b[1;33m)\u001b[0m\u001b[1;33m\u001b[0m\u001b[1;33m\u001b[0m\u001b[0m\n\u001b[0m\u001b[0;32m     77\u001b[0m \u001b[1;33m\u001b[0m\u001b[0m\n\u001b[0;32m     78\u001b[0m         \u001b[1;32mreturn\u001b[0m \u001b[0moutput\u001b[0m\u001b[1;33m\u001b[0m\u001b[1;33m\u001b[0m\u001b[0m\n",
      "\u001b[1;32m<ipython-input-257-6424a1e17551>\u001b[0m in \u001b[0;36mtraining_step\u001b[1;34m(self, train_batch, batch_idx)\u001b[0m\n\u001b[0;32m     21\u001b[0m \u001b[1;33m\u001b[0m\u001b[0m\n\u001b[0;32m     22\u001b[0m     \u001b[1;32mdef\u001b[0m \u001b[0mtraining_step\u001b[0m\u001b[1;33m(\u001b[0m\u001b[0mself\u001b[0m\u001b[1;33m,\u001b[0m \u001b[0mtrain_batch\u001b[0m\u001b[1;33m,\u001b[0m \u001b[0mbatch_idx\u001b[0m\u001b[1;33m)\u001b[0m\u001b[1;33m:\u001b[0m\u001b[1;33m\u001b[0m\u001b[1;33m\u001b[0m\u001b[0m\n\u001b[1;32m---> 23\u001b[1;33m         \u001b[0mx\u001b[0m\u001b[1;33m,\u001b[0m \u001b[0my\u001b[0m \u001b[1;33m=\u001b[0m \u001b[0mtrain_batch\u001b[0m\u001b[1;33m\u001b[0m\u001b[1;33m\u001b[0m\u001b[0m\n\u001b[0m\u001b[0;32m     24\u001b[0m         \u001b[0mlogits\u001b[0m \u001b[1;33m=\u001b[0m \u001b[0mself\u001b[0m\u001b[1;33m.\u001b[0m\u001b[0mforward\u001b[0m\u001b[1;33m(\u001b[0m\u001b[0mx\u001b[0m\u001b[1;33m)\u001b[0m\u001b[1;33m\u001b[0m\u001b[1;33m\u001b[0m\u001b[0m\n\u001b[0;32m     25\u001b[0m         \u001b[0mloss\u001b[0m \u001b[1;33m=\u001b[0m \u001b[0mself\u001b[0m\u001b[1;33m.\u001b[0m\u001b[0mloss\u001b[0m\u001b[1;33m(\u001b[0m\u001b[0mlogits\u001b[0m\u001b[1;33m,\u001b[0m\u001b[0my\u001b[0m\u001b[1;33m)\u001b[0m\u001b[1;33m\u001b[0m\u001b[1;33m\u001b[0m\u001b[0m\n",
      "\u001b[1;31mValueError\u001b[0m: too many values to unpack (expected 2)"
     ]
    },
    {
     "data": {
      "application/javascript": [
       "\n",
       "            setTimeout(function() {\n",
       "                var nbb_cell_id = 258;\n",
       "                var nbb_unformatted_code = \"from pytorch_lightning import Trainer\\nmodel = TemporalWindModel()\\ntrainer = Trainer(gpus=1)\\ntrainer.fit(model, temporal)\";\n",
       "                var nbb_formatted_code = \"from pytorch_lightning import Trainer\\n\\nmodel = TemporalWindModel()\\ntrainer = Trainer(gpus=1)\\ntrainer.fit(model, temporal)\";\n",
       "                var nbb_cells = Jupyter.notebook.get_cells();\n",
       "                for (var i = 0; i < nbb_cells.length; ++i) {\n",
       "                    if (nbb_cells[i].input_prompt_number == nbb_cell_id) {\n",
       "                        if (nbb_cells[i].get_text() == nbb_unformatted_code) {\n",
       "                             nbb_cells[i].set_text(nbb_formatted_code);\n",
       "                        }\n",
       "                        break;\n",
       "                    }\n",
       "                }\n",
       "            }, 500);\n",
       "            "
      ],
      "text/plain": [
       "<IPython.core.display.Javascript object>"
      ]
     },
     "metadata": {},
     "output_type": "display_data"
    }
   ],
   "source": [
    "from pytorch_lightning import Trainer\n",
    "model = TemporalWindModel()\n",
    "trainer = Trainer(gpus=1)\n",
    "trainer.fit(model, temporal)"
   ]
  },
  {
   "cell_type": "code",
   "execution_count": null,
   "metadata": {},
   "outputs": [],
   "source": []
  }
 ],
 "metadata": {
  "kernelspec": {
   "display_name": "Python 3",
   "language": "python",
   "name": "python3"
  },
  "language_info": {
   "codemirror_mode": {
    "name": "ipython",
    "version": 3
   },
   "file_extension": ".py",
   "mimetype": "text/x-python",
   "name": "python",
   "nbconvert_exporter": "python",
   "pygments_lexer": "ipython3",
   "version": "3.8.5"
  }
 },
 "nbformat": 4,
 "nbformat_minor": 4
}
