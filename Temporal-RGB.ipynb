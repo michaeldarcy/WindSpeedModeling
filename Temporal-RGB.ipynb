{
 "cells": [
  {
   "cell_type": "code",
   "execution_count": 1,
   "metadata": {},
   "outputs": [
    {
     "data": {
      "application/javascript": [
       "\n",
       "            setTimeout(function() {\n",
       "                var nbb_cell_id = 1;\n",
       "                var nbb_unformatted_code = \"%load_ext nb_black\\nfrom pathlib import Path\\n\\nimport matplotlib.pyplot as plt\\nimport numpy as np\\nimport pandas as pd\\nimport seaborn as sns\\n\\n\\npd.set_option(\\\"max_colwidth\\\", 80)\";\n",
       "                var nbb_formatted_code = \"%load_ext nb_black\\nfrom pathlib import Path\\n\\nimport matplotlib.pyplot as plt\\nimport numpy as np\\nimport pandas as pd\\nimport seaborn as sns\\n\\n\\npd.set_option(\\\"max_colwidth\\\", 80)\";\n",
       "                var nbb_cells = Jupyter.notebook.get_cells();\n",
       "                for (var i = 0; i < nbb_cells.length; ++i) {\n",
       "                    if (nbb_cells[i].input_prompt_number == nbb_cell_id) {\n",
       "                        if (nbb_cells[i].get_text() == nbb_unformatted_code) {\n",
       "                             nbb_cells[i].set_text(nbb_formatted_code);\n",
       "                        }\n",
       "                        break;\n",
       "                    }\n",
       "                }\n",
       "            }, 500);\n",
       "            "
      ],
      "text/plain": [
       "<IPython.core.display.Javascript object>"
      ]
     },
     "metadata": {},
     "output_type": "display_data"
    }
   ],
   "source": [
    "%load_ext nb_black\n",
    "from pathlib import Path\n",
    "\n",
    "import matplotlib.pyplot as plt\n",
    "import numpy as np\n",
    "import pandas as pd\n",
    "import seaborn as sns\n",
    "\n",
    "\n",
    "pd.set_option(\"max_colwidth\", 80)"
   ]
  },
  {
   "cell_type": "code",
   "execution_count": 2,
   "metadata": {},
   "outputs": [
    {
     "data": {
      "text/html": [
       "<div>\n",
       "<style scoped>\n",
       "    .dataframe tbody tr th:only-of-type {\n",
       "        vertical-align: middle;\n",
       "    }\n",
       "\n",
       "    .dataframe tbody tr th {\n",
       "        vertical-align: top;\n",
       "    }\n",
       "\n",
       "    .dataframe thead th {\n",
       "        text-align: right;\n",
       "    }\n",
       "</style>\n",
       "<table border=\"1\" class=\"dataframe\">\n",
       "  <thead>\n",
       "    <tr style=\"text-align: right;\">\n",
       "      <th></th>\n",
       "      <th>wind_speed</th>\n",
       "    </tr>\n",
       "  </thead>\n",
       "  <tbody>\n",
       "    <tr>\n",
       "      <th>count</th>\n",
       "      <td>70257.000000</td>\n",
       "    </tr>\n",
       "    <tr>\n",
       "      <th>mean</th>\n",
       "      <td>50.344008</td>\n",
       "    </tr>\n",
       "    <tr>\n",
       "      <th>std</th>\n",
       "      <td>26.795277</td>\n",
       "    </tr>\n",
       "    <tr>\n",
       "      <th>min</th>\n",
       "      <td>15.000000</td>\n",
       "    </tr>\n",
       "    <tr>\n",
       "      <th>25%</th>\n",
       "      <td>30.000000</td>\n",
       "    </tr>\n",
       "    <tr>\n",
       "      <th>50%</th>\n",
       "      <td>43.000000</td>\n",
       "    </tr>\n",
       "    <tr>\n",
       "      <th>75%</th>\n",
       "      <td>62.000000</td>\n",
       "    </tr>\n",
       "    <tr>\n",
       "      <th>max</th>\n",
       "      <td>185.000000</td>\n",
       "    </tr>\n",
       "  </tbody>\n",
       "</table>\n",
       "</div>"
      ],
      "text/plain": [
       "         wind_speed\n",
       "count  70257.000000\n",
       "mean      50.344008\n",
       "std       26.795277\n",
       "min       15.000000\n",
       "25%       30.000000\n",
       "50%       43.000000\n",
       "75%       62.000000\n",
       "max      185.000000"
      ]
     },
     "execution_count": 2,
     "metadata": {},
     "output_type": "execute_result"
    },
    {
     "data": {
      "application/javascript": [
       "\n",
       "            setTimeout(function() {\n",
       "                var nbb_cell_id = 2;\n",
       "                var nbb_unformatted_code = \"# This is where our downloaded images and metadata live locally\\nDATA_PATH = Path.cwd().parent / \\\"data\\\" / \\\"final\\\" / \\\"public\\\"\\ntrain_metadata = pd.read_csv(DATA_PATH / \\\"training_set_features.csv\\\")\\ntrain_labels = pd.read_csv(DATA_PATH / \\\"training_set_labels.csv\\\")\\ntrain_labels.describe()\";\n",
       "                var nbb_formatted_code = \"# This is where our downloaded images and metadata live locally\\nDATA_PATH = Path.cwd().parent / \\\"data\\\" / \\\"final\\\" / \\\"public\\\"\\ntrain_metadata = pd.read_csv(DATA_PATH / \\\"training_set_features.csv\\\")\\ntrain_labels = pd.read_csv(DATA_PATH / \\\"training_set_labels.csv\\\")\\ntrain_labels.describe()\";\n",
       "                var nbb_cells = Jupyter.notebook.get_cells();\n",
       "                for (var i = 0; i < nbb_cells.length; ++i) {\n",
       "                    if (nbb_cells[i].input_prompt_number == nbb_cell_id) {\n",
       "                        if (nbb_cells[i].get_text() == nbb_unformatted_code) {\n",
       "                             nbb_cells[i].set_text(nbb_formatted_code);\n",
       "                        }\n",
       "                        break;\n",
       "                    }\n",
       "                }\n",
       "            }, 500);\n",
       "            "
      ],
      "text/plain": [
       "<IPython.core.display.Javascript object>"
      ]
     },
     "metadata": {},
     "output_type": "display_data"
    }
   ],
   "source": [
    "# This is where our downloaded images and metadata live locally\n",
    "DATA_PATH = Path.cwd().parent / \"data\" / \"final\" / \"public\"\n",
    "train_metadata = pd.read_csv(DATA_PATH / \"training_set_features.csv\")\n",
    "train_labels = pd.read_csv(DATA_PATH / \"training_set_labels.csv\")\n",
    "train_labels.describe()"
   ]
  },
  {
   "cell_type": "code",
   "execution_count": 14,
   "metadata": {},
   "outputs": [
    {
     "data": {
      "application/javascript": [
       "\n",
       "            setTimeout(function() {\n",
       "                var nbb_cell_id = 14;\n",
       "                var nbb_unformatted_code = \"def look_at_image(sample_img):\\n    return Image(str(sample_img))\";\n",
       "                var nbb_formatted_code = \"def look_at_image(sample_img):\\n    return Image(str(sample_img))\";\n",
       "                var nbb_cells = Jupyter.notebook.get_cells();\n",
       "                for (var i = 0; i < nbb_cells.length; ++i) {\n",
       "                    if (nbb_cells[i].input_prompt_number == nbb_cell_id) {\n",
       "                        if (nbb_cells[i].get_text() == nbb_unformatted_code) {\n",
       "                             nbb_cells[i].set_text(nbb_formatted_code);\n",
       "                        }\n",
       "                        break;\n",
       "                    }\n",
       "                }\n",
       "            }, 500);\n",
       "            "
      ],
      "text/plain": [
       "<IPython.core.display.Javascript object>"
      ]
     },
     "metadata": {},
     "output_type": "display_data"
    }
   ],
   "source": []
  },
  {
   "cell_type": "code",
   "execution_count": 20,
   "metadata": {},
   "outputs": [
    {
     "name": "stdout",
     "output_type": "stream",
     "text": [
      "Pillow:  L (366, 366)\n"
     ]
    },
    {
     "data": {
      "image/jpeg": "[encoded data removed]",
      "text/plain": [
       "<IPython.core.display.Image object>"
      ]
     },
     "execution_count": 20,
     "metadata": {},
     "output_type": "execute_result"
    },
    {
     "data": {
      "application/javascript": [
       "\n",
       "            setTimeout(function() {\n",
       "                var nbb_cell_id = 20;\n",
       "                var nbb_unformatted_code = \"# Merge train_metadata with train_labels on the image_id field\\nfull_metadata = train_metadata.merge(train_labels, on=\\\"image_id\\\")\\n# Path style access for pandas\\nimport pandas_path\\nfrom IPython.display import Image\\nfrom PIL import Image as pil_image\\n\\nfull_metadata[\\\"file_name\\\"] = (\\n    DATA_PATH / \\\"train\\\" / full_metadata.image_id.path.with_suffix(\\\".jpg\\\")\\n)\\nexamples = [\\n    pil_image.open(full_metadata.iloc[i][\\\"file_name\\\"]) for i in range(5)\\n]\\nprint('Pillow: ', examples[1].mode, examples[1].size)\\nImage(str(full_metadata.iloc[1][\\\"file_name\\\"]))   \";\n",
       "                var nbb_formatted_code = \"# Merge train_metadata with train_labels on the image_id field\\nfull_metadata = train_metadata.merge(train_labels, on=\\\"image_id\\\")\\n# Path style access for pandas\\nimport pandas_path\\nfrom IPython.display import Image\\nfrom PIL import Image as pil_image\\n\\nfull_metadata[\\\"file_name\\\"] = (\\n    DATA_PATH / \\\"train\\\" / full_metadata.image_id.path.with_suffix(\\\".jpg\\\")\\n)\\nexamples = [pil_image.open(full_metadata.iloc[i][\\\"file_name\\\"]) for i in range(5)]\\nprint(\\\"Pillow: \\\", examples[1].mode, examples[1].size)\\nImage(str(full_metadata.iloc[1][\\\"file_name\\\"]))\";\n",
       "                var nbb_cells = Jupyter.notebook.get_cells();\n",
       "                for (var i = 0; i < nbb_cells.length; ++i) {\n",
       "                    if (nbb_cells[i].input_prompt_number == nbb_cell_id) {\n",
       "                        if (nbb_cells[i].get_text() == nbb_unformatted_code) {\n",
       "                             nbb_cells[i].set_text(nbb_formatted_code);\n",
       "                        }\n",
       "                        break;\n",
       "                    }\n",
       "                }\n",
       "            }, 500);\n",
       "            "
      ],
      "text/plain": [
       "<IPython.core.display.Javascript object>"
      ]
     },
     "metadata": {},
     "output_type": "display_data"
    }
   ],
   "source": [
    "# Merge train_metadata with train_labels on the image_id field\n",
    "full_metadata = train_metadata.merge(train_labels, on=\"image_id\")\n",
    "# Path style access for pandas\n",
    "import pandas_path\n",
    "from IPython.display import Image\n",
    "from PIL import Image as pil_image\n",
    "\n",
    "full_metadata[\"file_name\"] = (\n",
    "    DATA_PATH / \"train\" / full_metadata.image_id.path.with_suffix(\".jpg\")\n",
    ")\n",
    "examples = [\n",
    "    pil_image.open(full_metadata.iloc[i][\"file_name\"]) for i in range(5)\n",
    "]\n",
    "print('Pillow: ', examples[1].mode, examples[1].size)\n",
    "Image(str(full_metadata.iloc[1][\"file_name\"]))   "
   ]
  },
  {
   "cell_type": "code",
   "execution_count": 22,
   "metadata": {},
   "outputs": [
    {
     "data": {
      "image/png": "[encoded data removed]",
      "text/plain": [
       "<PIL.Image.Image image mode=RGB size=366x366 at 0x159E0BF4820>"
      ]
     },
     "execution_count": 22,
     "metadata": {},
     "output_type": "execute_result"
    },
    {
     "data": {
      "application/javascript": [
       "\n",
       "            setTimeout(function() {\n",
       "                var nbb_cell_id = 22;\n",
       "                var nbb_unformatted_code = \"pil_image.merge('RGB', (examples[1],examples[2],examples[3]))\";\n",
       "                var nbb_formatted_code = \"pil_image.merge(\\\"RGB\\\", (examples[1], examples[2], examples[3]))\";\n",
       "                var nbb_cells = Jupyter.notebook.get_cells();\n",
       "                for (var i = 0; i < nbb_cells.length; ++i) {\n",
       "                    if (nbb_cells[i].input_prompt_number == nbb_cell_id) {\n",
       "                        if (nbb_cells[i].get_text() == nbb_unformatted_code) {\n",
       "                             nbb_cells[i].set_text(nbb_formatted_code);\n",
       "                        }\n",
       "                        break;\n",
       "                    }\n",
       "                }\n",
       "            }, 500);\n",
       "            "
      ],
      "text/plain": [
       "<IPython.core.display.Javascript object>"
      ]
     },
     "metadata": {},
     "output_type": "display_data"
    }
   ],
   "source": [
    "pil_image.merge('RGB', (examples[1],examples[2],examples[3]))"
   ]
  },
  {
   "cell_type": "code",
   "execution_count": 312,
   "metadata": {},
   "outputs": [
    {
     "data": {
      "text/html": [
       "<div>\n",
       "<style scoped>\n",
       "    .dataframe tbody tr th:only-of-type {\n",
       "        vertical-align: middle;\n",
       "    }\n",
       "\n",
       "    .dataframe tbody tr th {\n",
       "        vertical-align: top;\n",
       "    }\n",
       "\n",
       "    .dataframe thead th {\n",
       "        text-align: right;\n",
       "    }\n",
       "</style>\n",
       "<table border=\"1\" class=\"dataframe\">\n",
       "  <thead>\n",
       "    <tr style=\"text-align: right;\">\n",
       "      <th></th>\n",
       "      <th>image_id</th>\n",
       "      <th>storm_id</th>\n",
       "      <th>relative_time</th>\n",
       "      <th>ocean</th>\n",
       "      <th>wind_speed</th>\n",
       "      <th>file_name</th>\n",
       "      <th>images_per_storm</th>\n",
       "      <th>pct_of_storm</th>\n",
       "    </tr>\n",
       "  </thead>\n",
       "  <tbody>\n",
       "    <tr>\n",
       "      <th>0</th>\n",
       "      <td>abs_000</td>\n",
       "      <td>abs</td>\n",
       "      <td>0</td>\n",
       "      <td>2</td>\n",
       "      <td>43</td>\n",
       "      <td>C:\\Users\\micha\\data\\final\\public\\train\\abs_000.jpg</td>\n",
       "      <td>57</td>\n",
       "      <td>0.911133</td>\n",
       "    </tr>\n",
       "    <tr>\n",
       "      <th>1</th>\n",
       "      <td>abs_001</td>\n",
       "      <td>abs</td>\n",
       "      <td>1800</td>\n",
       "      <td>2</td>\n",
       "      <td>44</td>\n",
       "      <td>C:\\Users\\micha\\data\\final\\public\\train\\abs_001.jpg</td>\n",
       "      <td>57</td>\n",
       "      <td>0.278917</td>\n",
       "    </tr>\n",
       "    <tr>\n",
       "      <th>2</th>\n",
       "      <td>abs_002</td>\n",
       "      <td>abs</td>\n",
       "      <td>5400</td>\n",
       "      <td>2</td>\n",
       "      <td>45</td>\n",
       "      <td>C:\\Users\\micha\\data\\final\\public\\train\\abs_002.jpg</td>\n",
       "      <td>57</td>\n",
       "      <td>0.988286</td>\n",
       "    </tr>\n",
       "    <tr>\n",
       "      <th>3</th>\n",
       "      <td>abs_003</td>\n",
       "      <td>abs</td>\n",
       "      <td>17999</td>\n",
       "      <td>2</td>\n",
       "      <td>52</td>\n",
       "      <td>C:\\Users\\micha\\data\\final\\public\\train\\abs_003.jpg</td>\n",
       "      <td>57</td>\n",
       "      <td>0.338073</td>\n",
       "    </tr>\n",
       "    <tr>\n",
       "      <th>4</th>\n",
       "      <td>abs_004</td>\n",
       "      <td>abs</td>\n",
       "      <td>19799</td>\n",
       "      <td>2</td>\n",
       "      <td>53</td>\n",
       "      <td>C:\\Users\\micha\\data\\final\\public\\train\\abs_004.jpg</td>\n",
       "      <td>57</td>\n",
       "      <td>0.083318</td>\n",
       "    </tr>\n",
       "  </tbody>\n",
       "</table>\n",
       "</div>"
      ],
      "text/plain": [
       "  image_id storm_id  relative_time  ocean  wind_speed  \\\n",
       "0  abs_000      abs              0      2          43   \n",
       "1  abs_001      abs           1800      2          44   \n",
       "2  abs_002      abs           5400      2          45   \n",
       "3  abs_003      abs          17999      2          52   \n",
       "4  abs_004      abs          19799      2          53   \n",
       "\n",
       "                                            file_name  images_per_storm  \\\n",
       "0  C:\\Users\\micha\\data\\final\\public\\train\\abs_000.jpg                57   \n",
       "1  C:\\Users\\micha\\data\\final\\public\\train\\abs_001.jpg                57   \n",
       "2  C:\\Users\\micha\\data\\final\\public\\train\\abs_002.jpg                57   \n",
       "3  C:\\Users\\micha\\data\\final\\public\\train\\abs_003.jpg                57   \n",
       "4  C:\\Users\\micha\\data\\final\\public\\train\\abs_004.jpg                57   \n",
       "\n",
       "   pct_of_storm  \n",
       "0      0.911133  \n",
       "1      0.278917  \n",
       "2      0.988286  \n",
       "3      0.338073  \n",
       "4      0.083318  "
      ]
     },
     "execution_count": 312,
     "metadata": {},
     "output_type": "execute_result"
    },
    {
     "data": {
      "application/javascript": [
       "\n",
       "            setTimeout(function() {\n",
       "                var nbb_cell_id = 311;\n",
       "                var nbb_unformatted_code = \"# Merge train_metadata with train_labels on the image_id field\\nfull_metadata = train_metadata.merge(train_labels, on=\\\"image_id\\\")\\n# Path style access for pandas\\nimport pandas_path\\nfrom IPython.display import Image\\nfrom PIL import Image as pil_image\\n\\nfull_metadata[\\\"file_name\\\"] = (\\n    DATA_PATH / \\\"train\\\" / full_metadata.image_id.path.with_suffix(\\\".jpg\\\")\\n)\\nexamples = [\\n    pil_image.open(full_metadata.iloc[i][\\\"file_name\\\"]).convert(\\\"RGB\\\") for i in range(5)\\n]\\nfor image in examples:\\n    print(image.size)\";\n",
       "                var nbb_formatted_code = \"# Merge train_metadata with train_labels on the image_id field\\nfull_metadata = train_metadata.merge(train_labels, on=\\\"image_id\\\")\\n# Path style access for pandas\\nimport pandas_path\\nfrom IPython.display import Image\\nfrom PIL import Image as pil_image\\n\\nfull_metadata[\\\"file_name\\\"] = (\\n    DATA_PATH / \\\"train\\\" / full_metadata.image_id.path.with_suffix(\\\".jpg\\\")\\n)\\nexamples = [\\n    pil_image.open(full_metadata.iloc[i][\\\"file_name\\\"]).convert(\\\"RGB\\\") for i in range(5)\\n]\\nfor image in examples:\\n    print(image.size)\";\n",
       "                var nbb_cells = Jupyter.notebook.get_cells();\n",
       "                for (var i = 0; i < nbb_cells.length; ++i) {\n",
       "                    if (nbb_cells[i].input_prompt_number == nbb_cell_id) {\n",
       "                        if (nbb_cells[i].get_text() == nbb_unformatted_code) {\n",
       "                             nbb_cells[i].set_text(nbb_formatted_code);\n",
       "                        }\n",
       "                        break;\n",
       "                    }\n",
       "                }\n",
       "            }, 500);\n",
       "            "
      ],
      "text/plain": [
       "<IPython.core.display.Javascript object>"
      ]
     },
     "metadata": {},
     "output_type": "display_data"
    }
   ],
   "source": [
    "# Add a temporary column for number of images per storm\n",
    "images_per_storm = full_metadata.groupby(\"storm_id\").size().to_frame(\"images_per_storm\")\n",
    "full_metadata = full_metadata.merge(images_per_storm, how=\"left\", on=\"storm_id\")\n",
    "# Each storm is sorted by relative time\n",
    "# Identify the final 20% of images per storm\n",
    "#full_metadata[\"pct_of_storm\"] = (\n",
    "#    full_metadata.groupby(\"storm_id\").cumcount() / full_metadata.images_per_storm\n",
    "#)\n",
    "full_metadata[\"pct_of_storm\"] = (\n",
    "    np.random.random_sample(max(full_metadata.shape))\n",
    ")\n",
    "full_metadata.head()"
   ]
  },
  {
   "cell_type": "code",
   "execution_count": 314,
   "metadata": {},
   "outputs": [
    {
     "data": {
      "text/plain": [
       "(44972, 6)"
      ]
     },
     "execution_count": 314,
     "metadata": {},
     "output_type": "execute_result"
    },
    {
     "data": {
      "application/javascript": [
       "\n",
       "            setTimeout(function() {\n",
       "                var nbb_cell_id = 313;\n",
       "                var nbb_unformatted_code = \"train = full_metadata[full_metadata.pct_of_storm < 0.8].drop(\\n    [\\\"images_per_storm\\\", \\\"pct_of_storm\\\"], axis=1\\n)\\nval = full_metadata[full_metadata.pct_of_storm >= 0.8].drop(\\n    [\\\"images_per_storm\\\", \\\"pct_of_storm\\\"], axis=1\\n)\\n\\n# Sample 10% to increase performance\\ntrain = train.sample(frac=0.8, replace=False)\\nval = val.sample(frac=0.2, replace=False)\";\n",
       "                var nbb_formatted_code = \"train = full_metadata[full_metadata.pct_of_storm < 0.8].drop(\\n    [\\\"images_per_storm\\\", \\\"pct_of_storm\\\"], axis=1\\n)\\nval = full_metadata[full_metadata.pct_of_storm >= 0.8].drop(\\n    [\\\"images_per_storm\\\", \\\"pct_of_storm\\\"], axis=1\\n)\\n\\n# Sample 10% to increase performance\\ntrain = train.sample(frac=0.8, replace=False)\\nval = val.sample(frac=0.2, replace=False)\";\n",
       "                var nbb_cells = Jupyter.notebook.get_cells();\n",
       "                for (var i = 0; i < nbb_cells.length; ++i) {\n",
       "                    if (nbb_cells[i].input_prompt_number == nbb_cell_id) {\n",
       "                        if (nbb_cells[i].get_text() == nbb_unformatted_code) {\n",
       "                             nbb_cells[i].set_text(nbb_formatted_code);\n",
       "                        }\n",
       "                        break;\n",
       "                    }\n",
       "                }\n",
       "            }, 500);\n",
       "            "
      ],
      "text/plain": [
       "<IPython.core.display.Javascript object>"
      ]
     },
     "metadata": {},
     "output_type": "display_data"
    }
   ],
   "source": [
    "full_train = full_metadata[full_metadata.pct_of_storm < 0.8].drop(\n",
    "    [\"images_per_storm\", \"pct_of_storm\"], axis=1\n",
    ")\n",
    "full_val = full_metadata[full_metadata.pct_of_storm >= 0.8].drop(\n",
    "    [\"images_per_storm\", \"pct_of_storm\"], axis=1\n",
    ")\n",
    "train = full_train.sample(frac=0.8, replace=False)\n",
    "val = full_val.sample(frac=0.8, replace=False)\n",
    "train.shape"
   ]
  },
  {
   "cell_type": "code",
   "execution_count": 315,
   "metadata": {},
   "outputs": [
    {
     "data": {
      "text/plain": [
       "(2808, 6)"
      ]
     },
     "execution_count": 315,
     "metadata": {},
     "output_type": "execute_result"
    },
    {
     "data": {
      "application/javascript": [
       "\n",
       "            setTimeout(function() {\n",
       "                var nbb_cell_id = 314;\n",
       "                var nbb_unformatted_code = \"train.shape\";\n",
       "                var nbb_formatted_code = \"train.shape\";\n",
       "                var nbb_cells = Jupyter.notebook.get_cells();\n",
       "                for (var i = 0; i < nbb_cells.length; ++i) {\n",
       "                    if (nbb_cells[i].input_prompt_number == nbb_cell_id) {\n",
       "                        if (nbb_cells[i].get_text() == nbb_unformatted_code) {\n",
       "                             nbb_cells[i].set_text(nbb_formatted_code);\n",
       "                        }\n",
       "                        break;\n",
       "                    }\n",
       "                }\n",
       "            }, 500);\n",
       "            "
      ],
      "text/plain": [
       "<IPython.core.display.Javascript object>"
      ]
     },
     "metadata": {},
     "output_type": "display_data"
    }
   ],
   "source": [
    "val.shape"
   ]
  },
  {
   "cell_type": "code",
   "execution_count": 316,
   "metadata": {},
   "outputs": [
    {
     "data": {
      "application/javascript": [
       "\n",
       "            setTimeout(function() {\n",
       "                var nbb_cell_id = 315;\n",
       "                var nbb_unformatted_code = \"val.shape\";\n",
       "                var nbb_formatted_code = \"val.shape\";\n",
       "                var nbb_cells = Jupyter.notebook.get_cells();\n",
       "                for (var i = 0; i < nbb_cells.length; ++i) {\n",
       "                    if (nbb_cells[i].input_prompt_number == nbb_cell_id) {\n",
       "                        if (nbb_cells[i].get_text() == nbb_unformatted_code) {\n",
       "                             nbb_cells[i].set_text(nbb_formatted_code);\n",
       "                        }\n",
       "                        break;\n",
       "                    }\n",
       "                }\n",
       "            }, 500);\n",
       "            "
      ],
      "text/plain": [
       "<IPython.core.display.Javascript object>"
      ]
     },
     "metadata": {},
     "output_type": "display_data"
    }
   ],
   "source": [
    "# Separate features from labels\n",
    "x_train = train.drop(\"wind_speed\", axis=1)\n",
    "y_train = train.wind_speed\n",
    "\n",
    "x_val = val.drop(\"wind_speed\", axis=1)\n",
    "y_val = val.wind_speed"
   ]
  },
  {
   "cell_type": "code",
   "execution_count": 317,
   "metadata": {},
   "outputs": [
    {
     "data": {
      "application/javascript": [
       "\n",
       "            setTimeout(function() {\n",
       "                var nbb_cell_id = 316;\n",
       "                var nbb_unformatted_code = \"# Separate features from labels\\nx_train = train.drop(\\\"wind_speed\\\", axis=1)\\ny_train = train.wind_speed\\n\\nx_val = val.drop(\\\"wind_speed\\\", axis=1)\\ny_val = val.wind_speed\";\n",
       "                var nbb_formatted_code = \"# Separate features from labels\\nx_train = train.drop(\\\"wind_speed\\\", axis=1)\\ny_train = train.wind_speed\\n\\nx_val = val.drop(\\\"wind_speed\\\", axis=1)\\ny_val = val.wind_speed\";\n",
       "                var nbb_cells = Jupyter.notebook.get_cells();\n",
       "                for (var i = 0; i < nbb_cells.length; ++i) {\n",
       "                    if (nbb_cells[i].input_prompt_number == nbb_cell_id) {\n",
       "                        if (nbb_cells[i].get_text() == nbb_unformatted_code) {\n",
       "                             nbb_cells[i].set_text(nbb_formatted_code);\n",
       "                        }\n",
       "                        break;\n",
       "                    }\n",
       "                }\n",
       "            }, 500);\n",
       "            "
      ],
      "text/plain": [
       "<IPython.core.display.Javascript object>"
      ]
     },
     "metadata": {},
     "output_type": "display_data"
    }
   ],
   "source": [
    "import torch\n",
    "from torch.utils.data import Dataset\n",
    "from torchvision import transforms"
   ]
  },
  {
   "cell_type": "code",
   "execution_count": 348,
   "metadata": {},
   "outputs": [
    {
     "data": {
      "application/javascript": [
       "\n",
       "            setTimeout(function() {\n",
       "                var nbb_cell_id = 346;\n",
       "                var nbb_unformatted_code = \"class DatasetWIND(Dataset):\\n    \\\"\\\"\\\"Reads in an image, transforms pixel values, and serves\\n    a dictionary containing the image id, image tensors, and label.\\n    \\\"\\\"\\\"\\n\\n    def __init__(self, x_train, y_train=None):\\n        self.data = x_train \\n        self.label = y_train\\n        self.transform = transforms.Compose(\\n            [\\n                transforms.Resize((128,128)),\\n                transforms.ToTensor(),\\n                # All models expect the same normalization mean & std\\n                # https://pytorch.org/docs/stable/torchvision/models.html\\n                transforms.Normalize(\\n                    mean=(0.485, 0.456, 0.406), std=(0.229, 0.224, 0.225)\\n                ),\\n            ]\\n        )\\n\\n\\n    def __len__(self):\\n        return len(self.data)\\n\\n    def __getitem__(self, index):\\n        image = pil_image.open(self.data.iloc[index][\\\"file_name\\\"]).convert(\\\"RGB\\\")\\n        image = self.transform(image)\\n        image_id = self.data.iloc[index][\\\"image_id\\\"]\\n        if self.label is not None:\\n            label = self.label.iloc[index]\\n            sample = {\\\"image_id\\\": image_id, \\\"image\\\": image, \\\"label\\\": label}\\n        else:\\n            sample = {\\n                \\\"image_id\\\": image_id,\\n                \\\"image\\\": image\\n            }\\n        return sample\";\n",
       "                var nbb_formatted_code = \"class DatasetWIND(Dataset):\\n    \\\"\\\"\\\"Reads in an image, transforms pixel values, and serves\\n    a dictionary containing the image id, image tensors, and label.\\n    \\\"\\\"\\\"\\n\\n    def __init__(self, x_train, y_train=None):\\n        self.data = x_train\\n        self.label = y_train\\n        self.transform = transforms.Compose(\\n            [\\n                transforms.Resize((128, 128)),\\n                transforms.ToTensor(),\\n                # All models expect the same normalization mean & std\\n                # https://pytorch.org/docs/stable/torchvision/models.html\\n                transforms.Normalize(\\n                    mean=(0.485, 0.456, 0.406), std=(0.229, 0.224, 0.225)\\n                ),\\n            ]\\n        )\\n\\n    def __len__(self):\\n        return len(self.data)\\n\\n    def __getitem__(self, index):\\n        image = pil_image.open(self.data.iloc[index][\\\"file_name\\\"]).convert(\\\"RGB\\\")\\n        image = self.transform(image)\\n        image_id = self.data.iloc[index][\\\"image_id\\\"]\\n        if self.label is not None:\\n            label = self.label.iloc[index]\\n            sample = {\\\"image_id\\\": image_id, \\\"image\\\": image, \\\"label\\\": label}\\n        else:\\n            sample = {\\\"image_id\\\": image_id, \\\"image\\\": image}\\n        return sample\";\n",
       "                var nbb_cells = Jupyter.notebook.get_cells();\n",
       "                for (var i = 0; i < nbb_cells.length; ++i) {\n",
       "                    if (nbb_cells[i].input_prompt_number == nbb_cell_id) {\n",
       "                        if (nbb_cells[i].get_text() == nbb_unformatted_code) {\n",
       "                             nbb_cells[i].set_text(nbb_formatted_code);\n",
       "                        }\n",
       "                        break;\n",
       "                    }\n",
       "                }\n",
       "            }, 500);\n",
       "            "
      ],
      "text/plain": [
       "<IPython.core.display.Javascript object>"
      ]
     },
     "metadata": {},
     "output_type": "display_data"
    }
   ],
   "source": [
    "class DatasetWIND(Dataset):\n",
    "    \"\"\"Reads in an image, transforms pixel values, and serves\n",
    "    a dictionary containing the image id, image tensors, and label.\n",
    "    \"\"\"\n",
    "\n",
    "    def __init__(self, x_train, y_train=None):\n",
    "        self.data = x_train \n",
    "        self.label = y_train\n",
    "        self.transform = transforms.Compose(\n",
    "            [\n",
    "                transforms.Resize((128,128)),\n",
    "                transforms.ToTensor(),\n",
    "                # All models expect the same normalization mean & std\n",
    "                # https://pytorch.org/docs/stable/torchvision/models.html\n",
    "                transforms.Normalize(\n",
    "                    mean=(0.485, 0.456, 0.406), std=(0.229, 0.224, 0.225)\n",
    "                ),\n",
    "            ]\n",
    "        )\n",
    "\n",
    "\n",
    "    def __len__(self):\n",
    "        return len(self.data)\n",
    "\n",
    "    def __getitem__(self, index):\n",
    "        image = pil_image.open(self.data.iloc[index][\"file_name\"]).convert(\"RGB\")\n",
    "        image = self.transform(image)\n",
    "        image_id = self.data.iloc[index][\"image_id\"]\n",
    "        if self.label is not None:\n",
    "            label = self.label.iloc[index]\n",
    "            sample = {\"image_id\": image_id, \"image\": image, \"label\": label}\n",
    "        else:\n",
    "            sample = {\n",
    "                \"image_id\": image_id,\n",
    "                \"image\": image\n",
    "            }\n",
    "        return sample"
   ]
  },
  {
   "cell_type": "code",
   "execution_count": 349,
   "metadata": {},
   "outputs": [
    {
     "data": {
      "application/javascript": [
       "\n",
       "            setTimeout(function() {\n",
       "                var nbb_cell_id = 347;\n",
       "                var nbb_unformatted_code = \"class DatasetWIND(Dataset):\\n    \\\"\\\"\\\"Reads in an image, transforms pixel values, and serves\\n    a dictionary containing the image id, image tensors, and label.\\n    \\\"\\\"\\\"\\n\\n    def __init__(self, x_train, y_train=None):\\n        self.data = x_train \\n        self.label = y_train\\n        self.transform = transforms.Compose(\\n            [\\n                transforms.Resize((128,128)),\\n                transforms.ToTensor(),\\n                # All models expect the same normalization mean & std\\n                # https://pytorch.org/docs/stable/torchvision/models.html\\n                transforms.Normalize(\\n                    mean=(0.485, 0.456, 0.406), std=(0.229, 0.224, 0.225)\\n                ),\\n            ]\\n        )\\n\\n\\n    def __len__(self):\\n        return len(self.data)\\n\\n    def __getitem__(self, index):\\n        image = pil_image.open(self.data.iloc[index][\\\"file_name\\\"]).convert(\\\"RGB\\\")\\n        image = self.transform(image)\\n        image_id = self.data.iloc[index][\\\"image_id\\\"]\\n        if self.label is not None:\\n            label = self.label.iloc[index]\\n            sample = {\\\"image_id\\\": image_id, \\\"image\\\": image, \\\"label\\\": label}\\n        else:\\n            sample = {\\n                \\\"image_id\\\": image_id,\\n                \\\"image\\\": image\\n            }\\n        return sample\";\n",
       "                var nbb_formatted_code = \"class DatasetWIND(Dataset):\\n    \\\"\\\"\\\"Reads in an image, transforms pixel values, and serves\\n    a dictionary containing the image id, image tensors, and label.\\n    \\\"\\\"\\\"\\n\\n    def __init__(self, x_train, y_train=None):\\n        self.data = x_train\\n        self.label = y_train\\n        self.transform = transforms.Compose(\\n            [\\n                transforms.Resize((128, 128)),\\n                transforms.ToTensor(),\\n                # All models expect the same normalization mean & std\\n                # https://pytorch.org/docs/stable/torchvision/models.html\\n                transforms.Normalize(\\n                    mean=(0.485, 0.456, 0.406), std=(0.229, 0.224, 0.225)\\n                ),\\n            ]\\n        )\\n\\n    def __len__(self):\\n        return len(self.data)\\n\\n    def __getitem__(self, index):\\n        image = pil_image.open(self.data.iloc[index][\\\"file_name\\\"]).convert(\\\"RGB\\\")\\n        image = self.transform(image)\\n        image_id = self.data.iloc[index][\\\"image_id\\\"]\\n        if self.label is not None:\\n            label = self.label.iloc[index]\\n            sample = {\\\"image_id\\\": image_id, \\\"image\\\": image, \\\"label\\\": label}\\n        else:\\n            sample = {\\\"image_id\\\": image_id, \\\"image\\\": image}\\n        return sample\";\n",
       "                var nbb_cells = Jupyter.notebook.get_cells();\n",
       "                for (var i = 0; i < nbb_cells.length; ++i) {\n",
       "                    if (nbb_cells[i].input_prompt_number == nbb_cell_id) {\n",
       "                        if (nbb_cells[i].get_text() == nbb_unformatted_code) {\n",
       "                             nbb_cells[i].set_text(nbb_formatted_code);\n",
       "                        }\n",
       "                        break;\n",
       "                    }\n",
       "                }\n",
       "            }, 500);\n",
       "            "
      ],
      "text/plain": [
       "<IPython.core.display.Javascript object>"
      ]
     },
     "metadata": {},
     "output_type": "display_data"
    }
   ],
   "source": [
    "class RMSELoss(nn.Module):\n",
    "    \"\"\"Measures root mean square error.\"\"\"\n",
    "\n",
    "    def __init__(self):\n",
    "        super(RMSELoss, self).__init__()\n",
    "        self.mse = nn.MSELoss()\n",
    "\n",
    "    def forward(self, pred, true):\n",
    "        return torch.sqrt(self.mse(pred, true))"
   ]
  },
  {
   "cell_type": "code",
   "execution_count": 350,
   "metadata": {},
   "outputs": [
    {
     "data": {
      "application/javascript": [
       "\n",
       "            setTimeout(function() {\n",
       "                var nbb_cell_id = 348;\n",
       "                var nbb_unformatted_code = \"class DatasetWIND(Dataset):\\n    \\\"\\\"\\\"Reads in an image, transforms pixel values, and serves\\n    a dictionary containing the image id, image tensors, and label.\\n    \\\"\\\"\\\"\\n\\n    def __init__(self, x_train, y_train=None):\\n        self.data = x_train \\n        self.label = y_train\\n        self.transform = transforms.Compose(\\n            [\\n                transforms.Resize((128,128)),\\n                transforms.ToTensor(),\\n                # All models expect the same normalization mean & std\\n                # https://pytorch.org/docs/stable/torchvision/models.html\\n                transforms.Normalize(\\n                    mean=(0.485, 0.456, 0.406), std=(0.229, 0.224, 0.225)\\n                ),\\n            ]\\n        )\\n\\n\\n    def __len__(self):\\n        return len(self.data)\\n\\n    def __getitem__(self, index):\\n        image = pil_image.open(self.data.iloc[index][\\\"file_name\\\"]).convert(\\\"RGB\\\")\\n        image = self.transform(image)\\n        image_id = self.data.iloc[index][\\\"image_id\\\"]\\n        if self.label is not None:\\n            label = self.label.iloc[index]\\n            sample = {\\\"image_id\\\": image_id, \\\"image\\\": image, \\\"label\\\": label}\\n        else:\\n            sample = {\\n                \\\"image_id\\\": image_id,\\n                \\\"image\\\": image\\n            }\\n        return sample\";\n",
       "                var nbb_formatted_code = \"class DatasetWIND(Dataset):\\n    \\\"\\\"\\\"Reads in an image, transforms pixel values, and serves\\n    a dictionary containing the image id, image tensors, and label.\\n    \\\"\\\"\\\"\\n\\n    def __init__(self, x_train, y_train=None):\\n        self.data = x_train\\n        self.label = y_train\\n        self.transform = transforms.Compose(\\n            [\\n                transforms.Resize((128, 128)),\\n                transforms.ToTensor(),\\n                # All models expect the same normalization mean & std\\n                # https://pytorch.org/docs/stable/torchvision/models.html\\n                transforms.Normalize(\\n                    mean=(0.485, 0.456, 0.406), std=(0.229, 0.224, 0.225)\\n                ),\\n            ]\\n        )\\n\\n    def __len__(self):\\n        return len(self.data)\\n\\n    def __getitem__(self, index):\\n        image = pil_image.open(self.data.iloc[index][\\\"file_name\\\"]).convert(\\\"RGB\\\")\\n        image = self.transform(image)\\n        image_id = self.data.iloc[index][\\\"image_id\\\"]\\n        if self.label is not None:\\n            label = self.label.iloc[index]\\n            sample = {\\\"image_id\\\": image_id, \\\"image\\\": image, \\\"label\\\": label}\\n        else:\\n            sample = {\\\"image_id\\\": image_id, \\\"image\\\": image}\\n        return sample\";\n",
       "                var nbb_cells = Jupyter.notebook.get_cells();\n",
       "                for (var i = 0; i < nbb_cells.length; ++i) {\n",
       "                    if (nbb_cells[i].input_prompt_number == nbb_cell_id) {\n",
       "                        if (nbb_cells[i].get_text() == nbb_unformatted_code) {\n",
       "                             nbb_cells[i].set_text(nbb_formatted_code);\n",
       "                        }\n",
       "                        break;\n",
       "                    }\n",
       "                }\n",
       "            }, 500);\n",
       "            "
      ],
      "text/plain": [
       "<IPython.core.display.Javascript object>"
      ]
     },
     "metadata": {},
     "output_type": "display_data"
    }
   ],
   "source": [
    "import warnings\n",
    "\n",
    "import pytorch_lightning as pl\n",
    "from torch.utils.data import DataLoader\n",
    "import torchvision.models as models\n",
    "from tqdm import tqdm\n",
    "from torch import nn\n",
    "warnings.filterwarnings(\"ignore\")"
   ]
  },
  {
   "cell_type": "code",
   "execution_count": 351,
   "metadata": {},
   "outputs": [
    {
     "data": {
      "application/javascript": [
       "\n",
       "            setTimeout(function() {\n",
       "                var nbb_cell_id = 349;\n",
       "                var nbb_unformatted_code = \"class RMSELoss(nn.Module):\\n    \\\"\\\"\\\"Measures root mean square error.\\\"\\\"\\\"\\n\\n    def __init__(self):\\n        super(RMSELoss, self).__init__()\\n        self.mse = nn.MSELoss()\\n\\n    def forward(self, pred, true):\\n        return torch.sqrt(self.mse(pred, true))\";\n",
       "                var nbb_formatted_code = \"class RMSELoss(nn.Module):\\n    \\\"\\\"\\\"Measures root mean square error.\\\"\\\"\\\"\\n\\n    def __init__(self):\\n        super(RMSELoss, self).__init__()\\n        self.mse = nn.MSELoss()\\n\\n    def forward(self, pred, true):\\n        return torch.sqrt(self.mse(pred, true))\";\n",
       "                var nbb_cells = Jupyter.notebook.get_cells();\n",
       "                for (var i = 0; i < nbb_cells.length; ++i) {\n",
       "                    if (nbb_cells[i].input_prompt_number == nbb_cell_id) {\n",
       "                        if (nbb_cells[i].get_text() == nbb_unformatted_code) {\n",
       "                             nbb_cells[i].set_text(nbb_formatted_code);\n",
       "                        }\n",
       "                        break;\n",
       "                    }\n",
       "                }\n",
       "            }, 500);\n",
       "            "
      ],
      "text/plain": [
       "<IPython.core.display.Javascript object>"
      ]
     },
     "metadata": {},
     "output_type": "display_data"
    }
   ],
   "source": [
    "class PretrainedWindModel(pl.LightningModule):\n",
    "    def __init__(self, hparams):\n",
    "        super(PretrainedWindModel, self).__init__()\n",
    "        self.hparams = hparams\n",
    "        self.learning_rate = self.hparams.get(\"lr\", 2e-4)\n",
    "        self.hidden_size = self.hparams.get(\"embedding_dim\", 50)\n",
    "        self.dropout = self.hparams.get(\"dropout\", 0.1)\n",
    "        self.max_epochs = self.hparams.get(\"max_epochs\", 1)\n",
    "        self.num_workers = self.hparams.get(\"num_workers\", 0)\n",
    "        self.batch_size = self.hparams.get(\"batch_size\", 10)\n",
    "        self.x_train = self.hparams.get(\"x_train\")\n",
    "        self.y_train = self.hparams.get(\"y_train\")\n",
    "        self.x_val = self.hparams.get(\"x_val\")\n",
    "        self.y_val = self.hparams.get(\"y_val\")\n",
    "        self.num_outputs = 1  # One prediction for regression\n",
    "\n",
    "        # Where final model will be saved\n",
    "        self.output_path = Path.cwd() / self.hparams.get(\"output_path\", \"model-outputs\")\n",
    "        self.output_path.mkdir(exist_ok=True)\n",
    "\n",
    "        # Where TensorBoard logs will be saved\n",
    "        self.log_path = Path.cwd() / self.hparams.get(\"log_path\", \"logs\")\n",
    "        self.log_path.mkdir(exist_ok=True)\n",
    "        self.logger = pl.loggers.TensorBoardLogger(\n",
    "            self.log_path, name=\"benchmark_model\"\n",
    "        )\n",
    "\n",
    "        # Instantiate training and validation datasets\n",
    "        self.train_dataset = DatasetWIND(self.x_train, self.y_train)\n",
    "        self.val_dataset = DatasetWIND(self.x_val, self.y_val)\n",
    "        self.model = self.prepare_model()\n",
    "\n",
    "    def prepare_model(self):\n",
    "        res_model = models.resnet152(pretrained=True)\n",
    "        # Input size of 2048 for resnet152\n",
    "        # https://pytorch.org/hub/pytorch_vision_resnet/\n",
    "        res_model.fc = nn.Sequential(\n",
    "            nn.Linear(2048, self.hidden_size),\n",
    "            nn.ReLU(inplace=True),\n",
    "            nn.Dropout(self.dropout),\n",
    "            nn.Linear(self.hidden_size, self.num_outputs),\n",
    "        )\n",
    "        \n",
    "        return res_model\n",
    "\n",
    "    def forward(self, image):\n",
    "        return self.model(image)\n",
    "\n",
    "    def training_step(self, batch, batch_idx):\n",
    "        x = batch[\"image\"]\n",
    "        y = batch[\"label\"]\n",
    "        criterion = RMSELoss()\n",
    "        # Switch to training mode\n",
    "        loss = criterion(\n",
    "            self.model.train().forward(x).squeeze(), y.type(torch.FloatTensor).cuda()\n",
    "        )\n",
    "        tensorboard_logs = {\"train_loss\": loss}\n",
    "        return {\"loss\": loss, \"log\": tensorboard_logs}\n",
    "\n",
    "    def validation_step(self, batch, batch_idx):\n",
    "        x = batch[\"image\"]\n",
    "        y = batch[\"label\"]\n",
    "        criterion = RMSELoss()\n",
    "        # Switch to evaluation mode\n",
    "        loss = criterion(\n",
    "            self.model.eval().forward(x).squeeze(), y.type(torch.FloatTensor).cuda()\n",
    "        )\n",
    "        tensorboard_logs = {\"val_loss\": loss}\n",
    "        return {\"batch_val_loss\": loss, \"log\": tensorboard_logs}\n",
    "\n",
    "    def train_dataloader(self):\n",
    "        return DataLoader(\n",
    "            self.train_dataset, num_workers=self.num_workers, batch_size=self.batch_size\n",
    "        )\n",
    "\n",
    "    def val_dataloader(self):\n",
    "        return DataLoader(\n",
    "            self.val_dataset, num_workers=self.num_workers, batch_size=self.batch_size\n",
    "        )\n",
    "\n",
    "    def configure_optimizers(self):\n",
    "        return torch.optim.AdamW(self.model.parameters(), lr=self.learning_rate)\n",
    "\n",
    "    def training_epoch_end(self, outputs):\n",
    "        avg_train_loss = torch.stack(tuple(output[\"loss\"] for output in outputs)).mean()\n",
    "        return {\n",
    "            \"avg_epoch_train_loss\": avg_train_loss,\n",
    "            \"progress_bar\": {\"avg_epoch_train_loss\": avg_train_loss},\n",
    "            \"log\": {\"avg_epoch_train_loss\": avg_train_loss},\n",
    "        }\n",
    "\n",
    "    def validation_epoch_end(self, outputs):\n",
    "        avg_val_loss = torch.stack(\n",
    "            tuple(output[\"batch_val_loss\"] for output in outputs)\n",
    "        ).mean()\n",
    "        return {\n",
    "            \"avg_epoch_val_loss\": avg_val_loss,\n",
    "            \"progress_bar\": {\"avg_epoch_val_loss\": avg_val_loss},\n",
    "            \"log\": {\"avg_epoch_val_loss\": avg_val_loss},\n",
    "        }\n",
    "\n",
    "    ## Convenience Methods ##\n",
    "\n",
    "    def fit(self):\n",
    "        self.trainer = pl.Trainer(\n",
    "            max_epochs=self.max_epochs,\n",
    "            default_root_dir=self.output_path,\n",
    "            logger=self.logger,\n",
    "            checkpoint_callback=pl.callbacks.ModelCheckpoint(\n",
    "                filepath=self.output_path,\n",
    "                monitor=\"avg_epoch_val_loss\",\n",
    "                mode=\"min\",\n",
    "                verbose=True,\n",
    "                \n",
    "            ),\n",
    "            gradient_clip_val=self.hparams.get(\"gradient_clip_val\", 1),\n",
    "            num_sanity_val_steps=self.hparams.get(\"val_sanity_checks\", 0),\n",
    "            gpus=1,\n",
    "        )\n",
    "        self.trainer.fit(self)\n",
    "\n",
    "    @torch.no_grad()\n",
    "    def make_submission_frame(self, x_test):\n",
    "        test_dataset = DatasetWIND(x_test)\n",
    "        test_dataloader = DataLoader(\n",
    "            test_dataset, num_workers=self.num_workers, batch_size=self.batch_size\n",
    "        )\n",
    "        submission_frame = pd.DataFrame(index=x_test.image_id, columns=[\"wind_speed\"])\n",
    "        for batch in tqdm(test_dataloader, total=len(test_dataloader)):\n",
    "            x = batch[\"image\"]\n",
    "            preds = self.eval().forward(x)\n",
    "            submission_frame.loc[batch[\"image_id\"], \"wind_speed\"] = (\n",
    "                preds.detach().numpy().squeeze()\n",
    "            )\n",
    "        submission_frame.wind_speed = submission_frame.wind_speed.astype(float)\n",
    "        return submission_frame\n",
    "    \n",
    "    def make_temporal_frame(self, x):\n",
    "        test_dataset = DatasetWIND(x)\n",
    "        test_dataloader = DataLoader(\n",
    "            test_dataset, num_workers=self.num_workers, batch_size=self.batch_size\n",
    "        )\n",
    "        temporal_frame = pd.DataFrame(index=x.image_id, columns=[\"wind_speed\"])\n",
    "        for batch in tqdm(test_dataloader, total=len(test_dataloader)):\n",
    "            i = batch[\"image\"]\n",
    "            preds = self.eval().forward(i)\n",
    "            \n",
    "            temporal_frame.loc[batch[\"image_id\"], \"wind_speed\"] = (\n",
    "                preds.detach().numpy().squeeze()\n",
    "            )\n",
    "            \n",
    "            \n",
    "        temporal_frame.wind_speedt1 = temporal_frame.wind_speed.astype(float)\n",
    "        return temporal_frame"
   ]
  },
  {
   "cell_type": "code",
   "execution_count": 352,
   "metadata": {},
   "outputs": [
    {
     "data": {
      "application/javascript": [
       "\n",
       "            setTimeout(function() {\n",
       "                var nbb_cell_id = 350;\n",
       "                var nbb_unformatted_code = \"import warnings\\n\\nimport pytorch_lightning as pl\\nfrom torch.utils.data import DataLoader\\nimport torchvision.models as models\\nfrom tqdm import tqdm\\nfrom torch import nn\\nwarnings.filterwarnings(\\\"ignore\\\")\";\n",
       "                var nbb_formatted_code = \"import warnings\\n\\nimport pytorch_lightning as pl\\nfrom torch.utils.data import DataLoader\\nimport torchvision.models as models\\nfrom tqdm import tqdm\\nfrom torch import nn\\n\\nwarnings.filterwarnings(\\\"ignore\\\")\";\n",
       "                var nbb_cells = Jupyter.notebook.get_cells();\n",
       "                for (var i = 0; i < nbb_cells.length; ++i) {\n",
       "                    if (nbb_cells[i].input_prompt_number == nbb_cell_id) {\n",
       "                        if (nbb_cells[i].get_text() == nbb_unformatted_code) {\n",
       "                             nbb_cells[i].set_text(nbb_formatted_code);\n",
       "                        }\n",
       "                        break;\n",
       "                    }\n",
       "                }\n",
       "            }, 500);\n",
       "            "
      ],
      "text/plain": [
       "<IPython.core.display.Javascript object>"
      ]
     },
     "metadata": {},
     "output_type": "display_data"
    }
   ],
   "source": [
    "hparams = {\n",
    "    # Required hparams\n",
    "    \"x_train\": x_train,\n",
    "    \"y_train\": y_train,\n",
    "    \"x_val\": x_val,\n",
    "    \"y_val\": y_val,\n",
    "    # Optional hparams\n",
    "    \"lr\": 2e-4,\n",
    "    \"embedding_dim\": 100,\n",
    "    \"dropout\": 0.5,\n",
    "    \"max_epochs\": 10,\n",
    "    \"batch_size\": 10,\n",
    "    \"num_workers\": 0,\n",
    "    \"gradient_clip_val\": 1,\n",
    "    \"val_sanity_checks\": 0,\n",
    "    \"output_path\": \"model-outputs\",\n",
    "    \"log_path\": \"logs\",\n",
    "}"
   ]
  },
  {
   "cell_type": "code",
   "execution_count": 353,
   "metadata": {},
   "outputs": [
    {
     "name": "stderr",
     "output_type": "stream",
     "text": [
      "GPU available: True, used: True\n",
      "INFO:lightning:GPU available: True, used: True\n",
      "TPU available: None, using: 0 TPU cores\n",
      "INFO:lightning:TPU available: None, using: 0 TPU cores\n",
      "LOCAL_RANK: 0 - CUDA_VISIBLE_DEVICES: [0]\n",
      "INFO:lightning:LOCAL_RANK: 0 - CUDA_VISIBLE_DEVICES: [0]\n",
      "\n",
      "  | Name  | Type   | Params\n",
      "---------------------------------\n",
      "0 | model | ResNet | 58.3 M\n",
      "---------------------------------\n",
      "58.3 M    Trainable params\n",
      "0         Non-trainable params\n",
      "58.3 M    Total params\n",
      "INFO:lightning:\n",
      "  | Name  | Type   | Params\n",
      "---------------------------------\n",
      "0 | model | ResNet | 58.3 M\n",
      "---------------------------------\n",
      "58.3 M    Trainable params\n",
      "0         Non-trainable params\n",
      "58.3 M    Total params\n"
     ]
    },
    {
     "data": {
      "application/vnd.jupyter.widget-view+json": {
       "model_id": "5200e2484b7d4cc998a9f5751cf6a579",
       "version_major": 2,
       "version_minor": 0
      },
      "text/plain": [
       "HBox(children=(HTML(value='Training'), FloatProgress(value=1.0, bar_style='info', layout=Layout(flex='2'), max…"
      ]
     },
     "metadata": {},
     "output_type": "display_data"
    },
    {
     "data": {
      "application/vnd.jupyter.widget-view+json": {
       "model_id": "98d4058aeb7e4281ae48d979898c47b8",
       "version_major": 2,
       "version_minor": 0
      },
      "text/plain": [
       "HBox(children=(HTML(value='Validating'), FloatProgress(value=1.0, bar_style='info', layout=Layout(flex='2'), m…"
      ]
     },
     "metadata": {},
     "output_type": "display_data"
    },
    {
     "name": "stderr",
     "output_type": "stream",
     "text": [
      "Epoch 0, global step 4497: avg_epoch_val_loss reached 9.05707 (best 9.05707), saving model to \"C:\\Users\\micha\\data\\model-outputs\\epoch=0-step=4497.ckpt\" as top 1\n",
      "INFO:lightning:Epoch 0, global step 4497: avg_epoch_val_loss reached 9.05707 (best 9.05707), saving model to \"C:\\Users\\micha\\data\\model-outputs\\epoch=0-step=4497.ckpt\" as top 1\n"
     ]
    },
    {
     "data": {
      "application/vnd.jupyter.widget-view+json": {
       "model_id": "51791ecaffde41a6b5dcf0a82e40f846",
       "version_major": 2,
       "version_minor": 0
      },
      "text/plain": [
       "HBox(children=(HTML(value='Validating'), FloatProgress(value=1.0, bar_style='info', layout=Layout(flex='2'), m…"
      ]
     },
     "metadata": {},
     "output_type": "display_data"
    },
    {
     "name": "stderr",
     "output_type": "stream",
     "text": [
      "Epoch 1, global step 8995: avg_epoch_val_loss reached 8.48090 (best 8.48090), saving model to \"C:\\Users\\micha\\data\\model-outputs\\epoch=1-step=8995.ckpt\" as top 1\n",
      "INFO:lightning:Epoch 1, global step 8995: avg_epoch_val_loss reached 8.48090 (best 8.48090), saving model to \"C:\\Users\\micha\\data\\model-outputs\\epoch=1-step=8995.ckpt\" as top 1\n"
     ]
    },
    {
     "data": {
      "application/vnd.jupyter.widget-view+json": {
       "model_id": "f7b0b57635fc4eba93e3bc53c17e69b9",
       "version_major": 2,
       "version_minor": 0
      },
      "text/plain": [
       "HBox(children=(HTML(value='Validating'), FloatProgress(value=1.0, bar_style='info', layout=Layout(flex='2'), m…"
      ]
     },
     "metadata": {},
     "output_type": "display_data"
    },
    {
     "name": "stderr",
     "output_type": "stream",
     "text": [
      "Epoch 2, global step 13493: avg_epoch_val_loss reached 8.30719 (best 8.30719), saving model to \"C:\\Users\\micha\\data\\model-outputs\\epoch=2-step=13493.ckpt\" as top 1\n",
      "INFO:lightning:Epoch 2, global step 13493: avg_epoch_val_loss reached 8.30719 (best 8.30719), saving model to \"C:\\Users\\micha\\data\\model-outputs\\epoch=2-step=13493.ckpt\" as top 1\n"
     ]
    },
    {
     "data": {
      "application/vnd.jupyter.widget-view+json": {
       "model_id": "dca0ae8564074685af2df6a5072b9054",
       "version_major": 2,
       "version_minor": 0
      },
      "text/plain": [
       "HBox(children=(HTML(value='Validating'), FloatProgress(value=1.0, bar_style='info', layout=Layout(flex='2'), m…"
      ]
     },
     "metadata": {},
     "output_type": "display_data"
    },
    {
     "name": "stderr",
     "output_type": "stream",
     "text": [
      "Epoch 3, global step 17991: avg_epoch_val_loss reached 7.68818 (best 7.68818), saving model to \"C:\\Users\\micha\\data\\model-outputs\\epoch=3-step=17991.ckpt\" as top 1\n",
      "INFO:lightning:Epoch 3, global step 17991: avg_epoch_val_loss reached 7.68818 (best 7.68818), saving model to \"C:\\Users\\micha\\data\\model-outputs\\epoch=3-step=17991.ckpt\" as top 1\n"
     ]
    },
    {
     "data": {
      "application/vnd.jupyter.widget-view+json": {
       "model_id": "1d33cd82bc78414a8d555294a96ee279",
       "version_major": 2,
       "version_minor": 0
      },
      "text/plain": [
       "HBox(children=(HTML(value='Validating'), FloatProgress(value=1.0, bar_style='info', layout=Layout(flex='2'), m…"
      ]
     },
     "metadata": {},
     "output_type": "display_data"
    },
    {
     "name": "stderr",
     "output_type": "stream",
     "text": [
      "Epoch 4, step 22489: avg_epoch_val_loss was not in top 1\n",
      "INFO:lightning:Epoch 4, step 22489: avg_epoch_val_loss was not in top 1\n"
     ]
    },
    {
     "data": {
      "application/vnd.jupyter.widget-view+json": {
       "model_id": "b723baa9f5964f28b1a93a58ad3ce99f",
       "version_major": 2,
       "version_minor": 0
      },
      "text/plain": [
       "HBox(children=(HTML(value='Validating'), FloatProgress(value=1.0, bar_style='info', layout=Layout(flex='2'), m…"
      ]
     },
     "metadata": {},
     "output_type": "display_data"
    },
    {
     "name": "stderr",
     "output_type": "stream",
     "text": [
      "Epoch 5, global step 26987: avg_epoch_val_loss reached 6.93099 (best 6.93099), saving model to \"C:\\Users\\micha\\data\\model-outputs\\epoch=5-step=26987.ckpt\" as top 1\n",
      "INFO:lightning:Epoch 5, global step 26987: avg_epoch_val_loss reached 6.93099 (best 6.93099), saving model to \"C:\\Users\\micha\\data\\model-outputs\\epoch=5-step=26987.ckpt\" as top 1\n"
     ]
    },
    {
     "data": {
      "application/vnd.jupyter.widget-view+json": {
       "model_id": "54d2403af4b1441bac1446fa229539d8",
       "version_major": 2,
       "version_minor": 0
      },
      "text/plain": [
       "HBox(children=(HTML(value='Validating'), FloatProgress(value=1.0, bar_style='info', layout=Layout(flex='2'), m…"
      ]
     },
     "metadata": {},
     "output_type": "display_data"
    },
    {
     "name": "stderr",
     "output_type": "stream",
     "text": [
      "Epoch 6, global step 31485: avg_epoch_val_loss reached 6.84560 (best 6.84560), saving model to \"C:\\Users\\micha\\data\\model-outputs\\epoch=6-step=31485.ckpt\" as top 1\n",
      "INFO:lightning:Epoch 6, global step 31485: avg_epoch_val_loss reached 6.84560 (best 6.84560), saving model to \"C:\\Users\\micha\\data\\model-outputs\\epoch=6-step=31485.ckpt\" as top 1\n"
     ]
    },
    {
     "data": {
      "application/vnd.jupyter.widget-view+json": {
       "model_id": "0cfe5b13e3fb4f02b2be9f70bac41057",
       "version_major": 2,
       "version_minor": 0
      },
      "text/plain": [
       "HBox(children=(HTML(value='Validating'), FloatProgress(value=1.0, bar_style='info', layout=Layout(flex='2'), m…"
      ]
     },
     "metadata": {},
     "output_type": "display_data"
    },
    {
     "name": "stderr",
     "output_type": "stream",
     "text": [
      "Epoch 7, step 35983: avg_epoch_val_loss was not in top 1\n",
      "INFO:lightning:Epoch 7, step 35983: avg_epoch_val_loss was not in top 1\n"
     ]
    },
    {
     "data": {
      "application/vnd.jupyter.widget-view+json": {
       "model_id": "5d16df6b00bd444a92d3cd5c952252cf",
       "version_major": 2,
       "version_minor": 0
      },
      "text/plain": [
       "HBox(children=(HTML(value='Validating'), FloatProgress(value=1.0, bar_style='info', layout=Layout(flex='2'), m…"
      ]
     },
     "metadata": {},
     "output_type": "display_data"
    },
    {
     "name": "stderr",
     "output_type": "stream",
     "text": [
      "Epoch 8, global step 40481: avg_epoch_val_loss reached 6.63055 (best 6.63055), saving model to \"C:\\Users\\micha\\data\\model-outputs\\epoch=8-step=40481-v0.ckpt\" as top 1\n",
      "INFO:lightning:Epoch 8, global step 40481: avg_epoch_val_loss reached 6.63055 (best 6.63055), saving model to \"C:\\Users\\micha\\data\\model-outputs\\epoch=8-step=40481-v0.ckpt\" as top 1\n"
     ]
    },
    {
     "data": {
      "application/vnd.jupyter.widget-view+json": {
       "model_id": "2524f359d6aa47bebc7391fa05594921",
       "version_major": 2,
       "version_minor": 0
      },
      "text/plain": [
       "HBox(children=(HTML(value='Validating'), FloatProgress(value=1.0, bar_style='info', layout=Layout(flex='2'), m…"
      ]
     },
     "metadata": {},
     "output_type": "display_data"
    },
    {
     "name": "stderr",
     "output_type": "stream",
     "text": [
      "Epoch 9, step 44979: avg_epoch_val_loss was not in top 1\n",
      "INFO:lightning:Epoch 9, step 44979: avg_epoch_val_loss was not in top 1\n"
     ]
    },
    {
     "name": "stdout",
     "output_type": "stream",
     "text": [
      "\n"
     ]
    },
    {
     "data": {
      "application/javascript": [
       "\n",
       "            setTimeout(function() {\n",
       "                var nbb_cell_id = 351;\n",
       "                var nbb_unformatted_code = \"class PretrainedWindModel(pl.LightningModule):\\n    def __init__(self, hparams):\\n        super(PretrainedWindModel, self).__init__()\\n        self.hparams = hparams\\n        self.learning_rate = self.hparams.get(\\\"lr\\\", 2e-4)\\n        self.hidden_size = self.hparams.get(\\\"embedding_dim\\\", 50)\\n        self.dropout = self.hparams.get(\\\"dropout\\\", 0.1)\\n        self.max_epochs = self.hparams.get(\\\"max_epochs\\\", 1)\\n        self.num_workers = self.hparams.get(\\\"num_workers\\\", 0)\\n        self.batch_size = self.hparams.get(\\\"batch_size\\\", 10)\\n        self.x_train = self.hparams.get(\\\"x_train\\\")\\n        self.y_train = self.hparams.get(\\\"y_train\\\")\\n        self.x_val = self.hparams.get(\\\"x_val\\\")\\n        self.y_val = self.hparams.get(\\\"y_val\\\")\\n        self.num_outputs = 1  # One prediction for regression\\n\\n        # Where final model will be saved\\n        self.output_path = Path.cwd() / self.hparams.get(\\\"output_path\\\", \\\"model-outputs\\\")\\n        self.output_path.mkdir(exist_ok=True)\\n\\n        # Where TensorBoard logs will be saved\\n        self.log_path = Path.cwd() / self.hparams.get(\\\"log_path\\\", \\\"logs\\\")\\n        self.log_path.mkdir(exist_ok=True)\\n        self.logger = pl.loggers.TensorBoardLogger(\\n            self.log_path, name=\\\"benchmark_model\\\"\\n        )\\n\\n        # Instantiate training and validation datasets\\n        self.train_dataset = DatasetWIND(self.x_train, self.y_train)\\n        self.val_dataset = DatasetWIND(self.x_val, self.y_val)\\n        self.model = self.prepare_model()\\n\\n    def prepare_model(self):\\n        res_model = models.resnet152(pretrained=True)\\n        # Input size of 2048 for resnet152\\n        # https://pytorch.org/hub/pytorch_vision_resnet/\\n        res_model.fc = nn.Sequential(\\n            nn.Linear(2048, self.hidden_size),\\n            nn.ReLU(inplace=True),\\n            nn.Dropout(self.dropout),\\n            nn.Linear(self.hidden_size, self.num_outputs),\\n        )\\n        \\n        return res_model\\n\\n    def forward(self, image):\\n        return self.model(image)\\n\\n    def training_step(self, batch, batch_idx):\\n        x = batch[\\\"image\\\"]\\n        y = batch[\\\"label\\\"]\\n        criterion = RMSELoss()\\n        # Switch to training mode\\n        loss = criterion(\\n            self.model.train().forward(x).squeeze(), y.type(torch.FloatTensor).cuda()\\n        )\\n        tensorboard_logs = {\\\"train_loss\\\": loss}\\n        return {\\\"loss\\\": loss, \\\"log\\\": tensorboard_logs}\\n\\n    def validation_step(self, batch, batch_idx):\\n        x = batch[\\\"image\\\"]\\n        y = batch[\\\"label\\\"]\\n        criterion = RMSELoss()\\n        # Switch to evaluation mode\\n        loss = criterion(\\n            self.model.eval().forward(x).squeeze(), y.type(torch.FloatTensor).cuda()\\n        )\\n        tensorboard_logs = {\\\"val_loss\\\": loss}\\n        return {\\\"batch_val_loss\\\": loss, \\\"log\\\": tensorboard_logs}\\n\\n    def train_dataloader(self):\\n        return DataLoader(\\n            self.train_dataset, num_workers=self.num_workers, batch_size=self.batch_size\\n        )\\n\\n    def val_dataloader(self):\\n        return DataLoader(\\n            self.val_dataset, num_workers=self.num_workers, batch_size=self.batch_size\\n        )\\n\\n    def configure_optimizers(self):\\n        return torch.optim.AdamW(self.model.parameters(), lr=self.learning_rate)\\n\\n    def training_epoch_end(self, outputs):\\n        avg_train_loss = torch.stack(tuple(output[\\\"loss\\\"] for output in outputs)).mean()\\n        return {\\n            \\\"avg_epoch_train_loss\\\": avg_train_loss,\\n            \\\"progress_bar\\\": {\\\"avg_epoch_train_loss\\\": avg_train_loss},\\n            \\\"log\\\": {\\\"avg_epoch_train_loss\\\": avg_train_loss},\\n        }\\n\\n    def validation_epoch_end(self, outputs):\\n        avg_val_loss = torch.stack(\\n            tuple(output[\\\"batch_val_loss\\\"] for output in outputs)\\n        ).mean()\\n        return {\\n            \\\"avg_epoch_val_loss\\\": avg_val_loss,\\n            \\\"progress_bar\\\": {\\\"avg_epoch_val_loss\\\": avg_val_loss},\\n            \\\"log\\\": {\\\"avg_epoch_val_loss\\\": avg_val_loss},\\n        }\\n\\n    ## Convenience Methods ##\\n\\n    def fit(self):\\n        self.trainer = pl.Trainer(\\n            max_epochs=self.max_epochs,\\n            default_root_dir=self.output_path,\\n            logger=self.logger,\\n            checkpoint_callback=pl.callbacks.ModelCheckpoint(\\n                filepath=self.output_path,\\n                monitor=\\\"avg_epoch_val_loss\\\",\\n                mode=\\\"min\\\",\\n                verbose=True,\\n                \\n            ),\\n            gradient_clip_val=self.hparams.get(\\\"gradient_clip_val\\\", 1),\\n            num_sanity_val_steps=self.hparams.get(\\\"val_sanity_checks\\\", 0),\\n            gpus=1,\\n        )\\n        self.trainer.fit(self)\\n\\n    @torch.no_grad()\\n    def make_submission_frame(self, x_test):\\n        test_dataset = DatasetWIND(x_test)\\n        test_dataloader = DataLoader(\\n            test_dataset, num_workers=self.num_workers, batch_size=self.batch_size\\n        )\\n        submission_frame = pd.DataFrame(index=x_test.image_id, columns=[\\\"wind_speed\\\"])\\n        for batch in tqdm(test_dataloader, total=len(test_dataloader)):\\n            x = batch[\\\"image\\\"]\\n            preds = self.eval().forward(x)\\n            submission_frame.loc[batch[\\\"image_id\\\"], \\\"wind_speed\\\"] = (\\n                preds.detach().numpy().squeeze()\\n            )\\n        submission_frame.wind_speed = submission_frame.wind_speed.astype(float)\\n        return submission_frame\\n    \\n    def make_temporal_frame(self, x):\\n        test_dataset = DatasetWIND(x)\\n        test_dataloader = DataLoader(\\n            test_dataset, num_workers=self.num_workers, batch_size=self.batch_size\\n        )\\n        temporal_frame = pd.DataFrame(index=x.image_id, columns=[\\\"wind_speed\\\"])\\n        for batch in tqdm(test_dataloader, total=len(test_dataloader)):\\n            i = batch[\\\"image\\\"]\\n            preds = self.eval().forward(i)\\n            \\n            temporal_frame.loc[batch[\\\"image_id\\\"], \\\"wind_speed\\\"] = (\\n                preds.detach().numpy().squeeze()\\n            )\\n            \\n            \\n        temporal_frame.wind_speedt1 = temporal_frame.wind_speed.astype(float)\\n        return temporal_frame\";\n",
       "                var nbb_formatted_code = \"class PretrainedWindModel(pl.LightningModule):\\n    def __init__(self, hparams):\\n        super(PretrainedWindModel, self).__init__()\\n        self.hparams = hparams\\n        self.learning_rate = self.hparams.get(\\\"lr\\\", 2e-4)\\n        self.hidden_size = self.hparams.get(\\\"embedding_dim\\\", 50)\\n        self.dropout = self.hparams.get(\\\"dropout\\\", 0.1)\\n        self.max_epochs = self.hparams.get(\\\"max_epochs\\\", 1)\\n        self.num_workers = self.hparams.get(\\\"num_workers\\\", 0)\\n        self.batch_size = self.hparams.get(\\\"batch_size\\\", 10)\\n        self.x_train = self.hparams.get(\\\"x_train\\\")\\n        self.y_train = self.hparams.get(\\\"y_train\\\")\\n        self.x_val = self.hparams.get(\\\"x_val\\\")\\n        self.y_val = self.hparams.get(\\\"y_val\\\")\\n        self.num_outputs = 1  # One prediction for regression\\n\\n        # Where final model will be saved\\n        self.output_path = Path.cwd() / self.hparams.get(\\\"output_path\\\", \\\"model-outputs\\\")\\n        self.output_path.mkdir(exist_ok=True)\\n\\n        # Where TensorBoard logs will be saved\\n        self.log_path = Path.cwd() / self.hparams.get(\\\"log_path\\\", \\\"logs\\\")\\n        self.log_path.mkdir(exist_ok=True)\\n        self.logger = pl.loggers.TensorBoardLogger(\\n            self.log_path, name=\\\"benchmark_model\\\"\\n        )\\n\\n        # Instantiate training and validation datasets\\n        self.train_dataset = DatasetWIND(self.x_train, self.y_train)\\n        self.val_dataset = DatasetWIND(self.x_val, self.y_val)\\n        self.model = self.prepare_model()\\n\\n    def prepare_model(self):\\n        res_model = models.resnet152(pretrained=True)\\n        # Input size of 2048 for resnet152\\n        # https://pytorch.org/hub/pytorch_vision_resnet/\\n        res_model.fc = nn.Sequential(\\n            nn.Linear(2048, self.hidden_size),\\n            nn.ReLU(inplace=True),\\n            nn.Dropout(self.dropout),\\n            nn.Linear(self.hidden_size, self.num_outputs),\\n        )\\n\\n        return res_model\\n\\n    def forward(self, image):\\n        return self.model(image)\\n\\n    def training_step(self, batch, batch_idx):\\n        x = batch[\\\"image\\\"]\\n        y = batch[\\\"label\\\"]\\n        criterion = RMSELoss()\\n        # Switch to training mode\\n        loss = criterion(\\n            self.model.train().forward(x).squeeze(), y.type(torch.FloatTensor).cuda()\\n        )\\n        tensorboard_logs = {\\\"train_loss\\\": loss}\\n        return {\\\"loss\\\": loss, \\\"log\\\": tensorboard_logs}\\n\\n    def validation_step(self, batch, batch_idx):\\n        x = batch[\\\"image\\\"]\\n        y = batch[\\\"label\\\"]\\n        criterion = RMSELoss()\\n        # Switch to evaluation mode\\n        loss = criterion(\\n            self.model.eval().forward(x).squeeze(), y.type(torch.FloatTensor).cuda()\\n        )\\n        tensorboard_logs = {\\\"val_loss\\\": loss}\\n        return {\\\"batch_val_loss\\\": loss, \\\"log\\\": tensorboard_logs}\\n\\n    def train_dataloader(self):\\n        return DataLoader(\\n            self.train_dataset, num_workers=self.num_workers, batch_size=self.batch_size\\n        )\\n\\n    def val_dataloader(self):\\n        return DataLoader(\\n            self.val_dataset, num_workers=self.num_workers, batch_size=self.batch_size\\n        )\\n\\n    def configure_optimizers(self):\\n        return torch.optim.AdamW(self.model.parameters(), lr=self.learning_rate)\\n\\n    def training_epoch_end(self, outputs):\\n        avg_train_loss = torch.stack(tuple(output[\\\"loss\\\"] for output in outputs)).mean()\\n        return {\\n            \\\"avg_epoch_train_loss\\\": avg_train_loss,\\n            \\\"progress_bar\\\": {\\\"avg_epoch_train_loss\\\": avg_train_loss},\\n            \\\"log\\\": {\\\"avg_epoch_train_loss\\\": avg_train_loss},\\n        }\\n\\n    def validation_epoch_end(self, outputs):\\n        avg_val_loss = torch.stack(\\n            tuple(output[\\\"batch_val_loss\\\"] for output in outputs)\\n        ).mean()\\n        return {\\n            \\\"avg_epoch_val_loss\\\": avg_val_loss,\\n            \\\"progress_bar\\\": {\\\"avg_epoch_val_loss\\\": avg_val_loss},\\n            \\\"log\\\": {\\\"avg_epoch_val_loss\\\": avg_val_loss},\\n        }\\n\\n    ## Convenience Methods ##\\n\\n    def fit(self):\\n        self.trainer = pl.Trainer(\\n            max_epochs=self.max_epochs,\\n            default_root_dir=self.output_path,\\n            logger=self.logger,\\n            checkpoint_callback=pl.callbacks.ModelCheckpoint(\\n                filepath=self.output_path,\\n                monitor=\\\"avg_epoch_val_loss\\\",\\n                mode=\\\"min\\\",\\n                verbose=True,\\n            ),\\n            gradient_clip_val=self.hparams.get(\\\"gradient_clip_val\\\", 1),\\n            num_sanity_val_steps=self.hparams.get(\\\"val_sanity_checks\\\", 0),\\n            gpus=1,\\n        )\\n        self.trainer.fit(self)\\n\\n    @torch.no_grad()\\n    def make_submission_frame(self, x_test):\\n        test_dataset = DatasetWIND(x_test)\\n        test_dataloader = DataLoader(\\n            test_dataset, num_workers=self.num_workers, batch_size=self.batch_size\\n        )\\n        submission_frame = pd.DataFrame(index=x_test.image_id, columns=[\\\"wind_speed\\\"])\\n        for batch in tqdm(test_dataloader, total=len(test_dataloader)):\\n            x = batch[\\\"image\\\"]\\n            preds = self.eval().forward(x)\\n            submission_frame.loc[batch[\\\"image_id\\\"], \\\"wind_speed\\\"] = (\\n                preds.detach().numpy().squeeze()\\n            )\\n        submission_frame.wind_speed = submission_frame.wind_speed.astype(float)\\n        return submission_frame\\n\\n    def make_temporal_frame(self, x):\\n        test_dataset = DatasetWIND(x)\\n        test_dataloader = DataLoader(\\n            test_dataset, num_workers=self.num_workers, batch_size=self.batch_size\\n        )\\n        temporal_frame = pd.DataFrame(index=x.image_id, columns=[\\\"wind_speed\\\"])\\n        for batch in tqdm(test_dataloader, total=len(test_dataloader)):\\n            i = batch[\\\"image\\\"]\\n            preds = self.eval().forward(i)\\n\\n            temporal_frame.loc[batch[\\\"image_id\\\"], \\\"wind_speed\\\"] = (\\n                preds.detach().numpy().squeeze()\\n            )\\n\\n        temporal_frame.wind_speedt1 = temporal_frame.wind_speed.astype(float)\\n        return temporal_frame\";\n",
       "                var nbb_cells = Jupyter.notebook.get_cells();\n",
       "                for (var i = 0; i < nbb_cells.length; ++i) {\n",
       "                    if (nbb_cells[i].input_prompt_number == nbb_cell_id) {\n",
       "                        if (nbb_cells[i].get_text() == nbb_unformatted_code) {\n",
       "                             nbb_cells[i].set_text(nbb_formatted_code);\n",
       "                        }\n",
       "                        break;\n",
       "                    }\n",
       "                }\n",
       "            }, 500);\n",
       "            "
      ],
      "text/plain": [
       "<IPython.core.display.Javascript object>"
      ]
     },
     "metadata": {},
     "output_type": "display_data"
    }
   ],
   "source": [
    "best_checkpoint = str(Path(\"model-outputs\") / \"epoch=8-step=40481.ckpt\")\n",
    "storm_model = PretrainedWindModel(hparams=hparams)\n",
    "storm_model = PretrainedWindModel.load_from_checkpoint(best_checkpoint)\n",
    "storm_model.fit()"
   ]
  },
  {
   "cell_type": "code",
   "execution_count": 368,
   "metadata": {},
   "outputs": [
    {
     "data": {
      "text/html": [
       "<div>\n",
       "<style scoped>\n",
       "    .dataframe tbody tr th:only-of-type {\n",
       "        vertical-align: middle;\n",
       "    }\n",
       "\n",
       "    .dataframe tbody tr th {\n",
       "        vertical-align: top;\n",
       "    }\n",
       "\n",
       "    .dataframe thead th {\n",
       "        text-align: right;\n",
       "    }\n",
       "</style>\n",
       "<table border=\"1\" class=\"dataframe\">\n",
       "  <thead>\n",
       "    <tr style=\"text-align: right;\">\n",
       "      <th></th>\n",
       "      <th>wind_speed</th>\n",
       "    </tr>\n",
       "    <tr>\n",
       "      <th>image_id</th>\n",
       "      <th></th>\n",
       "    </tr>\n",
       "  </thead>\n",
       "  <tbody>\n",
       "    <tr>\n",
       "      <th>acd_123</th>\n",
       "      <td>0</td>\n",
       "    </tr>\n",
       "    <tr>\n",
       "      <th>acd_124</th>\n",
       "      <td>0</td>\n",
       "    </tr>\n",
       "    <tr>\n",
       "      <th>acd_125</th>\n",
       "      <td>0</td>\n",
       "    </tr>\n",
       "    <tr>\n",
       "      <th>acd_126</th>\n",
       "      <td>0</td>\n",
       "    </tr>\n",
       "    <tr>\n",
       "      <th>acd_127</th>\n",
       "      <td>0</td>\n",
       "    </tr>\n",
       "  </tbody>\n",
       "</table>\n",
       "</div>"
      ],
      "text/plain": [
       "          wind_speed\n",
       "image_id            \n",
       "acd_123            0\n",
       "acd_124            0\n",
       "acd_125            0\n",
       "acd_126            0\n",
       "acd_127            0"
      ]
     },
     "execution_count": 368,
     "metadata": {},
     "output_type": "execute_result"
    },
    {
     "data": {
      "application/javascript": [
       "\n",
       "            setTimeout(function() {\n",
       "                var nbb_cell_id = 366;\n",
       "                var nbb_unformatted_code = \"x_train.head()\";\n",
       "                var nbb_formatted_code = \"x_train.head()\";\n",
       "                var nbb_cells = Jupyter.notebook.get_cells();\n",
       "                for (var i = 0; i < nbb_cells.length; ++i) {\n",
       "                    if (nbb_cells[i].input_prompt_number == nbb_cell_id) {\n",
       "                        if (nbb_cells[i].get_text() == nbb_unformatted_code) {\n",
       "                             nbb_cells[i].set_text(nbb_formatted_code);\n",
       "                        }\n",
       "                        break;\n",
       "                    }\n",
       "                }\n",
       "            }, 500);\n",
       "            "
      ],
      "text/plain": [
       "<IPython.core.display.Javascript object>"
      ]
     },
     "metadata": {},
     "output_type": "display_data"
    }
   ],
   "source": [
    "best_checkpoint = str(Path(\"model-outputs\") / \"epoch=8-step=40481-v0.ckpt\")\n",
    "submission_format = pd.read_csv(\n",
    "    DATA_PATH / \"submission_format.csv\", index_col=\"image_id\"\n",
    ")\n",
    "submission_format.head()"
   ]
  },
  {
   "cell_type": "code",
   "execution_count": 369,
   "metadata": {},
   "outputs": [
    {
     "name": "stderr",
     "output_type": "stream",
     "text": [
      "100%|████████████████████████████████████████████████████████████████████████████| 4438/4438 [1:14:54<00:00,  1.01s/it]\n"
     ]
    },
    {
     "data": {
      "application/javascript": [
       "\n",
       "            setTimeout(function() {\n",
       "                var nbb_cell_id = 367;\n",
       "                var nbb_unformatted_code = \"model = TemporalWindModel(hparams=hparams)\\nbest_checkpoint = str(Path(\\\"model-outputs\\\") / \\\"epoch=4-step=28104.ckpt\\\")\\nmodel = TemporalWindModel.load_from_checkpoint(best_checkpoint)\\nmodel.fit()\";\n",
       "                var nbb_formatted_code = \"model = TemporalWindModel(hparams=hparams)\\nbest_checkpoint = str(Path(\\\"model-outputs\\\") / \\\"epoch=4-step=28104.ckpt\\\")\\nmodel = TemporalWindModel.load_from_checkpoint(best_checkpoint)\\nmodel.fit()\";\n",
       "                var nbb_cells = Jupyter.notebook.get_cells();\n",
       "                for (var i = 0; i < nbb_cells.length; ++i) {\n",
       "                    if (nbb_cells[i].input_prompt_number == nbb_cell_id) {\n",
       "                        if (nbb_cells[i].get_text() == nbb_unformatted_code) {\n",
       "                             nbb_cells[i].set_text(nbb_formatted_code);\n",
       "                        }\n",
       "                        break;\n",
       "                    }\n",
       "                }\n",
       "            }, 500);\n",
       "            "
      ],
      "text/plain": [
       "<IPython.core.display.Javascript object>"
      ]
     },
     "metadata": {},
     "output_type": "display_data"
    }
   ],
   "source": [
    "example_model = PretrainedWindModel.load_from_checkpoint(best_checkpoint)\n",
    "\n",
    "test_metadata = pd.read_csv(DATA_PATH / \"test_set_features.csv\")\n",
    "test_metadata[\"file_name\"] = (\n",
    "    DATA_PATH / \"test\" / test_metadata.image_id.path.with_suffix(\".jpg\")\n",
    ")\n",
    "\n",
    "submission = example_model.make_submission_frame(test_metadata)"
   ]
  },
  {
   "cell_type": "code",
   "execution_count": 370,
   "metadata": {},
   "outputs": [
    {
     "data": {
      "application/javascript": [
       "\n",
       "            setTimeout(function() {\n",
       "                var nbb_cell_id = 368;\n",
       "                var nbb_unformatted_code = \"best_checkpoint = str(Path(\\\"model-outputs\\\") / \\\"epoch=8-step=40481-v0.ckpt\\\")\\nsubmission_format = pd.read_csv(\\n    DATA_PATH / \\\"submission_format.csv\\\", index_col=\\\"image_id\\\"\\n)\\nsubmission_format.head()\";\n",
       "                var nbb_formatted_code = \"best_checkpoint = str(Path(\\\"model-outputs\\\") / \\\"epoch=8-step=40481-v0.ckpt\\\")\\nsubmission_format = pd.read_csv(\\n    DATA_PATH / \\\"submission_format.csv\\\", index_col=\\\"image_id\\\"\\n)\\nsubmission_format.head()\";\n",
       "                var nbb_cells = Jupyter.notebook.get_cells();\n",
       "                for (var i = 0; i < nbb_cells.length; ++i) {\n",
       "                    if (nbb_cells[i].input_prompt_number == nbb_cell_id) {\n",
       "                        if (nbb_cells[i].get_text() == nbb_unformatted_code) {\n",
       "                             nbb_cells[i].set_text(nbb_formatted_code);\n",
       "                        }\n",
       "                        break;\n",
       "                    }\n",
       "                }\n",
       "            }, 500);\n",
       "            "
      ],
      "text/plain": [
       "<IPython.core.display.Javascript object>"
      ]
     },
     "metadata": {},
     "output_type": "display_data"
    }
   ],
   "source": [
    "# Ensure submission indices match submission format\n",
    "assert submission_format.index.equals(submission.index)"
   ]
  },
  {
   "cell_type": "code",
   "execution_count": 371,
   "metadata": {},
   "outputs": [
    {
     "data": {
      "text/html": [
       "<div>\n",
       "<style scoped>\n",
       "    .dataframe tbody tr th:only-of-type {\n",
       "        vertical-align: middle;\n",
       "    }\n",
       "\n",
       "    .dataframe tbody tr th {\n",
       "        vertical-align: top;\n",
       "    }\n",
       "\n",
       "    .dataframe thead th {\n",
       "        text-align: right;\n",
       "    }\n",
       "</style>\n",
       "<table border=\"1\" class=\"dataframe\">\n",
       "  <thead>\n",
       "    <tr style=\"text-align: right;\">\n",
       "      <th></th>\n",
       "      <th>wind_speed</th>\n",
       "    </tr>\n",
       "    <tr>\n",
       "      <th>image_id</th>\n",
       "      <th></th>\n",
       "    </tr>\n",
       "  </thead>\n",
       "  <tbody>\n",
       "    <tr>\n",
       "      <th>acd_123</th>\n",
       "      <td>27</td>\n",
       "    </tr>\n",
       "    <tr>\n",
       "      <th>acd_124</th>\n",
       "      <td>27</td>\n",
       "    </tr>\n",
       "    <tr>\n",
       "      <th>acd_125</th>\n",
       "      <td>26</td>\n",
       "    </tr>\n",
       "    <tr>\n",
       "      <th>acd_126</th>\n",
       "      <td>25</td>\n",
       "    </tr>\n",
       "    <tr>\n",
       "      <th>acd_127</th>\n",
       "      <td>26</td>\n",
       "    </tr>\n",
       "  </tbody>\n",
       "</table>\n",
       "</div>"
      ],
      "text/plain": [
       "          wind_speed\n",
       "image_id            \n",
       "acd_123           27\n",
       "acd_124           27\n",
       "acd_125           26\n",
       "acd_126           25\n",
       "acd_127           26"
      ]
     },
     "execution_count": 371,
     "metadata": {},
     "output_type": "execute_result"
    },
    {
     "data": {
      "application/javascript": [
       "\n",
       "            setTimeout(function() {\n",
       "                var nbb_cell_id = 369;\n",
       "                var nbb_unformatted_code = \"example_model = PretrainedWindModel.load_from_checkpoint(best_checkpoint)\\n\\ntest_metadata = pd.read_csv(DATA_PATH / \\\"test_set_features.csv\\\")\\ntest_metadata[\\\"file_name\\\"] = (\\n    DATA_PATH / \\\"test\\\" / test_metadata.image_id.path.with_suffix(\\\".jpg\\\")\\n)\\n\\nsubmission = example_model.make_submission_frame(test_metadata)\";\n",
       "                var nbb_formatted_code = \"example_model = PretrainedWindModel.load_from_checkpoint(best_checkpoint)\\n\\ntest_metadata = pd.read_csv(DATA_PATH / \\\"test_set_features.csv\\\")\\ntest_metadata[\\\"file_name\\\"] = (\\n    DATA_PATH / \\\"test\\\" / test_metadata.image_id.path.with_suffix(\\\".jpg\\\")\\n)\\n\\nsubmission = example_model.make_submission_frame(test_metadata)\";\n",
       "                var nbb_cells = Jupyter.notebook.get_cells();\n",
       "                for (var i = 0; i < nbb_cells.length; ++i) {\n",
       "                    if (nbb_cells[i].input_prompt_number == nbb_cell_id) {\n",
       "                        if (nbb_cells[i].get_text() == nbb_unformatted_code) {\n",
       "                             nbb_cells[i].set_text(nbb_formatted_code);\n",
       "                        }\n",
       "                        break;\n",
       "                    }\n",
       "                }\n",
       "            }, 500);\n",
       "            "
      ],
      "text/plain": [
       "<IPython.core.display.Javascript object>"
      ]
     },
     "metadata": {},
     "output_type": "display_data"
    }
   ],
   "source": [
    "submission = submission.round().astype(int)\n",
    "submission.head()"
   ]
  },
  {
   "cell_type": "code",
   "execution_count": 372,
   "metadata": {},
   "outputs": [
    {
     "data": {
      "text/plain": [
       "count    44377.000000\n",
       "mean        44.657413\n",
       "std         22.168180\n",
       "min         16.000000\n",
       "25%         28.000000\n",
       "50%         39.000000\n",
       "75%         55.000000\n",
       "max        153.000000\n",
       "Name: wind_speed, dtype: float64"
      ]
     },
     "execution_count": 372,
     "metadata": {},
     "output_type": "execute_result"
    },
    {
     "data": {
      "application/javascript": [
       "\n",
       "            setTimeout(function() {\n",
       "                var nbb_cell_id = 370;\n",
       "                var nbb_unformatted_code = \"# Ensure submission indices match submission format\\nassert submission_format.index.equals(submission.index)\";\n",
       "                var nbb_formatted_code = \"# Ensure submission indices match submission format\\nassert submission_format.index.equals(submission.index)\";\n",
       "                var nbb_cells = Jupyter.notebook.get_cells();\n",
       "                for (var i = 0; i < nbb_cells.length; ++i) {\n",
       "                    if (nbb_cells[i].input_prompt_number == nbb_cell_id) {\n",
       "                        if (nbb_cells[i].get_text() == nbb_unformatted_code) {\n",
       "                             nbb_cells[i].set_text(nbb_formatted_code);\n",
       "                        }\n",
       "                        break;\n",
       "                    }\n",
       "                }\n",
       "            }, 500);\n",
       "            "
      ],
      "text/plain": [
       "<IPython.core.display.Javascript object>"
      ]
     },
     "metadata": {},
     "output_type": "display_data"
    }
   ],
   "source": [
    "submission.wind_speed.describe()"
   ]
  },
  {
   "cell_type": "code",
   "execution_count": 373,
   "metadata": {},
   "outputs": [
    {
     "data": {
      "application/javascript": [
       "\n",
       "            setTimeout(function() {\n",
       "                var nbb_cell_id = 371;\n",
       "                var nbb_unformatted_code = \"submission = submission.round().astype(int)\\nsubmission.head()\";\n",
       "                var nbb_formatted_code = \"submission = submission.round().astype(int)\\nsubmission.head()\";\n",
       "                var nbb_cells = Jupyter.notebook.get_cells();\n",
       "                for (var i = 0; i < nbb_cells.length; ++i) {\n",
       "                    if (nbb_cells[i].input_prompt_number == nbb_cell_id) {\n",
       "                        if (nbb_cells[i].get_text() == nbb_unformatted_code) {\n",
       "                             nbb_cells[i].set_text(nbb_formatted_code);\n",
       "                        }\n",
       "                        break;\n",
       "                    }\n",
       "                }\n",
       "            }, 500);\n",
       "            "
      ],
      "text/plain": [
       "<IPython.core.display.Javascript object>"
      ]
     },
     "metadata": {},
     "output_type": "display_data"
    }
   ],
   "source": [
    "submission.to_csv((DATA_PATH / \"submission.csv\"), index=True) "
   ]
  },
  {
   "cell_type": "code",
   "execution_count": 374,
   "metadata": {},
   "outputs": [
    {
     "name": "stderr",
     "output_type": "stream",
     "text": [
      "100%|████████████████████████████████████████████████████████████████████████████| 4438/4438 [1:16:28<00:00,  1.03s/it]\n"
     ]
    },
    {
     "data": {
      "text/html": [
       "<div>\n",
       "<style scoped>\n",
       "    .dataframe tbody tr th:only-of-type {\n",
       "        vertical-align: middle;\n",
       "    }\n",
       "\n",
       "    .dataframe tbody tr th {\n",
       "        vertical-align: top;\n",
       "    }\n",
       "\n",
       "    .dataframe thead th {\n",
       "        text-align: right;\n",
       "    }\n",
       "</style>\n",
       "<table border=\"1\" class=\"dataframe\">\n",
       "  <thead>\n",
       "    <tr style=\"text-align: right;\">\n",
       "      <th></th>\n",
       "      <th>wind_speed</th>\n",
       "      <th>image_id</th>\n",
       "      <th>storm_id</th>\n",
       "      <th>relative_time</th>\n",
       "    </tr>\n",
       "  </thead>\n",
       "  <tbody>\n",
       "    <tr>\n",
       "      <th>0</th>\n",
       "      <td>26.9946</td>\n",
       "      <td>acd_123</td>\n",
       "      <td>acd</td>\n",
       "      <td>0.304198</td>\n",
       "    </tr>\n",
       "    <tr>\n",
       "      <th>1</th>\n",
       "      <td>26.5679</td>\n",
       "      <td>acd_124</td>\n",
       "      <td>acd</td>\n",
       "      <td>0.305998</td>\n",
       "    </tr>\n",
       "    <tr>\n",
       "      <th>2</th>\n",
       "      <td>25.9769</td>\n",
       "      <td>acd_125</td>\n",
       "      <td>acd</td>\n",
       "      <td>0.307798</td>\n",
       "    </tr>\n",
       "    <tr>\n",
       "      <th>3</th>\n",
       "      <td>25.0869</td>\n",
       "      <td>acd_126</td>\n",
       "      <td>acd</td>\n",
       "      <td>0.309598</td>\n",
       "    </tr>\n",
       "    <tr>\n",
       "      <th>4</th>\n",
       "      <td>25.6782</td>\n",
       "      <td>acd_127</td>\n",
       "      <td>acd</td>\n",
       "      <td>0.313198</td>\n",
       "    </tr>\n",
       "  </tbody>\n",
       "</table>\n",
       "</div>"
      ],
      "text/plain": [
       "  wind_speed image_id storm_id  relative_time\n",
       "0    26.9946  acd_123      acd       0.304198\n",
       "1    26.5679  acd_124      acd       0.305998\n",
       "2    25.9769  acd_125      acd       0.307798\n",
       "3    25.0869  acd_126      acd       0.309598\n",
       "4    25.6782  acd_127      acd       0.313198"
      ]
     },
     "execution_count": 374,
     "metadata": {},
     "output_type": "execute_result"
    },
    {
     "data": {
      "application/javascript": [
       "\n",
       "            setTimeout(function() {\n",
       "                var nbb_cell_id = 372;\n",
       "                var nbb_unformatted_code = \"submission.wind_speed.describe()\";\n",
       "                var nbb_formatted_code = \"submission.wind_speed.describe()\";\n",
       "                var nbb_cells = Jupyter.notebook.get_cells();\n",
       "                for (var i = 0; i < nbb_cells.length; ++i) {\n",
       "                    if (nbb_cells[i].input_prompt_number == nbb_cell_id) {\n",
       "                        if (nbb_cells[i].get_text() == nbb_unformatted_code) {\n",
       "                             nbb_cells[i].set_text(nbb_formatted_code);\n",
       "                        }\n",
       "                        break;\n",
       "                    }\n",
       "                }\n",
       "            }, 500);\n",
       "            "
      ],
      "text/plain": [
       "<IPython.core.display.Javascript object>"
      ]
     },
     "metadata": {},
     "output_type": "display_data"
    }
   ],
   "source": [
    "best_checkpoint = str(Path(\"model-outputs\") / \"epoch=8-step=40481-v0.ckpt\")\n",
    "example_model = PretrainedWindModel.load_from_checkpoint(best_checkpoint)\n",
    "mini_metadata = pd.read_csv(DATA_PATH / \"test_set_features.csv\")\n",
    "mini_metadata[\"file_name\"] = (\n",
    "    DATA_PATH / \"test\" / mini_metadata.image_id.path.with_suffix(\".jpg\")\n",
    ")\n",
    "\n",
    "temporal = example_model.make_temporal_frame(mini_metadata)\n",
    "temporal = temporal.merge( mini_metadata, 'left', left_index=True, right_on=\"image_id\")\n",
    "temporal = temporal.drop(columns=['ocean', 'file_name'])\n",
    "temporal[\"relative_time\"]= temporal[\"relative_time\"]*1e-6\n",
    "temporal.head()"
   ]
  },
  {
   "cell_type": "code",
   "execution_count": 375,
   "metadata": {},
   "outputs": [
    {
     "data": {
      "text/html": [
       "<div>\n",
       "<style scoped>\n",
       "    .dataframe tbody tr th:only-of-type {\n",
       "        vertical-align: middle;\n",
       "    }\n",
       "\n",
       "    .dataframe tbody tr th {\n",
       "        vertical-align: top;\n",
       "    }\n",
       "\n",
       "    .dataframe thead th {\n",
       "        text-align: right;\n",
       "    }\n",
       "</style>\n",
       "<table border=\"1\" class=\"dataframe\">\n",
       "  <thead>\n",
       "    <tr style=\"text-align: right;\">\n",
       "      <th></th>\n",
       "      <th>wind_speed</th>\n",
       "      <th>storm_id</th>\n",
       "      <th>relative_time</th>\n",
       "    </tr>\n",
       "  </thead>\n",
       "  <tbody>\n",
       "    <tr>\n",
       "      <th>0</th>\n",
       "      <td>NaN</td>\n",
       "      <td>NaN</td>\n",
       "      <td>NaN</td>\n",
       "    </tr>\n",
       "    <tr>\n",
       "      <th>1</th>\n",
       "      <td>26.9946</td>\n",
       "      <td>acd</td>\n",
       "      <td>0.304198</td>\n",
       "    </tr>\n",
       "    <tr>\n",
       "      <th>2</th>\n",
       "      <td>26.5679</td>\n",
       "      <td>acd</td>\n",
       "      <td>0.305998</td>\n",
       "    </tr>\n",
       "    <tr>\n",
       "      <th>3</th>\n",
       "      <td>25.9769</td>\n",
       "      <td>acd</td>\n",
       "      <td>0.307798</td>\n",
       "    </tr>\n",
       "    <tr>\n",
       "      <th>4</th>\n",
       "      <td>25.0869</td>\n",
       "      <td>acd</td>\n",
       "      <td>0.309598</td>\n",
       "    </tr>\n",
       "    <tr>\n",
       "      <th>...</th>\n",
       "      <td>...</td>\n",
       "      <td>...</td>\n",
       "      <td>...</td>\n",
       "    </tr>\n",
       "    <tr>\n",
       "      <th>44372</th>\n",
       "      <td>19.2756</td>\n",
       "      <td>zza</td>\n",
       "      <td>0.374402</td>\n",
       "    </tr>\n",
       "    <tr>\n",
       "      <th>44373</th>\n",
       "      <td>19.1158</td>\n",
       "      <td>zza</td>\n",
       "      <td>0.378002</td>\n",
       "    </tr>\n",
       "    <tr>\n",
       "      <th>44374</th>\n",
       "      <td>19.8146</td>\n",
       "      <td>zza</td>\n",
       "      <td>0.379802</td>\n",
       "    </tr>\n",
       "    <tr>\n",
       "      <th>44375</th>\n",
       "      <td>21.8776</td>\n",
       "      <td>zza</td>\n",
       "      <td>0.381602</td>\n",
       "    </tr>\n",
       "    <tr>\n",
       "      <th>44376</th>\n",
       "      <td>21.2875</td>\n",
       "      <td>zza</td>\n",
       "      <td>0.383402</td>\n",
       "    </tr>\n",
       "  </tbody>\n",
       "</table>\n",
       "<p>44377 rows × 3 columns</p>\n",
       "</div>"
      ],
      "text/plain": [
       "      wind_speed storm_id  relative_time\n",
       "0            NaN      NaN            NaN\n",
       "1        26.9946      acd       0.304198\n",
       "2        26.5679      acd       0.305998\n",
       "3        25.9769      acd       0.307798\n",
       "4        25.0869      acd       0.309598\n",
       "...          ...      ...            ...\n",
       "44372    19.2756      zza       0.374402\n",
       "44373    19.1158      zza       0.378002\n",
       "44374    19.8146      zza       0.379802\n",
       "44375    21.8776      zza       0.381602\n",
       "44376    21.2875      zza       0.383402\n",
       "\n",
       "[44377 rows x 3 columns]"
      ]
     },
     "execution_count": 375,
     "metadata": {},
     "output_type": "execute_result"
    },
    {
     "data": {
      "application/javascript": [
       "\n",
       "            setTimeout(function() {\n",
       "                var nbb_cell_id = 373;\n",
       "                var nbb_unformatted_code = \"submission.to_csv((DATA_PATH / \\\"submission.csv\\\"), index=True) \";\n",
       "                var nbb_formatted_code = \"submission.to_csv((DATA_PATH / \\\"submission.csv\\\"), index=True)\";\n",
       "                var nbb_cells = Jupyter.notebook.get_cells();\n",
       "                for (var i = 0; i < nbb_cells.length; ++i) {\n",
       "                    if (nbb_cells[i].input_prompt_number == nbb_cell_id) {\n",
       "                        if (nbb_cells[i].get_text() == nbb_unformatted_code) {\n",
       "                             nbb_cells[i].set_text(nbb_formatted_code);\n",
       "                        }\n",
       "                        break;\n",
       "                    }\n",
       "                }\n",
       "            }, 500);\n",
       "            "
      ],
      "text/plain": [
       "<IPython.core.display.Javascript object>"
      ]
     },
     "metadata": {},
     "output_type": "display_data"
    }
   ],
   "source": [
    "temporal_shift= temporal.shift(1)\n",
    "temporal_shift.drop(columns=['image_id'])"
   ]
  },
  {
   "cell_type": "code",
   "execution_count": 376,
   "metadata": {},
   "outputs": [
    {
     "data": {
      "text/html": [
       "<div>\n",
       "<style scoped>\n",
       "    .dataframe tbody tr th:only-of-type {\n",
       "        vertical-align: middle;\n",
       "    }\n",
       "\n",
       "    .dataframe tbody tr th {\n",
       "        vertical-align: top;\n",
       "    }\n",
       "\n",
       "    .dataframe thead th {\n",
       "        text-align: right;\n",
       "    }\n",
       "</style>\n",
       "<table border=\"1\" class=\"dataframe\">\n",
       "  <thead>\n",
       "    <tr style=\"text-align: right;\">\n",
       "      <th></th>\n",
       "      <th>wind_speed</th>\n",
       "      <th>image_id</th>\n",
       "      <th>storm_id</th>\n",
       "      <th>relative_time</th>\n",
       "      <th>wind_speed2</th>\n",
       "      <th>relative_time2</th>\n",
       "    </tr>\n",
       "  </thead>\n",
       "  <tbody>\n",
       "    <tr>\n",
       "      <th>0</th>\n",
       "      <td>26.9946</td>\n",
       "      <td>acd_123</td>\n",
       "      <td>acd</td>\n",
       "      <td>0.304198</td>\n",
       "      <td>26.9946</td>\n",
       "      <td>-1.000000</td>\n",
       "    </tr>\n",
       "    <tr>\n",
       "      <th>1</th>\n",
       "      <td>26.5679</td>\n",
       "      <td>acd_124</td>\n",
       "      <td>acd</td>\n",
       "      <td>0.305998</td>\n",
       "      <td>26.9946</td>\n",
       "      <td>0.304198</td>\n",
       "    </tr>\n",
       "    <tr>\n",
       "      <th>2</th>\n",
       "      <td>25.9769</td>\n",
       "      <td>acd_125</td>\n",
       "      <td>acd</td>\n",
       "      <td>0.307798</td>\n",
       "      <td>26.5679</td>\n",
       "      <td>0.305998</td>\n",
       "    </tr>\n",
       "    <tr>\n",
       "      <th>3</th>\n",
       "      <td>25.0869</td>\n",
       "      <td>acd_126</td>\n",
       "      <td>acd</td>\n",
       "      <td>0.309598</td>\n",
       "      <td>25.9769</td>\n",
       "      <td>0.307798</td>\n",
       "    </tr>\n",
       "    <tr>\n",
       "      <th>4</th>\n",
       "      <td>25.6782</td>\n",
       "      <td>acd_127</td>\n",
       "      <td>acd</td>\n",
       "      <td>0.313198</td>\n",
       "      <td>25.0869</td>\n",
       "      <td>0.309598</td>\n",
       "    </tr>\n",
       "  </tbody>\n",
       "</table>\n",
       "</div>"
      ],
      "text/plain": [
       "  wind_speed image_id storm_id  relative_time wind_speed2  relative_time2\n",
       "0    26.9946  acd_123      acd       0.304198     26.9946       -1.000000\n",
       "1    26.5679  acd_124      acd       0.305998     26.9946        0.304198\n",
       "2    25.9769  acd_125      acd       0.307798     26.5679        0.305998\n",
       "3    25.0869  acd_126      acd       0.309598     25.9769        0.307798\n",
       "4    25.6782  acd_127      acd       0.313198     25.0869        0.309598"
      ]
     },
     "execution_count": 376,
     "metadata": {},
     "output_type": "execute_result"
    },
    {
     "data": {
      "application/javascript": [
       "\n",
       "            setTimeout(function() {\n",
       "                var nbb_cell_id = 374;\n",
       "                var nbb_unformatted_code = \"best_checkpoint = str(Path(\\\"model-outputs\\\") / \\\"epoch=8-step=40481-v0.ckpt\\\")\\nexample_model = PretrainedWindModel.load_from_checkpoint(best_checkpoint)\\nmini_metadata = pd.read_csv(DATA_PATH / \\\"test_set_features.csv\\\")\\nmini_metadata[\\\"file_name\\\"] = (\\n    DATA_PATH / \\\"test\\\" / mini_metadata.image_id.path.with_suffix(\\\".jpg\\\")\\n)\\n\\ntemporal = example_model.make_temporal_frame(mini_metadata)\\ntemporal = temporal.merge( mini_metadata, 'left', left_index=True, right_on=\\\"image_id\\\")\\ntemporal = temporal.drop(columns=['ocean', 'file_name'])\\ntemporal[\\\"relative_time\\\"]= temporal[\\\"relative_time\\\"]*1e-6\\ntemporal.head()\";\n",
       "                var nbb_formatted_code = \"best_checkpoint = str(Path(\\\"model-outputs\\\") / \\\"epoch=8-step=40481-v0.ckpt\\\")\\nexample_model = PretrainedWindModel.load_from_checkpoint(best_checkpoint)\\nmini_metadata = pd.read_csv(DATA_PATH / \\\"test_set_features.csv\\\")\\nmini_metadata[\\\"file_name\\\"] = (\\n    DATA_PATH / \\\"test\\\" / mini_metadata.image_id.path.with_suffix(\\\".jpg\\\")\\n)\\n\\ntemporal = example_model.make_temporal_frame(mini_metadata)\\ntemporal = temporal.merge(mini_metadata, \\\"left\\\", left_index=True, right_on=\\\"image_id\\\")\\ntemporal = temporal.drop(columns=[\\\"ocean\\\", \\\"file_name\\\"])\\ntemporal[\\\"relative_time\\\"] = temporal[\\\"relative_time\\\"] * 1e-6\\ntemporal.head()\";\n",
       "                var nbb_cells = Jupyter.notebook.get_cells();\n",
       "                for (var i = 0; i < nbb_cells.length; ++i) {\n",
       "                    if (nbb_cells[i].input_prompt_number == nbb_cell_id) {\n",
       "                        if (nbb_cells[i].get_text() == nbb_unformatted_code) {\n",
       "                             nbb_cells[i].set_text(nbb_formatted_code);\n",
       "                        }\n",
       "                        break;\n",
       "                    }\n",
       "                }\n",
       "            }, 500);\n",
       "            "
      ],
      "text/plain": [
       "<IPython.core.display.Javascript object>"
      ]
     },
     "metadata": {},
     "output_type": "display_data"
    }
   ],
   "source": [
    "temporal = temporal.merge(temporal_shift, 'inner', suffixes = [\"\",\"2\"], right_index = True, left_index = True)\n",
    "temporal['wind_speed2']= temporal['wind_speed2'].mask( temporal['storm_id'] != temporal['storm_id2'], temporal['wind_speed'])\n",
    "temporal['relative_time2']= temporal['relative_time2'].mask( temporal['storm_id'] != temporal['storm_id2'], -1)\n",
    "temporal = temporal.drop(columns=['image_id2', 'storm_id2'])\n",
    "temporal.head()"
   ]
  },
  {
   "cell_type": "code",
   "execution_count": 377,
   "metadata": {},
   "outputs": [
    {
     "data": {
      "application/javascript": [
       "\n",
       "            setTimeout(function() {\n",
       "                var nbb_cell_id = 375;\n",
       "                var nbb_unformatted_code = \"temporal_shift= temporal.shift(1)\\ntemporal_shift.drop(columns=['image_id'])\";\n",
       "                var nbb_formatted_code = \"temporal_shift = temporal.shift(1)\\ntemporal_shift.drop(columns=[\\\"image_id\\\"])\";\n",
       "                var nbb_cells = Jupyter.notebook.get_cells();\n",
       "                for (var i = 0; i < nbb_cells.length; ++i) {\n",
       "                    if (nbb_cells[i].input_prompt_number == nbb_cell_id) {\n",
       "                        if (nbb_cells[i].get_text() == nbb_unformatted_code) {\n",
       "                             nbb_cells[i].set_text(nbb_formatted_code);\n",
       "                        }\n",
       "                        break;\n",
       "                    }\n",
       "                }\n",
       "            }, 500);\n",
       "            "
      ],
      "text/plain": [
       "<IPython.core.display.Javascript object>"
      ]
     },
     "metadata": {},
     "output_type": "display_data"
    }
   ],
   "source": [
    "temporal_shift= temporal_shift.shift(1)\n",
    "temporal = temporal.merge(temporal_shift, 'inner', suffixes = [\"\",\"3\"], right_index = True, left_index = True)\n",
    "temporal['wind_speed3']= temporal['wind_speed3'].mask( temporal['storm_id'] != temporal['storm_id3'], temporal['wind_speed2'])\n",
    "temporal['relative_time3']= temporal['relative_time3'].mask( temporal['storm_id'] != temporal['storm_id3'], -1)\n",
    "temporal = temporal.drop(columns=['image_id3', 'storm_id3'])\n",
    "temporal_shift= temporal_shift.shift(1)\n",
    "temporal = temporal.merge(temporal_shift, 'inner', suffixes = [\"\",\"4\"], right_index = True, left_index = True)\n",
    "temporal['wind_speed4']= temporal['wind_speed4'].mask( temporal['storm_id'] != temporal['storm_id4'], temporal['wind_speed3'])\n",
    "temporal['relative_time4']= temporal['relative_time4'].mask( temporal['storm_id'] != temporal['storm_id4'], -1)\n",
    "temporal = temporal.drop(columns=['image_id4', 'storm_id4'])\n",
    "temporal_shift= temporal_shift.shift(1)\n",
    "temporal = temporal.merge(temporal_shift, 'inner', suffixes = [\"\",\"5\"], right_index = True, left_index = True)\n",
    "temporal['wind_speed5']= temporal['wind_speed5'].mask( temporal['storm_id'] != temporal['storm_id5'], temporal['wind_speed4'])\n",
    "temporal['relative_time5']= temporal['relative_time5'].mask( temporal['storm_id'] != temporal['storm_id5'], -1)\n",
    "temporal = temporal.drop(columns=['image_id5', 'storm_id5'])"
   ]
  },
  {
   "cell_type": "code",
   "execution_count": 378,
   "metadata": {},
   "outputs": [
    {
     "data": {
      "application/javascript": [
       "\n",
       "            setTimeout(function() {\n",
       "                var nbb_cell_id = 376;\n",
       "                var nbb_unformatted_code = \"temporal = temporal.merge(temporal_shift, 'inner', suffixes = [\\\"\\\",\\\"2\\\"], right_index = True, left_index = True)\\ntemporal['wind_speed2']= temporal['wind_speed2'].mask( temporal['storm_id'] != temporal['storm_id2'], temporal['wind_speed'])\\ntemporal['relative_time2']= temporal['relative_time2'].mask( temporal['storm_id'] != temporal['storm_id2'], -1)\\ntemporal = temporal.drop(columns=['image_id2', 'storm_id2'])\\ntemporal.head()\";\n",
       "                var nbb_formatted_code = \"temporal = temporal.merge(\\n    temporal_shift, \\\"inner\\\", suffixes=[\\\"\\\", \\\"2\\\"], right_index=True, left_index=True\\n)\\ntemporal[\\\"wind_speed2\\\"] = temporal[\\\"wind_speed2\\\"].mask(\\n    temporal[\\\"storm_id\\\"] != temporal[\\\"storm_id2\\\"], temporal[\\\"wind_speed\\\"]\\n)\\ntemporal[\\\"relative_time2\\\"] = temporal[\\\"relative_time2\\\"].mask(\\n    temporal[\\\"storm_id\\\"] != temporal[\\\"storm_id2\\\"], -1\\n)\\ntemporal = temporal.drop(columns=[\\\"image_id2\\\", \\\"storm_id2\\\"])\\ntemporal.head()\";\n",
       "                var nbb_cells = Jupyter.notebook.get_cells();\n",
       "                for (var i = 0; i < nbb_cells.length; ++i) {\n",
       "                    if (nbb_cells[i].input_prompt_number == nbb_cell_id) {\n",
       "                        if (nbb_cells[i].get_text() == nbb_unformatted_code) {\n",
       "                             nbb_cells[i].set_text(nbb_formatted_code);\n",
       "                        }\n",
       "                        break;\n",
       "                    }\n",
       "                }\n",
       "            }, 500);\n",
       "            "
      ],
      "text/plain": [
       "<IPython.core.display.Javascript object>"
      ]
     },
     "metadata": {},
     "output_type": "display_data"
    }
   ],
   "source": [
    "temporal.head()\n",
    "temporal.to_csv((DATA_PATH / \"temporal_test_set_features.csv\"), index=True) "
   ]
  },
  {
   "cell_type": "code",
   "execution_count": 379,
   "metadata": {},
   "outputs": [
    {
     "data": {
      "text/html": [
       "<div>\n",
       "<style scoped>\n",
       "    .dataframe tbody tr th:only-of-type {\n",
       "        vertical-align: middle;\n",
       "    }\n",
       "\n",
       "    .dataframe tbody tr th {\n",
       "        vertical-align: top;\n",
       "    }\n",
       "\n",
       "    .dataframe thead th {\n",
       "        text-align: right;\n",
       "    }\n",
       "</style>\n",
       "<table border=\"1\" class=\"dataframe\">\n",
       "  <thead>\n",
       "    <tr style=\"text-align: right;\">\n",
       "      <th></th>\n",
       "      <th>Unnamed: 0</th>\n",
       "      <th>wind_speed</th>\n",
       "      <th>image_id</th>\n",
       "      <th>storm_id</th>\n",
       "      <th>relative_time</th>\n",
       "      <th>wind_speed2</th>\n",
       "      <th>relative_time2</th>\n",
       "      <th>wind_speed3</th>\n",
       "      <th>relative_time3</th>\n",
       "      <th>wind_speed4</th>\n",
       "      <th>relative_time4</th>\n",
       "      <th>wind_speed5</th>\n",
       "      <th>relative_time5</th>\n",
       "      <th>wind_speed_y</th>\n",
       "      <th>file_name</th>\n",
       "    </tr>\n",
       "  </thead>\n",
       "  <tbody>\n",
       "    <tr>\n",
       "      <th>0</th>\n",
       "      <td>0</td>\n",
       "      <td>49.467781</td>\n",
       "      <td>abs_000</td>\n",
       "      <td>abs</td>\n",
       "      <td>0.000000</td>\n",
       "      <td>49.467781</td>\n",
       "      <td>-1.000000</td>\n",
       "      <td>49.467781</td>\n",
       "      <td>-1.0000</td>\n",
       "      <td>49.467781</td>\n",
       "      <td>-1.0000</td>\n",
       "      <td>49.467781</td>\n",
       "      <td>-1.0</td>\n",
       "      <td>43</td>\n",
       "      <td>C:\\Users\\micha\\data\\final\\public\\train\\abs_000.jpg</td>\n",
       "    </tr>\n",
       "    <tr>\n",
       "      <th>1</th>\n",
       "      <td>1</td>\n",
       "      <td>45.510166</td>\n",
       "      <td>abs_001</td>\n",
       "      <td>abs</td>\n",
       "      <td>0.001800</td>\n",
       "      <td>49.467781</td>\n",
       "      <td>0.000000</td>\n",
       "      <td>49.467781</td>\n",
       "      <td>-1.0000</td>\n",
       "      <td>49.467781</td>\n",
       "      <td>-1.0000</td>\n",
       "      <td>49.467781</td>\n",
       "      <td>-1.0</td>\n",
       "      <td>44</td>\n",
       "      <td>C:\\Users\\micha\\data\\final\\public\\train\\abs_001.jpg</td>\n",
       "    </tr>\n",
       "    <tr>\n",
       "      <th>2</th>\n",
       "      <td>2</td>\n",
       "      <td>44.894958</td>\n",
       "      <td>abs_002</td>\n",
       "      <td>abs</td>\n",
       "      <td>0.005400</td>\n",
       "      <td>45.510166</td>\n",
       "      <td>0.001800</td>\n",
       "      <td>49.467781</td>\n",
       "      <td>0.0000</td>\n",
       "      <td>49.467781</td>\n",
       "      <td>-1.0000</td>\n",
       "      <td>49.467781</td>\n",
       "      <td>-1.0</td>\n",
       "      <td>45</td>\n",
       "      <td>C:\\Users\\micha\\data\\final\\public\\train\\abs_002.jpg</td>\n",
       "    </tr>\n",
       "    <tr>\n",
       "      <th>3</th>\n",
       "      <td>3</td>\n",
       "      <td>52.786148</td>\n",
       "      <td>abs_003</td>\n",
       "      <td>abs</td>\n",
       "      <td>0.017999</td>\n",
       "      <td>44.894958</td>\n",
       "      <td>0.005400</td>\n",
       "      <td>45.510166</td>\n",
       "      <td>0.0018</td>\n",
       "      <td>49.467781</td>\n",
       "      <td>0.0000</td>\n",
       "      <td>49.467781</td>\n",
       "      <td>-1.0</td>\n",
       "      <td>52</td>\n",
       "      <td>C:\\Users\\micha\\data\\final\\public\\train\\abs_003.jpg</td>\n",
       "    </tr>\n",
       "    <tr>\n",
       "      <th>4</th>\n",
       "      <td>4</td>\n",
       "      <td>52.481560</td>\n",
       "      <td>abs_004</td>\n",
       "      <td>abs</td>\n",
       "      <td>0.019799</td>\n",
       "      <td>52.786148</td>\n",
       "      <td>0.017999</td>\n",
       "      <td>44.894958</td>\n",
       "      <td>0.0054</td>\n",
       "      <td>45.510166</td>\n",
       "      <td>0.0018</td>\n",
       "      <td>49.467781</td>\n",
       "      <td>0.0</td>\n",
       "      <td>53</td>\n",
       "      <td>C:\\Users\\micha\\data\\final\\public\\train\\abs_004.jpg</td>\n",
       "    </tr>\n",
       "  </tbody>\n",
       "</table>\n",
       "</div>"
      ],
      "text/plain": [
       "   Unnamed: 0  wind_speed image_id storm_id  relative_time  wind_speed2  \\\n",
       "0           0   49.467781  abs_000      abs       0.000000    49.467781   \n",
       "1           1   45.510166  abs_001      abs       0.001800    49.467781   \n",
       "2           2   44.894958  abs_002      abs       0.005400    45.510166   \n",
       "3           3   52.786148  abs_003      abs       0.017999    44.894958   \n",
       "4           4   52.481560  abs_004      abs       0.019799    52.786148   \n",
       "\n",
       "   relative_time2  wind_speed3  relative_time3  wind_speed4  relative_time4  \\\n",
       "0       -1.000000    49.467781         -1.0000    49.467781         -1.0000   \n",
       "1        0.000000    49.467781         -1.0000    49.467781         -1.0000   \n",
       "2        0.001800    49.467781          0.0000    49.467781         -1.0000   \n",
       "3        0.005400    45.510166          0.0018    49.467781          0.0000   \n",
       "4        0.017999    44.894958          0.0054    45.510166          0.0018   \n",
       "\n",
       "   wind_speed5  relative_time5  wind_speed_y  \\\n",
       "0    49.467781            -1.0            43   \n",
       "1    49.467781            -1.0            44   \n",
       "2    49.467781            -1.0            45   \n",
       "3    49.467781            -1.0            52   \n",
       "4    49.467781             0.0            53   \n",
       "\n",
       "                                            file_name  \n",
       "0  C:\\Users\\micha\\data\\final\\public\\train\\abs_000.jpg  \n",
       "1  C:\\Users\\micha\\data\\final\\public\\train\\abs_001.jpg  \n",
       "2  C:\\Users\\micha\\data\\final\\public\\train\\abs_002.jpg  \n",
       "3  C:\\Users\\micha\\data\\final\\public\\train\\abs_003.jpg  \n",
       "4  C:\\Users\\micha\\data\\final\\public\\train\\abs_004.jpg  "
      ]
     },
     "execution_count": 379,
     "metadata": {},
     "output_type": "execute_result"
    },
    {
     "data": {
      "application/javascript": [
       "\n",
       "            setTimeout(function() {\n",
       "                var nbb_cell_id = 377;\n",
       "                var nbb_unformatted_code = \"temporal_shift= temporal_shift.shift(1)\\ntemporal = temporal.merge(temporal_shift, 'inner', suffixes = [\\\"\\\",\\\"3\\\"], right_index = True, left_index = True)\\ntemporal['wind_speed3']= temporal['wind_speed3'].mask( temporal['storm_id'] != temporal['storm_id3'], temporal['wind_speed2'])\\ntemporal['relative_time3']= temporal['relative_time3'].mask( temporal['storm_id'] != temporal['storm_id3'], -1)\\ntemporal = temporal.drop(columns=['image_id3', 'storm_id3'])\\ntemporal_shift= temporal_shift.shift(1)\\ntemporal = temporal.merge(temporal_shift, 'inner', suffixes = [\\\"\\\",\\\"4\\\"], right_index = True, left_index = True)\\ntemporal['wind_speed4']= temporal['wind_speed4'].mask( temporal['storm_id'] != temporal['storm_id4'], temporal['wind_speed3'])\\ntemporal['relative_time4']= temporal['relative_time4'].mask( temporal['storm_id'] != temporal['storm_id4'], -1)\\ntemporal = temporal.drop(columns=['image_id4', 'storm_id4'])\\ntemporal_shift= temporal_shift.shift(1)\\ntemporal = temporal.merge(temporal_shift, 'inner', suffixes = [\\\"\\\",\\\"5\\\"], right_index = True, left_index = True)\\ntemporal['wind_speed5']= temporal['wind_speed5'].mask( temporal['storm_id'] != temporal['storm_id5'], temporal['wind_speed4'])\\ntemporal['relative_time5']= temporal['relative_time5'].mask( temporal['storm_id'] != temporal['storm_id5'], -1)\\ntemporal = temporal.drop(columns=['image_id5', 'storm_id5'])\";\n",
       "                var nbb_formatted_code = \"temporal_shift = temporal_shift.shift(1)\\ntemporal = temporal.merge(\\n    temporal_shift, \\\"inner\\\", suffixes=[\\\"\\\", \\\"3\\\"], right_index=True, left_index=True\\n)\\ntemporal[\\\"wind_speed3\\\"] = temporal[\\\"wind_speed3\\\"].mask(\\n    temporal[\\\"storm_id\\\"] != temporal[\\\"storm_id3\\\"], temporal[\\\"wind_speed2\\\"]\\n)\\ntemporal[\\\"relative_time3\\\"] = temporal[\\\"relative_time3\\\"].mask(\\n    temporal[\\\"storm_id\\\"] != temporal[\\\"storm_id3\\\"], -1\\n)\\ntemporal = temporal.drop(columns=[\\\"image_id3\\\", \\\"storm_id3\\\"])\\ntemporal_shift = temporal_shift.shift(1)\\ntemporal = temporal.merge(\\n    temporal_shift, \\\"inner\\\", suffixes=[\\\"\\\", \\\"4\\\"], right_index=True, left_index=True\\n)\\ntemporal[\\\"wind_speed4\\\"] = temporal[\\\"wind_speed4\\\"].mask(\\n    temporal[\\\"storm_id\\\"] != temporal[\\\"storm_id4\\\"], temporal[\\\"wind_speed3\\\"]\\n)\\ntemporal[\\\"relative_time4\\\"] = temporal[\\\"relative_time4\\\"].mask(\\n    temporal[\\\"storm_id\\\"] != temporal[\\\"storm_id4\\\"], -1\\n)\\ntemporal = temporal.drop(columns=[\\\"image_id4\\\", \\\"storm_id4\\\"])\\ntemporal_shift = temporal_shift.shift(1)\\ntemporal = temporal.merge(\\n    temporal_shift, \\\"inner\\\", suffixes=[\\\"\\\", \\\"5\\\"], right_index=True, left_index=True\\n)\\ntemporal[\\\"wind_speed5\\\"] = temporal[\\\"wind_speed5\\\"].mask(\\n    temporal[\\\"storm_id\\\"] != temporal[\\\"storm_id5\\\"], temporal[\\\"wind_speed4\\\"]\\n)\\ntemporal[\\\"relative_time5\\\"] = temporal[\\\"relative_time5\\\"].mask(\\n    temporal[\\\"storm_id\\\"] != temporal[\\\"storm_id5\\\"], -1\\n)\\ntemporal = temporal.drop(columns=[\\\"image_id5\\\", \\\"storm_id5\\\"])\";\n",
       "                var nbb_cells = Jupyter.notebook.get_cells();\n",
       "                for (var i = 0; i < nbb_cells.length; ++i) {\n",
       "                    if (nbb_cells[i].input_prompt_number == nbb_cell_id) {\n",
       "                        if (nbb_cells[i].get_text() == nbb_unformatted_code) {\n",
       "                             nbb_cells[i].set_text(nbb_formatted_code);\n",
       "                        }\n",
       "                        break;\n",
       "                    }\n",
       "                }\n",
       "            }, 500);\n",
       "            "
      ],
      "text/plain": [
       "<IPython.core.display.Javascript object>"
      ]
     },
     "metadata": {},
     "output_type": "display_data"
    }
   ],
   "source": [
    "train_metadata = pd.read_csv(DATA_PATH / \"temporal_training_set_features.csv\")\n",
    "train_labels = pd.read_csv(DATA_PATH / \"training_set_labels.csv\")\n",
    "# Merge train_metadata with train_labels on the image_id field\n",
    "full_metadata = train_metadata.merge(train_labels, on=\"image_id\",suffixes = [\"\",\"_y\"] )\n",
    "full_metadata[\"file_name\"] = (\n",
    "    DATA_PATH / \"train\" / full_metadata.image_id.path.with_suffix(\".jpg\")\n",
    ")\n",
    "full_metadata.head()"
   ]
  },
  {
   "cell_type": "code",
   "execution_count": 380,
   "metadata": {},
   "outputs": [
    {
     "data": {
      "text/plain": [
       "(56206, 15)"
      ]
     },
     "execution_count": 380,
     "metadata": {},
     "output_type": "execute_result"
    },
    {
     "data": {
      "application/javascript": [
       "\n",
       "            setTimeout(function() {\n",
       "                var nbb_cell_id = 378;\n",
       "                var nbb_unformatted_code = \"temporal.head()\\ntemporal.to_csv((DATA_PATH / \\\"temporal_test_set_features.csv\\\"), index=True) \";\n",
       "                var nbb_formatted_code = \"temporal.head()\\ntemporal.to_csv((DATA_PATH / \\\"temporal_test_set_features.csv\\\"), index=True)\";\n",
       "                var nbb_cells = Jupyter.notebook.get_cells();\n",
       "                for (var i = 0; i < nbb_cells.length; ++i) {\n",
       "                    if (nbb_cells[i].input_prompt_number == nbb_cell_id) {\n",
       "                        if (nbb_cells[i].get_text() == nbb_unformatted_code) {\n",
       "                             nbb_cells[i].set_text(nbb_formatted_code);\n",
       "                        }\n",
       "                        break;\n",
       "                    }\n",
       "                }\n",
       "            }, 500);\n",
       "            "
      ],
      "text/plain": [
       "<IPython.core.display.Javascript object>"
      ]
     },
     "metadata": {},
     "output_type": "display_data"
    }
   ],
   "source": [
    "full_metadata[\"pct_of_storm\"] = (\n",
    "    np.random.random_sample(max(full_metadata.shape))\n",
    ")\n",
    "full_train = full_metadata[full_metadata.pct_of_storm < 0.8].drop(\n",
    "    [\"images_per_storm\", \"pct_of_storm\"], axis=1\n",
    ")\n",
    "full_val = full_metadata[full_metadata.pct_of_storm >= 0.8].drop(\n",
    "    [\"images_per_storm\", \"pct_of_storm\"], axis=1\n",
    ")\n",
    "train = full_train.sample(frac=0.8, replace=False)\n",
    "val = full_val.sample(frac=0.8, replace=False)\n",
    "train.shape"
   ]
  },
  {
   "cell_type": "code",
   "execution_count": 381,
   "metadata": {},
   "outputs": [
    {
     "data": {
      "text/plain": [
       "(14051, 15)"
      ]
     },
     "execution_count": 381,
     "metadata": {},
     "output_type": "execute_result"
    },
    {
     "data": {
      "application/javascript": [
       "\n",
       "            setTimeout(function() {\n",
       "                var nbb_cell_id = 379;\n",
       "                var nbb_unformatted_code = \"train_metadata = pd.read_csv(DATA_PATH / \\\"temporal_training_set_features.csv\\\")\\ntrain_labels = pd.read_csv(DATA_PATH / \\\"training_set_labels.csv\\\")\\n# Merge train_metadata with train_labels on the image_id field\\nfull_metadata = train_metadata.merge(train_labels, on=\\\"image_id\\\",suffixes = [\\\"\\\",\\\"_y\\\"] )\\nfull_metadata[\\\"file_name\\\"] = (\\n    DATA_PATH / \\\"train\\\" / full_metadata.image_id.path.with_suffix(\\\".jpg\\\")\\n)\\nfull_metadata.head()\";\n",
       "                var nbb_formatted_code = \"train_metadata = pd.read_csv(DATA_PATH / \\\"temporal_training_set_features.csv\\\")\\ntrain_labels = pd.read_csv(DATA_PATH / \\\"training_set_labels.csv\\\")\\n# Merge train_metadata with train_labels on the image_id field\\nfull_metadata = train_metadata.merge(train_labels, on=\\\"image_id\\\", suffixes=[\\\"\\\", \\\"_y\\\"])\\nfull_metadata[\\\"file_name\\\"] = (\\n    DATA_PATH / \\\"train\\\" / full_metadata.image_id.path.with_suffix(\\\".jpg\\\")\\n)\\nfull_metadata.head()\";\n",
       "                var nbb_cells = Jupyter.notebook.get_cells();\n",
       "                for (var i = 0; i < nbb_cells.length; ++i) {\n",
       "                    if (nbb_cells[i].input_prompt_number == nbb_cell_id) {\n",
       "                        if (nbb_cells[i].get_text() == nbb_unformatted_code) {\n",
       "                             nbb_cells[i].set_text(nbb_formatted_code);\n",
       "                        }\n",
       "                        break;\n",
       "                    }\n",
       "                }\n",
       "            }, 500);\n",
       "            "
      ],
      "text/plain": [
       "<IPython.core.display.Javascript object>"
      ]
     },
     "metadata": {},
     "output_type": "display_data"
    }
   ],
   "source": [
    "val.shape"
   ]
  },
  {
   "cell_type": "code",
   "execution_count": 382,
   "metadata": {},
   "outputs": [
    {
     "data": {
      "text/html": [
       "<div>\n",
       "<style scoped>\n",
       "    .dataframe tbody tr th:only-of-type {\n",
       "        vertical-align: middle;\n",
       "    }\n",
       "\n",
       "    .dataframe tbody tr th {\n",
       "        vertical-align: top;\n",
       "    }\n",
       "\n",
       "    .dataframe thead th {\n",
       "        text-align: right;\n",
       "    }\n",
       "</style>\n",
       "<table border=\"1\" class=\"dataframe\">\n",
       "  <thead>\n",
       "    <tr style=\"text-align: right;\">\n",
       "      <th></th>\n",
       "      <th>Unnamed: 0</th>\n",
       "      <th>wind_speed</th>\n",
       "      <th>image_id</th>\n",
       "      <th>storm_id</th>\n",
       "      <th>relative_time</th>\n",
       "      <th>wind_speed2</th>\n",
       "      <th>relative_time2</th>\n",
       "      <th>wind_speed3</th>\n",
       "      <th>relative_time3</th>\n",
       "      <th>wind_speed4</th>\n",
       "      <th>relative_time4</th>\n",
       "      <th>wind_speed5</th>\n",
       "      <th>relative_time5</th>\n",
       "      <th>file_name</th>\n",
       "    </tr>\n",
       "  </thead>\n",
       "  <tbody>\n",
       "    <tr>\n",
       "      <th>62352</th>\n",
       "      <td>62352</td>\n",
       "      <td>40.665123</td>\n",
       "      <td>xmf_145</td>\n",
       "      <td>xmf</td>\n",
       "      <td>0.324000</td>\n",
       "      <td>41.449192</td>\n",
       "      <td>0.320399</td>\n",
       "      <td>38.113361</td>\n",
       "      <td>0.318601</td>\n",
       "      <td>36.550411</td>\n",
       "      <td>0.316800</td>\n",
       "      <td>36.167515</td>\n",
       "      <td>0.315000</td>\n",
       "      <td>C:\\Users\\micha\\data\\final\\public\\train\\xmf_145.jpg</td>\n",
       "    </tr>\n",
       "    <tr>\n",
       "      <th>59051</th>\n",
       "      <td>59051</td>\n",
       "      <td>82.547401</td>\n",
       "      <td>woz_065</td>\n",
       "      <td>woz</td>\n",
       "      <td>0.140399</td>\n",
       "      <td>82.089279</td>\n",
       "      <td>0.138599</td>\n",
       "      <td>89.863052</td>\n",
       "      <td>0.135001</td>\n",
       "      <td>96.731667</td>\n",
       "      <td>0.133201</td>\n",
       "      <td>96.749443</td>\n",
       "      <td>0.131401</td>\n",
       "      <td>C:\\Users\\micha\\data\\final\\public\\train\\woz_065.jpg</td>\n",
       "    </tr>\n",
       "    <tr>\n",
       "      <th>6385</th>\n",
       "      <td>6385</td>\n",
       "      <td>38.161369</td>\n",
       "      <td>csd_039</td>\n",
       "      <td>csd</td>\n",
       "      <td>0.113400</td>\n",
       "      <td>33.579544</td>\n",
       "      <td>0.111600</td>\n",
       "      <td>36.008694</td>\n",
       "      <td>0.109801</td>\n",
       "      <td>37.624386</td>\n",
       "      <td>0.107999</td>\n",
       "      <td>44.196930</td>\n",
       "      <td>0.100800</td>\n",
       "      <td>C:\\Users\\micha\\data\\final\\public\\train\\csd_039.jpg</td>\n",
       "    </tr>\n",
       "    <tr>\n",
       "      <th>64584</th>\n",
       "      <td>64584</td>\n",
       "      <td>19.105335</td>\n",
       "      <td>yfj_188</td>\n",
       "      <td>yfj</td>\n",
       "      <td>0.406801</td>\n",
       "      <td>21.584972</td>\n",
       "      <td>0.405002</td>\n",
       "      <td>19.154114</td>\n",
       "      <td>0.403201</td>\n",
       "      <td>20.935871</td>\n",
       "      <td>0.401401</td>\n",
       "      <td>22.953949</td>\n",
       "      <td>0.399602</td>\n",
       "      <td>C:\\Users\\micha\\data\\final\\public\\train\\yfj_188.jpg</td>\n",
       "    </tr>\n",
       "    <tr>\n",
       "      <th>60814</th>\n",
       "      <td>60814</td>\n",
       "      <td>130.032242</td>\n",
       "      <td>xgr_046</td>\n",
       "      <td>xgr</td>\n",
       "      <td>0.104402</td>\n",
       "      <td>125.910561</td>\n",
       "      <td>0.102602</td>\n",
       "      <td>127.272461</td>\n",
       "      <td>0.100802</td>\n",
       "      <td>129.327637</td>\n",
       "      <td>0.099002</td>\n",
       "      <td>126.593269</td>\n",
       "      <td>0.097202</td>\n",
       "      <td>C:\\Users\\micha\\data\\final\\public\\train\\xgr_046.jpg</td>\n",
       "    </tr>\n",
       "  </tbody>\n",
       "</table>\n",
       "</div>"
      ],
      "text/plain": [
       "       Unnamed: 0  wind_speed image_id storm_id  relative_time  wind_speed2  \\\n",
       "62352       62352   40.665123  xmf_145      xmf       0.324000    41.449192   \n",
       "59051       59051   82.547401  woz_065      woz       0.140399    82.089279   \n",
       "6385         6385   38.161369  csd_039      csd       0.113400    33.579544   \n",
       "64584       64584   19.105335  yfj_188      yfj       0.406801    21.584972   \n",
       "60814       60814  130.032242  xgr_046      xgr       0.104402   125.910561   \n",
       "\n",
       "       relative_time2  wind_speed3  relative_time3  wind_speed4  \\\n",
       "62352        0.320399    38.113361        0.318601    36.550411   \n",
       "59051        0.138599    89.863052        0.135001    96.731667   \n",
       "6385         0.111600    36.008694        0.109801    37.624386   \n",
       "64584        0.405002    19.154114        0.403201    20.935871   \n",
       "60814        0.102602   127.272461        0.100802   129.327637   \n",
       "\n",
       "       relative_time4  wind_speed5  relative_time5  \\\n",
       "62352        0.316800    36.167515        0.315000   \n",
       "59051        0.133201    96.749443        0.131401   \n",
       "6385         0.107999    44.196930        0.100800   \n",
       "64584        0.401401    22.953949        0.399602   \n",
       "60814        0.099002   126.593269        0.097202   \n",
       "\n",
       "                                                file_name  \n",
       "62352  C:\\Users\\micha\\data\\final\\public\\train\\xmf_145.jpg  \n",
       "59051  C:\\Users\\micha\\data\\final\\public\\train\\woz_065.jpg  \n",
       "6385   C:\\Users\\micha\\data\\final\\public\\train\\csd_039.jpg  \n",
       "64584  C:\\Users\\micha\\data\\final\\public\\train\\yfj_188.jpg  \n",
       "60814  C:\\Users\\micha\\data\\final\\public\\train\\xgr_046.jpg  "
      ]
     },
     "execution_count": 382,
     "metadata": {},
     "output_type": "execute_result"
    },
    {
     "data": {
      "application/javascript": [
       "\n",
       "            setTimeout(function() {\n",
       "                var nbb_cell_id = 380;\n",
       "                var nbb_unformatted_code = \"train = full_metadata.sample(frac=0.8, replace=False)\\nval = full_metadata.sample(frac=0.2, replace=False)\\ntrain.shape\";\n",
       "                var nbb_formatted_code = \"train = full_metadata.sample(frac=0.8, replace=False)\\nval = full_metadata.sample(frac=0.2, replace=False)\\ntrain.shape\";\n",
       "                var nbb_cells = Jupyter.notebook.get_cells();\n",
       "                for (var i = 0; i < nbb_cells.length; ++i) {\n",
       "                    if (nbb_cells[i].input_prompt_number == nbb_cell_id) {\n",
       "                        if (nbb_cells[i].get_text() == nbb_unformatted_code) {\n",
       "                             nbb_cells[i].set_text(nbb_formatted_code);\n",
       "                        }\n",
       "                        break;\n",
       "                    }\n",
       "                }\n",
       "            }, 500);\n",
       "            "
      ],
      "text/plain": [
       "<IPython.core.display.Javascript object>"
      ]
     },
     "metadata": {},
     "output_type": "display_data"
    }
   ],
   "source": [
    "# Separate features from labels\n",
    "x_train = train.drop(\"wind_speed_y\", axis=1)\n",
    "y_train = train.wind_speed_y\n",
    "\n",
    "x_val = val.drop(\"wind_speed_y\", axis=1)\n",
    "y_val = val.wind_speed_y\n",
    "\n",
    "x_train.head()"
   ]
  },
  {
   "cell_type": "code",
   "execution_count": 383,
   "metadata": {},
   "outputs": [
    {
     "data": {
      "application/javascript": [
       "\n",
       "            setTimeout(function() {\n",
       "                var nbb_cell_id = 381;\n",
       "                var nbb_unformatted_code = \"val.shape\";\n",
       "                var nbb_formatted_code = \"val.shape\";\n",
       "                var nbb_cells = Jupyter.notebook.get_cells();\n",
       "                for (var i = 0; i < nbb_cells.length; ++i) {\n",
       "                    if (nbb_cells[i].input_prompt_number == nbb_cell_id) {\n",
       "                        if (nbb_cells[i].get_text() == nbb_unformatted_code) {\n",
       "                             nbb_cells[i].set_text(nbb_formatted_code);\n",
       "                        }\n",
       "                        break;\n",
       "                    }\n",
       "                }\n",
       "            }, 500);\n",
       "            "
      ],
      "text/plain": [
       "<IPython.core.display.Javascript object>"
      ]
     },
     "metadata": {},
     "output_type": "display_data"
    }
   ],
   "source": [
    "class DatasetTemporalWIND(Dataset):\n",
    "    \"\"\"Reads in temporal data and provides readout.\n",
    "    \"\"\"\n",
    "\n",
    "    def __init__(self, x_train, y_train=None):\n",
    "        self.data = x_train \n",
    "        self.label = y_train\n",
    "        \n",
    "\n",
    "    def __len__(self):\n",
    "        return len(self.data)\n",
    "\n",
    "    def __getitem__(self, index):\n",
    "        \n",
    "        image_id = self.data.iloc[index][\"image_id\"]\n",
    "        wind_speed = self.data.iloc[index][\"wind_speed\"]\n",
    "        relative_time = self.data.iloc[index][\"relative_time\"]\n",
    "        wind_speed2 = self.data.iloc[index][\"wind_speed2\"]\n",
    "        relative_time2 = self.data.iloc[index][\"relative_time2\"]\n",
    "        wind_speed3 = self.data.iloc[index][\"wind_speed3\"]\n",
    "        relative_time3 = self.data.iloc[index][\"relative_time3\"]\n",
    "        wind_speed4 = self.data.iloc[index][\"wind_speed4\"]\n",
    "        relative_time4 = self.data.iloc[index][\"relative_time4\"]\n",
    "        wind_speed5 = self.data.iloc[index][\"wind_speed5\"]\n",
    "        relative_time5 = self.data.iloc[index][\"relative_time5\"]\n",
    "        \n",
    "        speeds_and_times = np.reshape(np.array([wind_speed, relative_time,wind_speed2,relative_time2,wind_speed3,relative_time3,\n",
    "                                           wind_speed4,relative_time4,wind_speed5,relative_time5], dtype = 'float32'), (1,1,-1))\n",
    "        \n",
    "        if self.label is not None:\n",
    "            label = self.label.iloc[index]\n",
    "            \n",
    "            sample = {\"speeds_and_times\": speeds_and_times, \n",
    "                      \"image_id\": image_id, \n",
    "                      \"label\": label}\n",
    "        else:\n",
    "            sample = {\"speeds_and_times\": speeds_and_times ,\n",
    "                      \"image_id\": image_id}\n",
    "        return sample"
   ]
  },
  {
   "cell_type": "code",
   "execution_count": 384,
   "metadata": {},
   "outputs": [
    {
     "data": {
      "application/javascript": [
       "\n",
       "            setTimeout(function() {\n",
       "                var nbb_cell_id = 382;\n",
       "                var nbb_unformatted_code = \"# Separate features from labels\\nx_train = train.drop(\\\"wind_speed_y\\\", axis=1)\\ny_train = train.wind_speed_y\\n\\nx_val = val.drop(\\\"wind_speed_y\\\", axis=1)\\ny_val = val.wind_speed_y\\n\\nx_train.head()\";\n",
       "                var nbb_formatted_code = \"# Separate features from labels\\nx_train = train.drop(\\\"wind_speed_y\\\", axis=1)\\ny_train = train.wind_speed_y\\n\\nx_val = val.drop(\\\"wind_speed_y\\\", axis=1)\\ny_val = val.wind_speed_y\\n\\nx_train.head()\";\n",
       "                var nbb_cells = Jupyter.notebook.get_cells();\n",
       "                for (var i = 0; i < nbb_cells.length; ++i) {\n",
       "                    if (nbb_cells[i].input_prompt_number == nbb_cell_id) {\n",
       "                        if (nbb_cells[i].get_text() == nbb_unformatted_code) {\n",
       "                             nbb_cells[i].set_text(nbb_formatted_code);\n",
       "                        }\n",
       "                        break;\n",
       "                    }\n",
       "                }\n",
       "            }, 500);\n",
       "            "
      ],
      "text/plain": [
       "<IPython.core.display.Javascript object>"
      ]
     },
     "metadata": {},
     "output_type": "display_data"
    }
   ],
   "source": [
    "from torch.nn import functional as F\n",
    "class TemporalWindModel(pl.LightningModule):\n",
    "    \n",
    "    def __init__(self, hparams):\n",
    "        super(TemporalWindModel, self).__init__()\n",
    "        self.hparams = hparams\n",
    "        self.learning_rate = self.hparams.get(\"lr\", 2e-4)\n",
    "        self.hidden_size = self.hparams.get(\"embedding_dim\", 50)\n",
    "        self.dropout = self.hparams.get(\"dropout\", 0.1)\n",
    "        self.max_epochs = self.hparams.get(\"max_epochs\", 1)\n",
    "        self.num_workers = self.hparams.get(\"num_workers\", 0)\n",
    "        self.batch_size = self.hparams.get(\"batch_size\", 10)\n",
    "        self.x_train = self.hparams.get(\"x_train\")\n",
    "        self.y_train = self.hparams.get(\"y_train\")\n",
    "        self.x_val = self.hparams.get(\"x_val\")\n",
    "        self.y_val = self.hparams.get(\"y_val\")\n",
    "        # Where final model will be saved\n",
    "        self.output_path = Path.cwd() / self.hparams.get(\"output_path\", \"model-outputs\")\n",
    "        self.output_path.mkdir(exist_ok=True)\n",
    "\n",
    "        # Where TensorBoard logs will be saved\n",
    "        self.log_path = Path.cwd() / self.hparams.get(\"log_path\", \"logs\")\n",
    "        self.log_path.mkdir(exist_ok=True)\n",
    "        self.logger = pl.loggers.TensorBoardLogger(\n",
    "        self.log_path, name=\"temporal_model\"\n",
    "        )\n",
    "        self.model = self.prepare_model()\n",
    "        self.lr = 0.01\n",
    "        self.loss = RMSELoss()\n",
    "        self.train_dataset = DatasetTemporalWIND(self.x_train, self.y_train)\n",
    "        self.val_dataset = DatasetTemporalWIND(self.x_val, self.y_val)\n",
    "\n",
    "    def prepare_model(self):\n",
    "        model = nn.Sequential(\n",
    "            nn.ReLU(10),\n",
    "            nn.Linear(10,128),\n",
    "            nn.Dropout(self.dropout),\n",
    "            nn.Linear(128,10),\n",
    "            nn.Linear(10,1)\n",
    "        )\n",
    "        \n",
    "        return model\n",
    "    \n",
    "    def forward(self, x):\n",
    "        return self.model(x)   \n",
    "\n",
    "    def training_step(self, batch, batch_idx):\n",
    "        x = batch[\"speeds_and_times\"]\n",
    "        y = batch[\"label\"]\n",
    "        criterion = RMSELoss()\n",
    "        # Switch to training mode\n",
    "        loss = criterion(\n",
    "            self.model.train().forward(x).squeeze(), y.type(torch.FloatTensor).cuda()\n",
    "        )\n",
    "        tensorboard_logs = {\"train_loss\": loss}\n",
    "        return {\"loss\": loss, \"log\": tensorboard_logs}\n",
    "\n",
    "    def validation_step(self, batch, batch_idx):\n",
    "        x = batch[\"speeds_and_times\"]\n",
    "        y = batch[\"label\"]\n",
    "        criterion = RMSELoss()\n",
    "        # Switch to evaluation mode\n",
    "        loss = criterion(\n",
    "            self.model.eval().forward(x).squeeze(), y.type(torch.FloatTensor).cuda()\n",
    "        )\n",
    "        tensorboard_logs = {\"val_loss\": loss}\n",
    "        return {\"batch_val_loss\": loss, \"log\": tensorboard_logs}\n",
    "\n",
    "    def train_dataloader(self):\n",
    "        return DataLoader(\n",
    "            self.train_dataset, num_workers=self.num_workers, batch_size=self.batch_size\n",
    "        )\n",
    "\n",
    "    def val_dataloader(self):\n",
    "        return DataLoader(\n",
    "            self.val_dataset, num_workers=self.num_workers, batch_size=self.batch_size\n",
    "        )\n",
    "\n",
    "    def configure_optimizers(self):\n",
    "        return torch.optim.AdamW(self.model.parameters(), lr=self.learning_rate)\n",
    "\n",
    "    def training_epoch_end(self, outputs):\n",
    "        avg_train_loss = torch.stack(tuple(output[\"loss\"] for output in outputs)).mean()\n",
    "        return {\n",
    "            \"avg_epoch_train_loss\": avg_train_loss,\n",
    "            \"progress_bar\": {\"avg_epoch_train_loss\": avg_train_loss},\n",
    "            \"log\": {\"avg_epoch_train_loss\": avg_train_loss},\n",
    "        }\n",
    "\n",
    "    def validation_epoch_end(self, outputs):\n",
    "        avg_val_loss = torch.stack(\n",
    "            tuple(output[\"batch_val_loss\"] for output in outputs)\n",
    "        ).mean()\n",
    "        return {\n",
    "            \"avg_epoch_val_loss\": avg_val_loss,\n",
    "            \"progress_bar\": {\"avg_epoch_val_loss\": avg_val_loss},\n",
    "            \"log\": {\"avg_epoch_val_loss\": avg_val_loss},\n",
    "        }\n",
    "\n",
    "    ## Convenience Methods ##\n",
    "\n",
    "    def fit(self):\n",
    "        self.trainer = pl.Trainer(\n",
    "            max_epochs=self.max_epochs,\n",
    "            default_root_dir=self.output_path,\n",
    "            logger=self.logger,\n",
    "            checkpoint_callback=pl.callbacks.ModelCheckpoint(\n",
    "                filepath=self.output_path,\n",
    "                monitor=\"avg_epoch_val_loss\",\n",
    "                mode=\"min\",\n",
    "                verbose=True,\n",
    "                \n",
    "            ),\n",
    "            gradient_clip_val=self.hparams.get(\"gradient_clip_val\", 1),\n",
    "            num_sanity_val_steps=self.hparams.get(\"val_sanity_checks\", 0),\n",
    "            gpus=1,\n",
    "        )\n",
    "        self.trainer.fit(self)\n",
    "        \n",
    "    @torch.no_grad()\n",
    "    \n",
    "    def make_temporal_submission_frame(self, x_test):\n",
    "        test_dataset = DatasetTemporalWIND(x_test)\n",
    "        test_dataloader = DataLoader(\n",
    "            test_dataset, num_workers=self.num_workers, batch_size=self.batch_size\n",
    "        )\n",
    "        submission_frame = pd.DataFrame(index=x_test.image_id, columns=[\"wind_speed\"])\n",
    "        for batch in tqdm(test_dataloader, total=len(test_dataloader)):\n",
    "            x = batch[\"speeds_and_times\"]\n",
    "            preds = self.eval().forward(x)\n",
    "            submission_frame.loc[batch[\"image_id\"], \"wind_speed\"] = (\n",
    "                preds.detach().numpy().squeeze()\n",
    "            )\n",
    "        submission_frame.wind_speed = submission_frame.wind_speed.astype(float)\n",
    "        return submission_frame\n"
   ]
  },
  {
   "cell_type": "code",
   "execution_count": 385,
   "metadata": {},
   "outputs": [
    {
     "data": {
      "application/javascript": [
       "\n",
       "            setTimeout(function() {\n",
       "                var nbb_cell_id = 383;\n",
       "                var nbb_unformatted_code = \"class DatasetTemporalWIND(Dataset):\\n    \\\"\\\"\\\"Reads in temporal data and provides readout.\\n    \\\"\\\"\\\"\\n\\n    def __init__(self, x_train, y_train=None):\\n        self.data = x_train \\n        self.label = y_train\\n        \\n\\n    def __len__(self):\\n        return len(self.data)\\n\\n    def __getitem__(self, index):\\n        \\n        image_id = self.data.iloc[index][\\\"image_id\\\"]\\n        wind_speed = self.data.iloc[index][\\\"wind_speed\\\"]\\n        relative_time = self.data.iloc[index][\\\"relative_time\\\"]\\n        wind_speed2 = self.data.iloc[index][\\\"wind_speed2\\\"]\\n        relative_time2 = self.data.iloc[index][\\\"relative_time2\\\"]\\n        wind_speed3 = self.data.iloc[index][\\\"wind_speed3\\\"]\\n        relative_time3 = self.data.iloc[index][\\\"relative_time3\\\"]\\n        wind_speed4 = self.data.iloc[index][\\\"wind_speed4\\\"]\\n        relative_time4 = self.data.iloc[index][\\\"relative_time4\\\"]\\n        wind_speed5 = self.data.iloc[index][\\\"wind_speed5\\\"]\\n        relative_time5 = self.data.iloc[index][\\\"relative_time5\\\"]\\n        \\n        speeds_and_times = np.reshape(np.array([wind_speed, relative_time,wind_speed2,relative_time2,wind_speed3,relative_time3,\\n                                           wind_speed4,relative_time4,wind_speed5,relative_time5], dtype = 'float32'), (1,1,-1))\\n        \\n        if self.label is not None:\\n            label = self.label.iloc[index]\\n            \\n            sample = {\\\"speeds_and_times\\\": speeds_and_times, \\n                      \\\"image_id\\\": image_id, \\n                      \\\"label\\\": label}\\n        else:\\n            sample = {\\\"speeds_and_times\\\": speeds_and_times ,\\n                      \\\"image_id\\\": image_id}\\n        return sample\";\n",
       "                var nbb_formatted_code = \"class DatasetTemporalWIND(Dataset):\\n    \\\"\\\"\\\"Reads in temporal data and provides readout.\\\"\\\"\\\"\\n\\n    def __init__(self, x_train, y_train=None):\\n        self.data = x_train\\n        self.label = y_train\\n\\n    def __len__(self):\\n        return len(self.data)\\n\\n    def __getitem__(self, index):\\n\\n        image_id = self.data.iloc[index][\\\"image_id\\\"]\\n        wind_speed = self.data.iloc[index][\\\"wind_speed\\\"]\\n        relative_time = self.data.iloc[index][\\\"relative_time\\\"]\\n        wind_speed2 = self.data.iloc[index][\\\"wind_speed2\\\"]\\n        relative_time2 = self.data.iloc[index][\\\"relative_time2\\\"]\\n        wind_speed3 = self.data.iloc[index][\\\"wind_speed3\\\"]\\n        relative_time3 = self.data.iloc[index][\\\"relative_time3\\\"]\\n        wind_speed4 = self.data.iloc[index][\\\"wind_speed4\\\"]\\n        relative_time4 = self.data.iloc[index][\\\"relative_time4\\\"]\\n        wind_speed5 = self.data.iloc[index][\\\"wind_speed5\\\"]\\n        relative_time5 = self.data.iloc[index][\\\"relative_time5\\\"]\\n\\n        speeds_and_times = np.reshape(\\n            np.array(\\n                [\\n                    wind_speed,\\n                    relative_time,\\n                    wind_speed2,\\n                    relative_time2,\\n                    wind_speed3,\\n                    relative_time3,\\n                    wind_speed4,\\n                    relative_time4,\\n                    wind_speed5,\\n                    relative_time5,\\n                ],\\n                dtype=\\\"float32\\\",\\n            ),\\n            (1, 1, -1),\\n        )\\n\\n        if self.label is not None:\\n            label = self.label.iloc[index]\\n\\n            sample = {\\n                \\\"speeds_and_times\\\": speeds_and_times,\\n                \\\"image_id\\\": image_id,\\n                \\\"label\\\": label,\\n            }\\n        else:\\n            sample = {\\\"speeds_and_times\\\": speeds_and_times, \\\"image_id\\\": image_id}\\n        return sample\";\n",
       "                var nbb_cells = Jupyter.notebook.get_cells();\n",
       "                for (var i = 0; i < nbb_cells.length; ++i) {\n",
       "                    if (nbb_cells[i].input_prompt_number == nbb_cell_id) {\n",
       "                        if (nbb_cells[i].get_text() == nbb_unformatted_code) {\n",
       "                             nbb_cells[i].set_text(nbb_formatted_code);\n",
       "                        }\n",
       "                        break;\n",
       "                    }\n",
       "                }\n",
       "            }, 500);\n",
       "            "
      ],
      "text/plain": [
       "<IPython.core.display.Javascript object>"
      ]
     },
     "metadata": {},
     "output_type": "display_data"
    }
   ],
   "source": [
    "hparams = {\n",
    "    # Required hparams\n",
    "    \"x_train\": x_train,\n",
    "    \"y_train\": y_train,\n",
    "    \"x_val\": x_val,\n",
    "    \"y_val\": y_val,\n",
    "    # Optional hparams\n",
    "    \"lr\": 2e-4,\n",
    "    \"embedding_dim\": 100,\n",
    "    \"dropout\": 0.5,\n",
    "    \"max_epochs\": 10,\n",
    "    \"batch_size\": 10,\n",
    "    \"num_workers\": 0,\n",
    "    \"gradient_clip_val\": 1,\n",
    "    \"val_sanity_checks\": 0,\n",
    "    \"output_path\": \"model-outputs\",\n",
    "    \"log_path\": \"logs\",\n",
    "}"
   ]
  },
  {
   "cell_type": "code",
   "execution_count": 386,
   "metadata": {},
   "outputs": [
    {
     "data": {
      "text/html": [
       "<div>\n",
       "<style scoped>\n",
       "    .dataframe tbody tr th:only-of-type {\n",
       "        vertical-align: middle;\n",
       "    }\n",
       "\n",
       "    .dataframe tbody tr th {\n",
       "        vertical-align: top;\n",
       "    }\n",
       "\n",
       "    .dataframe thead th {\n",
       "        text-align: right;\n",
       "    }\n",
       "</style>\n",
       "<table border=\"1\" class=\"dataframe\">\n",
       "  <thead>\n",
       "    <tr style=\"text-align: right;\">\n",
       "      <th></th>\n",
       "      <th>Unnamed: 0</th>\n",
       "      <th>wind_speed</th>\n",
       "      <th>image_id</th>\n",
       "      <th>storm_id</th>\n",
       "      <th>relative_time</th>\n",
       "      <th>wind_speed2</th>\n",
       "      <th>relative_time2</th>\n",
       "      <th>wind_speed3</th>\n",
       "      <th>relative_time3</th>\n",
       "      <th>wind_speed4</th>\n",
       "      <th>relative_time4</th>\n",
       "      <th>wind_speed5</th>\n",
       "      <th>relative_time5</th>\n",
       "      <th>file_name</th>\n",
       "    </tr>\n",
       "  </thead>\n",
       "  <tbody>\n",
       "    <tr>\n",
       "      <th>62352</th>\n",
       "      <td>62352</td>\n",
       "      <td>40.665123</td>\n",
       "      <td>xmf_145</td>\n",
       "      <td>xmf</td>\n",
       "      <td>0.324000</td>\n",
       "      <td>41.449192</td>\n",
       "      <td>0.320399</td>\n",
       "      <td>38.113361</td>\n",
       "      <td>0.318601</td>\n",
       "      <td>36.550411</td>\n",
       "      <td>0.316800</td>\n",
       "      <td>36.167515</td>\n",
       "      <td>0.315000</td>\n",
       "      <td>C:\\Users\\micha\\data\\final\\public\\train\\xmf_145.jpg</td>\n",
       "    </tr>\n",
       "    <tr>\n",
       "      <th>59051</th>\n",
       "      <td>59051</td>\n",
       "      <td>82.547401</td>\n",
       "      <td>woz_065</td>\n",
       "      <td>woz</td>\n",
       "      <td>0.140399</td>\n",
       "      <td>82.089279</td>\n",
       "      <td>0.138599</td>\n",
       "      <td>89.863052</td>\n",
       "      <td>0.135001</td>\n",
       "      <td>96.731667</td>\n",
       "      <td>0.133201</td>\n",
       "      <td>96.749443</td>\n",
       "      <td>0.131401</td>\n",
       "      <td>C:\\Users\\micha\\data\\final\\public\\train\\woz_065.jpg</td>\n",
       "    </tr>\n",
       "    <tr>\n",
       "      <th>6385</th>\n",
       "      <td>6385</td>\n",
       "      <td>38.161369</td>\n",
       "      <td>csd_039</td>\n",
       "      <td>csd</td>\n",
       "      <td>0.113400</td>\n",
       "      <td>33.579544</td>\n",
       "      <td>0.111600</td>\n",
       "      <td>36.008694</td>\n",
       "      <td>0.109801</td>\n",
       "      <td>37.624386</td>\n",
       "      <td>0.107999</td>\n",
       "      <td>44.196930</td>\n",
       "      <td>0.100800</td>\n",
       "      <td>C:\\Users\\micha\\data\\final\\public\\train\\csd_039.jpg</td>\n",
       "    </tr>\n",
       "    <tr>\n",
       "      <th>64584</th>\n",
       "      <td>64584</td>\n",
       "      <td>19.105335</td>\n",
       "      <td>yfj_188</td>\n",
       "      <td>yfj</td>\n",
       "      <td>0.406801</td>\n",
       "      <td>21.584972</td>\n",
       "      <td>0.405002</td>\n",
       "      <td>19.154114</td>\n",
       "      <td>0.403201</td>\n",
       "      <td>20.935871</td>\n",
       "      <td>0.401401</td>\n",
       "      <td>22.953949</td>\n",
       "      <td>0.399602</td>\n",
       "      <td>C:\\Users\\micha\\data\\final\\public\\train\\yfj_188.jpg</td>\n",
       "    </tr>\n",
       "    <tr>\n",
       "      <th>60814</th>\n",
       "      <td>60814</td>\n",
       "      <td>130.032242</td>\n",
       "      <td>xgr_046</td>\n",
       "      <td>xgr</td>\n",
       "      <td>0.104402</td>\n",
       "      <td>125.910561</td>\n",
       "      <td>0.102602</td>\n",
       "      <td>127.272461</td>\n",
       "      <td>0.100802</td>\n",
       "      <td>129.327637</td>\n",
       "      <td>0.099002</td>\n",
       "      <td>126.593269</td>\n",
       "      <td>0.097202</td>\n",
       "      <td>C:\\Users\\micha\\data\\final\\public\\train\\xgr_046.jpg</td>\n",
       "    </tr>\n",
       "  </tbody>\n",
       "</table>\n",
       "</div>"
      ],
      "text/plain": [
       "       Unnamed: 0  wind_speed image_id storm_id  relative_time  wind_speed2  \\\n",
       "62352       62352   40.665123  xmf_145      xmf       0.324000    41.449192   \n",
       "59051       59051   82.547401  woz_065      woz       0.140399    82.089279   \n",
       "6385         6385   38.161369  csd_039      csd       0.113400    33.579544   \n",
       "64584       64584   19.105335  yfj_188      yfj       0.406801    21.584972   \n",
       "60814       60814  130.032242  xgr_046      xgr       0.104402   125.910561   \n",
       "\n",
       "       relative_time2  wind_speed3  relative_time3  wind_speed4  \\\n",
       "62352        0.320399    38.113361        0.318601    36.550411   \n",
       "59051        0.138599    89.863052        0.135001    96.731667   \n",
       "6385         0.111600    36.008694        0.109801    37.624386   \n",
       "64584        0.405002    19.154114        0.403201    20.935871   \n",
       "60814        0.102602   127.272461        0.100802   129.327637   \n",
       "\n",
       "       relative_time4  wind_speed5  relative_time5  \\\n",
       "62352        0.316800    36.167515        0.315000   \n",
       "59051        0.133201    96.749443        0.131401   \n",
       "6385         0.107999    44.196930        0.100800   \n",
       "64584        0.401401    22.953949        0.399602   \n",
       "60814        0.099002   126.593269        0.097202   \n",
       "\n",
       "                                                file_name  \n",
       "62352  C:\\Users\\micha\\data\\final\\public\\train\\xmf_145.jpg  \n",
       "59051  C:\\Users\\micha\\data\\final\\public\\train\\woz_065.jpg  \n",
       "6385   C:\\Users\\micha\\data\\final\\public\\train\\csd_039.jpg  \n",
       "64584  C:\\Users\\micha\\data\\final\\public\\train\\yfj_188.jpg  \n",
       "60814  C:\\Users\\micha\\data\\final\\public\\train\\xgr_046.jpg  "
      ]
     },
     "execution_count": 386,
     "metadata": {},
     "output_type": "execute_result"
    },
    {
     "data": {
      "application/javascript": [
       "\n",
       "            setTimeout(function() {\n",
       "                var nbb_cell_id = 384;\n",
       "                var nbb_unformatted_code = \"from torch.nn import functional as F\\nclass TemporalWindModel(pl.LightningModule):\\n    \\n    def __init__(self, hparams):\\n        super(TemporalWindModel, self).__init__()\\n        self.hparams = hparams\\n        self.learning_rate = self.hparams.get(\\\"lr\\\", 2e-4)\\n        self.hidden_size = self.hparams.get(\\\"embedding_dim\\\", 50)\\n        self.dropout = self.hparams.get(\\\"dropout\\\", 0.1)\\n        self.max_epochs = self.hparams.get(\\\"max_epochs\\\", 1)\\n        self.num_workers = self.hparams.get(\\\"num_workers\\\", 0)\\n        self.batch_size = self.hparams.get(\\\"batch_size\\\", 10)\\n        self.x_train = self.hparams.get(\\\"x_train\\\")\\n        self.y_train = self.hparams.get(\\\"y_train\\\")\\n        self.x_val = self.hparams.get(\\\"x_val\\\")\\n        self.y_val = self.hparams.get(\\\"y_val\\\")\\n        # Where final model will be saved\\n        self.output_path = Path.cwd() / self.hparams.get(\\\"output_path\\\", \\\"model-outputs\\\")\\n        self.output_path.mkdir(exist_ok=True)\\n\\n        # Where TensorBoard logs will be saved\\n        self.log_path = Path.cwd() / self.hparams.get(\\\"log_path\\\", \\\"logs\\\")\\n        self.log_path.mkdir(exist_ok=True)\\n        self.logger = pl.loggers.TensorBoardLogger(\\n        self.log_path, name=\\\"temporal_model\\\"\\n        )\\n        self.model = self.prepare_model()\\n        self.lr = 0.01\\n        self.loss = RMSELoss()\\n        self.train_dataset = DatasetTemporalWIND(self.x_train, self.y_train)\\n        self.val_dataset = DatasetTemporalWIND(self.x_val, self.y_val)\\n\\n    def prepare_model(self):\\n        model = nn.Sequential(\\n            nn.ReLU(10),\\n            nn.Linear(10,128),\\n            nn.Dropout(self.dropout),\\n            nn.Linear(128,10),\\n            nn.Linear(10,1)\\n        )\\n        \\n        return model\\n    \\n    def forward(self, x):\\n        return self.model(x)   \\n\\n    def training_step(self, batch, batch_idx):\\n        x = batch[\\\"speeds_and_times\\\"]\\n        y = batch[\\\"label\\\"]\\n        criterion = RMSELoss()\\n        # Switch to training mode\\n        loss = criterion(\\n            self.model.train().forward(x).squeeze(), y.type(torch.FloatTensor).cuda()\\n        )\\n        tensorboard_logs = {\\\"train_loss\\\": loss}\\n        return {\\\"loss\\\": loss, \\\"log\\\": tensorboard_logs}\\n\\n    def validation_step(self, batch, batch_idx):\\n        x = batch[\\\"speeds_and_times\\\"]\\n        y = batch[\\\"label\\\"]\\n        criterion = RMSELoss()\\n        # Switch to evaluation mode\\n        loss = criterion(\\n            self.model.eval().forward(x).squeeze(), y.type(torch.FloatTensor).cuda()\\n        )\\n        tensorboard_logs = {\\\"val_loss\\\": loss}\\n        return {\\\"batch_val_loss\\\": loss, \\\"log\\\": tensorboard_logs}\\n\\n    def train_dataloader(self):\\n        return DataLoader(\\n            self.train_dataset, num_workers=self.num_workers, batch_size=self.batch_size\\n        )\\n\\n    def val_dataloader(self):\\n        return DataLoader(\\n            self.val_dataset, num_workers=self.num_workers, batch_size=self.batch_size\\n        )\\n\\n    def configure_optimizers(self):\\n        return torch.optim.AdamW(self.model.parameters(), lr=self.learning_rate)\\n\\n    def training_epoch_end(self, outputs):\\n        avg_train_loss = torch.stack(tuple(output[\\\"loss\\\"] for output in outputs)).mean()\\n        return {\\n            \\\"avg_epoch_train_loss\\\": avg_train_loss,\\n            \\\"progress_bar\\\": {\\\"avg_epoch_train_loss\\\": avg_train_loss},\\n            \\\"log\\\": {\\\"avg_epoch_train_loss\\\": avg_train_loss},\\n        }\\n\\n    def validation_epoch_end(self, outputs):\\n        avg_val_loss = torch.stack(\\n            tuple(output[\\\"batch_val_loss\\\"] for output in outputs)\\n        ).mean()\\n        return {\\n            \\\"avg_epoch_val_loss\\\": avg_val_loss,\\n            \\\"progress_bar\\\": {\\\"avg_epoch_val_loss\\\": avg_val_loss},\\n            \\\"log\\\": {\\\"avg_epoch_val_loss\\\": avg_val_loss},\\n        }\\n\\n    ## Convenience Methods ##\\n\\n    def fit(self):\\n        self.trainer = pl.Trainer(\\n            max_epochs=self.max_epochs,\\n            default_root_dir=self.output_path,\\n            logger=self.logger,\\n            checkpoint_callback=pl.callbacks.ModelCheckpoint(\\n                filepath=self.output_path,\\n                monitor=\\\"avg_epoch_val_loss\\\",\\n                mode=\\\"min\\\",\\n                verbose=True,\\n                \\n            ),\\n            gradient_clip_val=self.hparams.get(\\\"gradient_clip_val\\\", 1),\\n            num_sanity_val_steps=self.hparams.get(\\\"val_sanity_checks\\\", 0),\\n            gpus=1,\\n        )\\n        self.trainer.fit(self)\\n        \\n    @torch.no_grad()\\n    \\n    def make_temporal_submission_frame(self, x_test):\\n        test_dataset = DatasetTemporalWIND(x_test)\\n        test_dataloader = DataLoader(\\n            test_dataset, num_workers=self.num_workers, batch_size=self.batch_size\\n        )\\n        submission_frame = pd.DataFrame(index=x_test.image_id, columns=[\\\"wind_speed\\\"])\\n        for batch in tqdm(test_dataloader, total=len(test_dataloader)):\\n            x = batch[\\\"speeds_and_times\\\"]\\n            preds = self.eval().forward(x)\\n            submission_frame.loc[batch[\\\"image_id\\\"], \\\"wind_speed\\\"] = (\\n                preds.detach().numpy().squeeze()\\n            )\\n        submission_frame.wind_speed = submission_frame.wind_speed.astype(float)\\n        return submission_frame\";\n",
       "                var nbb_formatted_code = \"from torch.nn import functional as F\\n\\n\\nclass TemporalWindModel(pl.LightningModule):\\n    def __init__(self, hparams):\\n        super(TemporalWindModel, self).__init__()\\n        self.hparams = hparams\\n        self.learning_rate = self.hparams.get(\\\"lr\\\", 2e-4)\\n        self.hidden_size = self.hparams.get(\\\"embedding_dim\\\", 50)\\n        self.dropout = self.hparams.get(\\\"dropout\\\", 0.1)\\n        self.max_epochs = self.hparams.get(\\\"max_epochs\\\", 1)\\n        self.num_workers = self.hparams.get(\\\"num_workers\\\", 0)\\n        self.batch_size = self.hparams.get(\\\"batch_size\\\", 10)\\n        self.x_train = self.hparams.get(\\\"x_train\\\")\\n        self.y_train = self.hparams.get(\\\"y_train\\\")\\n        self.x_val = self.hparams.get(\\\"x_val\\\")\\n        self.y_val = self.hparams.get(\\\"y_val\\\")\\n        # Where final model will be saved\\n        self.output_path = Path.cwd() / self.hparams.get(\\\"output_path\\\", \\\"model-outputs\\\")\\n        self.output_path.mkdir(exist_ok=True)\\n\\n        # Where TensorBoard logs will be saved\\n        self.log_path = Path.cwd() / self.hparams.get(\\\"log_path\\\", \\\"logs\\\")\\n        self.log_path.mkdir(exist_ok=True)\\n        self.logger = pl.loggers.TensorBoardLogger(self.log_path, name=\\\"temporal_model\\\")\\n        self.model = self.prepare_model()\\n        self.lr = 0.01\\n        self.loss = RMSELoss()\\n        self.train_dataset = DatasetTemporalWIND(self.x_train, self.y_train)\\n        self.val_dataset = DatasetTemporalWIND(self.x_val, self.y_val)\\n\\n    def prepare_model(self):\\n        model = nn.Sequential(\\n            nn.ReLU(10),\\n            nn.Linear(10, 128),\\n            nn.Dropout(self.dropout),\\n            nn.Linear(128, 10),\\n            nn.Linear(10, 1),\\n        )\\n\\n        return model\\n\\n    def forward(self, x):\\n        return self.model(x)\\n\\n    def training_step(self, batch, batch_idx):\\n        x = batch[\\\"speeds_and_times\\\"]\\n        y = batch[\\\"label\\\"]\\n        criterion = RMSELoss()\\n        # Switch to training mode\\n        loss = criterion(\\n            self.model.train().forward(x).squeeze(), y.type(torch.FloatTensor).cuda()\\n        )\\n        tensorboard_logs = {\\\"train_loss\\\": loss}\\n        return {\\\"loss\\\": loss, \\\"log\\\": tensorboard_logs}\\n\\n    def validation_step(self, batch, batch_idx):\\n        x = batch[\\\"speeds_and_times\\\"]\\n        y = batch[\\\"label\\\"]\\n        criterion = RMSELoss()\\n        # Switch to evaluation mode\\n        loss = criterion(\\n            self.model.eval().forward(x).squeeze(), y.type(torch.FloatTensor).cuda()\\n        )\\n        tensorboard_logs = {\\\"val_loss\\\": loss}\\n        return {\\\"batch_val_loss\\\": loss, \\\"log\\\": tensorboard_logs}\\n\\n    def train_dataloader(self):\\n        return DataLoader(\\n            self.train_dataset, num_workers=self.num_workers, batch_size=self.batch_size\\n        )\\n\\n    def val_dataloader(self):\\n        return DataLoader(\\n            self.val_dataset, num_workers=self.num_workers, batch_size=self.batch_size\\n        )\\n\\n    def configure_optimizers(self):\\n        return torch.optim.AdamW(self.model.parameters(), lr=self.learning_rate)\\n\\n    def training_epoch_end(self, outputs):\\n        avg_train_loss = torch.stack(tuple(output[\\\"loss\\\"] for output in outputs)).mean()\\n        return {\\n            \\\"avg_epoch_train_loss\\\": avg_train_loss,\\n            \\\"progress_bar\\\": {\\\"avg_epoch_train_loss\\\": avg_train_loss},\\n            \\\"log\\\": {\\\"avg_epoch_train_loss\\\": avg_train_loss},\\n        }\\n\\n    def validation_epoch_end(self, outputs):\\n        avg_val_loss = torch.stack(\\n            tuple(output[\\\"batch_val_loss\\\"] for output in outputs)\\n        ).mean()\\n        return {\\n            \\\"avg_epoch_val_loss\\\": avg_val_loss,\\n            \\\"progress_bar\\\": {\\\"avg_epoch_val_loss\\\": avg_val_loss},\\n            \\\"log\\\": {\\\"avg_epoch_val_loss\\\": avg_val_loss},\\n        }\\n\\n    ## Convenience Methods ##\\n\\n    def fit(self):\\n        self.trainer = pl.Trainer(\\n            max_epochs=self.max_epochs,\\n            default_root_dir=self.output_path,\\n            logger=self.logger,\\n            checkpoint_callback=pl.callbacks.ModelCheckpoint(\\n                filepath=self.output_path,\\n                monitor=\\\"avg_epoch_val_loss\\\",\\n                mode=\\\"min\\\",\\n                verbose=True,\\n            ),\\n            gradient_clip_val=self.hparams.get(\\\"gradient_clip_val\\\", 1),\\n            num_sanity_val_steps=self.hparams.get(\\\"val_sanity_checks\\\", 0),\\n            gpus=1,\\n        )\\n        self.trainer.fit(self)\\n\\n    @torch.no_grad()\\n    def make_temporal_submission_frame(self, x_test):\\n        test_dataset = DatasetTemporalWIND(x_test)\\n        test_dataloader = DataLoader(\\n            test_dataset, num_workers=self.num_workers, batch_size=self.batch_size\\n        )\\n        submission_frame = pd.DataFrame(index=x_test.image_id, columns=[\\\"wind_speed\\\"])\\n        for batch in tqdm(test_dataloader, total=len(test_dataloader)):\\n            x = batch[\\\"speeds_and_times\\\"]\\n            preds = self.eval().forward(x)\\n            submission_frame.loc[batch[\\\"image_id\\\"], \\\"wind_speed\\\"] = (\\n                preds.detach().numpy().squeeze()\\n            )\\n        submission_frame.wind_speed = submission_frame.wind_speed.astype(float)\\n        return submission_frame\";\n",
       "                var nbb_cells = Jupyter.notebook.get_cells();\n",
       "                for (var i = 0; i < nbb_cells.length; ++i) {\n",
       "                    if (nbb_cells[i].input_prompt_number == nbb_cell_id) {\n",
       "                        if (nbb_cells[i].get_text() == nbb_unformatted_code) {\n",
       "                             nbb_cells[i].set_text(nbb_formatted_code);\n",
       "                        }\n",
       "                        break;\n",
       "                    }\n",
       "                }\n",
       "            }, 500);\n",
       "            "
      ],
      "text/plain": [
       "<IPython.core.display.Javascript object>"
      ]
     },
     "metadata": {},
     "output_type": "display_data"
    }
   ],
   "source": [
    "x_train.head()\n"
   ]
  },
  {
   "cell_type": "code",
   "execution_count": 387,
   "metadata": {},
   "outputs": [
    {
     "name": "stderr",
     "output_type": "stream",
     "text": [
      "GPU available: True, used: True\n",
      "INFO:lightning:GPU available: True, used: True\n",
      "TPU available: None, using: 0 TPU cores\n",
      "INFO:lightning:TPU available: None, using: 0 TPU cores\n",
      "LOCAL_RANK: 0 - CUDA_VISIBLE_DEVICES: [0]\n",
      "INFO:lightning:LOCAL_RANK: 0 - CUDA_VISIBLE_DEVICES: [0]\n",
      "\n",
      "  | Name  | Type       | Params\n",
      "-------------------------------------\n",
      "0 | model | Sequential | 2.7 K \n",
      "1 | loss  | RMSELoss   | 0     \n",
      "-------------------------------------\n",
      "2.7 K     Trainable params\n",
      "0         Non-trainable params\n",
      "2.7 K     Total params\n",
      "INFO:lightning:\n",
      "  | Name  | Type       | Params\n",
      "-------------------------------------\n",
      "0 | model | Sequential | 2.7 K \n",
      "1 | loss  | RMSELoss   | 0     \n",
      "-------------------------------------\n",
      "2.7 K     Trainable params\n",
      "0         Non-trainable params\n",
      "2.7 K     Total params\n"
     ]
    },
    {
     "data": {
      "application/vnd.jupyter.widget-view+json": {
       "model_id": "a5a2a9cd07d64c70a20acf74a4d159b4",
       "version_major": 2,
       "version_minor": 0
      },
      "text/plain": [
       "HBox(children=(HTML(value='Training'), FloatProgress(value=1.0, bar_style='info', layout=Layout(flex='2'), max…"
      ]
     },
     "metadata": {},
     "output_type": "display_data"
    },
    {
     "data": {
      "application/vnd.jupyter.widget-view+json": {
       "model_id": "987c8ae022be4ed695b454a61251e46b",
       "version_major": 2,
       "version_minor": 0
      },
      "text/plain": [
       "HBox(children=(HTML(value='Validating'), FloatProgress(value=1.0, bar_style='info', layout=Layout(flex='2'), m…"
      ]
     },
     "metadata": {},
     "output_type": "display_data"
    },
    {
     "name": "stderr",
     "output_type": "stream",
     "text": [
      "Epoch 0, global step 5620: avg_epoch_val_loss reached 5.00497 (best 5.00497), saving model to \"C:\\Users\\micha\\data\\model-outputs\\epoch=0-step=5620.ckpt\" as top 1\n",
      "INFO:lightning:Epoch 0, global step 5620: avg_epoch_val_loss reached 5.00497 (best 5.00497), saving model to \"C:\\Users\\micha\\data\\model-outputs\\epoch=0-step=5620.ckpt\" as top 1\n"
     ]
    },
    {
     "data": {
      "application/vnd.jupyter.widget-view+json": {
       "model_id": "1fa52eaf2d5c43638508885aa56bd561",
       "version_major": 2,
       "version_minor": 0
      },
      "text/plain": [
       "HBox(children=(HTML(value='Validating'), FloatProgress(value=1.0, bar_style='info', layout=Layout(flex='2'), m…"
      ]
     },
     "metadata": {},
     "output_type": "display_data"
    },
    {
     "name": "stderr",
     "output_type": "stream",
     "text": [
      "Epoch 1, global step 11241: avg_epoch_val_loss reached 4.98582 (best 4.98582), saving model to \"C:\\Users\\micha\\data\\model-outputs\\epoch=1-step=11241-v0.ckpt\" as top 1\n",
      "INFO:lightning:Epoch 1, global step 11241: avg_epoch_val_loss reached 4.98582 (best 4.98582), saving model to \"C:\\Users\\micha\\data\\model-outputs\\epoch=1-step=11241-v0.ckpt\" as top 1\n"
     ]
    },
    {
     "data": {
      "application/vnd.jupyter.widget-view+json": {
       "model_id": "7caea24c6c3e45a39942e94803677e9f",
       "version_major": 2,
       "version_minor": 0
      },
      "text/plain": [
       "HBox(children=(HTML(value='Validating'), FloatProgress(value=1.0, bar_style='info', layout=Layout(flex='2'), m…"
      ]
     },
     "metadata": {},
     "output_type": "display_data"
    },
    {
     "name": "stderr",
     "output_type": "stream",
     "text": [
      "Epoch 2, global step 16862: avg_epoch_val_loss reached 4.97994 (best 4.97994), saving model to \"C:\\Users\\micha\\data\\model-outputs\\epoch=2-step=16862.ckpt\" as top 1\n",
      "INFO:lightning:Epoch 2, global step 16862: avg_epoch_val_loss reached 4.97994 (best 4.97994), saving model to \"C:\\Users\\micha\\data\\model-outputs\\epoch=2-step=16862.ckpt\" as top 1\n"
     ]
    },
    {
     "data": {
      "application/vnd.jupyter.widget-view+json": {
       "model_id": "3bff7ca12b86401685857ab0864b0fd7",
       "version_major": 2,
       "version_minor": 0
      },
      "text/plain": [
       "HBox(children=(HTML(value='Validating'), FloatProgress(value=1.0, bar_style='info', layout=Layout(flex='2'), m…"
      ]
     },
     "metadata": {},
     "output_type": "display_data"
    },
    {
     "name": "stderr",
     "output_type": "stream",
     "text": [
      "Epoch 3, step 22483: avg_epoch_val_loss was not in top 1\n",
      "INFO:lightning:Epoch 3, step 22483: avg_epoch_val_loss was not in top 1\n"
     ]
    },
    {
     "data": {
      "application/vnd.jupyter.widget-view+json": {
       "model_id": "43364b64fd4b4291b9fd8049542cb930",
       "version_major": 2,
       "version_minor": 0
      },
      "text/plain": [
       "HBox(children=(HTML(value='Validating'), FloatProgress(value=1.0, bar_style='info', layout=Layout(flex='2'), m…"
      ]
     },
     "metadata": {},
     "output_type": "display_data"
    },
    {
     "name": "stderr",
     "output_type": "stream",
     "text": [
      "Epoch 4, step 28104: avg_epoch_val_loss was not in top 1\n",
      "INFO:lightning:Epoch 4, step 28104: avg_epoch_val_loss was not in top 1\n"
     ]
    },
    {
     "data": {
      "application/vnd.jupyter.widget-view+json": {
       "model_id": "422b2878996148fab653bea87ac59845",
       "version_major": 2,
       "version_minor": 0
      },
      "text/plain": [
       "HBox(children=(HTML(value='Validating'), FloatProgress(value=1.0, bar_style='info', layout=Layout(flex='2'), m…"
      ]
     },
     "metadata": {},
     "output_type": "display_data"
    },
    {
     "name": "stderr",
     "output_type": "stream",
     "text": [
      "Epoch 5, step 33725: avg_epoch_val_loss was not in top 1\n",
      "INFO:lightning:Epoch 5, step 33725: avg_epoch_val_loss was not in top 1\n"
     ]
    },
    {
     "data": {
      "application/vnd.jupyter.widget-view+json": {
       "model_id": "5e9cfd852f664bdc8f1d9971244bb188",
       "version_major": 2,
       "version_minor": 0
      },
      "text/plain": [
       "HBox(children=(HTML(value='Validating'), FloatProgress(value=1.0, bar_style='info', layout=Layout(flex='2'), m…"
      ]
     },
     "metadata": {},
     "output_type": "display_data"
    },
    {
     "name": "stderr",
     "output_type": "stream",
     "text": [
      "Epoch 6, step 39346: avg_epoch_val_loss was not in top 1\n",
      "INFO:lightning:Epoch 6, step 39346: avg_epoch_val_loss was not in top 1\n"
     ]
    },
    {
     "data": {
      "application/vnd.jupyter.widget-view+json": {
       "model_id": "14872b2d91be45adaa93f17ce83cd3d5",
       "version_major": 2,
       "version_minor": 0
      },
      "text/plain": [
       "HBox(children=(HTML(value='Validating'), FloatProgress(value=1.0, bar_style='info', layout=Layout(flex='2'), m…"
      ]
     },
     "metadata": {},
     "output_type": "display_data"
    },
    {
     "name": "stderr",
     "output_type": "stream",
     "text": [
      "Epoch 7, step 44967: avg_epoch_val_loss was not in top 1\n",
      "INFO:lightning:Epoch 7, step 44967: avg_epoch_val_loss was not in top 1\n"
     ]
    },
    {
     "data": {
      "application/vnd.jupyter.widget-view+json": {
       "model_id": "ed3afe81b88f4fd2b4dade0dbcb0cc15",
       "version_major": 2,
       "version_minor": 0
      },
      "text/plain": [
       "HBox(children=(HTML(value='Validating'), FloatProgress(value=1.0, bar_style='info', layout=Layout(flex='2'), m…"
      ]
     },
     "metadata": {},
     "output_type": "display_data"
    },
    {
     "name": "stderr",
     "output_type": "stream",
     "text": [
      "Epoch 8, step 50588: avg_epoch_val_loss was not in top 1\n",
      "INFO:lightning:Epoch 8, step 50588: avg_epoch_val_loss was not in top 1\n"
     ]
    },
    {
     "data": {
      "application/vnd.jupyter.widget-view+json": {
       "model_id": "11fbe6da0c9146a787317ddda5ed1990",
       "version_major": 2,
       "version_minor": 0
      },
      "text/plain": [
       "HBox(children=(HTML(value='Validating'), FloatProgress(value=1.0, bar_style='info', layout=Layout(flex='2'), m…"
      ]
     },
     "metadata": {},
     "output_type": "display_data"
    },
    {
     "name": "stderr",
     "output_type": "stream",
     "text": [
      "Epoch 9, step 56209: avg_epoch_val_loss was not in top 1\n",
      "INFO:lightning:Epoch 9, step 56209: avg_epoch_val_loss was not in top 1\n"
     ]
    },
    {
     "name": "stdout",
     "output_type": "stream",
     "text": [
      "\n"
     ]
    },
    {
     "data": {
      "application/javascript": [
       "\n",
       "            setTimeout(function() {\n",
       "                var nbb_cell_id = 385;\n",
       "                var nbb_unformatted_code = \"hparams = {\\n    # Required hparams\\n    \\\"x_train\\\": x_train,\\n    \\\"y_train\\\": y_train,\\n    \\\"x_val\\\": x_val,\\n    \\\"y_val\\\": y_val,\\n    # Optional hparams\\n    \\\"lr\\\": 2e-4,\\n    \\\"embedding_dim\\\": 100,\\n    \\\"dropout\\\": 0.5,\\n    \\\"max_epochs\\\": 10,\\n    \\\"batch_size\\\": 10,\\n    \\\"num_workers\\\": 0,\\n    \\\"gradient_clip_val\\\": 1,\\n    \\\"val_sanity_checks\\\": 0,\\n    \\\"output_path\\\": \\\"model-outputs\\\",\\n    \\\"log_path\\\": \\\"logs\\\",\\n}\";\n",
       "                var nbb_formatted_code = \"hparams = {\\n    # Required hparams\\n    \\\"x_train\\\": x_train,\\n    \\\"y_train\\\": y_train,\\n    \\\"x_val\\\": x_val,\\n    \\\"y_val\\\": y_val,\\n    # Optional hparams\\n    \\\"lr\\\": 2e-4,\\n    \\\"embedding_dim\\\": 100,\\n    \\\"dropout\\\": 0.5,\\n    \\\"max_epochs\\\": 10,\\n    \\\"batch_size\\\": 10,\\n    \\\"num_workers\\\": 0,\\n    \\\"gradient_clip_val\\\": 1,\\n    \\\"val_sanity_checks\\\": 0,\\n    \\\"output_path\\\": \\\"model-outputs\\\",\\n    \\\"log_path\\\": \\\"logs\\\",\\n}\";\n",
       "                var nbb_cells = Jupyter.notebook.get_cells();\n",
       "                for (var i = 0; i < nbb_cells.length; ++i) {\n",
       "                    if (nbb_cells[i].input_prompt_number == nbb_cell_id) {\n",
       "                        if (nbb_cells[i].get_text() == nbb_unformatted_code) {\n",
       "                             nbb_cells[i].set_text(nbb_formatted_code);\n",
       "                        }\n",
       "                        break;\n",
       "                    }\n",
       "                }\n",
       "            }, 500);\n",
       "            "
      ],
      "text/plain": [
       "<IPython.core.display.Javascript object>"
      ]
     },
     "metadata": {},
     "output_type": "display_data"
    }
   ],
   "source": [
    "model = TemporalWindModel(hparams=hparams)\n",
    "#best_checkpoint = str(Path(\"model-outputs\") / \"epoch=4-step=28104.ckpt\")\n",
    "#model = TemporalWindModel.load_from_checkpoint(best_checkpoint)\n",
    "model.fit()"
   ]
  },
  {
   "cell_type": "code",
   "execution_count": 389,
   "metadata": {},
   "outputs": [
    {
     "name": "stderr",
     "output_type": "stream",
     "text": [
      "100%|██████████████████████████████████████████████████████████████████████████████| 4438/4438 [00:53<00:00, 82.19it/s]\n"
     ]
    },
    {
     "data": {
      "application/javascript": [
       "\n",
       "            setTimeout(function() {\n",
       "                var nbb_cell_id = 387;\n",
       "                var nbb_unformatted_code = \"model = TemporalWindModel(hparams=hparams)\\n#best_checkpoint = str(Path(\\\"model-outputs\\\") / \\\"epoch=4-step=28104.ckpt\\\")\\n#model = TemporalWindModel.load_from_checkpoint(best_checkpoint)\\nmodel.fit()\";\n",
       "                var nbb_formatted_code = \"model = TemporalWindModel(hparams=hparams)\\n# best_checkpoint = str(Path(\\\"model-outputs\\\") / \\\"epoch=4-step=28104.ckpt\\\")\\n# model = TemporalWindModel.load_from_checkpoint(best_checkpoint)\\nmodel.fit()\";\n",
       "                var nbb_cells = Jupyter.notebook.get_cells();\n",
       "                for (var i = 0; i < nbb_cells.length; ++i) {\n",
       "                    if (nbb_cells[i].input_prompt_number == nbb_cell_id) {\n",
       "                        if (nbb_cells[i].get_text() == nbb_unformatted_code) {\n",
       "                             nbb_cells[i].set_text(nbb_formatted_code);\n",
       "                        }\n",
       "                        break;\n",
       "                    }\n",
       "                }\n",
       "            }, 500);\n",
       "            "
      ],
      "text/plain": [
       "<IPython.core.display.Javascript object>"
      ]
     },
     "metadata": {},
     "output_type": "display_data"
    }
   ],
   "source": [
    "# Best checkpoint based on logs\n",
    "best_checkpoint = str(Path(\"model-outputs\") / \"epoch=2-step=16862.ckpt\")\n",
    "example_model = TemporalWindModel.load_from_checkpoint(best_checkpoint)\n",
    "test_metadata =  pd.read_csv(DATA_PATH / \"temporal_test_set_features.csv\")\n",
    "submission = example_model.make_temporal_submission_frame(test_metadata)\n"
   ]
  },
  {
   "cell_type": "code",
   "execution_count": 390,
   "metadata": {},
   "outputs": [
    {
     "data": {
      "text/html": [
       "<div>\n",
       "<style scoped>\n",
       "    .dataframe tbody tr th:only-of-type {\n",
       "        vertical-align: middle;\n",
       "    }\n",
       "\n",
       "    .dataframe tbody tr th {\n",
       "        vertical-align: top;\n",
       "    }\n",
       "\n",
       "    .dataframe thead th {\n",
       "        text-align: right;\n",
       "    }\n",
       "</style>\n",
       "<table border=\"1\" class=\"dataframe\">\n",
       "  <thead>\n",
       "    <tr style=\"text-align: right;\">\n",
       "      <th></th>\n",
       "      <th>wind_speed</th>\n",
       "    </tr>\n",
       "    <tr>\n",
       "      <th>image_id</th>\n",
       "      <th></th>\n",
       "    </tr>\n",
       "  </thead>\n",
       "  <tbody>\n",
       "    <tr>\n",
       "      <th>acd_123</th>\n",
       "      <td>29</td>\n",
       "    </tr>\n",
       "    <tr>\n",
       "      <th>acd_124</th>\n",
       "      <td>29</td>\n",
       "    </tr>\n",
       "    <tr>\n",
       "      <th>acd_125</th>\n",
       "      <td>28</td>\n",
       "    </tr>\n",
       "    <tr>\n",
       "      <th>acd_126</th>\n",
       "      <td>28</td>\n",
       "    </tr>\n",
       "    <tr>\n",
       "      <th>acd_127</th>\n",
       "      <td>28</td>\n",
       "    </tr>\n",
       "  </tbody>\n",
       "</table>\n",
       "</div>"
      ],
      "text/plain": [
       "          wind_speed\n",
       "image_id            \n",
       "acd_123           29\n",
       "acd_124           29\n",
       "acd_125           28\n",
       "acd_126           28\n",
       "acd_127           28"
      ]
     },
     "execution_count": 390,
     "metadata": {},
     "output_type": "execute_result"
    },
    {
     "data": {
      "application/javascript": [
       "\n",
       "            setTimeout(function() {\n",
       "                var nbb_cell_id = 388;\n",
       "                var nbb_unformatted_code = \"# Best checkpoint based on logs\\nbest_checkpoint = str(Path(\\\"model-outputs\\\") / \\\"epoch=0-step=5620.ckpt\\\")\\nexample_model = TemporalWindModel.load_from_checkpoint(best_checkpoint)\\ntest_metadata =  pd.read_csv(DATA_PATH / \\\"temporal_test_set_features.csv\\\")\\nsubmission = example_model.make_temporal_submission_frame(test_metadata)\";\n",
       "                var nbb_formatted_code = \"# Best checkpoint based on logs\\nbest_checkpoint = str(Path(\\\"model-outputs\\\") / \\\"epoch=0-step=5620.ckpt\\\")\\nexample_model = TemporalWindModel.load_from_checkpoint(best_checkpoint)\\ntest_metadata = pd.read_csv(DATA_PATH / \\\"temporal_test_set_features.csv\\\")\\nsubmission = example_model.make_temporal_submission_frame(test_metadata)\";\n",
       "                var nbb_cells = Jupyter.notebook.get_cells();\n",
       "                for (var i = 0; i < nbb_cells.length; ++i) {\n",
       "                    if (nbb_cells[i].input_prompt_number == nbb_cell_id) {\n",
       "                        if (nbb_cells[i].get_text() == nbb_unformatted_code) {\n",
       "                             nbb_cells[i].set_text(nbb_formatted_code);\n",
       "                        }\n",
       "                        break;\n",
       "                    }\n",
       "                }\n",
       "            }, 500);\n",
       "            "
      ],
      "text/plain": [
       "<IPython.core.display.Javascript object>"
      ]
     },
     "metadata": {},
     "output_type": "display_data"
    }
   ],
   "source": [
    "submission_format = pd.read_csv(\n",
    "    DATA_PATH / \"submission_format.csv\", index_col=\"image_id\"\n",
    ")\n",
    "# Ensure submission indices match submission format\n",
    "assert submission_format.index.equals(submission.index)\n",
    "\n",
    "submission = submission.round().astype(int)\n",
    "submission.head()"
   ]
  },
  {
   "cell_type": "code",
   "execution_count": 391,
   "metadata": {},
   "outputs": [
    {
     "data": {
      "text/plain": [
       "count    44377.000000\n",
       "mean        46.358316\n",
       "std         21.987635\n",
       "min         17.000000\n",
       "25%         30.000000\n",
       "50%         40.000000\n",
       "75%         57.000000\n",
       "max        153.000000\n",
       "Name: wind_speed, dtype: float64"
      ]
     },
     "execution_count": 391,
     "metadata": {},
     "output_type": "execute_result"
    },
    {
     "data": {
      "application/javascript": [
       "\n",
       "            setTimeout(function() {\n",
       "                var nbb_cell_id = 389;\n",
       "                var nbb_unformatted_code = \"# Best checkpoint based on logs\\nbest_checkpoint = str(Path(\\\"model-outputs\\\") / \\\"epoch=2-step=16862.ckpt\\\")\\nexample_model = TemporalWindModel.load_from_checkpoint(best_checkpoint)\\ntest_metadata =  pd.read_csv(DATA_PATH / \\\"temporal_test_set_features.csv\\\")\\nsubmission = example_model.make_temporal_submission_frame(test_metadata)\";\n",
       "                var nbb_formatted_code = \"# Best checkpoint based on logs\\nbest_checkpoint = str(Path(\\\"model-outputs\\\") / \\\"epoch=2-step=16862.ckpt\\\")\\nexample_model = TemporalWindModel.load_from_checkpoint(best_checkpoint)\\ntest_metadata = pd.read_csv(DATA_PATH / \\\"temporal_test_set_features.csv\\\")\\nsubmission = example_model.make_temporal_submission_frame(test_metadata)\";\n",
       "                var nbb_cells = Jupyter.notebook.get_cells();\n",
       "                for (var i = 0; i < nbb_cells.length; ++i) {\n",
       "                    if (nbb_cells[i].input_prompt_number == nbb_cell_id) {\n",
       "                        if (nbb_cells[i].get_text() == nbb_unformatted_code) {\n",
       "                             nbb_cells[i].set_text(nbb_formatted_code);\n",
       "                        }\n",
       "                        break;\n",
       "                    }\n",
       "                }\n",
       "            }, 500);\n",
       "            "
      ],
      "text/plain": [
       "<IPython.core.display.Javascript object>"
      ]
     },
     "metadata": {},
     "output_type": "display_data"
    }
   ],
   "source": [
    "submission.wind_speed.describe()"
   ]
  },
  {
   "cell_type": "code",
   "execution_count": 392,
   "metadata": {},
   "outputs": [
    {
     "data": {
      "application/javascript": [
       "\n",
       "            setTimeout(function() {\n",
       "                var nbb_cell_id = 390;\n",
       "                var nbb_unformatted_code = \"submission_format = pd.read_csv(\\n    DATA_PATH / \\\"submission_format.csv\\\", index_col=\\\"image_id\\\"\\n)\\n# Ensure submission indices match submission format\\nassert submission_format.index.equals(submission.index)\\n\\nsubmission = submission.round().astype(int)\\nsubmission.head()\";\n",
       "                var nbb_formatted_code = \"submission_format = pd.read_csv(\\n    DATA_PATH / \\\"submission_format.csv\\\", index_col=\\\"image_id\\\"\\n)\\n# Ensure submission indices match submission format\\nassert submission_format.index.equals(submission.index)\\n\\nsubmission = submission.round().astype(int)\\nsubmission.head()\";\n",
       "                var nbb_cells = Jupyter.notebook.get_cells();\n",
       "                for (var i = 0; i < nbb_cells.length; ++i) {\n",
       "                    if (nbb_cells[i].input_prompt_number == nbb_cell_id) {\n",
       "                        if (nbb_cells[i].get_text() == nbb_unformatted_code) {\n",
       "                             nbb_cells[i].set_text(nbb_formatted_code);\n",
       "                        }\n",
       "                        break;\n",
       "                    }\n",
       "                }\n",
       "            }, 500);\n",
       "            "
      ],
      "text/plain": [
       "<IPython.core.display.Javascript object>"
      ]
     },
     "metadata": {},
     "output_type": "display_data"
    }
   ],
   "source": [
    "submission.to_csv((DATA_PATH / \"temporalsubmission.csv\"), index=True) "
   ]
  },
  {
   "cell_type": "code",
   "execution_count": null,
   "metadata": {},
   "outputs": [],
   "source": []
  }
 ],
 "metadata": {
  "kernelspec": {
   "display_name": "Python 3",
   "language": "python",
   "name": "python3"
  },
  "language_info": {
   "codemirror_mode": {
    "name": "ipython",
    "version": 3
   },
   "file_extension": ".py",
   "mimetype": "text/x-python",
   "name": "python",
   "nbconvert_exporter": "python",
   "pygments_lexer": "ipython3",
   "version": "3.8.5"
  }
 },
 "nbformat": 4,
 "nbformat_minor": 4
}
